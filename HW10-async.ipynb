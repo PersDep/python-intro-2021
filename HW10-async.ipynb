{
  "cells": [
    {
      "cell_type": "markdown",
      "metadata": {
        "id": "dwtgETJhCJSr"
      },
      "source": [
        "**Задача 1. Асинхронный отсчёт:**\n",
        "На основе `WS11-asyncio.py` написать синхронный и асинхронный `countdown()` (как в `WS11-threads-processes.py`). Выполнение в 10 шагов (последовательных / асинхронных). Сравните получающееся время. Если вы не получили ускорение -- это не критично для сдачи, цель -- попробовать написать код и убедиться, что он работает."
      ]
    }
  ],
  "metadata": {
    "colab": {
      "collapsed_sections": [],
      "name": "HW6-collections-OOP-pandas.ipynb",
      "provenance": []
    },
    "kernelspec": {
      "display_name": "Python 3",
      "name": "python3"
    },
    "language_info": {
      "name": "python"
    }
  },
  "nbformat": 4,
  "nbformat_minor": 0
}
