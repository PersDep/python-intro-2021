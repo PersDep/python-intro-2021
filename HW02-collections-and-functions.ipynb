{
  "nbformat": 4,
  "nbformat_minor": 0,
  "metadata": {
    "colab": {
      "name": "HW2-collections-and-functions.ipynb",
      "provenance": [],
      "collapsed_sections": []
    },
    "kernelspec": {
      "name": "python3",
      "display_name": "Python 3"
    },
    "language_info": {
      "name": "python"
    }
  },
  "cells": [
    {
      "cell_type": "markdown",
      "metadata": {
        "id": "gsuIE9sL5a2A"
      },
      "source": [
        "**Задача 0.** На вход подаётся некоторое количество строк из букв латинского алфавита, которые являются надписями на языках двух племён: Mumbo и Jumbo. Чётные строки — предложения одного языка, нечётные — другого. Алфавиты Mumbo и Jumbo частично одинаковые, а частично разные. Предложения на каждом языке в данном корпусе текстов содержат все имеющиеся в этом языке буквы (т. е. если буква присутствует в алфавите языка, она встречается хотя бы в одном предложении на этом языке). Если строка пустая, это признак окончания ввода. Известно, что в уникальном алфавите Mumbo букв больше, чем в уникальном алфавите Jumbo. Определите и выведите, на каком языке написано первое предложение — Mumbo или Jumbo.\n",
        "\n",
        "Пример.\n",
        "\n",
        "Входные данные:\n",
        "\n",
        "```\n",
        "wazxwjd\n",
        "tvnhuj\n",
        "kjdjdsaxz\n",
        "kunvhts\n",
        "azkxdz\n",
        "vunshtk\n",
        "zzjdsxa\n",
        "nunvhct\n",
        "cdzxaa\n",
        "vtkuhvhnc\n",
        "dazx\n",
        "tunncvwh\n",
        "dzjasxz\n",
        "uunvhts\n",
        "dxdwzaxa\n",
        "vuhvuntt\n",
        "dzxad\n",
        "vthnwuh\n",
        "```\n",
        "\n",
        "Выход:\n",
        "\n",
        "```\n",
        "Jumbo\n",
        "```"
      ]
    },
    {
      "cell_type": "markdown",
      "metadata": {
        "id": "dwtgETJhCJSr"
      },
      "source": [
        "**Задача 1.** Напишите функцию morecommon(a, b, n) c тремя параметрами — целочисленными кортежами a и b и натуральным числом n. Функция возвращает True, если в a больше чисел, кратных n, чем в b, и False в противном случае."
      ]
    }
  ]
}