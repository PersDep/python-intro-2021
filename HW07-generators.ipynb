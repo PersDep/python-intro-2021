{
  "cells": [
    {
      "cell_type": "markdown",
      "metadata": {
        "id": "dwtgETJhCJSr"
      },
      "source": [
        "**Задача 1. Генерируем Пи:**\n",
        "Пользуясь формулой Лейбница для вычисления числа Пи, написать бесконечный генератор pigen(), возвращающий последовательно 4, 4-4/3, 4-4/3+4/5, 4-4/3+4/5-4/7 …"
      ]
    }
  ],
  "metadata": {
    "colab": {
      "collapsed_sections": [],
      "name": "HW07-generators.ipynb",
      "provenance": []
    },
    "kernelspec": {
      "display_name": "Python 3",
      "name": "python3"
    },
    "language_info": {
      "name": "python"
    }
  },
  "nbformat": 4,
  "nbformat_minor": 0
}
