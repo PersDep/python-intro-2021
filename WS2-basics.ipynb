{
  "nbformat": 4,
  "nbformat_minor": 0,
  "metadata": {
    "kernelspec": {
      "display_name": "Python 3",
      "language": "python",
      "name": "python3"
    },
    "language_info": {
      "codemirror_mode": {
        "name": "ipython",
        "version": 3
      },
      "file_extension": ".py",
      "mimetype": "text/x-python",
      "name": "python",
      "nbconvert_exporter": "python",
      "pygments_lexer": "ipython3",
      "version": "3.8.5"
    },
    "toc": {
      "base_numbering": 1,
      "nav_menu": {},
      "number_sections": true,
      "sideBar": true,
      "skip_h1_title": false,
      "title_cell": "Table of Contents",
      "title_sidebar": "Contents",
      "toc_cell": false,
      "toc_position": {},
      "toc_section_display": true,
      "toc_window_display": true
    },
    "varInspector": {
      "cols": {
        "lenName": 16,
        "lenType": 16,
        "lenVar": 40
      },
      "kernels_config": {
        "python": {
          "delete_cmd_postfix": "",
          "delete_cmd_prefix": "del ",
          "library": "var_list.py",
          "varRefreshCmd": "print(var_dic_list())"
        },
        "r": {
          "delete_cmd_postfix": ") ",
          "delete_cmd_prefix": "rm(",
          "library": "var_list.r",
          "varRefreshCmd": "cat(var_dic_list()) "
        }
      },
      "types_to_exclude": [
        "module",
        "function",
        "builtin_function_or_method",
        "instance",
        "_Feature"
      ],
      "window_display": false
    },
    "colab": {
      "name": "Copy of WS2-basics.ipynb",
      "provenance": []
    }
  },
  "cells": [
    {
      "cell_type": "markdown",
      "metadata": {
        "id": "Dd-3r8P9TQ_G"
      },
      "source": [
        "## 0. Вещественные числа и погрешности\n",
        "\n",
        "Вещественные числа в программировании не так просты. Вот, например, посчитаем синус числа $\\pi$:"
      ]
    },
    {
      "cell_type": "code",
      "metadata": {
        "id": "OBACHtO-TQ_G",
        "colab": {
          "base_uri": "https://localhost:8080/"
        },
        "outputId": "463e9278-9d89-4e38-83ce-95068d2cc0b1"
      },
      "source": [
        "from math import pi, sin\n",
        "sin(pi)  #думаете, получится 0? Ха-ха!"
      ],
      "execution_count": null,
      "outputs": [
        {
          "output_type": "execute_result",
          "data": {
            "text/plain": [
              "1.2246467991473532e-16"
            ]
          },
          "metadata": {},
          "execution_count": 1
        }
      ]
    },
    {
      "cell_type": "markdown",
      "metadata": {
        "id": "k3U4SPDETQ_G"
      },
      "source": [
        "Непонятный ответ? Во-первых, это так называемая [компьютерная форма экспоненциальной записи чисел.](https://ru.wikipedia.org/wiki/Экспоненциальная_запись#.D0.9A.D0.BE.D0.BC.D0.BF.D1.8C.D1.8E.D1.82.D0.B5.D1.80.D0.BD.D1.8B.D0.B9_.D1.81.D0.BF.D0.BE.D1.81.D0.BE.D0.B1_.D1.8D.D0.BA.D1.81.D0.BF.D0.BE.D0.BD.D0.B5.D0.BD.D1.86.D0.B8.D0.B0.D0.BB.D1.8C.D0.BD.D0.BE.D0.B9_.D0.B7.D0.B0.D0.BF.D0.B8.D1.81.D0.B8) Она удобна, если нужно уметь записывать очень большие или очень маленькие числа:`1.2E2` означает `1.2⋅102`, то есть `1200`, а `2.4e-3` — то же самое, что `2.4⋅10−3=00024`. \n",
        "\n",
        "Результат, посчитанный Python для $\\sin \\pi$, имеет порядок `10^(−16)` — это очень маленькое число, близкое к нулю. Почему не «настоящий» ноль? Все вычисления в вещественных числах делаются компьютером с некоторой ограниченной точностью, поэтому зачастую вместо «честных» ответов получаются такие приближенные. К этому надо быть готовым."
      ]
    },
    {
      "cell_type": "code",
      "metadata": {
        "id": "K31XqHzUTQ_G",
        "colab": {
          "base_uri": "https://localhost:8080/"
        },
        "outputId": "172c1453-0720-47d5-c9e9-16ef91d577cb"
      },
      "source": [
        "0.4 - 0.3 == 0.1"
      ],
      "execution_count": null,
      "outputs": [
        {
          "output_type": "execute_result",
          "data": {
            "text/plain": [
              "False"
            ]
          },
          "metadata": {},
          "execution_count": 2
        }
      ]
    },
    {
      "cell_type": "code",
      "metadata": {
        "id": "sMyy3Nq8TQ_H"
      },
      "source": [
        "a = 0.4 - 0.3"
      ],
      "execution_count": null,
      "outputs": []
    },
    {
      "cell_type": "code",
      "metadata": {
        "id": "ij3srYLbTQ_H",
        "colab": {
          "base_uri": "https://localhost:8080/"
        },
        "outputId": "330a3483-a3df-4105-bafa-3978d3c1fa1f"
      },
      "source": [
        "a"
      ],
      "execution_count": null,
      "outputs": [
        {
          "output_type": "execute_result",
          "data": {
            "text/plain": [
              "0.10000000000000003"
            ]
          },
          "metadata": {},
          "execution_count": 4
        }
      ]
    },
    {
      "cell_type": "code",
      "metadata": {
        "id": "Cg8mAv3fTQ_H",
        "colab": {
          "base_uri": "https://localhost:8080/"
        },
        "outputId": "71fbf04b-78fc-4d1b-b720-21d49c975761"
      },
      "source": [
        "a == 0.1"
      ],
      "execution_count": null,
      "outputs": [
        {
          "output_type": "execute_result",
          "data": {
            "text/plain": [
              "False"
            ]
          },
          "metadata": {},
          "execution_count": 5
        }
      ]
    },
    {
      "cell_type": "code",
      "metadata": {
        "id": "SKfZl7r7TQ_I",
        "colab": {
          "base_uri": "https://localhost:8080/"
        },
        "outputId": "60f5ea78-bf4e-428b-d4c6-b0c0937b7932"
      },
      "source": [
        "import sys\n",
        "a - 0.1 < sys.float_info.epsilon"
      ],
      "execution_count": null,
      "outputs": [
        {
          "output_type": "execute_result",
          "data": {
            "text/plain": [
              "True"
            ]
          },
          "metadata": {},
          "execution_count": 9
        }
      ]
    },
    {
      "cell_type": "code",
      "metadata": {
        "colab": {
          "base_uri": "https://localhost:8080/"
        },
        "id": "GpxaD05Ik0SJ",
        "outputId": "40d33f67-25a2-4e42-c624-5224e7f18366"
      },
      "source": [
        "import sys\n",
        "sys.float_info.epsilon"
      ],
      "execution_count": null,
      "outputs": [
        {
          "output_type": "execute_result",
          "data": {
            "text/plain": [
              "2.220446049250313e-16"
            ]
          },
          "metadata": {},
          "execution_count": 10
        }
      ]
    },
    {
      "cell_type": "code",
      "metadata": {
        "id": "oszKlePpTQ_I",
        "colab": {
          "base_uri": "https://localhost:8080/"
        },
        "outputId": "3d9e4b00-6683-4014-8787-a72e870c1c22"
      },
      "source": [
        "0.4 - 0.3"
      ],
      "execution_count": null,
      "outputs": [
        {
          "output_type": "execute_result",
          "data": {
            "text/plain": [
              "0.10000000000000003"
            ]
          },
          "metadata": {},
          "execution_count": 11
        }
      ]
    },
    {
      "cell_type": "markdown",
      "metadata": {
        "id": "3lNhbqzUTQ_I"
      },
      "source": [
        "Когда сравниваете вещественные числа -- будьте осторожнее.\n",
        "\n",
        "Представление вещественного числа:"
      ]
    },
    {
      "cell_type": "markdown",
      "metadata": {
        "id": "i5at7BWoLxGk"
      },
      "source": [
        "![image.png](data:image/png;base64,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)"
      ]
    },
    {
      "cell_type": "markdown",
      "metadata": {
        "id": "HH0DOmryL1tr"
      },
      "source": [
        "S -- Знаковый бит\n",
        "\n",
        "E -- Порядок\n",
        "\n",
        "M -- Мантисса\n",
        "\n",
        "B -- Основание (10)\n",
        "\n",
        "X = (-1)^S * B^E * M"
      ]
    },
    {
      "cell_type": "markdown",
      "metadata": {
        "id": "rR7DsI9MMpar"
      },
      "source": [
        "64-битный float (double precision):"
      ]
    },
    {
      "cell_type": "markdown",
      "metadata": {
        "id": "X9umx1mGMmjv"
      },
      "source": [
        "![image.png](data:image/png;base64,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)"
      ]
    },
    {
      "cell_type": "markdown",
      "metadata": {
        "id": "pHnHc9QcTQ_M"
      },
      "source": [
        "## 1. Коллекции: списки, кортежи, range, (строки), множества, словари и др. Понятие последовательности"
      ]
    },
    {
      "cell_type": "markdown",
      "metadata": {
        "id": "RF2vHIXgTQ_N"
      },
      "source": [
        "### Строки\n",
        "\n",
        "Строковые константы можно задавать и с помощью одинарных кавычек, и с помощью двойных, и с помощью тройных:"
      ]
    },
    {
      "cell_type": "code",
      "metadata": {
        "id": "cFV-T3PkTQ_N",
        "colab": {
          "base_uri": "https://localhost:8080/"
        },
        "outputId": "dac8cd69-74a3-4a58-b82b-bde2bd559b2c"
      },
      "source": [
        "s1 = 'ab\"c'\n",
        "s2 = \"ab'c\"\n",
        "s3 = \"\"\"abc\n",
        "aaaaaa\n",
        "aaaaa\n",
        "a\n",
        "aa\n",
        "\"\"\"\n",
        "\n",
        "s1 == s2 == s3"
      ],
      "execution_count": null,
      "outputs": [
        {
          "output_type": "execute_result",
          "data": {
            "text/plain": [
              "False"
            ]
          },
          "metadata": {},
          "execution_count": 14
        }
      ]
    },
    {
      "cell_type": "code",
      "metadata": {
        "id": "N6yhUHhFTQ_N",
        "colab": {
          "base_uri": "https://localhost:8080/",
          "height": 153
        },
        "outputId": "57a8175d-8d81-4bf6-fa6d-18721f7589b2"
      },
      "source": [
        "print(s3)\n",
        "print()\n",
        "s3"
      ],
      "execution_count": null,
      "outputs": [
        {
          "output_type": "stream",
          "name": "stdout",
          "text": [
            "abc\n",
            "aaaaaa\n",
            "aaaaa\n",
            "a\n",
            "aa\n",
            "\n",
            "\n"
          ]
        },
        {
          "output_type": "execute_result",
          "data": {
            "application/vnd.google.colaboratory.intrinsic+json": {
              "type": "string"
            },
            "text/plain": [
              "'abc\\naaaaaa\\naaaaa\\na\\naa\\n'"
            ]
          },
          "metadata": {},
          "execution_count": 15
        }
      ]
    },
    {
      "cell_type": "code",
      "metadata": {
        "id": "e0rrMxLeTQ_O",
        "colab": {
          "base_uri": "https://localhost:8080/",
          "height": 69
        },
        "outputId": "274488b2-d280-444e-f542-7f457decfcd1"
      },
      "source": [
        "a = 'a\\naaaa'\n",
        "print(a)\n",
        "a"
      ],
      "execution_count": null,
      "outputs": [
        {
          "output_type": "stream",
          "name": "stdout",
          "text": [
            "a\n",
            "aaaa\n"
          ]
        },
        {
          "output_type": "execute_result",
          "data": {
            "application/vnd.google.colaboratory.intrinsic+json": {
              "type": "string"
            },
            "text/plain": [
              "'a\\naaaa'"
            ]
          },
          "metadata": {},
          "execution_count": 23
        }
      ]
    },
    {
      "cell_type": "code",
      "metadata": {
        "id": "UsJC0wKRTQ_O",
        "colab": {
          "base_uri": "https://localhost:8080/",
          "height": 35
        },
        "outputId": "ec1c2a37-c1ca-4991-f549-04180a57fdb8"
      },
      "source": [
        "a[3]"
      ],
      "execution_count": null,
      "outputs": [
        {
          "output_type": "execute_result",
          "data": {
            "application/vnd.google.colaboratory.intrinsic+json": {
              "type": "string"
            },
            "text/plain": [
              "'a'"
            ]
          },
          "metadata": {},
          "execution_count": 24
        }
      ]
    },
    {
      "cell_type": "markdown",
      "metadata": {
        "id": "yNQ3sZUqVlrG"
      },
      "source": [
        "**Внимание:** строки иммутабельны (неизменяемы)!"
      ]
    },
    {
      "cell_type": "code",
      "metadata": {
        "colab": {
          "base_uri": "https://localhost:8080/",
          "height": 162
        },
        "id": "ZXOY4q7IVeFC",
        "outputId": "2b469ceb-794d-4fe1-dc8b-faad7287049b"
      },
      "source": [
        "a[1] = 'b'"
      ],
      "execution_count": null,
      "outputs": [
        {
          "output_type": "error",
          "ename": "TypeError",
          "evalue": "ignored",
          "traceback": [
            "\u001b[0;31m---------------------------------------------------------------------------\u001b[0m",
            "\u001b[0;31mTypeError\u001b[0m                                 Traceback (most recent call last)",
            "\u001b[0;32m<ipython-input-25-92cf1e0d4257>\u001b[0m in \u001b[0;36m<module>\u001b[0;34m()\u001b[0m\n\u001b[0;32m----> 1\u001b[0;31m \u001b[0ma\u001b[0m\u001b[0;34m[\u001b[0m\u001b[0;36m1\u001b[0m\u001b[0;34m]\u001b[0m \u001b[0;34m=\u001b[0m \u001b[0;34m'b'\u001b[0m\u001b[0;34m\u001b[0m\u001b[0;34m\u001b[0m\u001b[0m\n\u001b[0m",
            "\u001b[0;31mTypeError\u001b[0m: 'str' object does not support item assignment"
          ]
        }
      ]
    },
    {
      "cell_type": "markdown",
      "metadata": {
        "id": "JxnDeKcGTQ_O"
      },
      "source": [
        "Функция `len` — получить длину строки (определена для всех коллекций):"
      ]
    },
    {
      "cell_type": "code",
      "metadata": {
        "id": "PItdK3IkTQ_P",
        "colab": {
          "base_uri": "https://localhost:8080/"
        },
        "outputId": "dcce39b4-d803-46b8-9cb3-812c4b9120bd"
      },
      "source": [
        "len(\"abc\")"
      ],
      "execution_count": null,
      "outputs": [
        {
          "output_type": "execute_result",
          "data": {
            "text/plain": [
              "3"
            ]
          },
          "metadata": {},
          "execution_count": 26
        }
      ]
    },
    {
      "cell_type": "code",
      "metadata": {
        "colab": {
          "base_uri": "https://localhost:8080/"
        },
        "id": "B2ejXNTSpufi",
        "outputId": "f91fdeaf-0051-4233-ecdb-279e96f9fdd7"
      },
      "source": [
        ""
      ],
      "execution_count": null,
      "outputs": [
        {
          "output_type": "execute_result",
          "data": {
            "text/plain": [
              "[1, 2, [1, 2, 3]]"
            ]
          },
          "metadata": {},
          "execution_count": 127
        }
      ]
    },
    {
      "cell_type": "markdown",
      "metadata": {
        "id": "SUXyABVVTQ_P"
      },
      "source": [
        "У типа str большое количество встроенных строковых методов:\n",
        "* .find — найти подстроку\n",
        "* .upper — перевести строку в верхний регистр\n",
        "* .lower — перевести строку в нижний регистр\n",
        "* .strip — обрезать по краям поданные символы (по умолчанию пробельные)\n",
        "* ...\n",
        "\n",
        "https://docs.python.org/3/library/stdtypes.html#text-sequence-type-str\n",
        "\n",
        "Все они возвращают новый экземпляр строки!"
      ]
    },
    {
      "cell_type": "code",
      "metadata": {
        "colab": {
          "base_uri": "https://localhost:8080/",
          "height": 35
        },
        "id": "In4EVqKGpJa8",
        "outputId": "48e415d0-433e-4642-8748-cc18f45ed037"
      },
      "source": [
        "s3.replace('a', '10')"
      ],
      "execution_count": null,
      "outputs": [
        {
          "output_type": "execute_result",
          "data": {
            "application/vnd.google.colaboratory.intrinsic+json": {
              "type": "string"
            },
            "text/plain": [
              "'10bc\\n101010101010\\n1010101010\\n10\\n1010\\n'"
            ]
          },
          "metadata": {},
          "execution_count": 27
        }
      ]
    },
    {
      "cell_type": "code",
      "metadata": {
        "id": "fqYN8DWxTQ_P",
        "colab": {
          "base_uri": "https://localhost:8080/"
        },
        "outputId": "fb9841a9-01b9-4ff7-d072-b9043c32e3d8"
      },
      "source": [
        "s1.find('b')"
      ],
      "execution_count": null,
      "outputs": [
        {
          "output_type": "execute_result",
          "data": {
            "text/plain": [
              "1"
            ]
          },
          "metadata": {},
          "execution_count": 28
        }
      ]
    },
    {
      "cell_type": "code",
      "metadata": {
        "id": "Cgh8Pxa2TQ_P",
        "colab": {
          "base_uri": "https://localhost:8080/",
          "height": 35
        },
        "outputId": "6752be33-6e39-4ea0-c078-bb80053edf88"
      },
      "source": [
        "s1[-1]"
      ],
      "execution_count": null,
      "outputs": [
        {
          "output_type": "execute_result",
          "data": {
            "application/vnd.google.colaboratory.intrinsic+json": {
              "type": "string"
            },
            "text/plain": [
              "'c'"
            ]
          },
          "metadata": {},
          "execution_count": 29
        }
      ]
    },
    {
      "cell_type": "code",
      "metadata": {
        "id": "JaIENCdJTQ_Q",
        "colab": {
          "base_uri": "https://localhost:8080/",
          "height": 35
        },
        "outputId": "ac7d6406-dcdd-4673-e1ba-0d89cdb30a14"
      },
      "source": [
        "sl = s1.upper()\n",
        "sl"
      ],
      "execution_count": null,
      "outputs": [
        {
          "output_type": "execute_result",
          "data": {
            "application/vnd.google.colaboratory.intrinsic+json": {
              "type": "string"
            },
            "text/plain": [
              "'AB\"C'"
            ]
          },
          "metadata": {},
          "execution_count": 34
        }
      ]
    },
    {
      "cell_type": "code",
      "metadata": {
        "id": "1pfwI3PyTQ_R",
        "colab": {
          "base_uri": "https://localhost:8080/",
          "height": 35
        },
        "outputId": "d900e1cb-efa5-4d0d-e4e6-7217fd4a5f54"
      },
      "source": [
        "s1.upper().lower()"
      ],
      "execution_count": null,
      "outputs": [
        {
          "output_type": "execute_result",
          "data": {
            "application/vnd.google.colaboratory.intrinsic+json": {
              "type": "string"
            },
            "text/plain": [
              "'ab\"c'"
            ]
          },
          "metadata": {},
          "execution_count": 31
        }
      ]
    },
    {
      "cell_type": "code",
      "metadata": {
        "id": "8U4pWhAhTQ_S",
        "colab": {
          "base_uri": "https://localhost:8080/",
          "height": 35
        },
        "outputId": "42c21d3f-095a-463c-c1e7-06857a22e9f0"
      },
      "source": [
        "\"a   \".strip()"
      ],
      "execution_count": null,
      "outputs": [
        {
          "output_type": "execute_result",
          "data": {
            "application/vnd.google.colaboratory.intrinsic+json": {
              "type": "string"
            },
            "text/plain": [
              "'a'"
            ]
          },
          "metadata": {},
          "execution_count": 133
        }
      ]
    },
    {
      "cell_type": "code",
      "metadata": {
        "id": "5pZKZ0ciTQ_S"
      },
      "source": [
        "z = '      z.      '"
      ],
      "execution_count": null,
      "outputs": []
    },
    {
      "cell_type": "code",
      "metadata": {
        "id": "yU6QnUaXTQ_S",
        "colab": {
          "base_uri": "https://localhost:8080/",
          "height": 35
        },
        "outputId": "ad2cecfe-537a-490e-d814-f03992a4cbaf"
      },
      "source": [
        "z.strip()"
      ],
      "execution_count": null,
      "outputs": [
        {
          "output_type": "execute_result",
          "data": {
            "application/vnd.google.colaboratory.intrinsic+json": {
              "type": "string"
            },
            "text/plain": [
              "'z.'"
            ]
          },
          "metadata": {},
          "execution_count": 135
        }
      ]
    },
    {
      "cell_type": "code",
      "metadata": {
        "id": "8ZQTSIdJTQ_T",
        "colab": {
          "base_uri": "https://localhost:8080/",
          "height": 35
        },
        "outputId": "363416ab-cf2a-4fea-aa9d-6b7708326b2e"
      },
      "source": [
        "z.rstrip()"
      ],
      "execution_count": null,
      "outputs": [
        {
          "output_type": "execute_result",
          "data": {
            "application/vnd.google.colaboratory.intrinsic+json": {
              "type": "string"
            },
            "text/plain": [
              "'      z.'"
            ]
          },
          "metadata": {},
          "execution_count": 136
        }
      ]
    },
    {
      "cell_type": "code",
      "metadata": {
        "id": "MOdP1OB_TQ_T",
        "colab": {
          "base_uri": "https://localhost:8080/",
          "height": 35
        },
        "outputId": "d7480213-9c60-4491-f2d5-effb4c1cd4d6"
      },
      "source": [
        "z.lstrip()"
      ],
      "execution_count": null,
      "outputs": [
        {
          "output_type": "execute_result",
          "data": {
            "application/vnd.google.colaboratory.intrinsic+json": {
              "type": "string"
            },
            "text/plain": [
              "'z.      '"
            ]
          },
          "metadata": {},
          "execution_count": 137
        }
      ]
    },
    {
      "cell_type": "markdown",
      "metadata": {
        "id": "9fSBFpcCTQ_T"
      },
      "source": [
        "Продвинутая индексация: Слайсы"
      ]
    },
    {
      "cell_type": "code",
      "metadata": {
        "id": "qd8uP8faWaPP"
      },
      "source": [
        "s = 'abcde'"
      ],
      "execution_count": null,
      "outputs": []
    },
    {
      "cell_type": "code",
      "metadata": {
        "id": "OOSkwN5kTQ_U",
        "colab": {
          "base_uri": "https://localhost:8080/",
          "height": 35
        },
        "outputId": "199a3621-d345-45ff-eba3-3cf04da9728e"
      },
      "source": [
        "'b' + s[1:]"
      ],
      "execution_count": null,
      "outputs": [
        {
          "output_type": "execute_result",
          "data": {
            "application/vnd.google.colaboratory.intrinsic+json": {
              "type": "string"
            },
            "text/plain": [
              "'bbcde'"
            ]
          },
          "metadata": {},
          "execution_count": 37
        }
      ]
    },
    {
      "cell_type": "code",
      "metadata": {
        "id": "DbPRzvskTQ_V",
        "colab": {
          "base_uri": "https://localhost:8080/",
          "height": 35
        },
        "outputId": "8991ca18-84af-425b-a54a-0edbcaaeb137"
      },
      "source": [
        "s[1:]"
      ],
      "execution_count": null,
      "outputs": [
        {
          "output_type": "execute_result",
          "data": {
            "application/vnd.google.colaboratory.intrinsic+json": {
              "type": "string"
            },
            "text/plain": [
              "'bcde'"
            ]
          },
          "metadata": {},
          "execution_count": 38
        }
      ]
    },
    {
      "cell_type": "code",
      "metadata": {
        "id": "BM5wuNtGTQ_V",
        "colab": {
          "base_uri": "https://localhost:8080/",
          "height": 35
        },
        "outputId": "0cbb49a6-9deb-45f9-94ba-677f92a0c10d"
      },
      "source": [
        "s[1:-1]"
      ],
      "execution_count": null,
      "outputs": [
        {
          "output_type": "execute_result",
          "data": {
            "application/vnd.google.colaboratory.intrinsic+json": {
              "type": "string"
            },
            "text/plain": [
              "'bcd'"
            ]
          },
          "metadata": {},
          "execution_count": 39
        }
      ]
    },
    {
      "cell_type": "code",
      "metadata": {
        "id": "YzBOr4aOTQ_V",
        "colab": {
          "base_uri": "https://localhost:8080/",
          "height": 52
        },
        "outputId": "1e8b439b-9ed5-4235-c7b6-8213e60a18b3"
      },
      "source": [
        "s_new = s[2:4]\n",
        "print(s)\n",
        "s_new"
      ],
      "execution_count": null,
      "outputs": [
        {
          "output_type": "stream",
          "name": "stdout",
          "text": [
            "abcde\n"
          ]
        },
        {
          "output_type": "execute_result",
          "data": {
            "application/vnd.google.colaboratory.intrinsic+json": {
              "type": "string"
            },
            "text/plain": [
              "'cd'"
            ]
          },
          "metadata": {},
          "execution_count": 40
        }
      ]
    },
    {
      "cell_type": "markdown",
      "metadata": {
        "id": "sxPM6ymATQ_W"
      },
      "source": [
        "s[start:finish:step]\n",
        "\n",
        "* start — начало среза\n",
        "* finish — конец среза (не входит в срез!!!)\n",
        "* step — шаг\n",
        "\n",
        "Индексы в питоне могут быть отрицательными! В таком случае считаем с конца (или двигаемся в обратном направлении, если это step)"
      ]
    },
    {
      "cell_type": "code",
      "metadata": {
        "id": "kpPkoaRoTQ_W"
      },
      "source": [
        "s = '0123456789'"
      ],
      "execution_count": null,
      "outputs": []
    },
    {
      "cell_type": "code",
      "metadata": {
        "id": "eTyH9cocTQ_W",
        "colab": {
          "base_uri": "https://localhost:8080/",
          "height": 35
        },
        "outputId": "1045c066-36d2-45c2-de19-dcd774553c6d"
      },
      "source": [
        "s[::2]"
      ],
      "execution_count": null,
      "outputs": [
        {
          "output_type": "execute_result",
          "data": {
            "application/vnd.google.colaboratory.intrinsic+json": {
              "type": "string"
            },
            "text/plain": [
              "'02468'"
            ]
          },
          "metadata": {},
          "execution_count": 48
        }
      ]
    },
    {
      "cell_type": "code",
      "metadata": {
        "id": "_yDlc6jUTQ_X",
        "colab": {
          "base_uri": "https://localhost:8080/",
          "height": 35
        },
        "outputId": "2d0a3a57-d582-497b-a851-fbfaa144d222"
      },
      "source": [
        "s[-1:1:-1]"
      ],
      "execution_count": null,
      "outputs": [
        {
          "output_type": "execute_result",
          "data": {
            "application/vnd.google.colaboratory.intrinsic+json": {
              "type": "string"
            },
            "text/plain": [
              "'98765432'"
            ]
          },
          "metadata": {},
          "execution_count": 52
        }
      ]
    },
    {
      "cell_type": "code",
      "metadata": {
        "id": "AV1vo-sJTQ_X",
        "colab": {
          "base_uri": "https://localhost:8080/",
          "height": 35
        },
        "outputId": "ca768bfc-6c7f-407c-e33d-a1546cde9d15"
      },
      "source": [
        "s[::-2]"
      ],
      "execution_count": null,
      "outputs": [
        {
          "output_type": "execute_result",
          "data": {
            "application/vnd.google.colaboratory.intrinsic+json": {
              "type": "string"
            },
            "text/plain": [
              "'97531'"
            ]
          },
          "metadata": {},
          "execution_count": 46
        }
      ]
    },
    {
      "cell_type": "code",
      "metadata": {
        "id": "povXyxhBTQ_X",
        "colab": {
          "base_uri": "https://localhost:8080/",
          "height": 35
        },
        "outputId": "5a4f954c-87a1-4d36-ac2e-8446e505733e"
      },
      "source": [
        "s[::3]"
      ],
      "execution_count": null,
      "outputs": [
        {
          "output_type": "execute_result",
          "data": {
            "application/vnd.google.colaboratory.intrinsic+json": {
              "type": "string"
            },
            "text/plain": [
              "'0369'"
            ]
          },
          "metadata": {},
          "execution_count": 47
        }
      ]
    },
    {
      "cell_type": "markdown",
      "metadata": {
        "id": "Jbq5g3zQTQ_X"
      },
      "source": [
        "Срез равный всей строке:"
      ]
    },
    {
      "cell_type": "code",
      "metadata": {
        "id": "Q8DaL9S5TQ_X",
        "colab": {
          "base_uri": "https://localhost:8080/",
          "height": 35
        },
        "outputId": "2539698b-f6c5-4362-86bf-9ce692587cca"
      },
      "source": [
        "s[0:len(s):1]"
      ],
      "execution_count": null,
      "outputs": [
        {
          "output_type": "execute_result",
          "data": {
            "application/vnd.google.colaboratory.intrinsic+json": {
              "type": "string"
            },
            "text/plain": [
              "'0123456789'"
            ]
          },
          "metadata": {},
          "execution_count": 53
        }
      ]
    },
    {
      "cell_type": "markdown",
      "metadata": {
        "id": "ozt9hMs0XhEo"
      },
      "source": [
        "Cрез с шагом 2:"
      ]
    },
    {
      "cell_type": "code",
      "metadata": {
        "id": "uSELbfiXTQ_Y",
        "colab": {
          "base_uri": "https://localhost:8080/",
          "height": 35
        },
        "outputId": "d28bb9ec-b452-41b1-d48d-026c3b898e47"
      },
      "source": [
        "s[0:len(s):2]"
      ],
      "execution_count": null,
      "outputs": [
        {
          "output_type": "execute_result",
          "data": {
            "application/vnd.google.colaboratory.intrinsic+json": {
              "type": "string"
            },
            "text/plain": [
              "'02468'"
            ]
          },
          "metadata": {},
          "execution_count": 54
        }
      ]
    },
    {
      "cell_type": "markdown",
      "metadata": {
        "id": "EF0SeaUvTQ_Y"
      },
      "source": [
        "Срез равный одному элементу:"
      ]
    },
    {
      "cell_type": "code",
      "metadata": {
        "id": "zJAZKSh1TQ_Y",
        "colab": {
          "base_uri": "https://localhost:8080/",
          "height": 35
        },
        "outputId": "3ed7e371-8c19-4c1c-efc9-59add7dbbe96"
      },
      "source": [
        "s[5:6:1]"
      ],
      "execution_count": null,
      "outputs": [
        {
          "output_type": "execute_result",
          "data": {
            "application/vnd.google.colaboratory.intrinsic+json": {
              "type": "string"
            },
            "text/plain": [
              "'5'"
            ]
          },
          "metadata": {},
          "execution_count": 55
        }
      ]
    },
    {
      "cell_type": "markdown",
      "metadata": {
        "id": "LNW3ujCkYdCS"
      },
      "source": [
        "Строки, как мы помним, можно складывать и умножать:"
      ]
    },
    {
      "cell_type": "code",
      "metadata": {
        "colab": {
          "base_uri": "https://localhost:8080/",
          "height": 35
        },
        "id": "d2Bf8UNBYgh8",
        "outputId": "c2b37047-ebb9-4e48-e34b-2a6306b73e50"
      },
      "source": [
        "s_new + s3"
      ],
      "execution_count": null,
      "outputs": [
        {
          "output_type": "execute_result",
          "data": {
            "application/vnd.google.colaboratory.intrinsic+json": {
              "type": "string"
            },
            "text/plain": [
              "'cdabc\\naaaaaa\\naaaaa\\na\\naa\\n'"
            ]
          },
          "metadata": {},
          "execution_count": 56
        }
      ]
    },
    {
      "cell_type": "code",
      "metadata": {
        "colab": {
          "base_uri": "https://localhost:8080/",
          "height": 35
        },
        "id": "Mk_cmOfyYmV9",
        "outputId": "14005139-9a79-4550-f73b-9698c5e627f1"
      },
      "source": [
        "s_new * 5"
      ],
      "execution_count": null,
      "outputs": [
        {
          "output_type": "execute_result",
          "data": {
            "application/vnd.google.colaboratory.intrinsic+json": {
              "type": "string"
            },
            "text/plain": [
              "'cdcdcdcdcd'"
            ]
          },
          "metadata": {},
          "execution_count": 57
        }
      ]
    },
    {
      "cell_type": "markdown",
      "metadata": {
        "id": "mlwchb0uTQ_Z"
      },
      "source": [
        "### Списки"
      ]
    },
    {
      "cell_type": "code",
      "metadata": {
        "id": "2j1Jh-dBTQ_Z"
      },
      "source": [
        "a = [1, 2, 3, 2, 0]"
      ],
      "execution_count": null,
      "outputs": []
    },
    {
      "cell_type": "markdown",
      "metadata": {
        "id": "UIPNButLTQ_Z"
      },
      "source": [
        "В список могут входить любые объекты:"
      ]
    },
    {
      "cell_type": "code",
      "metadata": {
        "id": "SfW2ugcOTQ_Z",
        "colab": {
          "base_uri": "https://localhost:8080/"
        },
        "outputId": "ba2f2b9f-4044-48d2-d757-5f20cb7567f6"
      },
      "source": [
        "a = [1, '2', '3', [4, 5]]\n",
        "a.append(1.2)\n",
        "a"
      ],
      "execution_count": null,
      "outputs": [
        {
          "output_type": "execute_result",
          "data": {
            "text/plain": [
              "[1, '2', '3', [4, 5], 1.2]"
            ]
          },
          "metadata": {},
          "execution_count": 59
        }
      ]
    },
    {
      "cell_type": "markdown",
      "metadata": {
        "id": "GS9IYQXWTQ_a"
      },
      "source": [
        "Списки тоже поддерживают многие операции!\n",
        "\n",
        "* cложение списков (+) — конкатенация списков\n",
        "* умножение списка на целое число n (*) — повтороение списка n раз\n",
        "* слайсы!"
      ]
    },
    {
      "cell_type": "markdown",
      "metadata": {
        "id": "xbAw9kukYAxt"
      },
      "source": [
        "Всё это вместе называется концепцией последовательности. К \"последовательным\" типам относятся списки, кортежи (иммутабельные списки), range(), строки (в качестве символьных последовательностей)\n",
        "\n",
        "Помимо упомянутых операций сложения, умножения, слайсов, измерения длины, поддерживаются операции in (not in), min, max, index (поиск), count"
      ]
    },
    {
      "cell_type": "code",
      "metadata": {
        "id": "deDtUNHuTQ_a",
        "colab": {
          "base_uri": "https://localhost:8080/"
        },
        "outputId": "a69d5c0a-2aba-4c8e-b666-99c0406cdbd0"
      },
      "source": [
        "b = [1, '2']\n",
        "a + b"
      ],
      "execution_count": null,
      "outputs": [
        {
          "output_type": "execute_result",
          "data": {
            "text/plain": [
              "[1, '2', '3', [4, 5], 1.2, 1, '2']"
            ]
          },
          "metadata": {},
          "execution_count": 60
        }
      ]
    },
    {
      "cell_type": "code",
      "metadata": {
        "id": "7As9bcWdTQ_a",
        "colab": {
          "base_uri": "https://localhost:8080/"
        },
        "outputId": "00cc2d6f-18f2-4e33-eacc-023ca4b83a2a"
      },
      "source": [
        "a * 2"
      ],
      "execution_count": null,
      "outputs": [
        {
          "output_type": "execute_result",
          "data": {
            "text/plain": [
              "[1, '2', '3', [4, 5], 1.2, 1, '2', '3', [4, 5], 1.2]"
            ]
          },
          "metadata": {},
          "execution_count": 61
        }
      ]
    },
    {
      "cell_type": "code",
      "metadata": {
        "id": "5sk_pB9NTQ_a",
        "colab": {
          "base_uri": "https://localhost:8080/"
        },
        "outputId": "50a98e61-a972-404c-e155-14ff73523a12"
      },
      "source": [
        "a[::-1]"
      ],
      "execution_count": null,
      "outputs": [
        {
          "output_type": "execute_result",
          "data": {
            "text/plain": [
              "[1.2, [4, 5], '3', '2', 1]"
            ]
          },
          "metadata": {},
          "execution_count": 62
        }
      ]
    },
    {
      "cell_type": "code",
      "metadata": {
        "colab": {
          "base_uri": "https://localhost:8080/"
        },
        "id": "MPYnM1evZsl0",
        "outputId": "ed23c49c-9c93-4d3c-88fa-7578f810fa4b"
      },
      "source": [
        "'2' in a + b"
      ],
      "execution_count": null,
      "outputs": [
        {
          "output_type": "execute_result",
          "data": {
            "text/plain": [
              "True"
            ]
          },
          "metadata": {},
          "execution_count": 63
        }
      ]
    },
    {
      "cell_type": "code",
      "metadata": {
        "colab": {
          "base_uri": "https://localhost:8080/"
        },
        "id": "hDlSSXEKZwQr",
        "outputId": "133c72be-4024-4b3f-ca50-1dad7edb5eb5"
      },
      "source": [
        "2 not in a + b"
      ],
      "execution_count": null,
      "outputs": [
        {
          "output_type": "execute_result",
          "data": {
            "text/plain": [
              "True"
            ]
          },
          "metadata": {},
          "execution_count": 64
        }
      ]
    },
    {
      "cell_type": "code",
      "metadata": {
        "colab": {
          "base_uri": "https://localhost:8080/",
          "height": 162
        },
        "id": "AJqGhrVYZ2OH",
        "outputId": "9915ca06-eda9-48cf-b8a0-05293000ddff"
      },
      "source": [
        "min(a) # работает не всегда!"
      ],
      "execution_count": null,
      "outputs": [
        {
          "output_type": "error",
          "ename": "TypeError",
          "evalue": "ignored",
          "traceback": [
            "\u001b[0;31m---------------------------------------------------------------------------\u001b[0m",
            "\u001b[0;31mTypeError\u001b[0m                                 Traceback (most recent call last)",
            "\u001b[0;32m<ipython-input-65-2fa4f83c6c1f>\u001b[0m in \u001b[0;36m<module>\u001b[0;34m()\u001b[0m\n\u001b[0;32m----> 1\u001b[0;31m \u001b[0mmin\u001b[0m\u001b[0;34m(\u001b[0m\u001b[0ma\u001b[0m\u001b[0;34m)\u001b[0m \u001b[0;31m# работает не всегда!\u001b[0m\u001b[0;34m\u001b[0m\u001b[0;34m\u001b[0m\u001b[0m\n\u001b[0m",
            "\u001b[0;31mTypeError\u001b[0m: '<' not supported between instances of 'str' and 'int'"
          ]
        }
      ]
    },
    {
      "cell_type": "code",
      "metadata": {
        "colab": {
          "base_uri": "https://localhost:8080/"
        },
        "id": "Al7ILE7IaGsZ",
        "outputId": "840c86b1-cf0d-4eba-c10f-b62223147aea"
      },
      "source": [
        "max([10, 1000, 1, 2, 5000, 3])"
      ],
      "execution_count": null,
      "outputs": [
        {
          "output_type": "execute_result",
          "data": {
            "text/plain": [
              "5000"
            ]
          },
          "metadata": {},
          "execution_count": 66
        }
      ]
    },
    {
      "cell_type": "code",
      "metadata": {
        "colab": {
          "base_uri": "https://localhost:8080/",
          "height": 35
        },
        "id": "y-gx-hysaL9Y",
        "outputId": "96a19f14-c404-4014-9c38-7a5daa99d3a8"
      },
      "source": [
        "min(['1', '2', '3', 'abc', \"абв\"])"
      ],
      "execution_count": null,
      "outputs": [
        {
          "output_type": "execute_result",
          "data": {
            "application/vnd.google.colaboratory.intrinsic+json": {
              "type": "string"
            },
            "text/plain": [
              "'1'"
            ]
          },
          "metadata": {},
          "execution_count": 67
        }
      ]
    },
    {
      "cell_type": "code",
      "metadata": {
        "colab": {
          "base_uri": "https://localhost:8080/"
        },
        "id": "MzJK7IPEaOi1",
        "outputId": "b79effb9-4f29-4e16-e1fe-c9ea892b2892"
      },
      "source": [
        "a.index([4, 5])\n",
        "[4, 5] in a"
      ],
      "execution_count": null,
      "outputs": [
        {
          "output_type": "execute_result",
          "data": {
            "text/plain": [
              "True"
            ]
          },
          "metadata": {},
          "execution_count": 70
        }
      ]
    },
    {
      "cell_type": "code",
      "metadata": {
        "colab": {
          "base_uri": "https://localhost:8080/"
        },
        "id": "-u2UCZCNbGQM",
        "outputId": "5ed2aa8b-eb6f-41bd-ace6-c8ef0fffde3e"
      },
      "source": [
        "a.count(2)"
      ],
      "execution_count": null,
      "outputs": [
        {
          "output_type": "execute_result",
          "data": {
            "text/plain": [
              "0"
            ]
          },
          "metadata": {},
          "execution_count": 71
        }
      ]
    },
    {
      "cell_type": "markdown",
      "metadata": {
        "id": "GnNs_UuAbJIR"
      },
      "source": [
        "Другие коллекции тоже поддерживают многое из этого!"
      ]
    },
    {
      "cell_type": "markdown",
      "metadata": {
        "id": "taZ930Q1TQ_b"
      },
      "source": [
        "**Внимание:** список — изменяемый объект! \n",
        "\n",
        "Можно менять элементы списка, можно добавлять новые элементы и удалять старые (`.append` и `.pop`)."
      ]
    },
    {
      "cell_type": "code",
      "metadata": {
        "id": "rWorHSr4TQ_b",
        "colab": {
          "base_uri": "https://localhost:8080/"
        },
        "outputId": "7353bb5a-a858-49d8-89a0-bd3a616eeea6"
      },
      "source": [
        "a[0] = '123'\n",
        "a"
      ],
      "execution_count": null,
      "outputs": [
        {
          "output_type": "execute_result",
          "data": {
            "text/plain": [
              "['123', '2', '3', [4, 5], 1.2]"
            ]
          },
          "metadata": {},
          "execution_count": 72
        }
      ]
    },
    {
      "cell_type": "code",
      "metadata": {
        "id": "2emIWM10TQ_b",
        "colab": {
          "base_uri": "https://localhost:8080/"
        },
        "outputId": "a4a525a0-9443-48e5-d227-a461b1d4dcbb"
      },
      "source": [
        "a.append('data science')\n",
        "a"
      ],
      "execution_count": null,
      "outputs": [
        {
          "output_type": "execute_result",
          "data": {
            "text/plain": [
              "['123', '2', '3', [4, 5], 1.2, 'data science']"
            ]
          },
          "metadata": {},
          "execution_count": 73
        }
      ]
    },
    {
      "cell_type": "markdown",
      "metadata": {
        "id": "rbcPkpo5TQ_b"
      },
      "source": [
        "### Преобразования списков и строк\n",
        "\n",
        "Два основных строковых метода для взаимодействия списков и строк:\n",
        "\n",
        "* .split — разделить строку на список строк по определённому сепаратору\n",
        "* .join — соеденить список строк в одну большую строку по определённому сепаратору"
      ]
    },
    {
      "cell_type": "code",
      "metadata": {
        "id": "_LeWfmEDTQ_b",
        "colab": {
          "base_uri": "https://localhost:8080/"
        },
        "outputId": "a9e6f4b7-0f7c-47b5-a6eb-4d41c06c0989"
      },
      "source": [
        "s = 'one,two,three'\n",
        "s.split(',')"
      ],
      "execution_count": null,
      "outputs": [
        {
          "output_type": "execute_result",
          "data": {
            "text/plain": [
              "['one', 'two', 'three']"
            ]
          },
          "metadata": {},
          "execution_count": 76
        }
      ]
    },
    {
      "cell_type": "code",
      "metadata": {
        "id": "rxH5fsewTQ_b",
        "colab": {
          "base_uri": "https://localhost:8080/",
          "height": 35
        },
        "outputId": "f401eb55-5d15-4da6-9066-ad62fdfe9ca1"
      },
      "source": [
        "\", \".join(['arb', 'borb', 'kork'])"
      ],
      "execution_count": null,
      "outputs": [
        {
          "output_type": "execute_result",
          "data": {
            "application/vnd.google.colaboratory.intrinsic+json": {
              "type": "string"
            },
            "text/plain": [
              "'arb, borb, kork'"
            ]
          },
          "metadata": {},
          "execution_count": 77
        }
      ]
    },
    {
      "cell_type": "markdown",
      "metadata": {
        "id": "lCtGLsl0b2og"
      },
      "source": [
        "### Другие коллекции"
      ]
    },
    {
      "cell_type": "markdown",
      "metadata": {
        "id": "UjhNi0AZb9Vi"
      },
      "source": [
        "**Кортежи**: иммутабельные списки"
      ]
    },
    {
      "cell_type": "code",
      "metadata": {
        "colab": {
          "base_uri": "https://localhost:8080/"
        },
        "id": "5ibLcu73b7lc",
        "outputId": "677357d7-5ad1-48c0-fac3-2e3fce0637e8"
      },
      "source": [
        "a = (1, )\n",
        "a"
      ],
      "execution_count": null,
      "outputs": [
        {
          "output_type": "execute_result",
          "data": {
            "text/plain": [
              "(1,)"
            ]
          },
          "metadata": {},
          "execution_count": 78
        }
      ]
    },
    {
      "cell_type": "code",
      "metadata": {
        "colab": {
          "base_uri": "https://localhost:8080/"
        },
        "id": "8znJhYcvcLH2",
        "outputId": "3705e1a1-885b-47f8-b363-445f518792a5"
      },
      "source": [
        "a = (1, 2, 3)\n",
        "a"
      ],
      "execution_count": null,
      "outputs": [
        {
          "output_type": "execute_result",
          "data": {
            "text/plain": [
              "(1, 2, 3)"
            ]
          },
          "metadata": {},
          "execution_count": 79
        }
      ]
    },
    {
      "cell_type": "code",
      "metadata": {
        "colab": {
          "base_uri": "https://localhost:8080/",
          "height": 162
        },
        "id": "1tVLlpUrxKhB",
        "outputId": "6590c540-a46f-4950-990a-e3734429f7e7"
      },
      "source": [
        "a[0] = 7"
      ],
      "execution_count": null,
      "outputs": [
        {
          "output_type": "error",
          "ename": "TypeError",
          "evalue": "ignored",
          "traceback": [
            "\u001b[0;31m---------------------------------------------------------------------------\u001b[0m",
            "\u001b[0;31mTypeError\u001b[0m                                 Traceback (most recent call last)",
            "\u001b[0;32m<ipython-input-80-e099e33cc91c>\u001b[0m in \u001b[0;36m<module>\u001b[0;34m()\u001b[0m\n\u001b[0;32m----> 1\u001b[0;31m \u001b[0ma\u001b[0m\u001b[0;34m[\u001b[0m\u001b[0;36m0\u001b[0m\u001b[0;34m]\u001b[0m \u001b[0;34m=\u001b[0m \u001b[0;36m7\u001b[0m\u001b[0;34m\u001b[0m\u001b[0;34m\u001b[0m\u001b[0m\n\u001b[0m",
            "\u001b[0;31mTypeError\u001b[0m: 'tuple' object does not support item assignment"
          ]
        }
      ]
    },
    {
      "cell_type": "code",
      "metadata": {
        "colab": {
          "base_uri": "https://localhost:8080/"
        },
        "id": "omvDoFu-xKZf",
        "outputId": "f94f1a54-ff73-4aae-b208-821717aa34db"
      },
      "source": [
        "c = ('1', 2, 3)\n",
        "c"
      ],
      "execution_count": null,
      "outputs": [
        {
          "output_type": "execute_result",
          "data": {
            "text/plain": [
              "('1', 2, 3)"
            ]
          },
          "metadata": {},
          "execution_count": 81
        }
      ]
    },
    {
      "cell_type": "markdown",
      "metadata": {
        "id": "pbimSrJ-cytT"
      },
      "source": [
        "**range**: итерируемый объект"
      ]
    },
    {
      "cell_type": "code",
      "metadata": {
        "colab": {
          "base_uri": "https://localhost:8080/"
        },
        "id": "Vy53syFwc4Fo",
        "outputId": "87a86a15-dd4e-49fd-8e3a-a9f850ef316f"
      },
      "source": [
        "a = range(3, 17, 3)\n",
        "a"
      ],
      "execution_count": null,
      "outputs": [
        {
          "output_type": "execute_result",
          "data": {
            "text/plain": [
              "range(3, 17, 3)"
            ]
          },
          "metadata": {},
          "execution_count": 174
        }
      ]
    },
    {
      "cell_type": "code",
      "metadata": {
        "colab": {
          "base_uri": "https://localhost:8080/"
        },
        "id": "dAyd1DtSdPm9",
        "outputId": "724e0b77-1a97-40b6-bd25-4fbb92633d8d"
      },
      "source": [
        "for x in a:\n",
        "  print(type(x))"
      ],
      "execution_count": null,
      "outputs": [
        {
          "output_type": "stream",
          "name": "stdout",
          "text": [
            "<class 'int'>\n",
            "<class 'int'>\n",
            "<class 'int'>\n"
          ]
        }
      ]
    },
    {
      "cell_type": "markdown",
      "metadata": {
        "id": "-r4xZBuNcSdb"
      },
      "source": [
        "**Множество**: коллекция без повторов"
      ]
    },
    {
      "cell_type": "code",
      "metadata": {
        "colab": {
          "base_uri": "https://localhost:8080/"
        },
        "id": "2V2L7HjDcWZ1",
        "outputId": "b71f20dc-c02d-4aec-b376-76598b275da8"
      },
      "source": [
        "a = {1, 2, 3, 3, 2, 4}\n",
        "a\n",
        "a.add('1')\n",
        "a\n",
        "a.add((1, 2, 3))\n",
        "a"
      ],
      "execution_count": null,
      "outputs": [
        {
          "output_type": "execute_result",
          "data": {
            "text/plain": [
              "{(1, 2, 3), 1, '1', 2, 3, 4}"
            ]
          },
          "metadata": {},
          "execution_count": 92
        }
      ]
    },
    {
      "cell_type": "code",
      "metadata": {
        "colab": {
          "base_uri": "https://localhost:8080/"
        },
        "id": "1yDfkU8VcjQK",
        "outputId": "db254a06-4840-4e29-ca4a-4f473e7e7721"
      },
      "source": [
        "b = frozenset('aabc')\n",
        "b\n",
        "b[2] = "
      ],
      "execution_count": null,
      "outputs": [
        {
          "output_type": "execute_result",
          "data": {
            "text/plain": [
              "frozenset({'a', 'b', 'c'})"
            ]
          },
          "metadata": {},
          "execution_count": 86
        }
      ]
    },
    {
      "cell_type": "markdown",
      "metadata": {
        "id": "7oX4W6GCctCK"
      },
      "source": [
        "**Словари**: набор пар ключ-значение, индексируемый ключами (хеши)"
      ]
    },
    {
      "cell_type": "code",
      "metadata": {
        "colab": {
          "base_uri": "https://localhost:8080/"
        },
        "id": "WFZ2lWSvdpbZ",
        "outputId": "912332e0-476f-4fc5-b0f4-846ccdbf42ed"
      },
      "source": [
        "d = {1: 3, '1': 4, (1, 2, 3): 5, b: 10}\n",
        "d"
      ],
      "execution_count": null,
      "outputs": [
        {
          "output_type": "execute_result",
          "data": {
            "text/plain": [
              "{(1, 2, 3): 5, 1: 3, '1': 4, frozenset({'a', 'b', 'c'}): 10}"
            ]
          },
          "metadata": {},
          "execution_count": 179
        }
      ]
    },
    {
      "cell_type": "code",
      "metadata": {
        "colab": {
          "base_uri": "https://localhost:8080/"
        },
        "id": "6hef2oHBdz1y",
        "outputId": "1e3929c9-facc-41c8-e578-0851819e2f4e"
      },
      "source": [
        "d[b]"
      ],
      "execution_count": null,
      "outputs": [
        {
          "output_type": "execute_result",
          "data": {
            "text/plain": [
              "10"
            ]
          },
          "metadata": {},
          "execution_count": 180
        }
      ]
    },
    {
      "cell_type": "code",
      "metadata": {
        "colab": {
          "base_uri": "https://localhost:8080/",
          "height": 162
        },
        "id": "in7ZY65Od290",
        "outputId": "e81eb487-8cde-46e6-96c9-5260ba4a54b1"
      },
      "source": [
        "c = {a: 3}"
      ],
      "execution_count": null,
      "outputs": [
        {
          "output_type": "error",
          "ename": "TypeError",
          "evalue": "ignored",
          "traceback": [
            "\u001b[0;31m---------------------------------------------------------------------------\u001b[0m",
            "\u001b[0;31mTypeError\u001b[0m                                 Traceback (most recent call last)",
            "\u001b[0;32m<ipython-input-181-198aa74edb36>\u001b[0m in \u001b[0;36m<module>\u001b[0;34m()\u001b[0m\n\u001b[0;32m----> 1\u001b[0;31m \u001b[0mc\u001b[0m \u001b[0;34m=\u001b[0m \u001b[0;34m{\u001b[0m\u001b[0ma\u001b[0m\u001b[0;34m:\u001b[0m \u001b[0;36m3\u001b[0m\u001b[0;34m}\u001b[0m\u001b[0;34m\u001b[0m\u001b[0;34m\u001b[0m\u001b[0m\n\u001b[0m",
            "\u001b[0;31mTypeError\u001b[0m: unhashable type: 'set'"
          ]
        }
      ]
    },
    {
      "cell_type": "markdown",
      "metadata": {
        "id": "51XZNUnnTQ_c"
      },
      "source": [
        "## 3. Итерируемся!\n",
        "\n",
        "В анализе данных нужно много итерироваться по коллекциям!"
      ]
    },
    {
      "cell_type": "code",
      "metadata": {
        "id": "_z_AwuTjTQ_c",
        "colab": {
          "base_uri": "https://localhost:8080/"
        },
        "outputId": "a1e8d405-c6cd-40dc-d8a9-eff1b7326a20"
      },
      "source": [
        "for i in a:\n",
        "  print(i)"
      ],
      "execution_count": null,
      "outputs": [
        {
          "output_type": "stream",
          "name": "stdout",
          "text": [
            "1\n",
            "2\n",
            "3\n",
            "4\n"
          ]
        }
      ]
    },
    {
      "cell_type": "code",
      "metadata": {
        "colab": {
          "base_uri": "https://localhost:8080/"
        },
        "id": "O2HaCRnaeS4y",
        "outputId": "26f5b925-2628-46c1-9a3f-0338129c2992"
      },
      "source": [
        "for i, j in enumerate(a):\n",
        "  print(i, j)\n",
        "k, b, c = (1, 2, 3)\n",
        "print(k, b, c)"
      ],
      "execution_count": null,
      "outputs": [
        {
          "output_type": "stream",
          "name": "stdout",
          "text": [
            "0 1\n",
            "1 2\n",
            "2 3\n",
            "3 4\n",
            "1 2 3\n"
          ]
        }
      ]
    },
    {
      "cell_type": "code",
      "metadata": {
        "colab": {
          "base_uri": "https://localhost:8080/"
        },
        "id": "t05plRbteWiv",
        "outputId": "e9b933f4-ebc7-42b6-a1bb-bc1a38261ab6"
      },
      "source": [
        "for k, v in d.items():\n",
        "  print(k, v)"
      ],
      "execution_count": null,
      "outputs": [
        {
          "output_type": "stream",
          "name": "stdout",
          "text": [
            "1 3\n",
            "1 4\n",
            "(1, 2, 3) 5\n",
            "frozenset({'a', 'b', 'c'}) 10\n"
          ]
        }
      ]
    },
    {
      "cell_type": "code",
      "metadata": {
        "colab": {
          "base_uri": "https://localhost:8080/",
          "height": 178
        },
        "id": "Al-dmD4heb4m",
        "outputId": "f2e30335-eb0a-4e3d-ae4b-344c43a86eb8"
      },
      "source": [
        "for k, v in sorted(d.items()):\n",
        "  print(k, v)"
      ],
      "execution_count": null,
      "outputs": [
        {
          "output_type": "error",
          "ename": "TypeError",
          "evalue": "ignored",
          "traceback": [
            "\u001b[0;31m---------------------------------------------------------------------------\u001b[0m",
            "\u001b[0;31mTypeError\u001b[0m                                 Traceback (most recent call last)",
            "\u001b[0;32m<ipython-input-192-aac76cf41d09>\u001b[0m in \u001b[0;36m<module>\u001b[0;34m()\u001b[0m\n\u001b[0;32m----> 1\u001b[0;31m \u001b[0;32mfor\u001b[0m \u001b[0mk\u001b[0m\u001b[0;34m,\u001b[0m \u001b[0mv\u001b[0m \u001b[0;32min\u001b[0m \u001b[0msorted\u001b[0m\u001b[0;34m(\u001b[0m\u001b[0md\u001b[0m\u001b[0;34m.\u001b[0m\u001b[0mitems\u001b[0m\u001b[0;34m(\u001b[0m\u001b[0;34m)\u001b[0m\u001b[0;34m)\u001b[0m\u001b[0;34m:\u001b[0m\u001b[0;34m\u001b[0m\u001b[0;34m\u001b[0m\u001b[0m\n\u001b[0m\u001b[1;32m      2\u001b[0m   \u001b[0mprint\u001b[0m\u001b[0;34m(\u001b[0m\u001b[0mk\u001b[0m\u001b[0;34m,\u001b[0m \u001b[0mv\u001b[0m\u001b[0;34m)\u001b[0m\u001b[0;34m\u001b[0m\u001b[0;34m\u001b[0m\u001b[0m\n",
            "\u001b[0;31mTypeError\u001b[0m: '<' not supported between instances of 'str' and 'int'"
          ]
        }
      ]
    },
    {
      "cell_type": "code",
      "metadata": {
        "colab": {
          "base_uri": "https://localhost:8080/"
        },
        "id": "jkA3Hffjei5J",
        "outputId": "47740616-f0c0-4e26-e648-0200b93ccec6"
      },
      "source": [
        "a = [1, 2, 3, 4]\n",
        "b = [1, 2, 3, 4, 5, 6]\n",
        "for i in zip(a * 2, b):\n",
        "  print(i)"
      ],
      "execution_count": null,
      "outputs": [
        {
          "output_type": "stream",
          "name": "stdout",
          "text": [
            "(1, 1)\n",
            "(2, 2)\n",
            "(3, 3)\n",
            "(4, 4)\n",
            "(1, 5)\n",
            "(2, 6)\n"
          ]
        }
      ]
    },
    {
      "cell_type": "code",
      "metadata": {
        "colab": {
          "base_uri": "https://localhost:8080/"
        },
        "id": "8ysUEq0Jey5z",
        "outputId": "984bae99-972a-48c1-cf28-0b1a807d4b65"
      },
      "source": [
        "l = [1, 2, 3, 4, 5, 5]\n",
        "for i in reversed(l):\n",
        "  print(i)"
      ],
      "execution_count": null,
      "outputs": [
        {
          "output_type": "stream",
          "name": "stdout",
          "text": [
            "5\n",
            "5\n",
            "4\n",
            "3\n",
            "2\n",
            "1\n"
          ]
        }
      ]
    },
    {
      "cell_type": "code",
      "metadata": {
        "colab": {
          "base_uri": "https://localhost:8080/"
        },
        "id": "njiKvAzGe5d-",
        "outputId": "ea1b2a73-58f0-4981-afd8-a0b85bac634b"
      },
      "source": [
        "for i in sorted(set(reversed(l))):\n",
        "  print(i)"
      ],
      "execution_count": null,
      "outputs": [
        {
          "output_type": "stream",
          "name": "stdout",
          "text": [
            "1\n",
            "2\n",
            "3\n",
            "4\n",
            "5\n"
          ]
        }
      ]
    },
    {
      "cell_type": "code",
      "metadata": {
        "id": "EEY2LuSQe9pT"
      },
      "source": [
        ""
      ],
      "execution_count": null,
      "outputs": []
    },
    {
      "cell_type": "markdown",
      "metadata": {
        "id": "pDl99gFKTQ_d"
      },
      "source": [
        "## 4. Функции"
      ]
    },
    {
      "cell_type": "code",
      "metadata": {
        "id": "oxhvu2ZCTQ_d"
      },
      "source": [
        "def plus(a, b):\n",
        "  return a + b\n",
        "print(plus)\n",
        "plus"
      ],
      "execution_count": null,
      "outputs": []
    },
    {
      "cell_type": "code",
      "metadata": {
        "id": "e8g3hr4Ffj3x"
      },
      "source": [
        "locals()\n",
        "globals()"
      ],
      "execution_count": null,
      "outputs": []
    },
    {
      "cell_type": "markdown",
      "metadata": {
        "id": "rUswkPCrgS9H"
      },
      "source": [
        "**Замыкание:**"
      ]
    },
    {
      "cell_type": "code",
      "metadata": {
        "id": "5IsN8YS1fvjz"
      },
      "source": [
        "def make_multiplier_of(n):\n",
        "    def multiplier(x):\n",
        "        return x * n\n",
        "    return multiplier"
      ],
      "execution_count": null,
      "outputs": []
    },
    {
      "cell_type": "code",
      "metadata": {
        "id": "yR9Iqzg0gVoc"
      },
      "source": [
        "times3 = make_multiplier_of(3):\n",
        "print(times3(10))"
      ],
      "execution_count": null,
      "outputs": []
    },
    {
      "cell_type": "code",
      "metadata": {
        "id": "rM70O64jgcSc"
      },
      "source": [
        "times7 = make_multiplier_of(7)\n",
        "print(times7(5))"
      ],
      "execution_count": null,
      "outputs": []
    },
    {
      "cell_type": "markdown",
      "metadata": {
        "id": "9zTUJYrKgj4K"
      },
      "source": [
        "**Декораторы:**"
      ]
    },
    {
      "cell_type": "code",
      "metadata": {
        "id": "OsDGSgXigmNh"
      },
      "source": [
        "import math\n",
        "\n",
        "def cache(function):\n",
        "    CACHE = {}\n",
        "    def decorator(value):\n",
        "        try: return CACHE[value]\n",
        "        except:\n",
        "            result = function(value)\n",
        "            CACHE[value] = result\n",
        "            return result\n",
        "    return decorator\n",
        "\n",
        "@cache\n",
        "def is_prime(n):\n",
        "    if n < 2: return False\n",
        "    if n % 2 == 0: return n == 2\n",
        "    limit = int(math.sqrt(n))\n",
        "    for d in range(3, limit+1, 2):\n",
        "        if n % d == 0: return False\n",
        "    return True\n",
        "\n",
        "print([n for n in range(20+1) if is_prime(n)])\n",
        "print([n for n in range(20+1) if is_prime(n)])\n",
        "print([n for n in range(20+1) if is_prime(n)])"
      ],
      "execution_count": null,
      "outputs": []
    }
  ]
}