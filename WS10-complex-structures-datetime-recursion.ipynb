{
  "cells": [
    {
      "cell_type": "markdown",
      "metadata": {
        "collapsed": false,
        "id": "_P2FObcynFWA"
      },
      "source": [
        "# Collections"
      ]
    },
    {
      "cell_type": "code",
      "execution_count": 2,
      "metadata": {
        "colab": {
          "base_uri": "https://localhost:8080/"
        },
        "id": "FypKpwv4vmSH",
        "outputId": "e89c51cd-6c26-4f6e-daa2-7929f5ffb71b"
      },
      "outputs": [
        {
          "name": "stdout",
          "output_type": "stream",
          "text": [
            "Name of module? collections\n",
            "This module implements specialized container datatypes providing\n",
            "alternatives to Python's general purpose built-in containers, dict,\n",
            "list, set, and tuple.\n",
            "\n",
            "* namedtuple   factory function for creating tuple subclasses with named fields\n",
            "* deque        list-like container with fast appends and pops on either end\n",
            "* ChainMap     dict-like class for creating a single view of multiple mappings\n",
            "* Counter      dict subclass for counting hashable objects\n",
            "* OrderedDict  dict subclass that remembers the order entries were added\n",
            "* defaultdict  dict subclass that calls a factory function to supply missing values\n",
            "* UserDict     wrapper around dictionary objects for easier dict subclassing\n",
            "* UserList     wrapper around list objects for easier list subclassing\n",
            "* UserString   wrapper around string objects for easier string subclassing\n",
            "\n",
            "\n"
          ]
        },
        {
          "data": {
            "text/plain": [
              "['ChainMap',\n",
              " 'Counter',\n",
              " 'OrderedDict',\n",
              " 'UserDict',\n",
              " 'UserList',\n",
              " 'UserString',\n",
              " '_Link',\n",
              " '_OrderedDictItemsView',\n",
              " '_OrderedDictKeysView',\n",
              " '_OrderedDictValuesView',\n",
              " '__all__',\n",
              " '__builtins__',\n",
              " '__cached__',\n",
              " '__doc__',\n",
              " '__file__',\n",
              " '__getattr__',\n",
              " '__loader__',\n",
              " '__name__',\n",
              " '__package__',\n",
              " '__path__',\n",
              " '__spec__',\n",
              " '_chain',\n",
              " '_collections_abc',\n",
              " '_count_elements',\n",
              " '_eq',\n",
              " '_heapq',\n",
              " '_iskeyword',\n",
              " '_itemgetter',\n",
              " '_proxy',\n",
              " '_recursive_repr',\n",
              " '_repeat',\n",
              " '_starmap',\n",
              " '_sys',\n",
              " '_tuplegetter',\n",
              " 'abc',\n",
              " 'defaultdict',\n",
              " 'deque',\n",
              " 'namedtuple']"
            ]
          },
          "execution_count": 2,
          "metadata": {},
          "output_type": "execute_result"
        }
      ],
      "source": [
        "import importlib\n",
        "\n",
        "module_name = input(\"Name of module? \")\n",
        "module = importlib.import_module(module_name)\n",
        "print(module.__doc__)\n",
        "dir(module)"
      ]
    },
    {
      "cell_type": "code",
      "execution_count": 3,
      "metadata": {
        "colab": {
          "base_uri": "https://localhost:8080/"
        },
        "id": "MQb2Iyp6vocx",
        "outputId": "2a56ff61-6d63-48bd-d47e-b2e74cb015af"
      },
      "outputs": [
        {
          "data": {
            "text/plain": [
              "Counter({'a': 2, 'b': 7, 's': 6, 'h': 3})"
            ]
          },
          "execution_count": 3,
          "metadata": {},
          "output_type": "execute_result"
        }
      ],
      "source": [
        "module.Counter('aabsbsbsbhshhbbsbs')"
      ]
    },
    {
      "cell_type": "code",
      "execution_count": 4,
      "metadata": {
        "colab": {
          "base_uri": "https://localhost:8080/"
        },
        "id": "46C0OULDnFWC",
        "outputId": "dddf3032-c509-426d-f836-e480ee59f401",
        "pycharm": {
          "name": "#%%\n"
        }
      },
      "outputs": [
        {
          "data": {
            "text/plain": [
              "Counter({'a': 2, 'b': 7, 's': 6, 'h': 3})"
            ]
          },
          "execution_count": 4,
          "metadata": {},
          "output_type": "execute_result"
        }
      ],
      "source": [
        "from collections import Counter\n",
        "Counter('aabsbsbsbhshhbbsbs')"
      ]
    },
    {
      "cell_type": "code",
      "execution_count": 6,
      "metadata": {
        "colab": {
          "base_uri": "https://localhost:8080/"
        },
        "id": "KynJRK-knFWD",
        "outputId": "6ac248e5-54ae-49ae-8fc3-1152c216810e",
        "pycharm": {
          "name": "#%%\n"
        }
      },
      "outputs": [
        {
          "name": "stdout",
          "output_type": "stream",
          "text": [
            "['How', 'many', 'times', 'does', 'each', 'word', 'show', 'up', 'in', 'this', 'sentence', 'word', 'times', 'each', 'each', 'word']\n"
          ]
        },
        {
          "data": {
            "text/plain": [
              "Counter({'How': 1,\n",
              "         'many': 1,\n",
              "         'times': 2,\n",
              "         'does': 1,\n",
              "         'each': 3,\n",
              "         'word': 3,\n",
              "         'show': 1,\n",
              "         'up': 1,\n",
              "         'in': 1,\n",
              "         'this': 1,\n",
              "         'sentence': 1})"
            ]
          },
          "execution_count": 6,
          "metadata": {},
          "output_type": "execute_result"
        }
      ],
      "source": [
        "s = 'How many times does each word show up in this sentence word times each each word'\n",
        "words = s.split()\n",
        "print(words)\n",
        "Counter(words)"
      ]
    },
    {
      "cell_type": "code",
      "execution_count": 9,
      "metadata": {
        "colab": {
          "base_uri": "https://localhost:8080/"
        },
        "id": "7rwJAuavnFWE",
        "outputId": "a07ac6ee-9f50-4e83-a922-4532d7fb2889",
        "pycharm": {
          "name": "#%%\n"
        }
      },
      "outputs": [
        {
          "data": {
            "text/plain": [
              "<object at 0x7f2210d647f0>"
            ]
          },
          "execution_count": 9,
          "metadata": {},
          "output_type": "execute_result"
        }
      ],
      "source": [
        "from collections import defaultdict\n",
        "d = defaultdict(object)\n",
        "d['key']\n",
        "d['newkey']"
      ]
    },
    {
      "cell_type": "code",
      "execution_count": 8,
      "metadata": {
        "colab": {
          "base_uri": "https://localhost:8080/"
        },
        "id": "uwb4weM_QCHV",
        "outputId": "3c33c327-6892-4355-dff6-3e81f907c650"
      },
      "outputs": [
        {
          "data": {
            "text/plain": [
              "10"
            ]
          },
          "execution_count": 8,
          "metadata": {},
          "output_type": "execute_result"
        }
      ],
      "source": [
        "d['key'] = 10\n",
        "d['key']"
      ]
    },
    {
      "cell_type": "code",
      "execution_count": 21,
      "metadata": {
        "colab": {
          "base_uri": "https://localhost:8080/"
        },
        "id": "3LPL9hfrnFWE",
        "outputId": "76a0cfd1-c6f7-46d1-a1bb-73840695610e",
        "pycharm": {
          "name": "#%%\n"
        }
      },
      "outputs": [
        {
          "data": {
            "text/plain": [
              "10"
            ]
          },
          "execution_count": 21,
          "metadata": {},
          "output_type": "execute_result"
        }
      ],
      "source": [
        "d = defaultdict(lambda: 10)\n",
        "d['key']\n",
        "d['newkey']"
      ]
    },
    {
      "cell_type": "code",
      "execution_count": 22,
      "metadata": {
        "colab": {
          "base_uri": "https://localhost:8080/"
        },
        "id": "W1AgjLwBnFWE",
        "outputId": "f28a6bcf-4e2c-4513-9f5e-32bca1f70a8a",
        "pycharm": {
          "name": "#%%\n"
        }
      },
      "outputs": [
        {
          "data": {
            "text/plain": [
              "[]"
            ]
          },
          "execution_count": 22,
          "metadata": {},
          "output_type": "execute_result"
        }
      ],
      "source": [
        "d = defaultdict(list)\n",
        "d['key']"
      ]
    },
    {
      "cell_type": "code",
      "execution_count": 23,
      "metadata": {
        "colab": {
          "base_uri": "https://localhost:8080/"
        },
        "id": "YisvZEjgnFWF",
        "outputId": "0e17be53-2b08-4b05-df10-96e7e1c54c4e",
        "pycharm": {
          "name": "#%%\n"
        }
      },
      "outputs": [
        {
          "data": {
            "text/plain": [
              "[]"
            ]
          },
          "execution_count": 23,
          "metadata": {},
          "output_type": "execute_result"
        }
      ],
      "source": [
        "d = defaultdict(lambda: defaultdict(list))\n",
        "d['key']['key1']"
      ]
    },
    {
      "cell_type": "markdown",
      "metadata": {
        "collapsed": false,
        "id": "8N_CyxnhnFWF"
      },
      "source": [
        "## Common patterns when using the Counter() object"
      ]
    },
    {
      "cell_type": "code",
      "execution_count": 24,
      "metadata": {
        "colab": {
          "base_uri": "https://localhost:8080/",
          "height": 234
        },
        "id": "Vdg5VqPdnFWG",
        "outputId": "475d6eab-cac7-436e-d751-7c5eb96433da",
        "pycharm": {
          "name": "#%%\n"
        }
      },
      "outputs": [
        {
          "ename": "NameError",
          "evalue": "ignored",
          "output_type": "error",
          "traceback": [
            "\u001b[0;31m---------------------------------------------------------------------------\u001b[0m",
            "\u001b[0;31mNameError\u001b[0m                                 Traceback (most recent call last)",
            "\u001b[0;32m/tmp/ipykernel_217/2858782092.py\u001b[0m in \u001b[0;36m<module>\u001b[0;34m\u001b[0m\n\u001b[0;32m----> 1\u001b[0;31m \u001b[0msum\u001b[0m\u001b[0;34m(\u001b[0m\u001b[0mc\u001b[0m\u001b[0;34m.\u001b[0m\u001b[0mvalues\u001b[0m\u001b[0;34m(\u001b[0m\u001b[0;34m)\u001b[0m\u001b[0;34m)\u001b[0m                 \u001b[0;31m# total of all counts\u001b[0m\u001b[0;34m\u001b[0m\u001b[0;34m\u001b[0m\u001b[0m\n\u001b[0m\u001b[1;32m      2\u001b[0m \u001b[0mc\u001b[0m\u001b[0;34m.\u001b[0m\u001b[0mclear\u001b[0m\u001b[0;34m(\u001b[0m\u001b[0;34m)\u001b[0m                       \u001b[0;31m# reset all counts\u001b[0m\u001b[0;34m\u001b[0m\u001b[0;34m\u001b[0m\u001b[0m\n\u001b[1;32m      3\u001b[0m \u001b[0mlist\u001b[0m\u001b[0;34m(\u001b[0m\u001b[0mc\u001b[0m\u001b[0;34m)\u001b[0m                         \u001b[0;31m# list unique elements\u001b[0m\u001b[0;34m\u001b[0m\u001b[0;34m\u001b[0m\u001b[0m\n\u001b[1;32m      4\u001b[0m \u001b[0mset\u001b[0m\u001b[0;34m(\u001b[0m\u001b[0mc\u001b[0m\u001b[0;34m)\u001b[0m                          \u001b[0;31m# convert to a set\u001b[0m\u001b[0;34m\u001b[0m\u001b[0;34m\u001b[0m\u001b[0m\n\u001b[1;32m      5\u001b[0m \u001b[0mdict\u001b[0m\u001b[0;34m(\u001b[0m\u001b[0mc\u001b[0m\u001b[0;34m)\u001b[0m                         \u001b[0;31m# convert to a regular dictionary\u001b[0m\u001b[0;34m\u001b[0m\u001b[0;34m\u001b[0m\u001b[0m\n",
            "\u001b[0;31mNameError\u001b[0m: name 'c' is not defined"
          ]
        }
      ],
      "source": [
        "sum(c.values())                 # total of all counts\n",
        "c.clear()                       # reset all counts\n",
        "list(c)                         # list unique elements\n",
        "set(c)                          # convert to a set\n",
        "dict(c)                         # convert to a regular dictionary\n",
        "c.items()                       # convert to a list of (elem, cnt) pairs\n",
        "Counter(dict(list_of_pairs))    # convert from a list of (elem, cnt) pairs\n",
        "c.most_common()[:-n-1:-1]       # n least common elements\n",
        "c += Counter()                  # remove zero and negative counts"
      ]
    },
    {
      "cell_type": "markdown",
      "metadata": {
        "id": "li9S1637nFWG"
      },
      "source": [
        "## OrderedDict"
      ]
    },
    {
      "cell_type": "code",
      "execution_count": 37,
      "metadata": {
        "colab": {
          "base_uri": "https://localhost:8080/"
        },
        "id": "f-CydvhGnFWH",
        "outputId": "2e19e5f6-e44d-463b-fde3-51f83ba5f7b1",
        "pycharm": {
          "name": "#%%\n"
        }
      },
      "outputs": [
        {
          "name": "stdout",
          "output_type": "stream",
          "text": [
            "Normal dictionary:\n",
            "d D\n",
            "e E\n",
            "a A\n",
            "b B\n",
            "c C\n"
          ]
        }
      ],
      "source": [
        "print('Normal dictionary:')\n",
        "\n",
        "d = {}\n",
        "\n",
        "d['d'] = 'D'\n",
        "d['e'] = 'E'\n",
        "d['a'] = 'A'\n",
        "d['b'] = 'B'\n",
        "d['c'] = 'C'\n",
        "\n",
        "for k, v in d.items():\n",
        "    print(k, v)"
      ]
    },
    {
      "cell_type": "markdown",
      "metadata": {
        "collapsed": false,
        "id": "mV2-bMZbnFWH"
      },
      "source": [
        "An Ordered Dictionary:"
      ]
    },
    {
      "cell_type": "code",
      "execution_count": 34,
      "metadata": {
        "colab": {
          "base_uri": "https://localhost:8080/"
        },
        "id": "tfR9C6ronFWH",
        "outputId": "52e7b72b-98e4-4bf5-e287-f92d4fe2c76b",
        "pycharm": {
          "name": "#%%\n"
        }
      },
      "outputs": [
        {
          "name": "stdout",
          "output_type": "stream",
          "text": [
            "OrderedDict:\n",
            "a A\n",
            "b B\n",
            "c C\n",
            "d D\n",
            "e E\n"
          ]
        }
      ],
      "source": [
        "import collections\n",
        "\n",
        "print('OrderedDict:')\n",
        "\n",
        "d = collections.OrderedDict()\n",
        "\n",
        "d['c'] = 'C'\n",
        "d['e'] = 'E'\n",
        "d['a'] = 'A'\n",
        "d['b'] = 'B'\n",
        "d['d'] = 'D'\n",
        "\n",
        "for k, v in sorted(d.items()):\n",
        "    print(k, v)"
      ]
    },
    {
      "cell_type": "markdown",
      "metadata": {
        "collapsed": false,
        "id": "BIpZRMtrnFWI"
      },
      "source": [
        "## Equality with an Ordered Dictionary\n",
        "A regular dict looks at its contents when testing for equality. An OrderedDict also considers the order the items were added.\n",
        "\n",
        "A normal Dictionary:"
      ]
    },
    {
      "cell_type": "code",
      "execution_count": 35,
      "metadata": {
        "colab": {
          "base_uri": "https://localhost:8080/"
        },
        "id": "5hZkmABsnFWI",
        "outputId": "4d5a2c46-1376-483e-fd73-a976c77fbfe5",
        "pycharm": {
          "name": "#%%\n"
        }
      },
      "outputs": [
        {
          "name": "stdout",
          "output_type": "stream",
          "text": [
            "Dictionaries are equal? \n",
            "True\n"
          ]
        }
      ],
      "source": [
        "print('Dictionaries are equal? ')\n",
        "\n",
        "d1 = {}\n",
        "d1['a'] = 'A'\n",
        "d1['b'] = 'B'\n",
        "\n",
        "d2 = {}\n",
        "d2['b'] = 'B'\n",
        "d2['a'] = 'A'\n",
        "\n",
        "print(d1 == d2)"
      ]
    },
    {
      "cell_type": "markdown",
      "metadata": {
        "collapsed": false,
        "id": "RudhvunznFWI"
      },
      "source": [
        "An Ordered Dictionary:"
      ]
    },
    {
      "cell_type": "code",
      "execution_count": 36,
      "metadata": {
        "colab": {
          "base_uri": "https://localhost:8080/"
        },
        "id": "TFcDVniWnFWI",
        "outputId": "1b090a0f-a839-430a-edf8-33e81041e393",
        "pycharm": {
          "name": "#%%\n"
        }
      },
      "outputs": [
        {
          "name": "stdout",
          "output_type": "stream",
          "text": [
            "Dictionaries are equal? \n",
            "False\n"
          ]
        }
      ],
      "source": [
        "print('Dictionaries are equal? ')\n",
        "\n",
        "d1 = collections.OrderedDict()\n",
        "d1['a'] = 'A'\n",
        "d1['b'] = 'B'\n",
        "\n",
        "\n",
        "d2 = collections.OrderedDict()\n",
        "\n",
        "d2['b'] = 'B'\n",
        "d2['a'] = 'A'\n",
        "\n",
        "print(d1 == d2)"
      ]
    },
    {
      "cell_type": "markdown",
      "metadata": {
        "collapsed": false,
        "id": "-Tdy1TnNnFWI"
      },
      "source": [
        "## namedtuple"
      ]
    },
    {
      "cell_type": "code",
      "execution_count": 38,
      "metadata": {
        "id": "Wd5DsNzwnFWI",
        "pycharm": {
          "name": "#%%\n"
        }
      },
      "outputs": [],
      "source": [
        "t = (12,13,14)"
      ]
    },
    {
      "cell_type": "code",
      "execution_count": 39,
      "metadata": {
        "colab": {
          "base_uri": "https://localhost:8080/"
        },
        "id": "bIsEShxUnFWJ",
        "outputId": "e303f8f7-182b-4944-cdee-9be901ec1880",
        "pycharm": {
          "name": "#%%\n"
        }
      },
      "outputs": [
        {
          "data": {
            "text/plain": [
              "12"
            ]
          },
          "execution_count": 39,
          "metadata": {},
          "output_type": "execute_result"
        }
      ],
      "source": [
        "t[0]"
      ]
    },
    {
      "cell_type": "code",
      "execution_count": 40,
      "metadata": {
        "colab": {
          "base_uri": "https://localhost:8080/",
          "height": 165
        },
        "id": "-KhwhljhSEWB",
        "outputId": "60bfb43d-e486-4111-bc86-069e2a7e9375"
      },
      "outputs": [
        {
          "ename": "TypeError",
          "evalue": "ignored",
          "output_type": "error",
          "traceback": [
            "\u001b[0;31m---------------------------------------------------------------------------\u001b[0m",
            "\u001b[0;31mTypeError\u001b[0m                                 Traceback (most recent call last)",
            "\u001b[0;32m/tmp/ipykernel_217/1253691622.py\u001b[0m in \u001b[0;36m<module>\u001b[0;34m\u001b[0m\n\u001b[0;32m----> 1\u001b[0;31m \u001b[0mt\u001b[0m\u001b[0;34m[\u001b[0m\u001b[0;36m0\u001b[0m\u001b[0;34m]\u001b[0m \u001b[0;34m=\u001b[0m \u001b[0;36m1\u001b[0m\u001b[0;34m\u001b[0m\u001b[0;34m\u001b[0m\u001b[0m\n\u001b[0m",
            "\u001b[0;31mTypeError\u001b[0m: 'tuple' object does not support item assignment"
          ]
        }
      ],
      "source": [
        "t[0] = 1"
      ]
    },
    {
      "cell_type": "code",
      "execution_count": 42,
      "metadata": {
        "id": "ucAVdB0XnFWJ",
        "pycharm": {
          "name": "#%%\n"
        }
      },
      "outputs": [],
      "source": [
        "from collections import namedtuple"
      ]
    },
    {
      "cell_type": "code",
      "execution_count": 44,
      "metadata": {
        "id": "qSn0LBtpnFWJ",
        "pycharm": {
          "name": "#%%\n"
        }
      },
      "outputs": [],
      "source": [
        "Dog = namedtuple('Dog', 'age breed name')\n",
        "\n",
        "sam = Dog(age=2, breed='Lab', name='Sammy')\n",
        "\n",
        "frank = Dog(age=2, breed='Shepard', name=\"Frankie\")"
      ]
    },
    {
      "cell_type": "code",
      "execution_count": 46,
      "metadata": {
        "colab": {
          "base_uri": "https://localhost:8080/"
        },
        "id": "XIySFMtCnFWJ",
        "outputId": "fb46eac9-d63e-4006-c4f2-3dffed4f8ff4",
        "pycharm": {
          "name": "#%%\n"
        }
      },
      "outputs": [
        {
          "data": {
            "text/plain": [
              "Dog(age=2, breed='Lab', name='Sammy')"
            ]
          },
          "execution_count": 46,
          "metadata": {},
          "output_type": "execute_result"
        }
      ],
      "source": [
        "sam"
      ]
    },
    {
      "cell_type": "code",
      "execution_count": 47,
      "metadata": {
        "colab": {
          "base_uri": "https://localhost:8080/"
        },
        "id": "hqHK4krqnFWK",
        "outputId": "25e734cf-c320-4092-e7de-a22479020d92",
        "pycharm": {
          "name": "#%%\n"
        }
      },
      "outputs": [
        {
          "data": {
            "text/plain": [
              "2"
            ]
          },
          "execution_count": 47,
          "metadata": {},
          "output_type": "execute_result"
        }
      ],
      "source": [
        "sam.age"
      ]
    },
    {
      "cell_type": "code",
      "execution_count": 48,
      "metadata": {
        "colab": {
          "base_uri": "https://localhost:8080/"
        },
        "id": "85cz_jXqnFWK",
        "outputId": "54de0a39-459e-4b23-97f6-c053e16c0246",
        "pycharm": {
          "name": "#%%\n"
        }
      },
      "outputs": [
        {
          "data": {
            "text/plain": [
              "'Lab'"
            ]
          },
          "execution_count": 48,
          "metadata": {},
          "output_type": "execute_result"
        }
      ],
      "source": [
        "sam.breed"
      ]
    },
    {
      "cell_type": "code",
      "execution_count": 49,
      "metadata": {
        "colab": {
          "base_uri": "https://localhost:8080/"
        },
        "id": "faySaGqpnFWK",
        "outputId": "afeeda8a-e41e-45ab-b9cd-60a00dc25448",
        "pycharm": {
          "name": "#%%\n"
        }
      },
      "outputs": [
        {
          "data": {
            "text/plain": [
              "2"
            ]
          },
          "execution_count": 49,
          "metadata": {},
          "output_type": "execute_result"
        }
      ],
      "source": [
        "sam[0]"
      ]
    },
    {
      "cell_type": "markdown",
      "metadata": {
        "id": "3bQmN4bunFWQ"
      },
      "source": [
        "# Recursion"
      ]
    },
    {
      "cell_type": "code",
      "execution_count": 52,
      "metadata": {
        "id": "J9x-xw2cnFWQ"
      },
      "outputs": [],
      "source": [
        "def fib(n):\n",
        "    if n < 2:\n",
        "        return n\n",
        "    else:\n",
        "        return fib(n - 2) + fib(n - 1)"
      ]
    },
    {
      "cell_type": "code",
      "execution_count": 53,
      "metadata": {
        "colab": {
          "base_uri": "https://localhost:8080/"
        },
        "id": "7SB0-MfDnFWQ",
        "outputId": "bbf8f6e8-d371-48c3-d4d0-5a5686e30f86"
      },
      "outputs": [
        {
          "data": {
            "text/plain": [
              "[0, 1, 1, 2, 3, 5, 8, 13, 21, 34]"
            ]
          },
          "execution_count": 53,
          "metadata": {},
          "output_type": "execute_result"
        }
      ],
      "source": [
        "[fib(x) for x in range(10)]"
      ]
    },
    {
      "cell_type": "code",
      "execution_count": 54,
      "metadata": {
        "colab": {
          "base_uri": "https://localhost:8080/",
          "height": 310
        },
        "id": "CrkXRk9nnFWQ",
        "outputId": "d97c59a9-1de5-4a7d-ff71-f2589a4741ed"
      },
      "outputs": [
        {
          "ename": "RecursionError",
          "evalue": "ignored",
          "output_type": "error",
          "traceback": [
            "\u001b[0;31m---------------------------------------------------------------------------\u001b[0m",
            "\u001b[0;31mRecursionError\u001b[0m                            Traceback (most recent call last)",
            "\u001b[0;32m/tmp/ipykernel_217/22374321.py\u001b[0m in \u001b[0;36m<module>\u001b[0;34m\u001b[0m\n\u001b[0;32m----> 1\u001b[0;31m \u001b[0mprint\u001b[0m\u001b[0;34m(\u001b[0m\u001b[0mfib\u001b[0m\u001b[0;34m(\u001b[0m\u001b[0;36m10000\u001b[0m\u001b[0;34m)\u001b[0m\u001b[0;34m)\u001b[0m\u001b[0;34m\u001b[0m\u001b[0;34m\u001b[0m\u001b[0m\n\u001b[0m",
            "\u001b[0;32m/tmp/ipykernel_217/1839287027.py\u001b[0m in \u001b[0;36mfib\u001b[0;34m(n)\u001b[0m\n\u001b[1;32m      3\u001b[0m         \u001b[0;32mreturn\u001b[0m \u001b[0mn\u001b[0m\u001b[0;34m\u001b[0m\u001b[0;34m\u001b[0m\u001b[0m\n\u001b[1;32m      4\u001b[0m     \u001b[0;32melse\u001b[0m\u001b[0;34m:\u001b[0m\u001b[0;34m\u001b[0m\u001b[0;34m\u001b[0m\u001b[0m\n\u001b[0;32m----> 5\u001b[0;31m         \u001b[0;32mreturn\u001b[0m \u001b[0mfib\u001b[0m\u001b[0;34m(\u001b[0m\u001b[0mn\u001b[0m \u001b[0;34m-\u001b[0m \u001b[0;36m2\u001b[0m\u001b[0;34m)\u001b[0m \u001b[0;34m+\u001b[0m \u001b[0mfib\u001b[0m\u001b[0;34m(\u001b[0m\u001b[0mn\u001b[0m \u001b[0;34m-\u001b[0m \u001b[0;36m1\u001b[0m\u001b[0;34m)\u001b[0m\u001b[0;34m\u001b[0m\u001b[0;34m\u001b[0m\u001b[0m\n\u001b[0m",
            "... last 1 frames repeated, from the frame below ...\n",
            "\u001b[0;32m/tmp/ipykernel_217/1839287027.py\u001b[0m in \u001b[0;36mfib\u001b[0;34m(n)\u001b[0m\n\u001b[1;32m      3\u001b[0m         \u001b[0;32mreturn\u001b[0m \u001b[0mn\u001b[0m\u001b[0;34m\u001b[0m\u001b[0;34m\u001b[0m\u001b[0m\n\u001b[1;32m      4\u001b[0m     \u001b[0;32melse\u001b[0m\u001b[0;34m:\u001b[0m\u001b[0;34m\u001b[0m\u001b[0;34m\u001b[0m\u001b[0m\n\u001b[0;32m----> 5\u001b[0;31m         \u001b[0;32mreturn\u001b[0m \u001b[0mfib\u001b[0m\u001b[0;34m(\u001b[0m\u001b[0mn\u001b[0m \u001b[0;34m-\u001b[0m \u001b[0;36m2\u001b[0m\u001b[0;34m)\u001b[0m \u001b[0;34m+\u001b[0m \u001b[0mfib\u001b[0m\u001b[0;34m(\u001b[0m\u001b[0mn\u001b[0m \u001b[0;34m-\u001b[0m \u001b[0;36m1\u001b[0m\u001b[0;34m)\u001b[0m\u001b[0;34m\u001b[0m\u001b[0;34m\u001b[0m\u001b[0m\n\u001b[0m",
            "\u001b[0;31mRecursionError\u001b[0m: maximum recursion depth exceeded in comparison"
          ]
        }
      ],
      "source": [
        "print(fib(10000))"
      ]
    },
    {
      "cell_type": "code",
      "execution_count": 57,
      "metadata": {
        "id": "kExZlJnWuvwR"
      },
      "outputs": [],
      "source": [
        "def power(N, P):\n",
        "    if P == 0:\n",
        "        return 1\n",
        "    elif P == 1:\n",
        "        return N\n",
        "    else:\n",
        "        return N * power(N, P - 1)"
      ]
    },
    {
      "cell_type": "code",
      "execution_count": 58,
      "metadata": {
        "colab": {
          "base_uri": "https://localhost:8080/"
        },
        "id": "q90e_HW4u2ol",
        "outputId": "361cf9d8-89df-45a1-f958-ec7fe88c93b2"
      },
      "outputs": [
        {
          "data": {
            "text/plain": [
              "27"
            ]
          },
          "execution_count": 58,
          "metadata": {},
          "output_type": "execute_result"
        }
      ],
      "source": [
        "power(3, 3)"
      ]
    },
    {
      "cell_type": "code",
      "execution_count": 59,
      "metadata": {
        "colab": {
          "base_uri": "https://localhost:8080/",
          "height": 310
        },
        "id": "-oinTKcpu5FH",
        "outputId": "8a7178cf-fc34-4a29-eb1e-52c7b91a8917"
      },
      "outputs": [
        {
          "ename": "RecursionError",
          "evalue": "ignored",
          "output_type": "error",
          "traceback": [
            "\u001b[0;31m---------------------------------------------------------------------------\u001b[0m",
            "\u001b[0;31mRecursionError\u001b[0m                            Traceback (most recent call last)",
            "\u001b[0;32m/tmp/ipykernel_217/711175412.py\u001b[0m in \u001b[0;36m<module>\u001b[0;34m\u001b[0m\n\u001b[0;32m----> 1\u001b[0;31m \u001b[0mpower\u001b[0m\u001b[0;34m(\u001b[0m\u001b[0;36m3\u001b[0m\u001b[0;34m,\u001b[0m \u001b[0;36m4000\u001b[0m\u001b[0;34m)\u001b[0m\u001b[0;34m\u001b[0m\u001b[0;34m\u001b[0m\u001b[0m\n\u001b[0m",
            "\u001b[0;32m/tmp/ipykernel_217/534950361.py\u001b[0m in \u001b[0;36mpower\u001b[0;34m(N, P)\u001b[0m\n\u001b[1;32m      5\u001b[0m         \u001b[0;32mreturn\u001b[0m \u001b[0mN\u001b[0m\u001b[0;34m\u001b[0m\u001b[0;34m\u001b[0m\u001b[0m\n\u001b[1;32m      6\u001b[0m     \u001b[0;32melse\u001b[0m\u001b[0;34m:\u001b[0m\u001b[0;34m\u001b[0m\u001b[0;34m\u001b[0m\u001b[0m\n\u001b[0;32m----> 7\u001b[0;31m         \u001b[0;32mreturn\u001b[0m \u001b[0mN\u001b[0m \u001b[0;34m*\u001b[0m \u001b[0mpower\u001b[0m\u001b[0;34m(\u001b[0m\u001b[0mN\u001b[0m\u001b[0;34m,\u001b[0m \u001b[0mP\u001b[0m \u001b[0;34m-\u001b[0m \u001b[0;36m1\u001b[0m\u001b[0;34m)\u001b[0m\u001b[0;34m\u001b[0m\u001b[0;34m\u001b[0m\u001b[0m\n\u001b[0m",
            "... last 1 frames repeated, from the frame below ...\n",
            "\u001b[0;32m/tmp/ipykernel_217/534950361.py\u001b[0m in \u001b[0;36mpower\u001b[0;34m(N, P)\u001b[0m\n\u001b[1;32m      5\u001b[0m         \u001b[0;32mreturn\u001b[0m \u001b[0mN\u001b[0m\u001b[0;34m\u001b[0m\u001b[0;34m\u001b[0m\u001b[0m\n\u001b[1;32m      6\u001b[0m     \u001b[0;32melse\u001b[0m\u001b[0;34m:\u001b[0m\u001b[0;34m\u001b[0m\u001b[0;34m\u001b[0m\u001b[0m\n\u001b[0;32m----> 7\u001b[0;31m         \u001b[0;32mreturn\u001b[0m \u001b[0mN\u001b[0m \u001b[0;34m*\u001b[0m \u001b[0mpower\u001b[0m\u001b[0;34m(\u001b[0m\u001b[0mN\u001b[0m\u001b[0;34m,\u001b[0m \u001b[0mP\u001b[0m \u001b[0;34m-\u001b[0m \u001b[0;36m1\u001b[0m\u001b[0;34m)\u001b[0m\u001b[0;34m\u001b[0m\u001b[0;34m\u001b[0m\u001b[0m\n\u001b[0m",
            "\u001b[0;31mRecursionError\u001b[0m: maximum recursion depth exceeded in comparison"
          ]
        }
      ],
      "source": [
        "power(3, 4000)"
      ]
    },
    {
      "cell_type": "code",
      "execution_count": 64,
      "metadata": {
        "colab": {
          "base_uri": "https://localhost:8080/"
        },
        "id": "CIA3ADpznFWQ",
        "outputId": "3a6f2974-04c8-4d37-ef61-653fe6883880"
      },
      "outputs": [
        {
          "name": "stdout",
          "output_type": "stream",
          "text": [
            "4027\n"
          ]
        }
      ],
      "source": [
        "import sys\n",
        "print(sys.getrecursionlimit())\n",
        "sys.setrecursionlimit(4027)"
      ]
    },
    {
      "cell_type": "code",
      "execution_count": 65,
      "metadata": {
        "colab": {
          "base_uri": "https://localhost:8080/",
          "height": 310
        },
        "id": "QBvg5Hfvoiih",
        "outputId": "b4df1bd3-62ba-4b5e-a174-7045624e2709"
      },
      "outputs": [
        {
          "ename": "RecursionError",
          "evalue": "ignored",
          "output_type": "error",
          "traceback": [
            "\u001b[0;31m---------------------------------------------------------------------------\u001b[0m",
            "\u001b[0;31mRecursionError\u001b[0m                            Traceback (most recent call last)",
            "\u001b[0;32m/tmp/ipykernel_217/711175412.py\u001b[0m in \u001b[0;36m<module>\u001b[0;34m\u001b[0m\n\u001b[0;32m----> 1\u001b[0;31m \u001b[0mpower\u001b[0m\u001b[0;34m(\u001b[0m\u001b[0;36m3\u001b[0m\u001b[0;34m,\u001b[0m \u001b[0;36m4000\u001b[0m\u001b[0;34m)\u001b[0m\u001b[0;34m\u001b[0m\u001b[0;34m\u001b[0m\u001b[0m\n\u001b[0m",
            "\u001b[0;32m/tmp/ipykernel_217/534950361.py\u001b[0m in \u001b[0;36mpower\u001b[0;34m(N, P)\u001b[0m\n\u001b[1;32m      5\u001b[0m         \u001b[0;32mreturn\u001b[0m \u001b[0mN\u001b[0m\u001b[0;34m\u001b[0m\u001b[0;34m\u001b[0m\u001b[0m\n\u001b[1;32m      6\u001b[0m     \u001b[0;32melse\u001b[0m\u001b[0;34m:\u001b[0m\u001b[0;34m\u001b[0m\u001b[0;34m\u001b[0m\u001b[0m\n\u001b[0;32m----> 7\u001b[0;31m         \u001b[0;32mreturn\u001b[0m \u001b[0mN\u001b[0m \u001b[0;34m*\u001b[0m \u001b[0mpower\u001b[0m\u001b[0;34m(\u001b[0m\u001b[0mN\u001b[0m\u001b[0;34m,\u001b[0m \u001b[0mP\u001b[0m \u001b[0;34m-\u001b[0m \u001b[0;36m1\u001b[0m\u001b[0;34m)\u001b[0m\u001b[0;34m\u001b[0m\u001b[0;34m\u001b[0m\u001b[0m\n\u001b[0m",
            "... last 1 frames repeated, from the frame below ...\n",
            "\u001b[0;32m/tmp/ipykernel_217/534950361.py\u001b[0m in \u001b[0;36mpower\u001b[0;34m(N, P)\u001b[0m\n\u001b[1;32m      5\u001b[0m         \u001b[0;32mreturn\u001b[0m \u001b[0mN\u001b[0m\u001b[0;34m\u001b[0m\u001b[0;34m\u001b[0m\u001b[0m\n\u001b[1;32m      6\u001b[0m     \u001b[0;32melse\u001b[0m\u001b[0;34m:\u001b[0m\u001b[0;34m\u001b[0m\u001b[0;34m\u001b[0m\u001b[0m\n\u001b[0;32m----> 7\u001b[0;31m         \u001b[0;32mreturn\u001b[0m \u001b[0mN\u001b[0m \u001b[0;34m*\u001b[0m \u001b[0mpower\u001b[0m\u001b[0;34m(\u001b[0m\u001b[0mN\u001b[0m\u001b[0;34m,\u001b[0m \u001b[0mP\u001b[0m \u001b[0;34m-\u001b[0m \u001b[0;36m1\u001b[0m\u001b[0;34m)\u001b[0m\u001b[0;34m\u001b[0m\u001b[0;34m\u001b[0m\u001b[0m\n\u001b[0m",
            "\u001b[0;31mRecursionError\u001b[0m: maximum recursion depth exceeded in comparison"
          ]
        }
      ],
      "source": [
        "power(3, 4000)"
      ]
    },
    {
      "cell_type": "markdown",
      "metadata": {
        "id": "X_JzC-_7Nm6D"
      },
      "source": [
        "# datetime"
      ]
    },
    {
      "cell_type": "code",
      "execution_count": 66,
      "metadata": {
        "id": "jd8BNFjDNm6D"
      },
      "outputs": [],
      "source": [
        "import datetime"
      ]
    },
    {
      "cell_type": "code",
      "execution_count": 67,
      "metadata": {
        "colab": {
          "base_uri": "https://localhost:8080/"
        },
        "id": "2iZGAa6iNm6D",
        "outputId": "fc06be5f-4456-40cf-c4cb-690ded630a65"
      },
      "outputs": [
        {
          "name": "stdout",
          "output_type": "stream",
          "text": [
            "2021-11-24 17:27:13.432463\n",
            "Year:  2021\n",
            "Month:  11\n",
            "Dat:  24\n",
            "Hour:  17\n",
            "Minute:  27\n",
            "Second:  13\n",
            "TimeZone info:  None\n"
          ]
        }
      ],
      "source": [
        "datetime_object = datetime.datetime.now()\n",
        "print(datetime_object)\n",
        "print(\"Year: \", datetime_object.year)\n",
        "print(\"Month: \", datetime_object.month)\n",
        "print(\"Dat: \", datetime_object.day)\n",
        "print(\"Hour: \", datetime_object.hour)\n",
        "print(\"Minute: \", datetime_object.minute)\n",
        "print(\"Second: \", datetime_object.second)\n",
        "print(\"TimeZone info: \", datetime_object.tzinfo)"
      ]
    },
    {
      "cell_type": "code",
      "execution_count": 79,
      "metadata": {
        "colab": {
          "base_uri": "https://localhost:8080/"
        },
        "id": "T2_lyB7_Nm6E",
        "outputId": "6e83c452-d188-4748-ab0a-97c65d1b0189"
      },
      "outputs": [
        {
          "name": "stdout",
          "output_type": "stream",
          "text": [
            "2021-11-24 14:30:45.303103+00:00\n",
            "Year:  2021\n",
            "Month:  11\n",
            "Dat:  24\n",
            "Hour:  14\n",
            "Minute:  30\n",
            "Second:  45\n",
            "TimeZone info:  UTC\n"
          ]
        }
      ],
      "source": [
        "datetime_object = datetime.datetime.now(tz=datetime.timezone.utc)\n",
        "# we will use the timezone class mentioned above in the\n",
        "# available data types of the datetime module\n",
        "\n",
        "datetime_object = datetime_object.replace(tzinfo=datetime.timezone.utc)\n",
        "print(datetime_object)\n",
        "print(\"Year: \", datetime_object.year)\n",
        "print(\"Month: \", datetime_object.month)\n",
        "print(\"Dat: \", datetime_object.day)\n",
        "print(\"Hour: \", datetime_object.hour)\n",
        "print(\"Minute: \", datetime_object.minute)\n",
        "print(\"Second: \", datetime_object.second)\n",
        "print(\"TimeZone info: \", datetime_object.tzinfo)"
      ]
    },
    {
      "cell_type": "code",
      "execution_count": 70,
      "metadata": {
        "colab": {
          "base_uri": "https://localhost:8080/"
        },
        "id": "gXe5L115Nm6E",
        "outputId": "20ddbc6b-d896-4f55-db1e-60959d3d6d4f"
      },
      "outputs": [
        {
          "name": "stdout",
          "output_type": "stream",
          "text": [
            "2021-11-24T17:27:59.830674+00:00\n"
          ]
        }
      ],
      "source": [
        "print(datetime_object.isoformat())"
      ]
    },
    {
      "cell_type": "code",
      "execution_count": 81,
      "metadata": {
        "colab": {
          "base_uri": "https://localhost:8080/"
        },
        "id": "8KoApqOrNm6E",
        "outputId": "9d107297-5a94-4295-b588-f58501bfe89a"
      },
      "outputs": [
        {
          "name": "stdout",
          "output_type": "stream",
          "text": [
            "LazySet({'Africa/Timbuktu', 'America/Indiana/Knox', 'America/Fortaleza', 'Africa/Bissau', 'Pacific/Rarotonga', 'Australia/Melbourne', 'Iran', 'Pacific/Ponape', 'Australia/Sydney', 'HST', 'America/Argentina/La_Rioja', 'America/Monterrey', 'America/Argentina/Ushuaia', 'Africa/Blantyre', 'America/Kentucky/Louisville', 'America/Virgin', 'America/Asuncion', 'America/Indiana/Indianapolis', 'America/Eirunepe', 'Canada/Saskatchewan', 'America/Montreal', 'Asia/Tbilisi', 'US/Michigan', 'NZ', 'Asia/Bahrain', 'Universal', 'America/Fort_Wayne', 'Etc/GMT-5', 'Chile/Continental', 'Europe/Belfast', 'Africa/Lome', 'America/Creston', 'Atlantic/St_Helena', 'Asia/Pontianak', 'Africa/Bangui', 'America/Iqaluit', 'America/Mexico_City', 'Canada/Newfoundland', 'Asia/Qatar', 'Hongkong', 'America/La_Paz', 'Asia/Katmandu', 'Indian/Mayotte', 'Asia/Riyadh', 'Africa/Casablanca', 'Etc/GMT-11', 'Pacific/Palau', 'GMT+0', 'Africa/Ceuta', 'America/Campo_Grande', 'Europe/Saratov', 'Pacific/Johnston', 'America/Louisville', 'Pacific/Tarawa', 'Indian/Antananarivo', 'Asia/Rangoon', 'Australia/ACT', 'Europe/Brussels', 'Africa/Banjul', 'Asia/Khandyga', 'Canada/Central', 'America/Phoenix', 'Pacific/Pohnpei', 'GB', 'Europe/Budapest', 'America/Guadeloupe', 'America/Rainy_River', 'EST5EDT', 'Eire', 'Africa/Kinshasa', 'Pacific/Majuro', 'America/Godthab', 'Asia/Qyzylorda', 'Asia/Aqtobe', 'America/Edmonton', 'Asia/Vladivostok', 'America/Indiana/Petersburg', 'America/Toronto', 'Australia/Tasmania', 'Asia/Urumqi', 'Pacific/Gambier', 'Asia/Phnom_Penh', 'Asia/Yangon', 'Africa/Porto-Novo', 'Africa/Accra', 'Africa/Kampala', 'America/St_Thomas', 'Europe/Andorra', 'Turkey', 'US/Samoa', 'Europe/Vaduz', 'Asia/Kuwait', 'Etc/GMT-9', 'Etc/GMT-12', 'Africa/Harare', 'America/Goose_Bay', 'America/Bahia_Banderas', 'Asia/Kamchatka', 'America/Inuvik', 'Antarctica/McMurdo', 'Pacific/Guadalcanal', 'WET', 'Australia/LHI', 'Pacific/Fakaofo', 'Canada/Atlantic', 'Etc/GMT-14', 'Pacific/Pitcairn', 'Africa/Luanda', 'America/Port-au-Prince', 'America/Santiago', 'America/Indiana/Marengo', 'America/Regina', 'Europe/Vatican', 'America/Argentina/Cordoba', 'America/Argentina/Catamarca', 'Etc/GMT+10', 'Antarctica/DumontDUrville', 'Africa/Lubumbashi', 'Etc/GMT+12', 'Pacific/Kanton', 'Asia/Hovd', 'Europe/Luxembourg', 'America/Grenada', 'Etc/GMT+2', 'America/Winnipeg', 'Africa/Cairo', 'America/Pangnirtung', 'Africa/Bujumbura', 'Asia/Saigon', 'America/Marigot', 'America/Caracas', 'America/New_York', 'America/Swift_Current', 'Europe/Minsk', 'Europe/Belgrade', 'Asia/Jerusalem', 'America/Buenos_Aires', 'Asia/Ujung_Pandang', 'Asia/Thimphu', 'Atlantic/Reykjavik', 'Pacific/Wallis', 'Mexico/General', 'Asia/Ulaanbaatar', 'Asia/Dushanbe', 'Asia/Ashkhabad', 'America/Paramaribo', 'Africa/El_Aaiun', 'Europe/Berlin', 'Pacific/Nauru', 'Europe/London', 'Asia/Ashgabat', 'America/Metlakatla', 'America/North_Dakota/New_Salem', 'America/Panama', 'Etc/GMT+1', 'Europe/Oslo', 'Australia/Darwin', 'America/Kentucky/Monticello', 'America/St_Lucia', 'Asia/Tokyo', 'Pacific/Marquesas', 'Pacific/Kosrae', 'Europe/Dublin', 'America/Merida', 'Asia/Aqtau', 'America/Knox_IN', 'Pacific/Yap', 'US/Central', 'Jamaica', 'Africa/Mbabane', 'America/Glace_Bay', 'Asia/Hebron', 'US/Alaska', 'America/Argentina/Buenos_Aires', 'Pacific/Galapagos', 'Asia/Ust-Nera', 'Etc/GMT-2', 'America/Argentina/San_Luis', 'America/St_Barthelemy', 'Asia/Beirut', 'Antarctica/Rothera', 'Asia/Magadan', 'Pacific/Truk', 'Asia/Karachi', 'America/Anchorage', 'Europe/Zagreb', 'America/Detroit', 'Africa/Libreville', 'America/Martinique', 'Australia/Currie', 'Africa/Juba', 'PRC', 'America/Rio_Branco', 'Europe/Moscow', 'Europe/Monaco', 'Indian/Kerguelen', 'Israel', 'Egypt', 'America/Cordoba', 'America/Thule', 'Asia/Damascus', 'Pacific/Guam', 'America/Mazatlan', 'Asia/Almaty', 'Australia/Eucla', 'US/Hawaii', 'Antarctica/South_Pole', 'Asia/Shanghai', 'Australia/Lindeman', 'Etc/UTC', 'Asia/Tel_Aviv', 'Asia/Vientiane', 'America/Recife', 'America/Nome', 'Asia/Muscat', 'Antarctica/Troll', 'Asia/Novokuznetsk', 'Atlantic/Azores', 'Asia/Chongqing', 'Pacific/Tongatapu', 'America/Indiana/Vincennes', 'Europe/Sarajevo', 'Europe/Guernsey', 'Africa/Mogadishu', 'America/Yakutat', 'America/Nipigon', 'Canada/Eastern', 'Portugal', 'America/Curacao', 'Antarctica/Syowa', 'Brazil/DeNoronha', 'America/Sao_Paulo', 'Asia/Yakutsk', 'MST', 'US/Mountain', 'Indian/Mahe', 'America/Denver', 'US/Aleutian', 'Europe/Chisinau', 'America/Ojinaga', 'Etc/Greenwich', 'America/Bogota', 'NZ-CHAT', 'America/Nassau', 'America/St_Johns', 'America/Cuiaba', 'America/Araguaina', 'Europe/Gibraltar', 'Etc/GMT+0', 'Canada/Pacific', 'Brazil/East', 'Africa/Dar_es_Salaam', 'ROC', 'America/Manaus', 'Asia/Taipei', 'Australia/West', 'Atlantic/Madeira', 'America/Managua', 'Asia/Famagusta', 'Europe/Busingen', 'America/Los_Angeles', 'Iceland', 'Singapore', 'Europe/Vienna', 'Asia/Kabul', 'America/Rosario', 'Poland', 'W-SU', 'Africa/Khartoum', 'Africa/Freetown', 'Europe/Isle_of_Man', 'Etc/GMT+8', 'Indian/Chagos', 'Asia/Bishkek', 'Asia/Dubai', 'Europe/Stockholm', 'America/Argentina/Mendoza', 'Africa/Tunis', 'America/Tijuana', 'Pacific/Enderbury', 'Australia/Adelaide', 'Etc/GMT+3', 'Etc/GMT-8', 'US/Pacific', 'Australia/South', 'CST6CDT', 'Indian/Mauritius', 'Asia/Istanbul', 'America/Port_of_Spain', 'America/North_Dakota/Beulah', 'Asia/Amman', 'Asia/Dacca', 'Asia/Thimbu', 'Europe/Bratislava', 'America/Fort_Nelson', 'America/Indiana/Tell_City', 'Asia/Novosibirsk', 'Brazil/Acre', 'Europe/Samara', 'Africa/Monrovia', 'ROK', 'Atlantic/Bermuda', 'Etc/GMT+11', 'Pacific/Port_Moresby', 'Pacific/Wake', 'Asia/Tashkent', 'CET', 'Europe/Malta', 'America/Lima', 'America/Indiana/Vevay', 'MST7MDT', 'America/Menominee', 'America/Havana', 'America/Noronha', 'Europe/Simferopol', 'Pacific/Funafuti', 'America/Adak', 'Atlantic/Faroe', 'America/Matamoros', 'America/Argentina/Tucuman', 'America/Belize', 'America/Puerto_Rico', 'Pacific/Noumea', 'Asia/Jayapura', 'Pacific/Kiritimati', 'Europe/Tallinn', 'America/Halifax', 'Africa/Sao_Tome', 'Africa/Douala', 'Asia/Barnaul', 'Africa/Ouagadougou', 'Australia/Yancowinna', 'Asia/Colombo', 'Etc/Universal', 'America/Resolute', 'Europe/Paris', 'Australia/Perth', 'America/Cancun', 'Europe/Istanbul', 'Indian/Comoro', 'America/Atikokan', 'Europe/Kiev', 'Mexico/BajaSur', 'America/Kralendijk', 'Mexico/BajaNorte', 'Europe/Prague', 'Europe/Rome', 'Asia/Calcutta', 'Europe/Kaliningrad', 'MET', 'Etc/GMT+5', 'Canada/Yukon', 'Pacific/Niue', 'America/Coral_Harbour', 'America/Moncton', 'Europe/Astrakhan', 'America/Grand_Turk', 'America/Chihuahua', 'Asia/Srednekolymsk', 'Europe/Jersey', 'America/Montserrat', 'America/Cambridge_Bay', 'Europe/Vilnius', 'Etc/GMT-7', 'America/Belem', 'Asia/Sakhalin', 'Europe/Helsinki', 'Europe/Kirov', 'America/Danmarkshavn', 'America/Vancouver', 'Asia/Chita', 'America/Whitehorse', 'America/Santa_Isabel', 'Asia/Gaza', 'Asia/Ho_Chi_Minh', 'GB-Eire', 'Africa/Bamako', 'Asia/Seoul', 'America/Indianapolis', 'America/Hermosillo', 'Arctic/Longyearbyen', 'Antarctica/Palmer', 'America/Lower_Princes', 'America/Argentina/San_Juan', 'Asia/Makassar', 'Europe/Uzhgorod', 'Etc/GMT-1', 'Pacific/Norfolk', 'America/Guyana', 'Pacific/Kwajalein', 'Pacific/Chatham', 'Australia/Lord_Howe', 'Europe/Tirane', 'America/Scoresbysund', 'US/East-Indiana', 'Europe/Zurich', 'Australia/NSW', 'Antarctica/Mawson', 'Asia/Krasnoyarsk', 'America/Maceio', 'America/Aruba', 'Europe/Athens', 'America/Thunder_Bay', 'Asia/Brunei', 'Europe/Skopje', 'Europe/Sofia', 'Asia/Macau', 'PST8PDT', 'Pacific/Chuuk', 'Pacific/Saipan', 'Europe/Bucharest', 'America/St_Kitts', 'America/Argentina/ComodRivadavia', 'Atlantic/Cape_Verde', 'Indian/Cocos', 'Europe/Riga', 'Asia/Baghdad', 'Canada/Mountain', 'Europe/San_Marino', 'Japan', 'America/Yellowknife', 'Europe/Lisbon', 'America/Punta_Arenas', 'Asia/Macao', 'America/Indiana/Winamac', 'Asia/Oral', 'Europe/Madrid', 'Etc/GMT-3', 'Libya', 'Australia/Canberra', 'Europe/Copenhagen', 'Asia/Dili', 'Etc/GMT+4', 'America/Porto_Velho', 'US/Indiana-Starke', 'Asia/Irkutsk', 'UTC', 'America/North_Dakota/Center', 'Africa/Asmera', 'America/Guayaquil', 'America/Barbados', 'EET', 'Africa/Lagos', 'America/Argentina/Rio_Gallegos', 'America/Sitka', 'Africa/Gaborone', 'Europe/Nicosia', 'Asia/Omsk', 'Asia/Ulan_Bator', 'Europe/Ljubljana', 'Europe/Warsaw', 'America/Rankin_Inlet', 'Asia/Choibalsan', 'Pacific/Bougainville', 'Etc/GMT-4', 'America/Antigua', 'Asia/Kuala_Lumpur', 'America/Nuuk', 'Etc/GMT-13', 'America/Shiprock', 'Africa/Algiers', 'America/Anguilla', 'America/Blanc-Sablon', 'Asia/Kolkata', 'Asia/Yekaterinburg', 'Etc/GMT-6', 'America/Argentina/Jujuy', 'Etc/UCT', 'Pacific/Auckland', 'Asia/Kathmandu', 'Europe/Podgorica', 'Etc/Zulu', 'Asia/Harbin', 'Africa/Johannesburg', 'Pacific/Easter', 'Asia/Samarkand', 'Antarctica/Casey', 'Australia/Queensland', 'America/Bahia', 'Atlantic/Stanley', 'Europe/Zaporozhye', 'Africa/Ndjamena', 'Australia/Broken_Hill', 'Atlantic/Jan_Mayen', 'America/Mendoza', 'Asia/Chungking', 'Europe/Volgograd', 'GMT-0', 'America/Juneau', 'Africa/Nairobi', 'Africa/Niamey', 'Australia/Brisbane', 'Chile/EasterIsland', 'America/Cayenne', 'America/Ensenada', 'Navajo', 'Asia/Bangkok', 'GMT0', 'America/Cayman', 'Greenwich', 'Asia/Pyongyang', 'Africa/Malabo', 'America/Chicago', 'America/Montevideo', 'Asia/Kuching', 'Asia/Anadyr', 'Antarctica/Vostok', 'UCT', 'Pacific/Tahiti', 'America/Boise', 'Africa/Maputo', 'Etc/GMT+6', 'America/Porto_Acre', 'Pacific/Apia', 'Africa/Asmara', 'Africa/Conakry', 'Cuba', 'Pacific/Fiji', 'Africa/Brazzaville', 'Pacific/Pago_Pago', 'America/Dawson_Creek', 'Africa/Lusaka', 'America/Boa_Vista', 'Indian/Christmas', 'Africa/Addis_Ababa', 'America/Miquelon', 'Etc/GMT0', 'Asia/Tehran', 'Pacific/Samoa', 'Pacific/Honolulu', 'America/Santo_Domingo', 'America/El_Salvador', 'Africa/Djibouti', 'Europe/Ulyanovsk', 'Antarctica/Davis', 'Asia/Atyrau', 'Zulu', 'Indian/Reunion', 'Etc/GMT-0', 'Asia/Nicosia', 'Asia/Manila', 'Asia/Kashgar', 'Asia/Dhaka', 'Kwajalein', 'Australia/Victoria', 'US/Arizona', 'Asia/Singapore', 'Africa/Dakar', 'Africa/Kigali', 'America/Atka', 'Australia/North', 'America/Argentina/Salta', 'Africa/Windhoek', 'Europe/Amsterdam', 'Asia/Yerevan', 'Brazil/West', 'GMT', 'Europe/Tiraspol', 'EST', 'Etc/GMT+9', 'Africa/Tripoli', 'Asia/Aden', 'Africa/Maseru', 'Africa/Nouakchott', 'America/Jamaica', 'America/Catamarca', 'Atlantic/Faeroe', 'Asia/Tomsk', 'Etc/GMT-10', 'America/Jujuy', 'Indian/Maldives', 'Atlantic/South_Georgia', 'Europe/Mariehamn', 'Asia/Hong_Kong', 'America/Santarem', 'Asia/Baku', 'US/Eastern', 'Atlantic/Canary', 'America/Guatemala', 'America/Costa_Rica', 'Antarctica/Macquarie', 'Australia/Hobart', 'Etc/GMT', 'America/St_Vincent', 'America/Dawson', 'America/Dominica', 'Asia/Jakarta', 'America/Tegucigalpa', 'Pacific/Efate', 'Africa/Abidjan', 'Asia/Qostanay', 'Etc/GMT+7', 'Pacific/Midway', 'America/Tortola'})\n",
            "Year:  2021\n",
            "Month:  11\n",
            "Dat:  24\n",
            "Hour:  15\n",
            "Minute:  31\n",
            "Second:  18\n",
            "TimeZone info:  Europe/Madrid\n",
            "2021-11-24T15:31:18.782533+01:00\n"
          ]
        }
      ],
      "source": [
        "import pytz\n",
        "print(pytz.all_timezones_set)\n",
        "\n",
        "new_timezone = pytz.timezone('Europe/Madrid')\n",
        "datetime_object = datetime.datetime.now(tz=new_timezone)\n",
        "# print(datetime_object)\n",
        "print(\"Year: \", datetime_object.year)\n",
        "print(\"Month: \", datetime_object.month)\n",
        "print(\"Dat: \", datetime_object.day)\n",
        "print(\"Hour: \", datetime_object.hour)\n",
        "print(\"Minute: \", datetime_object.minute)\n",
        "print(\"Second: \", datetime_object.second)\n",
        "print(\"TimeZone info: \", datetime_object.tzinfo)\n",
        "print(datetime_object.isoformat())"
      ]
    },
    {
      "cell_type": "code",
      "execution_count": 82,
      "metadata": {
        "colab": {
          "base_uri": "https://localhost:8080/"
        },
        "id": "pXrp-GYNNm6E",
        "outputId": "d37d0339-272b-410e-e089-d17ab49a3b5d"
      },
      "outputs": [
        {
          "name": "stdout",
          "output_type": "stream",
          "text": [
            "2021-11-24\n"
          ]
        }
      ],
      "source": [
        "day = datetime.date.today()\n",
        "print(day)"
      ]
    },
    {
      "cell_type": "code",
      "execution_count": 83,
      "metadata": {
        "colab": {
          "base_uri": "https://localhost:8080/"
        },
        "id": "-bEcXsQ0Nm6E",
        "outputId": "7ce9e82d-3b25-456c-80fb-93d2040199d9"
      },
      "outputs": [
        {
          "name": "stdout",
          "output_type": "stream",
          "text": [
            "2020-08-23\n"
          ]
        }
      ],
      "source": [
        "day = datetime.date(2020, 8, 23)\n",
        "print(day)"
      ]
    },
    {
      "cell_type": "code",
      "execution_count": 86,
      "metadata": {
        "colab": {
          "base_uri": "https://localhost:8080/"
        },
        "id": "SXBaa84dNm6E",
        "outputId": "ce1c5357-3310-423a-9b1d-4b7e4e3fcf2f"
      },
      "outputs": [
        {
          "name": "stdout",
          "output_type": "stream",
          "text": [
            "8371-10-07 21:47:02+00:00\n",
            "Year:  8371\n",
            "Month:  10\n",
            "Dat:  7\n",
            "Hour:  21\n",
            "Minute:  47\n",
            "Second:  2\n",
            "TimeZone info:  UTC\n"
          ]
        }
      ],
      "source": [
        "timestamp = 202020202022\n",
        "datetime_object = datetime.datetime.fromtimestamp(timestamp)\n",
        "# We also know that Unix timestamps are in UTC so we might as well \n",
        "# add the timezone info to our object.\n",
        "datetime_object = datetime_object.replace(tzinfo=datetime.timezone.utc)\n",
        "print(datetime_object)\n",
        "print(\"Year: \", datetime_object.year)\n",
        "print(\"Month: \", datetime_object.month)\n",
        "print(\"Dat: \", datetime_object.day)\n",
        "print(\"Hour: \", datetime_object.hour)\n",
        "print(\"Minute: \", datetime_object.minute)\n",
        "print(\"Second: \", datetime_object.second)\n",
        "print(\"TimeZone info: \", datetime_object.tzinfo)"
      ]
    },
    {
      "cell_type": "code",
      "execution_count": 87,
      "metadata": {
        "colab": {
          "base_uri": "https://localhost:8080/"
        },
        "id": "GJEKqRGMNm6F",
        "outputId": "5211ec64-060d-4f48-fdc3-d4d38284298f"
      },
      "outputs": [
        {
          "name": "stdout",
          "output_type": "stream",
          "text": [
            "Timestamp:  1637764419.95625\n"
          ]
        }
      ],
      "source": [
        "datetime_object = datetime.datetime.now()\n",
        "print(\"Timestamp: \", datetime_object.timestamp())"
      ]
    },
    {
      "cell_type": "code",
      "execution_count": 88,
      "metadata": {
        "colab": {
          "base_uri": "https://localhost:8080/"
        },
        "id": "sR5OyOcoNm6F",
        "outputId": "4dd32aa1-1c06-4e5a-a9a7-70799cbc3504"
      },
      "outputs": [
        {
          "name": "stdout",
          "output_type": "stream",
          "text": [
            "<class 'datetime.timedelta'>\n",
            "Day difference:  245\n"
          ]
        }
      ],
      "source": [
        "start_date = datetime.date(2020, 7, 24)\n",
        "end_date = datetime.date(2021, 3, 26)\n",
        "\n",
        "# We can simply just subtract these two objects and the result would be\n",
        "# a timedelta object\n",
        "\n",
        "timedelta = end_date - start_date\n",
        "print(type(timedelta))\n",
        "print(\"Day difference: \", timedelta.days)"
      ]
    },
    {
      "cell_type": "code",
      "execution_count": 95,
      "metadata": {
        "colab": {
          "base_uri": "https://localhost:8080/"
        },
        "id": "KsDjMp2GNm6F",
        "outputId": "fbc73127-35b4-4d1c-cb5c-9eb7b2e0ef12"
      },
      "outputs": [
        {
          "name": "stdout",
          "output_type": "stream",
          "text": [
            "2021-12-04\n"
          ]
        }
      ],
      "source": [
        "today = datetime.date.today()\n",
        "\n",
        "timedelta_needed = datetime.timedelta(days=10)\n",
        "\n",
        "result_date = today + timedelta_needed\n",
        "\n",
        "print(result_date)"
      ]
    },
    {
      "cell_type": "code",
      "execution_count": 96,
      "metadata": {
        "colab": {
          "base_uri": "https://localhost:8080/"
        },
        "id": "56vn-hkbNm6F",
        "outputId": "de6b15d2-9e11-45d6-9901-797effce13ce"
      },
      "outputs": [
        {
          "name": "stdout",
          "output_type": "stream",
          "text": [
            "time: 14:36:27\n",
            "mm/dd/YY: 11/24/2021, 14:36:27\n",
            "dd/mm/YY: 24/11/2021, 14:36:27\n",
            "Timezone:  UTC\n",
            "Weekday:  Wednesday\n",
            "Abbreviated Weekday:  Wed\n",
            "Locale representation:  Wed Nov 24 14:36:27 2021\n"
          ]
        }
      ],
      "source": [
        "# current date and time\n",
        "now = datetime.datetime.now(tz=pytz.timezone('UTC'))\n",
        "\n",
        "t = now.strftime(\"%H:%M:%S\")\n",
        "print(\"time:\", t)\n",
        "\n",
        "s1 = now.strftime(\"%m/%d/%Y, %H:%M:%S\")\n",
        "# mm/dd/YY H:M:S format\n",
        "print(\"mm/dd/YY:\", s1)\n",
        "\n",
        "s2 = now.strftime(\"%d/%m/%Y, %H:%M:%S\")\n",
        "# dd/mm/YY H:M:S format\n",
        "print(\"dd/mm/YY:\", s2)\n",
        "\n",
        "# Timezone\n",
        "print(\"Timezone: \", now.strftime(\"%Z\"))\n",
        "\n",
        "# Weekday\n",
        "print(\"Weekday: \", now.strftime(\"%A\"))\n",
        "\n",
        "# Abbreviated weekday\n",
        "print(\"Abbreviated Weekday: \", now.strftime(\"%a\"))\n",
        "\n",
        "\n",
        "# Locale's appropriate date and time representation\n",
        "print(\"Locale representation: \", now.strftime(\"%c\"))"
      ]
    },
    {
      "cell_type": "code",
      "execution_count": 97,
      "metadata": {
        "colab": {
          "base_uri": "https://localhost:8080/"
        },
        "id": "zgmNerYNNm6F",
        "outputId": "4fd21b89-4b27-4ed1-9520-1764b5d8cd7a"
      },
      "outputs": [
        {
          "name": "stdout",
          "output_type": "stream",
          "text": [
            "<class 'datetime.datetime'>\n",
            "2021-08-23 15:23:52\n"
          ]
        }
      ],
      "source": [
        "import datetime\n",
        "datetime_string = '08/23/21 15:23:52'\n",
        "\n",
        "datetime_object = datetime.datetime.strptime(datetime_string, '%m/%d/%y %H:%M:%S')\n",
        "print(type(datetime_object))\n",
        "print(datetime_object)"
      ]
    },
    {
      "cell_type": "code",
      "execution_count": 98,
      "metadata": {
        "colab": {
          "base_uri": "https://localhost:8080/"
        },
        "id": "1aXIB00tNm6F",
        "outputId": "f7baa226-5681-4298-eab6-eeb3b0fb162b"
      },
      "outputs": [
        {
          "name": "stdout",
          "output_type": "stream",
          "text": [
            "<class 'datetime.date'>\n",
            "2021-08-23\n",
            "<class 'datetime.time'>\n",
            "15:23:52\n",
            "<class 'datetime.datetime'>\n",
            "1900-01-01 15:23:26\n"
          ]
        }
      ],
      "source": [
        "datetime_string = '08/23/21 15:23:52'\n",
        "\n",
        "date_object = datetime.datetime.strptime(datetime_string, '%m/%d/%y %H:%M:%S').date()\n",
        "\n",
        "print(type(date_object))\n",
        "print(date_object)\n",
        "\n",
        "time_object = datetime.datetime.strptime(datetime_string, '%m/%d/%y %H:%M:%S').time()\n",
        "print(type(time_object))\n",
        "print(time_object)\n",
        "\n",
        "# Notice below how the time representation has changed from the above example\n",
        "# and that we now have a double colons. Observe how will we adjust the format\n",
        "# of the strptime method so as to correctly parse the input string.\n",
        "time_example = '15::23::26'\n",
        "time_example_object = datetime.datetime.strptime(time_example, '%H::%M::%S')\n",
        "print(type(time_example_object))\n",
        "print(time_example_object)"
      ]
    }
  ],
  "metadata": {
    "colab": {
      "name": "WS10-complex-structures-datetime-recursion-gc.ipynb",
      "provenance": []
    },
    "interpreter": {
      "hash": "b89b5cfaba6639976dc87ff2fec6d58faec662063367e2c229c520fe71072417"
    },
    "kernelspec": {
      "display_name": "Python 3.10.0 64-bit",
      "name": "python3"
    },
    "language_info": {
      "codemirror_mode": {
        "name": "ipython",
        "version": 3
      },
      "file_extension": ".py",
      "mimetype": "text/x-python",
      "name": "python",
      "nbconvert_exporter": "python",
      "pygments_lexer": "ipython3",
      "version": "3.10.0"
    }
  },
  "nbformat": 4,
  "nbformat_minor": 0
}
