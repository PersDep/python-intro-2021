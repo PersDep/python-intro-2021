{
 "cells": [
  {
   "cell_type": "markdown",
   "source": [
    "# GC & GIL"
   ],
   "metadata": {
    "collapsed": false
   }
  },
  {
   "cell_type": "code",
   "execution_count": null,
   "outputs": [],
   "source": [
    "import sys\n",
    "a = [1, 2, 3]\n",
    "b = a\n",
    "sys.getrefcount(a)\n",
    "del a\n",
    "sys.getrefcount(b)\n",
    "b"
   ],
   "metadata": {
    "collapsed": false,
    "pycharm": {
     "name": "#%%\n"
    }
   }
  },
  {
   "cell_type": "code",
   "execution_count": null,
   "outputs": [],
   "source": [
    "import sys\n",
    "\n",
    "foo = []\n",
    "\n",
    "print(sys.getrefcount(foo))\n",
    "\n",
    "def bar(a):\n",
    "    print(sys.getrefcount(a))\n",
    "\n",
    "bar(foo)\n",
    "print(sys.getrefcount(foo))"
   ],
   "metadata": {
    "collapsed": false,
    "pycharm": {
     "name": "#%%\n"
    }
   }
  },
  {
   "cell_type": "code",
   "execution_count": null,
   "outputs": [],
   "source": [
    "import gc\n",
    "import ctypes\n",
    "\n",
    "# We use ctypes moule  to access our unreachable objects by memory address.\n",
    "class PyObject(ctypes.Structure):\n",
    "    _fields_ = [(\"refcnt\", ctypes.c_long)]\n",
    "\n",
    "\n",
    "gc.disable()\n",
    "\n",
    "lst = [1, 2, 3]\n",
    "lst.append(lst)\n",
    "\n",
    "lst_address = id(lst)\n",
    "\n",
    "del lst\n",
    "\n",
    "object_1 = {}\n",
    "object_2 = {}\n",
    "object_1['obj2'] = object_2\n",
    "object_2['obj1'] = object_1\n",
    "\n",
    "obj_address = id(object_1)\n",
    "\n",
    "del object_1, object_2\n",
    "\n",
    "gc.collect()\n",
    "\n",
    "# Check the reference count\n",
    "print(PyObject.from_address(obj_address).refcnt)\n",
    "print(PyObject.from_address(lst_address).refcnt)"
   ],
   "metadata": {
    "collapsed": false,
    "pycharm": {
     "name": "#%%\n"
    }
   }
  },
  {
   "cell_type": "markdown",
   "source": [
    "https://storage.googleapis.com/coderzcolumn/static/blogs/python/mark-and-sweep.gif"
   ],
   "metadata": {
    "collapsed": false
   }
  },
  {
   "cell_type": "code",
   "execution_count": null,
   "outputs": [],
   "source": [
    "import weakref\n",
    "import gc\n",
    "\n",
    "class MyObject(object):\n",
    "    def my_method(self):\n",
    "        print('my_method was called!')\n",
    "\n",
    "obj = MyObject()\n",
    "r = weakref.ref(obj)\n",
    "print(sys.getrefcount(obj))\n",
    "\n",
    "gc.collect()\n",
    "assert r() is obj\n",
    "\n",
    "obj = 1\n",
    "gc.collect()\n",
    "assert r() is None"
   ],
   "metadata": {
    "collapsed": false,
    "pycharm": {
     "name": "#%%\n"
    }
   }
  },
  {
   "cell_type": "code",
   "execution_count": null,
   "outputs": [],
   "source": [
    "from threading import Thread"
   ],
   "metadata": {
    "collapsed": false,
    "pycharm": {
     "name": "#%%\n"
    }
   }
  },
  {
   "cell_type": "code",
   "execution_count": null,
   "outputs": [],
   "source": [
    "def countdown(n):\n",
    "    while n > 0:\n",
    "        n -= 1"
   ],
   "metadata": {
    "collapsed": false,
    "pycharm": {
     "name": "#%%\n"
    }
   }
  },
  {
   "cell_type": "code",
   "execution_count": null,
   "outputs": [],
   "source": [
    "count = 50000000"
   ],
   "metadata": {
    "collapsed": false,
    "pycharm": {
     "name": "#%%\n"
    }
   }
  },
  {
   "cell_type": "code",
   "execution_count": null,
   "outputs": [],
   "source": [
    "import time"
   ],
   "metadata": {
    "collapsed": false,
    "pycharm": {
     "name": "#%%\n"
    }
   }
  },
  {
   "cell_type": "code",
   "execution_count": null,
   "outputs": [],
   "source": [
    "%%time\n",
    "start = time.time()\n",
    "countdown(count)\n",
    "print(time.time() - start)"
   ],
   "metadata": {
    "collapsed": false,
    "pycharm": {
     "name": "#%%\n"
    }
   }
  },
  {
   "cell_type": "code",
   "execution_count": null,
   "outputs": [],
   "source": [
    "%%time\n",
    "t1 = Thread(target=countdown, args=(count//2,))\n",
    "t2 = Thread(target=countdown, args=(count//2,))\n",
    "start = time.time()\n",
    "t1.start()\n",
    "t2.start()\n",
    "t1.join()\n",
    "t2.join()\n",
    "print(time.time() - start)"
   ],
   "metadata": {
    "collapsed": false,
    "pycharm": {
     "name": "#%%\n"
    }
   }
  }
 ],
 "metadata": {
  "colab": {
   "name": "WS09-complex-structures-ast-recursion-import.ipynb",
   "provenance": []
  },
  "interpreter": {
   "hash": "b89b5cfaba6639976dc87ff2fec6d58faec662063367e2c229c520fe71072417"
  },
  "kernelspec": {
   "display_name": "Python 3.10.0 64-bit",
   "name": "python3"
  },
  "language_info": {
   "codemirror_mode": {
    "name": "ipython",
    "version": 3
   },
   "file_extension": ".py",
   "mimetype": "text/x-python",
   "name": "python",
   "nbconvert_exporter": "python",
   "pygments_lexer": "ipython3",
   "version": "3.10.0"
  }
 },
 "nbformat": 4,
 "nbformat_minor": 0
}