{
  "nbformat": 4,
  "nbformat_minor": 0,
  "metadata": {
    "kernelspec": {
      "display_name": "Python 3",
      "language": "python",
      "name": "python3"
    },
    "language_info": {
      "codemirror_mode": {
        "name": "ipython",
        "version": 3
      },
      "file_extension": ".py",
      "mimetype": "text/x-python",
      "name": "python",
      "nbconvert_exporter": "python",
      "pygments_lexer": "ipython3",
      "version": "3.8.5"
    },
    "toc": {
      "base_numbering": 1,
      "nav_menu": {},
      "number_sections": true,
      "sideBar": true,
      "skip_h1_title": false,
      "title_cell": "Table of Contents",
      "title_sidebar": "Contents",
      "toc_cell": false,
      "toc_position": {},
      "toc_section_display": true,
      "toc_window_display": true
    },
    "varInspector": {
      "cols": {
        "lenName": 16,
        "lenType": 16,
        "lenVar": 40
      },
      "kernels_config": {
        "python": {
          "delete_cmd_postfix": "",
          "delete_cmd_prefix": "del ",
          "library": "var_list.py",
          "varRefreshCmd": "print(var_dic_list())"
        },
        "r": {
          "delete_cmd_postfix": ") ",
          "delete_cmd_prefix": "rm(",
          "library": "var_list.r",
          "varRefreshCmd": "cat(var_dic_list()) "
        }
      },
      "types_to_exclude": [
        "module",
        "function",
        "builtin_function_or_method",
        "instance",
        "_Feature"
      ],
      "window_display": false
    },
    "colab": {
      "name": "WS3-functions.ipynb",
      "provenance": []
    }
  },
  "cells": [
    {
      "cell_type": "markdown",
      "metadata": {
        "collapsed": false,
        "id": "GiadRVO_bED8"
      },
      "source": [
        "## 0. Функции"
      ]
    },
    {
      "cell_type": "code",
      "metadata": {
        "pycharm": {
          "name": "#%%\n"
        },
        "id": "AD6Or7CNbEEF"
      },
      "source": [
        "def funsum(sequence, f):\n",
        "    sum = 0\n",
        "    for value in sequence:\n",
        "        sum += f(value)\n",
        "    return sum\n",
        "\n",
        "def maxfun(sequence, func, *functions):\n",
        "    max_sum = funsum(sequence, func)\n",
        "    max_func = func\n",
        "    for f in functions:\n",
        "        sum = funsum(sequence, f)\n",
        "        if sum >= max_sum:\n",
        "            max_sum = sum\n",
        "            max_func = f\n",
        "    return max_func"
      ],
      "execution_count": null,
      "outputs": []
    },
    {
      "cell_type": "code",
      "metadata": {
        "id": "Y0JZZJx40YdZ",
        "colab": {
          "base_uri": "https://localhost:8080/"
        },
        "outputId": "d208c97a-b15f-4b1d-d8a9-3a5836f8c55b"
      },
      "source": [
        "def f(*a, **b):\n",
        "  print(*a, b)\n",
        "\n",
        "f(10, 11, 12, 13, a=10, b=11, c=12, d=14)"
      ],
      "execution_count": null,
      "outputs": [
        {
          "output_type": "stream",
          "name": "stdout",
          "text": [
            "10 11 12 13 {'a': 10, 'b': 11, 'c': 12, 'd': 14}\n"
          ]
        }
      ]
    },
    {
      "cell_type": "code",
      "metadata": {
        "pycharm": {
          "name": "#%%\n"
        },
        "id": "liV51zTFbEEJ",
        "colab": {
          "base_uri": "https://localhost:8080/",
          "height": 35
        },
        "outputId": "9df6f9ba-3bbd-42bd-edd8-e64545cd9e02"
      },
      "source": [
        "def maxfun(sequence, *functions):\n",
        "    return max(functions[::-1], key=lambda f: sum(f(i) for i in sequence))\n",
        "\n",
        "from math import sin, cos\n",
        "def comparator(x):\n",
        "  return int(x)\n",
        "\n",
        "max([1, '5', 3, 4], key=lambda x: int(x))"
      ],
      "execution_count": null,
      "outputs": [
        {
          "output_type": "execute_result",
          "data": {
            "application/vnd.google.colaboratory.intrinsic+json": {
              "type": "string"
            },
            "text/plain": [
              "'5'"
            ]
          },
          "metadata": {},
          "execution_count": 26
        }
      ]
    },
    {
      "cell_type": "code",
      "metadata": {
        "pycharm": {
          "name": "#%%\n"
        },
        "id": "ZYSJV_Z6bEEJ",
        "colab": {
          "base_uri": "https://localhost:8080/"
        },
        "outputId": "de5cca01-eeb4-42f9-d005-cbb6afaac566"
      },
      "source": [
        "input_list = [[1], [2, 3, 4], [5, 6, 7], [1]]\n",
        "output_list = sorted(item for sublist in input_list for item in sublist)\n",
        "output_list"
      ],
      "execution_count": null,
      "outputs": [
        {
          "output_type": "execute_result",
          "data": {
            "text/plain": [
              "[1, 1, 2, 3, 4, 5, 6, 7]"
            ]
          },
          "metadata": {},
          "execution_count": 31
        }
      ]
    },
    {
      "cell_type": "code",
      "metadata": {
        "pycharm": {
          "name": "#%%\n"
        },
        "id": "aaMZ47Z3bEEL",
        "colab": {
          "base_uri": "https://localhost:8080/"
        },
        "outputId": "807dab07-5601-4d5a-a658-1d4aed805c6c"
      },
      "source": [
        "def plus(a, b):\n",
        "  return a + b\n",
        "\n",
        "print(plus)\n",
        "plus"
      ],
      "execution_count": null,
      "outputs": [
        {
          "output_type": "stream",
          "name": "stdout",
          "text": [
            "<function plus at 0x7fc4b2406050>\n"
          ]
        },
        {
          "output_type": "execute_result",
          "data": {
            "text/plain": [
              "<function __main__.plus>"
            ]
          },
          "metadata": {},
          "execution_count": 32
        }
      ]
    },
    {
      "cell_type": "code",
      "metadata": {
        "pycharm": {
          "name": "#%%\n"
        },
        "id": "g1BHl1xPbEEM",
        "colab": {
          "base_uri": "https://localhost:8080/"
        },
        "outputId": "e9ce1fef-ebda-4178-ab34-a2eb1553d832"
      },
      "source": [
        "def print_locals(a, b):\n",
        "  print(globals())\n",
        "print_locals(1, 2)"
      ],
      "execution_count": null,
      "outputs": [
        {
          "output_type": "stream",
          "name": "stdout",
          "text": [
            "{'__name__': '__main__', '__doc__': 'Automatically created module for IPython interactive environment', '__package__': None, '__loader__': None, '__spec__': None, '__builtin__': <module 'builtins' (built-in)>, '__builtins__': <module 'builtins' (built-in)>, '_ih': ['', 'def log_call(function):\\n    \"\"\" the function to decorate. \"\"\"\\n    def decorator(*args, **kwargs):\\n        \"\"\" \\n        Decorator that excepts any arguments, returns the value of the decorated function.\\n        Before calling the real function all details of the call are logged.\\n        \"\"\"\\n        print(\"calling %s with %s and %s\" % (function.__name__, args, kwargs))\\n        return function(*args, **kwargs)\\n    return decorator\\n\\n@log_call\\ndef foo(*args, **kwargs): pass # a function that does nothing\\n\\n@log_call\\ndef bar(): return 42 # a function that does return a value\\n\\nfoo()\\nfoo(\\'hello world\\', 1024, 3.1415926535, author=\\'Agatha Christie\\')\\nprint(\\'Return value of bar() is %s\\' % bar())', 'def f(a, b):\\n  pass\\n\\nf()', 'def f(a=None, b):\\n  pass\\n\\nf()', 'def f(a, b=None):\\n  pass\\n\\nf()', 'def f(a, b=None):\\n  pass\\n\\nf(10)', 'def f(a, c, b=None):\\n  pass\\n\\nf(10, 11)', 'def f(a, c, b=None):\\n  print(a, c)\\n\\nf(10, 11)', 'def f(a, c, b=None):\\n  print(a, c)\\n\\nf(c=10, a=11)', 'def f(a, c, b=None, d=1):\\n  print(a, c)\\n\\nf(10, 11, d=5)', 'def f(a, c, /, b=None, d=1):\\n  print(a, c)\\n\\nf(c=10, a=11, d=5)', '# def f(a, c, /, b=None, d=1):\\n#   print(a, c)\\n\\nf(c=10, a=11, d=5)\\n\\nimport sys\\nsys.version', 'def f(*):\\n  print(c)\\n\\nf(c=10)', 'def f(*, a):\\n  print(c)\\n\\nf(c=10)', 'def f(*, a):\\n  print(c)\\n\\nf(c=10, a)', 'def f(*, a):\\n  print(c)\\n\\nf(a=10)', 'def f(*, a):\\n  print(a)\\n\\nf(a=10)', 'def f(*, a):\\n  print(a)\\n\\nf(10)', 'def f(*, a):\\n  print(a)\\n\\nf(a=10)', 'def f(*a, **b):\\n  print(a)\\n\\nf(10, 11, 12, 13)', 'def f(*a, **b):\\n  print(a, b)\\n\\nf(10, 11, 12, 13, a=10, b=11, c=12, d=14)', 'def f(*a, **b):\\n  print(*a, b)\\n\\nf(10, 11, 12, 13, a=10, b=11, c=12, d=14)', 'def f(f):\\n  return sum(f(i) for i in sequence)\\n\\ndef maxfun(sequence, *functions):\\n    return max(functions[::-1], key=f)\\n\\nfrom math import sin, cos\\ndef comparator(x):\\n  return sin(x) * cos(x)\\n\\nmax([1, 2, 3, 4], key=comparator)', 'def maxfun(sequence, *functions):\\n    return max(functions[::-1], key=lambda f: sum(f(i) for i in sequence))\\n\\nfrom math import sin, cos\\ndef comparator(x):\\n  return sin(x)\\n\\nmax([1, 2, 3, 4], key=comparator)', \"def maxfun(sequence, *functions):\\n    return max(functions[::-1], key=lambda f: sum(f(i) for i in sequence))\\n\\nfrom math import sin, cos\\ndef comparator(x):\\n  return int(x)\\n\\nmax([1, '2', 3, 4], key=comparator)\", \"def maxfun(sequence, *functions):\\n    return max(functions[::-1], key=lambda f: sum(f(i) for i in sequence))\\n\\nfrom math import sin, cos\\ndef comparator(x):\\n  return int(x)\\n\\nmax([1, '2', 3, 4], key=lambda x: int(x))\", \"def maxfun(sequence, *functions):\\n    return max(functions[::-1], key=lambda f: sum(f(i) for i in sequence))\\n\\nfrom math import sin, cos\\ndef comparator(x):\\n  return int(x)\\n\\nmax([1, '5', 3, 4], key=lambda x: int(x))\", 'input_list = [[1], [2, 3, 4], [5, 6, 7], [[1]]]\\noutput_list = [item for sublist in input_list for item in sublist]\\noutput_list', 'input_list = [[1], [2, 3, 4], [5, 6, 7], [[1]]]\\noutput_list ={item for sublist in input_list for item in sublist}\\noutput_list', 'input_list = [[1], [2, 3, 4], [5, 6, 7], [1]]\\noutput_list ={item for sublist in input_list for item in sublist}\\noutput_list', 'input_list = [[1], [2, 3, 4], [5, 6, 7], [1]]\\noutput_list = reversed(item for sublist in input_list for item in sublist)\\noutput_list', 'input_list = [[1], [2, 3, 4], [5, 6, 7], [1]]\\noutput_list = sorted(item for sublist in input_list for item in sublist)\\noutput_list', 'def plus(a, b):\\n  return a + b\\n\\nprint(plus)\\nplus', 'globals()', 'func_name = input()\\nglobals()[func_name]()', \"def print_locals(a, b):\\n  print(locals())\\nprint_locals(1, 2)\\neval('print(1)')\", 'func_name = input()\\nglobals()[func_name]()', 'func_name = input()\\nglobals()[func_name](1, 2)', '# func_name = input()\\n# globals()[func_name](1, 2)\\nlocals()', \"def print_locals(a, b):\\n  print(locals())\\nprint_locals(1, 2)\\neval('print(1)')\", 'def print_locals(a, b):\\n  print(globals()))\\nprint_locals(1, 2)', 'def print_locals(a, b):\\n  print(globals())\\nprint_locals(1, 2)'], '_oh': {11: '3.7.12 (default, Sep 10 2021, 00:21:48) \\n[GCC 7.5.0]', 22: 4, 23: 2, 24: 4, 25: 4, 26: '5', 27: [1, 2, 3, 4, 5, 6, 7, [1]], 29: {1, 2, 3, 4, 5, 6, 7}, 31: [1, 1, 2, 3, 4, 5, 6, 7], 32: <function plus at 0x7fc4b2406050>, 33: {...}, 38: {...}}, '_dh': ['/content'], '_sh': <module 'IPython.core.shadowns' from '/usr/local/lib/python3.7/dist-packages/IPython/core/shadowns.py'>, 'In': ['', 'def log_call(function):\\n    \"\"\" the function to decorate. \"\"\"\\n    def decorator(*args, **kwargs):\\n        \"\"\" \\n        Decorator that excepts any arguments, returns the value of the decorated function.\\n        Before calling the real function all details of the call are logged.\\n        \"\"\"\\n        print(\"calling %s with %s and %s\" % (function.__name__, args, kwargs))\\n        return function(*args, **kwargs)\\n    return decorator\\n\\n@log_call\\ndef foo(*args, **kwargs): pass # a function that does nothing\\n\\n@log_call\\ndef bar(): return 42 # a function that does return a value\\n\\nfoo()\\nfoo(\\'hello world\\', 1024, 3.1415926535, author=\\'Agatha Christie\\')\\nprint(\\'Return value of bar() is %s\\' % bar())', 'def f(a, b):\\n  pass\\n\\nf()', 'def f(a=None, b):\\n  pass\\n\\nf()', 'def f(a, b=None):\\n  pass\\n\\nf()', 'def f(a, b=None):\\n  pass\\n\\nf(10)', 'def f(a, c, b=None):\\n  pass\\n\\nf(10, 11)', 'def f(a, c, b=None):\\n  print(a, c)\\n\\nf(10, 11)', 'def f(a, c, b=None):\\n  print(a, c)\\n\\nf(c=10, a=11)', 'def f(a, c, b=None, d=1):\\n  print(a, c)\\n\\nf(10, 11, d=5)', 'def f(a, c, /, b=None, d=1):\\n  print(a, c)\\n\\nf(c=10, a=11, d=5)', '# def f(a, c, /, b=None, d=1):\\n#   print(a, c)\\n\\nf(c=10, a=11, d=5)\\n\\nimport sys\\nsys.version', 'def f(*):\\n  print(c)\\n\\nf(c=10)', 'def f(*, a):\\n  print(c)\\n\\nf(c=10)', 'def f(*, a):\\n  print(c)\\n\\nf(c=10, a)', 'def f(*, a):\\n  print(c)\\n\\nf(a=10)', 'def f(*, a):\\n  print(a)\\n\\nf(a=10)', 'def f(*, a):\\n  print(a)\\n\\nf(10)', 'def f(*, a):\\n  print(a)\\n\\nf(a=10)', 'def f(*a, **b):\\n  print(a)\\n\\nf(10, 11, 12, 13)', 'def f(*a, **b):\\n  print(a, b)\\n\\nf(10, 11, 12, 13, a=10, b=11, c=12, d=14)', 'def f(*a, **b):\\n  print(*a, b)\\n\\nf(10, 11, 12, 13, a=10, b=11, c=12, d=14)', 'def f(f):\\n  return sum(f(i) for i in sequence)\\n\\ndef maxfun(sequence, *functions):\\n    return max(functions[::-1], key=f)\\n\\nfrom math import sin, cos\\ndef comparator(x):\\n  return sin(x) * cos(x)\\n\\nmax([1, 2, 3, 4], key=comparator)', 'def maxfun(sequence, *functions):\\n    return max(functions[::-1], key=lambda f: sum(f(i) for i in sequence))\\n\\nfrom math import sin, cos\\ndef comparator(x):\\n  return sin(x)\\n\\nmax([1, 2, 3, 4], key=comparator)', \"def maxfun(sequence, *functions):\\n    return max(functions[::-1], key=lambda f: sum(f(i) for i in sequence))\\n\\nfrom math import sin, cos\\ndef comparator(x):\\n  return int(x)\\n\\nmax([1, '2', 3, 4], key=comparator)\", \"def maxfun(sequence, *functions):\\n    return max(functions[::-1], key=lambda f: sum(f(i) for i in sequence))\\n\\nfrom math import sin, cos\\ndef comparator(x):\\n  return int(x)\\n\\nmax([1, '2', 3, 4], key=lambda x: int(x))\", \"def maxfun(sequence, *functions):\\n    return max(functions[::-1], key=lambda f: sum(f(i) for i in sequence))\\n\\nfrom math import sin, cos\\ndef comparator(x):\\n  return int(x)\\n\\nmax([1, '5', 3, 4], key=lambda x: int(x))\", 'input_list = [[1], [2, 3, 4], [5, 6, 7], [[1]]]\\noutput_list = [item for sublist in input_list for item in sublist]\\noutput_list', 'input_list = [[1], [2, 3, 4], [5, 6, 7], [[1]]]\\noutput_list ={item for sublist in input_list for item in sublist}\\noutput_list', 'input_list = [[1], [2, 3, 4], [5, 6, 7], [1]]\\noutput_list ={item for sublist in input_list for item in sublist}\\noutput_list', 'input_list = [[1], [2, 3, 4], [5, 6, 7], [1]]\\noutput_list = reversed(item for sublist in input_list for item in sublist)\\noutput_list', 'input_list = [[1], [2, 3, 4], [5, 6, 7], [1]]\\noutput_list = sorted(item for sublist in input_list for item in sublist)\\noutput_list', 'def plus(a, b):\\n  return a + b\\n\\nprint(plus)\\nplus', 'globals()', 'func_name = input()\\nglobals()[func_name]()', \"def print_locals(a, b):\\n  print(locals())\\nprint_locals(1, 2)\\neval('print(1)')\", 'func_name = input()\\nglobals()[func_name]()', 'func_name = input()\\nglobals()[func_name](1, 2)', '# func_name = input()\\n# globals()[func_name](1, 2)\\nlocals()', \"def print_locals(a, b):\\n  print(locals())\\nprint_locals(1, 2)\\neval('print(1)')\", 'def print_locals(a, b):\\n  print(globals()))\\nprint_locals(1, 2)', 'def print_locals(a, b):\\n  print(globals())\\nprint_locals(1, 2)'], 'Out': {11: '3.7.12 (default, Sep 10 2021, 00:21:48) \\n[GCC 7.5.0]', 22: 4, 23: 2, 24: 4, 25: 4, 26: '5', 27: [1, 2, 3, 4, 5, 6, 7, [1]], 29: {1, 2, 3, 4, 5, 6, 7}, 31: [1, 1, 2, 3, 4, 5, 6, 7], 32: <function plus at 0x7fc4b2406050>, 33: {...}, 38: {...}}, 'get_ipython': <bound method InteractiveShell.get_ipython of <google.colab._shell.Shell object at 0x7fc4bfd40ed0>>, 'exit': <IPython.core.autocall.ZMQExitAutocall object at 0x7fc4bfd6c290>, 'quit': <IPython.core.autocall.ZMQExitAutocall object at 0x7fc4bfd6c290>, '_': {...}, '__': {...}, '___': <function plus at 0x7fc4b2406050>, '_i': 'def print_locals(a, b):\\n  print(globals()))\\nprint_locals(1, 2)', '_ii': \"def print_locals(a, b):\\n  print(locals())\\nprint_locals(1, 2)\\neval('print(1)')\", '_iii': '# func_name = input()\\n# globals()[func_name](1, 2)\\nlocals()', '_i1': 'def log_call(function):\\n    \"\"\" the function to decorate. \"\"\"\\n    def decorator(*args, **kwargs):\\n        \"\"\" \\n        Decorator that excepts any arguments, returns the value of the decorated function.\\n        Before calling the real function all details of the call are logged.\\n        \"\"\"\\n        print(\"calling %s with %s and %s\" % (function.__name__, args, kwargs))\\n        return function(*args, **kwargs)\\n    return decorator\\n\\n@log_call\\ndef foo(*args, **kwargs): pass # a function that does nothing\\n\\n@log_call\\ndef bar(): return 42 # a function that does return a value\\n\\nfoo()\\nfoo(\\'hello world\\', 1024, 3.1415926535, author=\\'Agatha Christie\\')\\nprint(\\'Return value of bar() is %s\\' % bar())', 'log_call': <function log_call at 0x7fc4ba105c20>, 'foo': <function log_call.<locals>.decorator at 0x7fc4ba105b00>, 'bar': <function log_call.<locals>.decorator at 0x7fc4ba105cb0>, '_i2': 'def f(a, b):\\n  pass\\n\\nf()', 'f': <function f at 0x7fc4b242f710>, '_i3': 'def f(a=None, b):\\n  pass\\n\\nf()', '_i4': 'def f(a, b=None):\\n  pass\\n\\nf()', '_i5': 'def f(a, b=None):\\n  pass\\n\\nf(10)', '_i6': 'def f(a, c, b=None):\\n  pass\\n\\nf(10, 11)', '_i7': 'def f(a, c, b=None):\\n  print(a, c)\\n\\nf(10, 11)', '_i8': 'def f(a, c, b=None):\\n  print(a, c)\\n\\nf(c=10, a=11)', '_i9': 'def f(a, c, b=None, d=1):\\n  print(a, c)\\n\\nf(10, 11, d=5)', '_i10': 'def f(a, c, /, b=None, d=1):\\n  print(a, c)\\n\\nf(c=10, a=11, d=5)', '_i11': '# def f(a, c, /, b=None, d=1):\\n#   print(a, c)\\n\\nf(c=10, a=11, d=5)\\n\\nimport sys\\nsys.version', 'sys': <module 'sys' (built-in)>, '_11': '3.7.12 (default, Sep 10 2021, 00:21:48) \\n[GCC 7.5.0]', '_i12': 'def f(*):\\n  print(c)\\n\\nf(c=10)', '_i13': 'def f(*, a):\\n  print(c)\\n\\nf(c=10)', '_i14': 'def f(*, a):\\n  print(c)\\n\\nf(c=10, a)', '_i15': 'def f(*, a):\\n  print(c)\\n\\nf(a=10)', '_i16': 'def f(*, a):\\n  print(a)\\n\\nf(a=10)', '_i17': 'def f(*, a):\\n  print(a)\\n\\nf(10)', '_i18': 'def f(*, a):\\n  print(a)\\n\\nf(a=10)', '_i19': 'def f(*a, **b):\\n  print(a)\\n\\nf(10, 11, 12, 13)', '_i20': 'def f(*a, **b):\\n  print(a, b)\\n\\nf(10, 11, 12, 13, a=10, b=11, c=12, d=14)', '_i21': 'def f(*a, **b):\\n  print(*a, b)\\n\\nf(10, 11, 12, 13, a=10, b=11, c=12, d=14)', '_i22': 'def f(f):\\n  return sum(f(i) for i in sequence)\\n\\ndef maxfun(sequence, *functions):\\n    return max(functions[::-1], key=f)\\n\\nfrom math import sin, cos\\ndef comparator(x):\\n  return sin(x) * cos(x)\\n\\nmax([1, 2, 3, 4], key=comparator)', 'maxfun': <function maxfun at 0x7fc4b244c830>, 'sin': <built-in function sin>, 'cos': <built-in function cos>, 'comparator': <function comparator at 0x7fc4b2484b00>, '_22': 4, '_i23': 'def maxfun(sequence, *functions):\\n    return max(functions[::-1], key=lambda f: sum(f(i) for i in sequence))\\n\\nfrom math import sin, cos\\ndef comparator(x):\\n  return sin(x)\\n\\nmax([1, 2, 3, 4], key=comparator)', '_23': 2, '_i24': \"def maxfun(sequence, *functions):\\n    return max(functions[::-1], key=lambda f: sum(f(i) for i in sequence))\\n\\nfrom math import sin, cos\\ndef comparator(x):\\n  return int(x)\\n\\nmax([1, '2', 3, 4], key=comparator)\", '_24': 4, '_i25': \"def maxfun(sequence, *functions):\\n    return max(functions[::-1], key=lambda f: sum(f(i) for i in sequence))\\n\\nfrom math import sin, cos\\ndef comparator(x):\\n  return int(x)\\n\\nmax([1, '2', 3, 4], key=lambda x: int(x))\", '_25': 4, '_i26': \"def maxfun(sequence, *functions):\\n    return max(functions[::-1], key=lambda f: sum(f(i) for i in sequence))\\n\\nfrom math import sin, cos\\ndef comparator(x):\\n  return int(x)\\n\\nmax([1, '5', 3, 4], key=lambda x: int(x))\", '_26': '5', '_i27': 'input_list = [[1], [2, 3, 4], [5, 6, 7], [[1]]]\\noutput_list = [item for sublist in input_list for item in sublist]\\noutput_list', 'input_list': [[1], [2, 3, 4], [5, 6, 7], [1]], 'output_list': [1, 1, 2, 3, 4, 5, 6, 7], '_27': [1, 2, 3, 4, 5, 6, 7, [1]], '_i28': 'input_list = [[1], [2, 3, 4], [5, 6, 7], [[1]]]\\noutput_list ={item for sublist in input_list for item in sublist}\\noutput_list', '_i29': 'input_list = [[1], [2, 3, 4], [5, 6, 7], [1]]\\noutput_list ={item for sublist in input_list for item in sublist}\\noutput_list', '_29': {1, 2, 3, 4, 5, 6, 7}, '_i30': 'input_list = [[1], [2, 3, 4], [5, 6, 7], [1]]\\noutput_list = reversed(item for sublist in input_list for item in sublist)\\noutput_list', '_i31': 'input_list = [[1], [2, 3, 4], [5, 6, 7], [1]]\\noutput_list = sorted(item for sublist in input_list for item in sublist)\\noutput_list', '_31': [1, 1, 2, 3, 4, 5, 6, 7], '_i32': 'def plus(a, b):\\n  return a + b\\n\\nprint(plus)\\nplus', 'plus': <function plus at 0x7fc4b2406050>, '_32': <function plus at 0x7fc4b2406050>, '_i33': 'globals()', '_33': {...}, '_i34': 'func_name = input()\\nglobals()[func_name]()', '_i35': \"def print_locals(a, b):\\n  print(locals())\\nprint_locals(1, 2)\\neval('print(1)')\", 'print_locals': <function print_locals at 0x7fc4b23c2a70>, '_i36': 'func_name = input()\\nglobals()[func_name]()', 'func_name': 'print_locals', '_i37': 'func_name = input()\\nglobals()[func_name](1, 2)', '_i38': '# func_name = input()\\n# globals()[func_name](1, 2)\\nlocals()', '_38': {...}, '_i39': \"def print_locals(a, b):\\n  print(locals())\\nprint_locals(1, 2)\\neval('print(1)')\", '_i40': 'def print_locals(a, b):\\n  print(globals()))\\nprint_locals(1, 2)', '_i41': 'def print_locals(a, b):\\n  print(globals())\\nprint_locals(1, 2)'}\n"
          ]
        }
      ]
    },
    {
      "cell_type": "code",
      "metadata": {
        "pycharm": {
          "name": "#%%\n"
        },
        "id": "citzPj1SbEEP",
        "colab": {
          "base_uri": "https://localhost:8080/"
        },
        "outputId": "e23f90cb-9e1b-4b80-8609-92d5c727c347"
      },
      "source": [
        "# func_name = input()\n",
        "# globals()[func_name](1, 2)\n",
        "locals()"
      ],
      "execution_count": null,
      "outputs": [
        {
          "output_type": "execute_result",
          "data": {
            "text/plain": [
              "{'In': ['',\n",
              "  'def log_call(function):\\n    \"\"\" the function to decorate. \"\"\"\\n    def decorator(*args, **kwargs):\\n        \"\"\" \\n        Decorator that excepts any arguments, returns the value of the decorated function.\\n        Before calling the real function all details of the call are logged.\\n        \"\"\"\\n        print(\"calling %s with %s and %s\" % (function.__name__, args, kwargs))\\n        return function(*args, **kwargs)\\n    return decorator\\n\\n@log_call\\ndef foo(*args, **kwargs): pass # a function that does nothing\\n\\n@log_call\\ndef bar(): return 42 # a function that does return a value\\n\\nfoo()\\nfoo(\\'hello world\\', 1024, 3.1415926535, author=\\'Agatha Christie\\')\\nprint(\\'Return value of bar() is %s\\' % bar())',\n",
              "  'def f(a, b):\\n  pass\\n\\nf()',\n",
              "  'def f(a=None, b):\\n  pass\\n\\nf()',\n",
              "  'def f(a, b=None):\\n  pass\\n\\nf()',\n",
              "  'def f(a, b=None):\\n  pass\\n\\nf(10)',\n",
              "  'def f(a, c, b=None):\\n  pass\\n\\nf(10, 11)',\n",
              "  'def f(a, c, b=None):\\n  print(a, c)\\n\\nf(10, 11)',\n",
              "  'def f(a, c, b=None):\\n  print(a, c)\\n\\nf(c=10, a=11)',\n",
              "  'def f(a, c, b=None, d=1):\\n  print(a, c)\\n\\nf(10, 11, d=5)',\n",
              "  'def f(a, c, /, b=None, d=1):\\n  print(a, c)\\n\\nf(c=10, a=11, d=5)',\n",
              "  '# def f(a, c, /, b=None, d=1):\\n#   print(a, c)\\n\\nf(c=10, a=11, d=5)\\n\\nimport sys\\nsys.version',\n",
              "  'def f(*):\\n  print(c)\\n\\nf(c=10)',\n",
              "  'def f(*, a):\\n  print(c)\\n\\nf(c=10)',\n",
              "  'def f(*, a):\\n  print(c)\\n\\nf(c=10, a)',\n",
              "  'def f(*, a):\\n  print(c)\\n\\nf(a=10)',\n",
              "  'def f(*, a):\\n  print(a)\\n\\nf(a=10)',\n",
              "  'def f(*, a):\\n  print(a)\\n\\nf(10)',\n",
              "  'def f(*, a):\\n  print(a)\\n\\nf(a=10)',\n",
              "  'def f(*a, **b):\\n  print(a)\\n\\nf(10, 11, 12, 13)',\n",
              "  'def f(*a, **b):\\n  print(a, b)\\n\\nf(10, 11, 12, 13, a=10, b=11, c=12, d=14)',\n",
              "  'def f(*a, **b):\\n  print(*a, b)\\n\\nf(10, 11, 12, 13, a=10, b=11, c=12, d=14)',\n",
              "  'def f(f):\\n  return sum(f(i) for i in sequence)\\n\\ndef maxfun(sequence, *functions):\\n    return max(functions[::-1], key=f)\\n\\nfrom math import sin, cos\\ndef comparator(x):\\n  return sin(x) * cos(x)\\n\\nmax([1, 2, 3, 4], key=comparator)',\n",
              "  'def maxfun(sequence, *functions):\\n    return max(functions[::-1], key=lambda f: sum(f(i) for i in sequence))\\n\\nfrom math import sin, cos\\ndef comparator(x):\\n  return sin(x)\\n\\nmax([1, 2, 3, 4], key=comparator)',\n",
              "  \"def maxfun(sequence, *functions):\\n    return max(functions[::-1], key=lambda f: sum(f(i) for i in sequence))\\n\\nfrom math import sin, cos\\ndef comparator(x):\\n  return int(x)\\n\\nmax([1, '2', 3, 4], key=comparator)\",\n",
              "  \"def maxfun(sequence, *functions):\\n    return max(functions[::-1], key=lambda f: sum(f(i) for i in sequence))\\n\\nfrom math import sin, cos\\ndef comparator(x):\\n  return int(x)\\n\\nmax([1, '2', 3, 4], key=lambda x: int(x))\",\n",
              "  \"def maxfun(sequence, *functions):\\n    return max(functions[::-1], key=lambda f: sum(f(i) for i in sequence))\\n\\nfrom math import sin, cos\\ndef comparator(x):\\n  return int(x)\\n\\nmax([1, '5', 3, 4], key=lambda x: int(x))\",\n",
              "  'input_list = [[1], [2, 3, 4], [5, 6, 7], [[1]]]\\noutput_list = [item for sublist in input_list for item in sublist]\\noutput_list',\n",
              "  'input_list = [[1], [2, 3, 4], [5, 6, 7], [[1]]]\\noutput_list ={item for sublist in input_list for item in sublist}\\noutput_list',\n",
              "  'input_list = [[1], [2, 3, 4], [5, 6, 7], [1]]\\noutput_list ={item for sublist in input_list for item in sublist}\\noutput_list',\n",
              "  'input_list = [[1], [2, 3, 4], [5, 6, 7], [1]]\\noutput_list = reversed(item for sublist in input_list for item in sublist)\\noutput_list',\n",
              "  'input_list = [[1], [2, 3, 4], [5, 6, 7], [1]]\\noutput_list = sorted(item for sublist in input_list for item in sublist)\\noutput_list',\n",
              "  'def plus(a, b):\\n  return a + b\\n\\nprint(plus)\\nplus',\n",
              "  'globals()',\n",
              "  'func_name = input()\\nglobals()[func_name]()',\n",
              "  \"def print_locals(a, b):\\n  print(locals())\\nprint_locals(1, 2)\\neval('print(1)')\",\n",
              "  'func_name = input()\\nglobals()[func_name]()',\n",
              "  'func_name = input()\\nglobals()[func_name](1, 2)',\n",
              "  '# func_name = input()\\n# globals()[func_name](1, 2)\\nlocals()'],\n",
              " 'Out': {11: '3.7.12 (default, Sep 10 2021, 00:21:48) \\n[GCC 7.5.0]',\n",
              "  22: 4,\n",
              "  23: 2,\n",
              "  24: 4,\n",
              "  25: 4,\n",
              "  26: '5',\n",
              "  27: [1, 2, 3, 4, 5, 6, 7, [1]],\n",
              "  29: {1, 2, 3, 4, 5, 6, 7},\n",
              "  31: [1, 1, 2, 3, 4, 5, 6, 7],\n",
              "  32: <function __main__.plus>,\n",
              "  33: {...}},\n",
              " '_': {...},\n",
              " '_11': '3.7.12 (default, Sep 10 2021, 00:21:48) \\n[GCC 7.5.0]',\n",
              " '_22': 4,\n",
              " '_23': 2,\n",
              " '_24': 4,\n",
              " '_25': 4,\n",
              " '_26': '5',\n",
              " '_27': [1, 2, 3, 4, 5, 6, 7, [1]],\n",
              " '_29': {1, 2, 3, 4, 5, 6, 7},\n",
              " '_31': [1, 1, 2, 3, 4, 5, 6, 7],\n",
              " '_32': <function __main__.plus>,\n",
              " '_33': {...},\n",
              " '__': <function __main__.plus>,\n",
              " '___': [1, 1, 2, 3, 4, 5, 6, 7],\n",
              " '__builtin__': <module 'builtins' (built-in)>,\n",
              " '__builtins__': <module 'builtins' (built-in)>,\n",
              " '__doc__': 'Automatically created module for IPython interactive environment',\n",
              " '__loader__': None,\n",
              " '__name__': '__main__',\n",
              " '__package__': None,\n",
              " '__spec__': None,\n",
              " '_dh': ['/content'],\n",
              " '_i': 'func_name = input()\\nglobals()[func_name](1, 2)',\n",
              " '_i1': 'def log_call(function):\\n    \"\"\" the function to decorate. \"\"\"\\n    def decorator(*args, **kwargs):\\n        \"\"\" \\n        Decorator that excepts any arguments, returns the value of the decorated function.\\n        Before calling the real function all details of the call are logged.\\n        \"\"\"\\n        print(\"calling %s with %s and %s\" % (function.__name__, args, kwargs))\\n        return function(*args, **kwargs)\\n    return decorator\\n\\n@log_call\\ndef foo(*args, **kwargs): pass # a function that does nothing\\n\\n@log_call\\ndef bar(): return 42 # a function that does return a value\\n\\nfoo()\\nfoo(\\'hello world\\', 1024, 3.1415926535, author=\\'Agatha Christie\\')\\nprint(\\'Return value of bar() is %s\\' % bar())',\n",
              " '_i10': 'def f(a, c, /, b=None, d=1):\\n  print(a, c)\\n\\nf(c=10, a=11, d=5)',\n",
              " '_i11': '# def f(a, c, /, b=None, d=1):\\n#   print(a, c)\\n\\nf(c=10, a=11, d=5)\\n\\nimport sys\\nsys.version',\n",
              " '_i12': 'def f(*):\\n  print(c)\\n\\nf(c=10)',\n",
              " '_i13': 'def f(*, a):\\n  print(c)\\n\\nf(c=10)',\n",
              " '_i14': 'def f(*, a):\\n  print(c)\\n\\nf(c=10, a)',\n",
              " '_i15': 'def f(*, a):\\n  print(c)\\n\\nf(a=10)',\n",
              " '_i16': 'def f(*, a):\\n  print(a)\\n\\nf(a=10)',\n",
              " '_i17': 'def f(*, a):\\n  print(a)\\n\\nf(10)',\n",
              " '_i18': 'def f(*, a):\\n  print(a)\\n\\nf(a=10)',\n",
              " '_i19': 'def f(*a, **b):\\n  print(a)\\n\\nf(10, 11, 12, 13)',\n",
              " '_i2': 'def f(a, b):\\n  pass\\n\\nf()',\n",
              " '_i20': 'def f(*a, **b):\\n  print(a, b)\\n\\nf(10, 11, 12, 13, a=10, b=11, c=12, d=14)',\n",
              " '_i21': 'def f(*a, **b):\\n  print(*a, b)\\n\\nf(10, 11, 12, 13, a=10, b=11, c=12, d=14)',\n",
              " '_i22': 'def f(f):\\n  return sum(f(i) for i in sequence)\\n\\ndef maxfun(sequence, *functions):\\n    return max(functions[::-1], key=f)\\n\\nfrom math import sin, cos\\ndef comparator(x):\\n  return sin(x) * cos(x)\\n\\nmax([1, 2, 3, 4], key=comparator)',\n",
              " '_i23': 'def maxfun(sequence, *functions):\\n    return max(functions[::-1], key=lambda f: sum(f(i) for i in sequence))\\n\\nfrom math import sin, cos\\ndef comparator(x):\\n  return sin(x)\\n\\nmax([1, 2, 3, 4], key=comparator)',\n",
              " '_i24': \"def maxfun(sequence, *functions):\\n    return max(functions[::-1], key=lambda f: sum(f(i) for i in sequence))\\n\\nfrom math import sin, cos\\ndef comparator(x):\\n  return int(x)\\n\\nmax([1, '2', 3, 4], key=comparator)\",\n",
              " '_i25': \"def maxfun(sequence, *functions):\\n    return max(functions[::-1], key=lambda f: sum(f(i) for i in sequence))\\n\\nfrom math import sin, cos\\ndef comparator(x):\\n  return int(x)\\n\\nmax([1, '2', 3, 4], key=lambda x: int(x))\",\n",
              " '_i26': \"def maxfun(sequence, *functions):\\n    return max(functions[::-1], key=lambda f: sum(f(i) for i in sequence))\\n\\nfrom math import sin, cos\\ndef comparator(x):\\n  return int(x)\\n\\nmax([1, '5', 3, 4], key=lambda x: int(x))\",\n",
              " '_i27': 'input_list = [[1], [2, 3, 4], [5, 6, 7], [[1]]]\\noutput_list = [item for sublist in input_list for item in sublist]\\noutput_list',\n",
              " '_i28': 'input_list = [[1], [2, 3, 4], [5, 6, 7], [[1]]]\\noutput_list ={item for sublist in input_list for item in sublist}\\noutput_list',\n",
              " '_i29': 'input_list = [[1], [2, 3, 4], [5, 6, 7], [1]]\\noutput_list ={item for sublist in input_list for item in sublist}\\noutput_list',\n",
              " '_i3': 'def f(a=None, b):\\n  pass\\n\\nf()',\n",
              " '_i30': 'input_list = [[1], [2, 3, 4], [5, 6, 7], [1]]\\noutput_list = reversed(item for sublist in input_list for item in sublist)\\noutput_list',\n",
              " '_i31': 'input_list = [[1], [2, 3, 4], [5, 6, 7], [1]]\\noutput_list = sorted(item for sublist in input_list for item in sublist)\\noutput_list',\n",
              " '_i32': 'def plus(a, b):\\n  return a + b\\n\\nprint(plus)\\nplus',\n",
              " '_i33': 'globals()',\n",
              " '_i34': 'func_name = input()\\nglobals()[func_name]()',\n",
              " '_i35': \"def print_locals(a, b):\\n  print(locals())\\nprint_locals(1, 2)\\neval('print(1)')\",\n",
              " '_i36': 'func_name = input()\\nglobals()[func_name]()',\n",
              " '_i37': 'func_name = input()\\nglobals()[func_name](1, 2)',\n",
              " '_i38': '# func_name = input()\\n# globals()[func_name](1, 2)\\nlocals()',\n",
              " '_i4': 'def f(a, b=None):\\n  pass\\n\\nf()',\n",
              " '_i5': 'def f(a, b=None):\\n  pass\\n\\nf(10)',\n",
              " '_i6': 'def f(a, c, b=None):\\n  pass\\n\\nf(10, 11)',\n",
              " '_i7': 'def f(a, c, b=None):\\n  print(a, c)\\n\\nf(10, 11)',\n",
              " '_i8': 'def f(a, c, b=None):\\n  print(a, c)\\n\\nf(c=10, a=11)',\n",
              " '_i9': 'def f(a, c, b=None, d=1):\\n  print(a, c)\\n\\nf(10, 11, d=5)',\n",
              " '_ih': ['',\n",
              "  'def log_call(function):\\n    \"\"\" the function to decorate. \"\"\"\\n    def decorator(*args, **kwargs):\\n        \"\"\" \\n        Decorator that excepts any arguments, returns the value of the decorated function.\\n        Before calling the real function all details of the call are logged.\\n        \"\"\"\\n        print(\"calling %s with %s and %s\" % (function.__name__, args, kwargs))\\n        return function(*args, **kwargs)\\n    return decorator\\n\\n@log_call\\ndef foo(*args, **kwargs): pass # a function that does nothing\\n\\n@log_call\\ndef bar(): return 42 # a function that does return a value\\n\\nfoo()\\nfoo(\\'hello world\\', 1024, 3.1415926535, author=\\'Agatha Christie\\')\\nprint(\\'Return value of bar() is %s\\' % bar())',\n",
              "  'def f(a, b):\\n  pass\\n\\nf()',\n",
              "  'def f(a=None, b):\\n  pass\\n\\nf()',\n",
              "  'def f(a, b=None):\\n  pass\\n\\nf()',\n",
              "  'def f(a, b=None):\\n  pass\\n\\nf(10)',\n",
              "  'def f(a, c, b=None):\\n  pass\\n\\nf(10, 11)',\n",
              "  'def f(a, c, b=None):\\n  print(a, c)\\n\\nf(10, 11)',\n",
              "  'def f(a, c, b=None):\\n  print(a, c)\\n\\nf(c=10, a=11)',\n",
              "  'def f(a, c, b=None, d=1):\\n  print(a, c)\\n\\nf(10, 11, d=5)',\n",
              "  'def f(a, c, /, b=None, d=1):\\n  print(a, c)\\n\\nf(c=10, a=11, d=5)',\n",
              "  '# def f(a, c, /, b=None, d=1):\\n#   print(a, c)\\n\\nf(c=10, a=11, d=5)\\n\\nimport sys\\nsys.version',\n",
              "  'def f(*):\\n  print(c)\\n\\nf(c=10)',\n",
              "  'def f(*, a):\\n  print(c)\\n\\nf(c=10)',\n",
              "  'def f(*, a):\\n  print(c)\\n\\nf(c=10, a)',\n",
              "  'def f(*, a):\\n  print(c)\\n\\nf(a=10)',\n",
              "  'def f(*, a):\\n  print(a)\\n\\nf(a=10)',\n",
              "  'def f(*, a):\\n  print(a)\\n\\nf(10)',\n",
              "  'def f(*, a):\\n  print(a)\\n\\nf(a=10)',\n",
              "  'def f(*a, **b):\\n  print(a)\\n\\nf(10, 11, 12, 13)',\n",
              "  'def f(*a, **b):\\n  print(a, b)\\n\\nf(10, 11, 12, 13, a=10, b=11, c=12, d=14)',\n",
              "  'def f(*a, **b):\\n  print(*a, b)\\n\\nf(10, 11, 12, 13, a=10, b=11, c=12, d=14)',\n",
              "  'def f(f):\\n  return sum(f(i) for i in sequence)\\n\\ndef maxfun(sequence, *functions):\\n    return max(functions[::-1], key=f)\\n\\nfrom math import sin, cos\\ndef comparator(x):\\n  return sin(x) * cos(x)\\n\\nmax([1, 2, 3, 4], key=comparator)',\n",
              "  'def maxfun(sequence, *functions):\\n    return max(functions[::-1], key=lambda f: sum(f(i) for i in sequence))\\n\\nfrom math import sin, cos\\ndef comparator(x):\\n  return sin(x)\\n\\nmax([1, 2, 3, 4], key=comparator)',\n",
              "  \"def maxfun(sequence, *functions):\\n    return max(functions[::-1], key=lambda f: sum(f(i) for i in sequence))\\n\\nfrom math import sin, cos\\ndef comparator(x):\\n  return int(x)\\n\\nmax([1, '2', 3, 4], key=comparator)\",\n",
              "  \"def maxfun(sequence, *functions):\\n    return max(functions[::-1], key=lambda f: sum(f(i) for i in sequence))\\n\\nfrom math import sin, cos\\ndef comparator(x):\\n  return int(x)\\n\\nmax([1, '2', 3, 4], key=lambda x: int(x))\",\n",
              "  \"def maxfun(sequence, *functions):\\n    return max(functions[::-1], key=lambda f: sum(f(i) for i in sequence))\\n\\nfrom math import sin, cos\\ndef comparator(x):\\n  return int(x)\\n\\nmax([1, '5', 3, 4], key=lambda x: int(x))\",\n",
              "  'input_list = [[1], [2, 3, 4], [5, 6, 7], [[1]]]\\noutput_list = [item for sublist in input_list for item in sublist]\\noutput_list',\n",
              "  'input_list = [[1], [2, 3, 4], [5, 6, 7], [[1]]]\\noutput_list ={item for sublist in input_list for item in sublist}\\noutput_list',\n",
              "  'input_list = [[1], [2, 3, 4], [5, 6, 7], [1]]\\noutput_list ={item for sublist in input_list for item in sublist}\\noutput_list',\n",
              "  'input_list = [[1], [2, 3, 4], [5, 6, 7], [1]]\\noutput_list = reversed(item for sublist in input_list for item in sublist)\\noutput_list',\n",
              "  'input_list = [[1], [2, 3, 4], [5, 6, 7], [1]]\\noutput_list = sorted(item for sublist in input_list for item in sublist)\\noutput_list',\n",
              "  'def plus(a, b):\\n  return a + b\\n\\nprint(plus)\\nplus',\n",
              "  'globals()',\n",
              "  'func_name = input()\\nglobals()[func_name]()',\n",
              "  \"def print_locals(a, b):\\n  print(locals())\\nprint_locals(1, 2)\\neval('print(1)')\",\n",
              "  'func_name = input()\\nglobals()[func_name]()',\n",
              "  'func_name = input()\\nglobals()[func_name](1, 2)',\n",
              "  '# func_name = input()\\n# globals()[func_name](1, 2)\\nlocals()'],\n",
              " '_ii': 'func_name = input()\\nglobals()[func_name]()',\n",
              " '_iii': \"def print_locals(a, b):\\n  print(locals())\\nprint_locals(1, 2)\\neval('print(1)')\",\n",
              " '_oh': {11: '3.7.12 (default, Sep 10 2021, 00:21:48) \\n[GCC 7.5.0]',\n",
              "  22: 4,\n",
              "  23: 2,\n",
              "  24: 4,\n",
              "  25: 4,\n",
              "  26: '5',\n",
              "  27: [1, 2, 3, 4, 5, 6, 7, [1]],\n",
              "  29: {1, 2, 3, 4, 5, 6, 7},\n",
              "  31: [1, 1, 2, 3, 4, 5, 6, 7],\n",
              "  32: <function __main__.plus>,\n",
              "  33: {...}},\n",
              " '_sh': <module 'IPython.core.shadowns' from '/usr/local/lib/python3.7/dist-packages/IPython/core/shadowns.py'>,\n",
              " 'bar': <function __main__.log_call.<locals>.decorator>,\n",
              " 'comparator': <function __main__.comparator>,\n",
              " 'cos': <function math.cos>,\n",
              " 'exit': <IPython.core.autocall.ZMQExitAutocall at 0x7fc4bfd6c290>,\n",
              " 'f': <function __main__.f>,\n",
              " 'foo': <function __main__.log_call.<locals>.decorator>,\n",
              " 'func_name': 'print_locals',\n",
              " 'get_ipython': <bound method InteractiveShell.get_ipython of <google.colab._shell.Shell object at 0x7fc4bfd40ed0>>,\n",
              " 'input_list': [[1], [2, 3, 4], [5, 6, 7], [1]],\n",
              " 'log_call': <function __main__.log_call>,\n",
              " 'maxfun': <function __main__.maxfun>,\n",
              " 'output_list': [1, 1, 2, 3, 4, 5, 6, 7],\n",
              " 'plus': <function __main__.plus>,\n",
              " 'print_locals': <function __main__.print_locals>,\n",
              " 'quit': <IPython.core.autocall.ZMQExitAutocall at 0x7fc4bfd6c290>,\n",
              " 'sin': <function math.sin>,\n",
              " 'sys': <module 'sys' (built-in)>}"
            ]
          },
          "metadata": {},
          "execution_count": 38
        }
      ]
    }
  ]
}