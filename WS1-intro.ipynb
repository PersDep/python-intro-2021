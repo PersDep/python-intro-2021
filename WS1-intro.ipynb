{
  "nbformat": 4,
  "nbformat_minor": 0,
  "metadata": {
    "kernelspec": {
      "display_name": "Python 3",
      "language": "python",
      "name": "python3"
    },
    "language_info": {
      "codemirror_mode": {
        "name": "ipython",
        "version": 3
      },
      "file_extension": ".py",
      "mimetype": "text/x-python",
      "name": "python",
      "nbconvert_exporter": "python",
      "pygments_lexer": "ipython3",
      "version": "3.8.5"
    },
    "toc": {
      "base_numbering": 1,
      "nav_menu": {},
      "number_sections": true,
      "sideBar": true,
      "skip_h1_title": false,
      "title_cell": "Table of Contents",
      "title_sidebar": "Contents",
      "toc_cell": false,
      "toc_position": {},
      "toc_section_display": true,
      "toc_window_display": true
    },
    "varInspector": {
      "cols": {
        "lenName": 16,
        "lenType": 16,
        "lenVar": 40
      },
      "kernels_config": {
        "python": {
          "delete_cmd_postfix": "",
          "delete_cmd_prefix": "del ",
          "library": "var_list.py",
          "varRefreshCmd": "print(var_dic_list())"
        },
        "r": {
          "delete_cmd_postfix": ") ",
          "delete_cmd_prefix": "rm(",
          "library": "var_list.r",
          "varRefreshCmd": "cat(var_dic_list()) "
        }
      },
      "types_to_exclude": [
        "module",
        "function",
        "builtin_function_or_method",
        "instance",
        "_Feature"
      ],
      "window_display": false
    },
    "colab": {
      "name": "WS1-intro.ipynb",
      "provenance": []
    }
  },
  "cells": [
    {
      "cell_type": "markdown",
      "metadata": {
        "id": "QFxCk-kqTQ-t"
      },
      "source": [
        "## 0. Куда это я попал? \n",
        "\n",
        "__ IPython ((Jupyter Notebooks))__ - это инструмент для интерактивного взаимодействия с исходным кодом Python. Можно писать код, выполнять его и сразу видеть результат. Есть много минусов, включая отсутствие отладки, запутанность состояния, а также ещё более низкий перформанс."
      ]
    },
    {
      "cell_type": "code",
      "metadata": {
        "id": "Y_qapeYtTQ-v"
      },
      "source": [
        "# Пробуем\n"
      ],
      "execution_count": null,
      "outputs": []
    },
    {
      "cell_type": "markdown",
      "metadata": {
        "id": "JHs6kKObh9VS"
      },
      "source": [
        ""
      ]
    },
    {
      "cell_type": "markdown",
      "metadata": {
        "id": "0Ua0g4Q8TQ-x"
      },
      "source": [
        "### Markdown\n",
        "\n",
        "- [10-минутный урок по синтаксису](https://www.markdowntutorial.com/)\n",
        "- [Короткий гайд по синтаксису](https://guides.github.com/features/mastering-markdown/)"
      ]
    },
    {
      "cell_type": "markdown",
      "metadata": {
        "id": "x1VGbip0TQ-y"
      },
      "source": [
        "## 1. Python как калькулятор\n",
        "\n",
        "Можно складывать, умножать, делить и так далее..."
      ]
    },
    {
      "cell_type": "code",
      "metadata": {
        "id": "9XrZyYe6TQ-0",
        "outputId": "ee6caa31-a021-40fa-e32a-3bfcd2891679",
        "colab": {
          "base_uri": "https://localhost:8080/"
        }
      },
      "source": [
        "1000000000000000000000000000000000000000000000000000000000000000 * 1000000000000000000000000000000000000000000000000000000000000000000000000000000000000000000000000"
      ],
      "execution_count": 1,
      "outputs": [
        {
          "output_type": "execute_result",
          "data": {
            "text/plain": [
              "1000000000000000000000000000000000000000000000000000000000000000000000000000000000000000000000000000000000000000000000000000000000000000000000000000000000000000"
            ]
          },
          "metadata": {},
          "execution_count": 1
        }
      ]
    },
    {
      "cell_type": "code",
      "metadata": {
        "id": "itVkm-VJTQ-1",
        "outputId": "65cf0528-b318-4b02-c255-48a02185cc01",
        "colab": {
          "base_uri": "https://localhost:8080/"
        }
      },
      "source": [
        "5 ** 3"
      ],
      "execution_count": 2,
      "outputs": [
        {
          "output_type": "execute_result",
          "data": {
            "text/plain": [
              "125"
            ]
          },
          "metadata": {},
          "execution_count": 2
        }
      ]
    },
    {
      "cell_type": "code",
      "metadata": {
        "id": "CJ2pqnYCTQ-3",
        "outputId": "f31eda1b-0741-41db-a528-5f49d8d232a0",
        "colab": {
          "base_uri": "https://localhost:8080/"
        }
      },
      "source": [
        "5 / 2"
      ],
      "execution_count": 3,
      "outputs": [
        {
          "output_type": "execute_result",
          "data": {
            "text/plain": [
              "2.5"
            ]
          },
          "metadata": {},
          "execution_count": 3
        }
      ]
    },
    {
      "cell_type": "code",
      "metadata": {
        "id": "GYIwL94HTQ-3",
        "outputId": "1a557c6e-8437-4f57-ad71-b6287d4f71b0",
        "colab": {
          "base_uri": "https://localhost:8080/"
        }
      },
      "source": [
        "5 // 2 #Человек против машины: раунд 1, угадайте, что получится?"
      ],
      "execution_count": 4,
      "outputs": [
        {
          "output_type": "execute_result",
          "data": {
            "text/plain": [
              "2"
            ]
          },
          "metadata": {},
          "execution_count": 4
        }
      ]
    },
    {
      "cell_type": "markdown",
      "metadata": {
        "id": "hRPeGHNlTQ-4"
      },
      "source": [
        "Как обстоят дела с другими операциями? Попробуем извлечь квадратный корень:"
      ]
    },
    {
      "cell_type": "code",
      "metadata": {
        "id": "VzFsptquTQ-5",
        "outputId": "32da3f04-2f0f-4a80-8383-c36a70434e98",
        "colab": {
          "base_uri": "https://localhost:8080/",
          "height": 162
        }
      },
      "source": [
        "sqrt(4)"
      ],
      "execution_count": 5,
      "outputs": [
        {
          "output_type": "error",
          "ename": "NameError",
          "evalue": "ignored",
          "traceback": [
            "\u001b[1;31m---------------------------------------------------------------------------\u001b[0m",
            "\u001b[1;31mNameError\u001b[0m                                 Traceback (most recent call last)",
            "\u001b[1;32m<ipython-input-5-317e033d29d5>\u001b[0m in \u001b[0;36m<module>\u001b[1;34m\u001b[0m\n\u001b[1;32m----> 1\u001b[1;33m \u001b[0msqrt\u001b[0m\u001b[1;33m(\u001b[0m\u001b[1;36m4\u001b[0m\u001b[1;33m)\u001b[0m\u001b[1;33m\u001b[0m\u001b[1;33m\u001b[0m\u001b[0m\n\u001b[0m",
            "\u001b[1;31mNameError\u001b[0m: name 'sqrt' is not defined"
          ]
        }
      ]
    },
    {
      "cell_type": "markdown",
      "metadata": {
        "id": "NetD0ZwtTQ-5"
      },
      "source": [
        "Рантайм выбросил исключение: имя sqrt недоступно нам в по умолчанию. Однако, не всё так плохо: соответствующая функция есть в модуле math. Чтобы ей воспользоваться, нужно импортировать этот модуль. Это можно сделать разными способами."
      ]
    },
    {
      "cell_type": "code",
      "metadata": {
        "id": "1Y4ziPAJTQ-6",
        "outputId": "134be5ec-37bd-4400-cc43-c4d274936d2f",
        "colab": {
          "base_uri": "https://localhost:8080/"
        }
      },
      "source": [
        "import math\n",
        "print(math.sqrt(17))\n",
        "math.sqrt(4)"
      ],
      "execution_count": 6,
      "outputs": [
        {
          "output_type": "stream",
          "name": "stdout",
          "text": [
            "4.123105625617661\n"
          ]
        },
        {
          "output_type": "execute_result",
          "data": {
            "text/plain": [
              "2.0"
            ]
          },
          "metadata": {},
          "execution_count": 6
        }
      ]
    },
    {
      "cell_type": "code",
      "metadata": {
        "id": "vuTKrLbBTQ-6",
        "outputId": "89efcae9-2c2f-4019-dfa1-caf5c8f9862e",
        "colab": {
          "base_uri": "https://localhost:8080/"
        }
      },
      "source": [
        "print(17 ** 0.5)\n",
        "4 ** 0.5"
      ],
      "execution_count": 7,
      "outputs": [
        {
          "output_type": "stream",
          "name": "stdout",
          "text": [
            "4.123105625617661\n"
          ]
        },
        {
          "output_type": "execute_result",
          "data": {
            "text/plain": [
              "2.0"
            ]
          },
          "metadata": {},
          "execution_count": 7
        }
      ]
    },
    {
      "cell_type": "markdown",
      "metadata": {
        "id": "DKx64RfGTQ-7"
      },
      "source": [
        "После того, как модуль `math` импортирован, вы можете узнать, какие ещё в нём есть функции. В __IPython Notebook__ для этого достаточно ввести имя модуля, поставить точку и нажать кнопку __«Tab»__. Вот, например, синус:"
      ]
    },
    {
      "cell_type": "code",
      "metadata": {
        "id": "T92j7Tq3TQ-7",
        "outputId": "1b503194-37a4-4e53-e0dd-f969a4a13c7c",
        "colab": {
          "base_uri": "https://localhost:8080/"
        }
      },
      "source": [
        "print(math.sin(0))\n",
        "math.sin(math.pi / 6)"
      ],
      "execution_count": 8,
      "outputs": [
        {
          "output_type": "stream",
          "name": "stdout",
          "text": [
            "0.0\n"
          ]
        },
        {
          "output_type": "execute_result",
          "data": {
            "text/plain": [
              "0.49999999999999994"
            ]
          },
          "metadata": {},
          "execution_count": 8
        }
      ]
    },
    {
      "cell_type": "markdown",
      "metadata": {
        "id": "nqIGFytlTQ-8"
      },
      "source": [
        "Приведенный синтаксис может оказаться неудобным, если вам часто приходится вызывать какие-то математические функции. Чтобы не писать каждый раз слово «math», можно импортировать из модуля конкретные функции."
      ]
    },
    {
      "cell_type": "code",
      "metadata": {
        "id": "TpXghGyFTQ-8",
        "outputId": "241947b4-44a0-4992-a7ea-cb46dfaddac0",
        "colab": {
          "base_uri": "https://localhost:8080/"
        }
      },
      "source": [
        "from math import sqrt as root\n",
        "sqrt(4)\n",
        "root(4)"
      ],
      "execution_count": 12,
      "outputs": [
        {
          "output_type": "execute_result",
          "data": {
            "text/plain": [
              "2.0"
            ]
          },
          "metadata": {},
          "execution_count": 12
        }
      ]
    },
    {
      "cell_type": "markdown",
      "metadata": {
        "id": "zDhezPvMTQ-8"
      },
      "source": [
        "Также можно подгрузить какой-нибудь модуль или пакет, но при этом изменить у него название на более короткое и пользоваться им. Будьте аккуратны с этим!"
      ]
    },
    {
      "cell_type": "code",
      "metadata": {
        "id": "IWdrZEluTQ-9",
        "outputId": "d05a7392-bf40-40a0-8e54-12b9ddde4979",
        "colab": {
          "base_uri": "https://localhost:8080/"
        }
      },
      "source": [
        "import math as mh\n",
        "mh.sqrt(4)"
      ],
      "execution_count": 10,
      "outputs": [
        {
          "output_type": "execute_result",
          "data": {
            "text/plain": [
              "2.0"
            ]
          },
          "metadata": {},
          "execution_count": 10
        }
      ]
    },
    {
      "cell_type": "code",
      "metadata": {
        "id": "MnMMGiZ8XcGn"
      },
      "source": [
        "import numpy as pd\n",
        "import pandas as np"
      ],
      "execution_count": 13,
      "outputs": []
    },
    {
      "cell_type": "code",
      "metadata": {
        "id": "bl-M8v3VTQ--",
        "outputId": "39f3cd21-1b7e-44a7-d400-18ef751f76b7",
        "colab": {
          "base_uri": "https://localhost:8080/"
        }
      },
      "source": [
        "x"
      ],
      "execution_count": 9,
      "outputs": [
        {
          "output_type": "execute_result",
          "data": {
            "text/plain": [
              "8"
            ]
          },
          "metadata": {},
          "execution_count": 9
        }
      ]
    },
    {
      "cell_type": "code",
      "metadata": {
        "id": "mRWnRK2HTQ--",
        "outputId": "e6fb0fbf-40fd-4b5e-ec5e-ae67083bfb64",
        "colab": {
          "base_uri": "https://localhost:8080/"
        }
      },
      "source": [
        "x = 2\n",
        "x"
      ],
      "execution_count": 5,
      "outputs": [
        {
          "output_type": "execute_result",
          "data": {
            "text/plain": [
              "2"
            ]
          },
          "metadata": {},
          "execution_count": 5
        }
      ]
    },
    {
      "cell_type": "code",
      "metadata": {
        "id": "6lNnFweRXuHf"
      },
      "source": [
        "x += 2"
      ],
      "execution_count": 8,
      "outputs": []
    },
    {
      "cell_type": "markdown",
      "metadata": {
        "id": "DSZGyx8XTQ-_"
      },
      "source": [
        "## 2. Типы данных\n",
        "\n",
        "Попробуем записать числа по-разному"
      ]
    },
    {
      "cell_type": "markdown",
      "metadata": {
        "id": "R-BoR08xTQ_B"
      },
      "source": [
        "Переопределение операций для разных объектов!"
      ]
    },
    {
      "cell_type": "code",
      "metadata": {
        "id": "9Sjs_RxuTQ_B",
        "outputId": "b8c09ee7-d9a4-41ee-fcfb-f160ffd207ea",
        "colab": {
          "base_uri": "https://localhost:8080/"
        }
      },
      "source": [
        "a = 'ёж'\n",
        "b = 'ик'\n",
        "a + b"
      ],
      "execution_count": 10,
      "outputs": [
        {
          "output_type": "execute_result",
          "data": {
            "text/plain": [
              "'ёжик'"
            ]
          },
          "metadata": {},
          "execution_count": 10
        }
      ]
    },
    {
      "cell_type": "code",
      "metadata": {
        "id": "a0l7MIhpTQ_C",
        "outputId": "98b47f3e-f309-440c-e4d5-63acf8ad79fb",
        "colab": {
          "base_uri": "https://localhost:8080/"
        }
      },
      "source": [
        "type(4)"
      ],
      "execution_count": 12,
      "outputs": [
        {
          "output_type": "execute_result",
          "data": {
            "text/plain": [
              "int"
            ]
          },
          "metadata": {},
          "execution_count": 12
        }
      ]
    },
    {
      "cell_type": "code",
      "metadata": {
        "id": "M62Wd3RvTQ_C",
        "outputId": "c970f8c3-bbfa-4023-d8fd-e1611595c08b",
        "colab": {
          "base_uri": "https://localhost:8080/"
        }
      },
      "source": [
        "type('4')"
      ],
      "execution_count": 13,
      "outputs": [
        {
          "output_type": "execute_result",
          "data": {
            "text/plain": [
              "str"
            ]
          },
          "metadata": {},
          "execution_count": 13
        }
      ]
    },
    {
      "cell_type": "code",
      "metadata": {
        "id": "UhfL_0xPTQ_C",
        "outputId": "bfd9f2be-280f-4715-b6d1-c68cd79fe5a6",
        "colab": {
          "base_uri": "https://localhost:8080/"
        }
      },
      "source": [
        "type(4.0)"
      ],
      "execution_count": 14,
      "outputs": [
        {
          "output_type": "execute_result",
          "data": {
            "text/plain": [
              "float"
            ]
          },
          "metadata": {},
          "execution_count": 14
        }
      ]
    },
    {
      "cell_type": "code",
      "metadata": {
        "id": "uZaX8YcxTQ_C"
      },
      "source": [
        "type(True)\n",
        "a = True"
      ],
      "execution_count": 16,
      "outputs": []
    },
    {
      "cell_type": "markdown",
      "metadata": {
        "id": "tv7e8uYuTQ_D"
      },
      "source": [
        "- `str` - текстовый\n",
        "- `int` - целочисленный\n",
        "- `float` - число с плавающей запятой (обычное действительное число)\n",
        "- `bool` - булева переменная"
      ]
    },
    {
      "cell_type": "markdown",
      "metadata": {
        "id": "dA1d0i1CTQ_D"
      },
      "source": [
        "Преобразование типов"
      ]
    },
    {
      "cell_type": "code",
      "metadata": {
        "id": "rjjGfdL5TQ_D",
        "outputId": "73b080fe-c7c9-432f-9c7d-2d996a794308",
        "colab": {
          "base_uri": "https://localhost:8080/"
        }
      },
      "source": [
        "x = '42'\n",
        "print(type(x))\n",
        "\n",
        "x = int(x)\n",
        "print(x)"
      ],
      "execution_count": 21,
      "outputs": [
        {
          "output_type": "stream",
          "name": "stdout",
          "text": [
            "<class 'str'>\n",
            "42\n"
          ]
        }
      ]
    },
    {
      "cell_type": "code",
      "metadata": {
        "id": "aJlOUnXWTQ_D",
        "outputId": "16331c91-b5f0-448b-8d3f-7f7232b3c042",
        "colab": {
          "base_uri": "https://localhost:8080/",
          "height": 229
        }
      },
      "source": [
        "x = 'тест'\n",
        "print(type(x))\n",
        "\n",
        "x = int(x)\n",
        "print(type(x))"
      ],
      "execution_count": 19,
      "outputs": [
        {
          "output_type": "stream",
          "name": "stdout",
          "text": [
            "<class 'str'>\n"
          ]
        },
        {
          "output_type": "error",
          "ename": "ValueError",
          "evalue": "ignored",
          "traceback": [
            "\u001b[1;31m---------------------------------------------------------------------------\u001b[0m",
            "\u001b[1;31mValueError\u001b[0m                                Traceback (most recent call last)",
            "\u001b[1;32m<ipython-input-19-b4cc0493b523>\u001b[0m in \u001b[0;36m<module>\u001b[1;34m\u001b[0m\n\u001b[0;32m      2\u001b[0m \u001b[0mprint\u001b[0m\u001b[1;33m(\u001b[0m\u001b[0mtype\u001b[0m\u001b[1;33m(\u001b[0m\u001b[0mx\u001b[0m\u001b[1;33m)\u001b[0m\u001b[1;33m)\u001b[0m\u001b[1;33m\u001b[0m\u001b[1;33m\u001b[0m\u001b[0m\n\u001b[0;32m      3\u001b[0m \u001b[1;33m\u001b[0m\u001b[0m\n\u001b[1;32m----> 4\u001b[1;33m \u001b[0mx\u001b[0m \u001b[1;33m=\u001b[0m \u001b[0mint\u001b[0m\u001b[1;33m(\u001b[0m\u001b[0mx\u001b[0m\u001b[1;33m)\u001b[0m\u001b[1;33m\u001b[0m\u001b[1;33m\u001b[0m\u001b[0m\n\u001b[0m\u001b[0;32m      5\u001b[0m \u001b[0mprint\u001b[0m\u001b[1;33m(\u001b[0m\u001b[0mtype\u001b[0m\u001b[1;33m(\u001b[0m\u001b[0mx\u001b[0m\u001b[1;33m)\u001b[0m\u001b[1;33m)\u001b[0m\u001b[1;33m\u001b[0m\u001b[1;33m\u001b[0m\u001b[0m\n",
            "\u001b[1;31mValueError\u001b[0m: invalid literal for int() with base 10: 'тест'"
          ]
        }
      ]
    },
    {
      "cell_type": "code",
      "metadata": {
        "id": "_-cc2Y5STQ_E",
        "outputId": "c8b7ca2e-332f-45e3-d5a6-2cbcaa6bebff",
        "colab": {
          "base_uri": "https://localhost:8080/",
          "height": 178
        }
      },
      "source": [
        "a = '2.3'\n",
        "int(a)"
      ],
      "execution_count": 23,
      "outputs": [
        {
          "output_type": "error",
          "ename": "ValueError",
          "evalue": "ignored",
          "traceback": [
            "\u001b[1;31m---------------------------------------------------------------------------\u001b[0m",
            "\u001b[1;31mValueError\u001b[0m                                Traceback (most recent call last)",
            "\u001b[1;32m<ipython-input-23-b723499a32cb>\u001b[0m in \u001b[0;36m<module>\u001b[1;34m\u001b[0m\n\u001b[0;32m      1\u001b[0m \u001b[0ma\u001b[0m \u001b[1;33m=\u001b[0m \u001b[1;34m'2.3'\u001b[0m\u001b[1;33m\u001b[0m\u001b[1;33m\u001b[0m\u001b[0m\n\u001b[1;32m----> 2\u001b[1;33m \u001b[0mint\u001b[0m\u001b[1;33m(\u001b[0m\u001b[0ma\u001b[0m\u001b[1;33m)\u001b[0m\u001b[1;33m\u001b[0m\u001b[1;33m\u001b[0m\u001b[0m\n\u001b[0m",
            "\u001b[1;31mValueError\u001b[0m: invalid literal for int() with base 10: '2.3'"
          ]
        }
      ]
    },
    {
      "cell_type": "markdown",
      "metadata": {
        "id": "rwdnUUEfakqd"
      },
      "source": [
        "## 3. Объекты"
      ]
    },
    {
      "cell_type": "code",
      "metadata": {
        "id": "T2risR4ha5G-",
        "outputId": "25ecc037-9107-4a1a-d5ef-11cdbd7133d5",
        "colab": {
          "base_uri": "https://localhost:8080/"
        }
      },
      "source": [
        "object"
      ],
      "execution_count": 24,
      "outputs": [
        {
          "output_type": "execute_result",
          "data": {
            "text/plain": [
              "object"
            ]
          },
          "metadata": {},
          "execution_count": 24
        }
      ]
    },
    {
      "cell_type": "code",
      "metadata": {
        "id": "QgOnYCAia6uR",
        "outputId": "424205f2-be47-488d-f5c3-ed05a54c1c5b",
        "colab": {
          "base_uri": "https://localhost:8080/"
        }
      },
      "source": [
        "type(object)"
      ],
      "execution_count": 25,
      "outputs": [
        {
          "output_type": "execute_result",
          "data": {
            "text/plain": [
              "type"
            ]
          },
          "metadata": {},
          "execution_count": 25
        }
      ]
    },
    {
      "cell_type": "code",
      "metadata": {
        "id": "zzdSqD9Wa8uA",
        "outputId": "63b0fddb-c6c6-4a70-dfe6-a408e2181b18",
        "colab": {
          "base_uri": "https://localhost:8080/"
        }
      },
      "source": [
        "type(type)"
      ],
      "execution_count": 26,
      "outputs": [
        {
          "output_type": "execute_result",
          "data": {
            "text/plain": [
              "type"
            ]
          },
          "metadata": {},
          "execution_count": 26
        }
      ]
    },
    {
      "cell_type": "code",
      "metadata": {
        "id": "vf_7CMx8a-E6",
        "outputId": "7aebf76e-f745-4470-d069-157528e453cf",
        "colab": {
          "base_uri": "https://localhost:8080/"
        }
      },
      "source": [
        "type(type(type))"
      ],
      "execution_count": 27,
      "outputs": [
        {
          "output_type": "execute_result",
          "data": {
            "text/plain": [
              "type"
            ]
          },
          "metadata": {},
          "execution_count": 27
        }
      ]
    },
    {
      "cell_type": "code",
      "metadata": {
        "id": "5QIbxzaLa_gq",
        "outputId": "09c01cc1-a375-4a52-b3ee-3fb4dd6fb843",
        "colab": {
          "base_uri": "https://localhost:8080/"
        }
      },
      "source": [
        "type(type(''))"
      ],
      "execution_count": 28,
      "outputs": [
        {
          "output_type": "execute_result",
          "data": {
            "text/plain": [
              "type"
            ]
          },
          "metadata": {},
          "execution_count": 28
        }
      ]
    },
    {
      "cell_type": "code",
      "metadata": {
        "id": "DdvWBAfgbEPF",
        "outputId": "90876636-ad50-40fc-b30c-6f4dd6d88aad",
        "colab": {
          "base_uri": "https://localhost:8080/"
        }
      },
      "source": [
        "type(bool)"
      ],
      "execution_count": 32,
      "outputs": [
        {
          "output_type": "execute_result",
          "data": {
            "text/plain": [
              "type"
            ]
          },
          "metadata": {},
          "execution_count": 32
        }
      ]
    },
    {
      "cell_type": "code",
      "metadata": {
        "id": "xJDbYhmCbFbV",
        "outputId": "55d1649f-221a-4f19-cd5d-9b4164dfb4f0",
        "colab": {
          "base_uri": "https://localhost:8080/"
        }
      },
      "source": [
        "type(bool())"
      ],
      "execution_count": 33,
      "outputs": [
        {
          "output_type": "execute_result",
          "data": {
            "text/plain": [
              "bool"
            ]
          },
          "metadata": {},
          "execution_count": 33
        }
      ]
    },
    {
      "cell_type": "code",
      "metadata": {
        "id": "KTD66sKRbHnl",
        "outputId": "b043eafd-9424-4593-9130-bc117868a5c3",
        "colab": {
          "base_uri": "https://localhost:8080/"
        }
      },
      "source": [
        "bool()"
      ],
      "execution_count": 34,
      "outputs": [
        {
          "output_type": "execute_result",
          "data": {
            "text/plain": [
              "False"
            ]
          },
          "metadata": {},
          "execution_count": 34
        }
      ]
    },
    {
      "cell_type": "code",
      "metadata": {
        "id": "09fgIGnlbRNb",
        "outputId": "c637e54b-c86f-43d5-ebf2-af087bc23016",
        "colab": {
          "base_uri": "https://localhost:8080/"
        }
      },
      "source": [
        "int.__bases__"
      ],
      "execution_count": 35,
      "outputs": [
        {
          "output_type": "execute_result",
          "data": {
            "text/plain": [
              "(object,)"
            ]
          },
          "metadata": {},
          "execution_count": 35
        }
      ]
    },
    {
      "cell_type": "code",
      "metadata": {
        "id": "tvfc7RuAbTmY",
        "outputId": "b81e1381-176c-4957-e1d2-5f3abb5aed16",
        "colab": {
          "base_uri": "https://localhost:8080/"
        }
      },
      "source": [
        "object.__bases__"
      ],
      "execution_count": 36,
      "outputs": [
        {
          "output_type": "execute_result",
          "data": {
            "text/plain": [
              "()"
            ]
          },
          "metadata": {},
          "execution_count": 36
        }
      ]
    },
    {
      "cell_type": "code",
      "metadata": {
        "id": "lM2aicBgblKZ",
        "outputId": "4c2f8af7-0bbc-4760-bca2-c1c6b43a8be5",
        "colab": {
          "base_uri": "https://localhost:8080/"
        }
      },
      "source": [
        "id(1)"
      ],
      "execution_count": 37,
      "outputs": [
        {
          "output_type": "execute_result",
          "data": {
            "text/plain": [
              "2253165127984"
            ]
          },
          "metadata": {},
          "execution_count": 37
        }
      ]
    },
    {
      "cell_type": "code",
      "metadata": {
        "id": "ox8SfKKcbmbG",
        "outputId": "7cb49f08-7a6f-418e-e4ec-9e50a00e7e7a",
        "colab": {
          "base_uri": "https://localhost:8080/"
        }
      },
      "source": [
        "a = 1\n",
        "id(a)"
      ],
      "execution_count": 38,
      "outputs": [
        {
          "output_type": "execute_result",
          "data": {
            "text/plain": [
              "2253165127984"
            ]
          },
          "metadata": {},
          "execution_count": 38
        }
      ]
    },
    {
      "cell_type": "code",
      "metadata": {
        "id": "VqbmHSkWbs2R",
        "outputId": "8af5944b-3367-4b4a-eb98-eded6f87b566",
        "colab": {
          "base_uri": "https://localhost:8080/"
        }
      },
      "source": [
        "a += 1\n",
        "id(a)"
      ],
      "execution_count": 39,
      "outputs": [
        {
          "output_type": "execute_result",
          "data": {
            "text/plain": [
              "2253165128016"
            ]
          },
          "metadata": {},
          "execution_count": 39
        }
      ]
    },
    {
      "cell_type": "code",
      "metadata": {
        "id": "xFxxTAW0vhcv",
        "outputId": "1c959fb7-8b21-4b37-b568-ca6cc3e60929",
        "colab": {
          "base_uri": "https://localhost:8080/"
        }
      },
      "source": [
        "id(2)"
      ],
      "execution_count": 40,
      "outputs": [
        {
          "output_type": "execute_result",
          "data": {
            "text/plain": [
              "2253165128016"
            ]
          },
          "metadata": {},
          "execution_count": 40
        }
      ]
    },
    {
      "cell_type": "code",
      "metadata": {
        "id": "iS1QUmDTvkp9",
        "outputId": "f67e00c4-fd86-432b-f768-16528d0ed7db",
        "colab": {
          "base_uri": "https://localhost:8080/"
        }
      },
      "source": [
        "id(1000)"
      ],
      "execution_count": 41,
      "outputs": [
        {
          "output_type": "execute_result",
          "data": {
            "text/plain": [
              "2253266855568"
            ]
          },
          "metadata": {},
          "execution_count": 41
        }
      ]
    },
    {
      "cell_type": "code",
      "metadata": {
        "id": "jnl06L7hvnZN",
        "outputId": "a22b63ad-cf92-4f6b-95e4-95c160d1a156",
        "colab": {
          "base_uri": "https://localhost:8080/"
        }
      },
      "source": [
        "b = 1000\n",
        "id(b)"
      ],
      "execution_count": 42,
      "outputs": [
        {
          "output_type": "execute_result",
          "data": {
            "text/plain": [
              "2253266856464"
            ]
          },
          "metadata": {},
          "execution_count": 42
        }
      ]
    },
    {
      "cell_type": "markdown",
      "metadata": {
        "id": "Ov9rOMFtTQ_E"
      },
      "source": [
        "## 4. Логические операции\n",
        "\n",
        "* Равно (==)\n",
        "* Меньше (<)\n",
        "* Больше (>)\n",
        "* Не равно (!=)\n",
        "\n",
        "Результат логических операций — тип bool (True или False)."
      ]
    },
    {
      "cell_type": "code",
      "metadata": {
        "id": "BOjbUPnaTQ_E"
      },
      "source": [
        "x = 2\n",
        "y = 3"
      ],
      "execution_count": 43,
      "outputs": []
    },
    {
      "cell_type": "code",
      "metadata": {
        "id": "mM6TMkW1TQ_E",
        "outputId": "4ccb50a1-7fa8-4ac1-d53a-971ad37016bc",
        "colab": {
          "base_uri": "https://localhost:8080/"
        }
      },
      "source": [
        "x != 2"
      ],
      "execution_count": 44,
      "outputs": [
        {
          "output_type": "execute_result",
          "data": {
            "text/plain": [
              "False"
            ]
          },
          "metadata": {},
          "execution_count": 44
        }
      ]
    },
    {
      "cell_type": "code",
      "metadata": {
        "id": "2Q5aJDugTQ_F",
        "outputId": "e8cd13b8-caba-4f40-c14c-92077a1959a9",
        "colab": {
          "base_uri": "https://localhost:8080/"
        }
      },
      "source": [
        "5 <= 7"
      ],
      "execution_count": 45,
      "outputs": [
        {
          "output_type": "execute_result",
          "data": {
            "text/plain": [
              "True"
            ]
          },
          "metadata": {},
          "execution_count": 45
        }
      ]
    },
    {
      "cell_type": "code",
      "metadata": {
        "id": "-BHLvUvUTQ_F"
      },
      "source": [
        "x < y"
      ],
      "execution_count": null,
      "outputs": []
    },
    {
      "cell_type": "markdown",
      "metadata": {
        "id": "vr6gJX_UTQ_F"
      },
      "source": [
        "В Python есть возможность производить двойные сравнения:"
      ]
    },
    {
      "cell_type": "code",
      "metadata": {
        "id": "wlj1TIqgTQ_F",
        "outputId": "8539d973-3d03-4c78-d3e5-fb34443fd18f",
        "colab": {
          "base_uri": "https://localhost:8080/"
        }
      },
      "source": [
        "# эквивалентно (1 < 2) and (2 < 3)\n",
        "1 < 2 < 3"
      ],
      "execution_count": 46,
      "outputs": [
        {
          "output_type": "execute_result",
          "data": {
            "text/plain": [
              "True"
            ]
          },
          "metadata": {},
          "execution_count": 46
        }
      ]
    },
    {
      "cell_type": "code",
      "metadata": {
        "id": "Z7W_XT6hTQ_F",
        "outputId": "e57c28ce-28c0-4abf-9d82-100b79df6eff",
        "colab": {
          "base_uri": "https://localhost:8080/"
        }
      },
      "source": [
        "2 + 2 == 4"
      ],
      "execution_count": 47,
      "outputs": [
        {
          "output_type": "execute_result",
          "data": {
            "text/plain": [
              "True"
            ]
          },
          "metadata": {},
          "execution_count": 47
        }
      ]
    },
    {
      "cell_type": "code",
      "metadata": {
        "id": "5p7c8ij1TQ_G",
        "outputId": "451bd88d-3f1d-4ea7-dca1-fa259984ed39",
        "colab": {
          "base_uri": "https://localhost:8080/"
        }
      },
      "source": [
        "2 + 2 == 5"
      ],
      "execution_count": 48,
      "outputs": [
        {
          "output_type": "execute_result",
          "data": {
            "text/plain": [
              "False"
            ]
          },
          "metadata": {},
          "execution_count": 48
        }
      ]
    },
    {
      "cell_type": "code",
      "metadata": {
        "id": "j3nSsF8yTQ_G",
        "outputId": "cd7ad6c9-9ce5-47da-85f4-0b17798ab4c1",
        "colab": {
          "base_uri": "https://localhost:8080/"
        }
      },
      "source": [
        "x = 5\n",
        "x < 8"
      ],
      "execution_count": 49,
      "outputs": [
        {
          "output_type": "execute_result",
          "data": {
            "text/plain": [
              "True"
            ]
          },
          "metadata": {},
          "execution_count": 49
        }
      ]
    },
    {
      "cell_type": "markdown",
      "metadata": {
        "id": "Dd-3r8P9TQ_G"
      },
      "source": [
        "## 5. Вещественные числа и погрешности\n",
        "\n",
        "Вещественные числа в программировании не так просты. Вот, например, посчитаем синус числа $\\pi$:"
      ]
    },
    {
      "cell_type": "code",
      "metadata": {
        "id": "OBACHtO-TQ_G",
        "outputId": "277245fe-6f78-4e1b-c489-c0b438b0f6bc",
        "colab": {
          "base_uri": "https://localhost:8080/"
        }
      },
      "source": [
        "from math import pi, sin\n",
        "sin(pi)  #думаете, получится 0? Ха-ха!"
      ],
      "execution_count": 50,
      "outputs": [
        {
          "output_type": "execute_result",
          "data": {
            "text/plain": [
              "1.2246467991473532e-16"
            ]
          },
          "metadata": {},
          "execution_count": 50
        }
      ]
    },
    {
      "cell_type": "markdown",
      "metadata": {
        "id": "k3U4SPDETQ_G"
      },
      "source": [
        "Непонятный ответ? Во-первых, это так называемая [компьютерная форма экспоненциальной записи чисел.](https://ru.wikipedia.org/wiki/Экспоненциальная_запись#.D0.9A.D0.BE.D0.BC.D0.BF.D1.8C.D1.8E.D1.82.D0.B5.D1.80.D0.BD.D1.8B.D0.B9_.D1.81.D0.BF.D0.BE.D1.81.D0.BE.D0.B1_.D1.8D.D0.BA.D1.81.D0.BF.D0.BE.D0.BD.D0.B5.D0.BD.D1.86.D0.B8.D0.B0.D0.BB.D1.8C.D0.BD.D0.BE.D0.B9_.D0.B7.D0.B0.D0.BF.D0.B8.D1.81.D0.B8) Она удобна, если нужно уметь записывать очень большие или очень маленькие числа:`1.2E2` означает `1.2⋅102`, то есть `1200`, а `2.4e-3` — то же самое, что `2.4⋅10−3=00024`. \n",
        "\n",
        "Результат, посчитанный Python для $\\sin \\pi$, имеет порядок `10−16` — это очень маленькое число, близкое к нулю. Почему не «настоящий» ноль? Все вычисления в вещественных числах делаются компьютером с некоторой ограниченной точностью, поэтому зачастую вместо «честных» ответов получаются такие приближенные. К этому надо быть готовым."
      ]
    },
    {
      "cell_type": "code",
      "metadata": {
        "id": "K31XqHzUTQ_G",
        "outputId": "8bbe9b9b-a49d-4ff3-b2b6-c3c4ddcd6a9e",
        "colab": {
          "base_uri": "https://localhost:8080/"
        }
      },
      "source": [
        "#Человек против машины: раунд 3, угадайте, что получится?\n",
        "0.4 - 0.3 == 0.1"
      ],
      "execution_count": 51,
      "outputs": [
        {
          "output_type": "execute_result",
          "data": {
            "text/plain": [
              "False"
            ]
          },
          "metadata": {},
          "execution_count": 51
        }
      ]
    },
    {
      "cell_type": "code",
      "metadata": {
        "id": "sMyy3Nq8TQ_H"
      },
      "source": [
        "a = 0.4 - 0.3"
      ],
      "execution_count": null,
      "outputs": []
    },
    {
      "cell_type": "code",
      "metadata": {
        "id": "ij3srYLbTQ_H"
      },
      "source": [
        "a"
      ],
      "execution_count": null,
      "outputs": []
    },
    {
      "cell_type": "code",
      "metadata": {
        "id": "Cg8mAv3fTQ_H"
      },
      "source": [
        "a == 0.1"
      ],
      "execution_count": null,
      "outputs": []
    },
    {
      "cell_type": "code",
      "metadata": {
        "id": "SKfZl7r7TQ_I"
      },
      "source": [
        "a - 0.1 < 1e-8"
      ],
      "execution_count": null,
      "outputs": []
    },
    {
      "cell_type": "code",
      "metadata": {
        "id": "oszKlePpTQ_I"
      },
      "source": [
        "0.4 - 0.3"
      ],
      "execution_count": null,
      "outputs": []
    },
    {
      "cell_type": "markdown",
      "metadata": {
        "id": "3lNhbqzUTQ_I"
      },
      "source": [
        "Когда сравниваете вещественные числа будьте осторожнее. "
      ]
    },
    {
      "cell_type": "markdown",
      "metadata": {
        "id": "skXFj_rDTQ_I"
      },
      "source": [
        "## 6. Ввод и вывод\n",
        "\n",
        "Работа в Jupyter редко требует писать код, который сам по себе запрашивает данные с клавиатуры, но для других приложений (и в частности для домашних работ) это может потребоваться. К тому же, написание интерактивных приложений само по себе забавное занятие. Напишем, например, программу, которая здоровается с нами по имени."
      ]
    },
    {
      "cell_type": "code",
      "metadata": {
        "id": "Xb9il_j4TQ_I",
        "outputId": "dc8878bb-159c-4d48-bb89-4b06bba8c071",
        "colab": {
          "base_uri": "https://localhost:8080/"
        }
      },
      "source": [
        "name = input(\"Введите ваше имя: \")\n",
        "print(\"Привет,\", name)\n",
        "print(10)"
      ],
      "execution_count": 54,
      "outputs": [
        {
          "output_type": "stream",
          "name": "stdout",
          "text": [
            "Введите ваше имя: Илья\n",
            "Привет, Илья\n",
            "10\n"
          ]
        }
      ]
    },
    {
      "cell_type": "code",
      "metadata": {
        "id": "qNVszAGWTQ_J",
        "outputId": "ed9ce670-559e-47ab-c1be-de77f71087db",
        "colab": {
          "base_uri": "https://localhost:8080/"
        }
      },
      "source": [
        "print('Hello,', name, ',', 'how', 'are', 'you', sep='**', end='! ')\n",
        "print('bye-bye')"
      ],
      "execution_count": 53,
      "outputs": [
        {
          "output_type": "stream",
          "name": "stdout",
          "text": [
            "Hello,**Илья**,**how**are**you! bye-bye\n"
          ]
        }
      ]
    },
    {
      "cell_type": "markdown",
      "metadata": {
        "id": "pHnHc9QcTQ_M"
      },
      "source": [
        "## 7. Коллекции: списки и (строки)"
      ]
    },
    {
      "cell_type": "markdown",
      "metadata": {
        "id": "RF2vHIXgTQ_N"
      },
      "source": [
        "### Строки\n",
        "\n",
        "Строковые константы можно задавать и с помощью одинарных кавычек, и с помощью двойных, и с помощью тройных:"
      ]
    },
    {
      "cell_type": "code",
      "metadata": {
        "id": "cFV-T3PkTQ_N"
      },
      "source": [
        "s1 = 'abc'\n",
        "s2 = \"abc\"\n",
        "s3 = \"\"\"abc\n",
        "aaaaaa\n",
        "aaaaa\n",
        "a\n",
        "aa\n",
        "\"\"\"\n",
        "\n",
        "s1 == s2 == s3"
      ],
      "execution_count": null,
      "outputs": []
    },
    {
      "cell_type": "code",
      "metadata": {
        "id": "N6yhUHhFTQ_N"
      },
      "source": [
        "s3"
      ],
      "execution_count": null,
      "outputs": []
    },
    {
      "cell_type": "code",
      "metadata": {
        "id": "e0rrMxLeTQ_O"
      },
      "source": [
        "a = 'a\\naaaa'"
      ],
      "execution_count": null,
      "outputs": []
    },
    {
      "cell_type": "code",
      "metadata": {
        "id": "UsJC0wKRTQ_O"
      },
      "source": [
        "a[1]"
      ],
      "execution_count": null,
      "outputs": []
    },
    {
      "cell_type": "markdown",
      "metadata": {
        "id": "E44yECM8TQ_O"
      },
      "source": [
        "Операции над строками:\n",
        "\n",
        "* Сложение строк (+) — конкатенация строк\n",
        "* Умножение строки на целое число n (*) — повтороение строки n раз"
      ]
    },
    {
      "cell_type": "code",
      "metadata": {
        "id": "l0aeTXCvTQ_O"
      },
      "source": [
        "\"abc\" + 'def'"
      ],
      "execution_count": null,
      "outputs": []
    },
    {
      "cell_type": "code",
      "metadata": {
        "id": "S8LfG-UQTQ_O"
      },
      "source": [
        "\"abc\" * 3"
      ],
      "execution_count": null,
      "outputs": []
    },
    {
      "cell_type": "markdown",
      "metadata": {
        "id": "JxnDeKcGTQ_O"
      },
      "source": [
        "Функция `len` — получить длину строки:"
      ]
    },
    {
      "cell_type": "code",
      "metadata": {
        "id": "PItdK3IkTQ_P"
      },
      "source": [
        "len(\"abc\")"
      ],
      "execution_count": null,
      "outputs": []
    },
    {
      "cell_type": "code",
      "metadata": {
        "id": "ad_He5qoTQ_P"
      },
      "source": [
        "s1"
      ],
      "execution_count": null,
      "outputs": []
    },
    {
      "cell_type": "markdown",
      "metadata": {
        "id": "SUXyABVVTQ_P"
      },
      "source": [
        "У типа str большое количество встроенных строковых методов:\n",
        "* .find — найти подстроку\n",
        "* .upper — перевести строку в верхний регистр\n",
        "* .lower — перевести строку в нижний регистр\n",
        "* .strip — обрезать по краям поданные символы (по умолчанию пробельные)"
      ]
    },
    {
      "cell_type": "code",
      "metadata": {
        "id": "fqYN8DWxTQ_P"
      },
      "source": [
        "s1.find('b')"
      ],
      "execution_count": null,
      "outputs": []
    },
    {
      "cell_type": "code",
      "metadata": {
        "id": "Cgh8Pxa2TQ_P"
      },
      "source": [
        "s1[-1]"
      ],
      "execution_count": null,
      "outputs": []
    },
    {
      "cell_type": "code",
      "metadata": {
        "id": "JaIENCdJTQ_Q"
      },
      "source": [
        "s1.upper()"
      ],
      "execution_count": null,
      "outputs": []
    },
    {
      "cell_type": "code",
      "metadata": {
        "id": "1pfwI3PyTQ_R"
      },
      "source": [
        "s1.upper().lower()"
      ],
      "execution_count": null,
      "outputs": []
    },
    {
      "cell_type": "code",
      "metadata": {
        "id": "8U4pWhAhTQ_S"
      },
      "source": [
        "\"a   \".strip()"
      ],
      "execution_count": null,
      "outputs": []
    },
    {
      "cell_type": "code",
      "metadata": {
        "id": "5pZKZ0ciTQ_S"
      },
      "source": [
        "z = '      z.      '"
      ],
      "execution_count": null,
      "outputs": []
    },
    {
      "cell_type": "code",
      "metadata": {
        "id": "yU6QnUaXTQ_S"
      },
      "source": [
        "z.strip()"
      ],
      "execution_count": null,
      "outputs": []
    },
    {
      "cell_type": "code",
      "metadata": {
        "id": "8ZQTSIdJTQ_T"
      },
      "source": [
        "z.rstrip()"
      ],
      "execution_count": null,
      "outputs": []
    },
    {
      "cell_type": "code",
      "metadata": {
        "id": "MOdP1OB_TQ_T"
      },
      "source": [
        "z.lstrip()"
      ],
      "execution_count": null,
      "outputs": []
    },
    {
      "cell_type": "markdown",
      "metadata": {
        "id": "9fSBFpcCTQ_T"
      },
      "source": [
        "Индексироваться по строкам можно с помощью квадратных скобок:"
      ]
    },
    {
      "cell_type": "code",
      "metadata": {
        "id": "gidvVEqxTQ_U"
      },
      "source": [
        "s = \"abc\"\n",
        "s[0]"
      ],
      "execution_count": null,
      "outputs": []
    },
    {
      "cell_type": "code",
      "metadata": {
        "id": "krIRY1G9TQ_U"
      },
      "source": [
        "s"
      ],
      "execution_count": null,
      "outputs": []
    },
    {
      "cell_type": "code",
      "metadata": {
        "id": "swqB0S8fTQ_U"
      },
      "source": [
        "s[0] = 'b'"
      ],
      "execution_count": null,
      "outputs": []
    },
    {
      "cell_type": "code",
      "metadata": {
        "id": "OOSkwN5kTQ_U"
      },
      "source": [
        "'b' + s[1:]"
      ],
      "execution_count": null,
      "outputs": []
    },
    {
      "cell_type": "code",
      "metadata": {
        "id": "DbPRzvskTQ_V"
      },
      "source": [
        "s[1:]"
      ],
      "execution_count": null,
      "outputs": []
    },
    {
      "cell_type": "code",
      "metadata": {
        "id": "BM5wuNtGTQ_V"
      },
      "source": [
        "s[:-1]"
      ],
      "execution_count": null,
      "outputs": []
    },
    {
      "cell_type": "code",
      "metadata": {
        "id": "Pb-ga9vaTQ_V"
      },
      "source": [
        "a = '0123456789'"
      ],
      "execution_count": null,
      "outputs": []
    },
    {
      "cell_type": "code",
      "metadata": {
        "id": "WdtSRujLTQ_V"
      },
      "source": [
        "a = a + '!'"
      ],
      "execution_count": null,
      "outputs": []
    },
    {
      "cell_type": "code",
      "metadata": {
        "scrolled": true,
        "id": "j5HD6YWcTQ_V"
      },
      "source": [
        "a"
      ],
      "execution_count": null,
      "outputs": []
    },
    {
      "cell_type": "code",
      "metadata": {
        "id": "YzBOr4aOTQ_V"
      },
      "source": [
        ""
      ],
      "execution_count": null,
      "outputs": []
    },
    {
      "cell_type": "markdown",
      "metadata": {
        "id": "hvJn6sGFTQ_W"
      },
      "source": [
        "**Внимание**: строка — неизменяемый объект!"
      ]
    },
    {
      "cell_type": "code",
      "metadata": {
        "id": "nHgiQ2reTQ_W"
      },
      "source": [
        "s[0] = 'b'"
      ],
      "execution_count": null,
      "outputs": []
    },
    {
      "cell_type": "markdown",
      "metadata": {
        "id": "sxPM6ymATQ_W"
      },
      "source": [
        "Срезы (slicing) — вид продвинутой индексации.\n",
        "\n",
        "s[start:finish:step]\n",
        "\n",
        "* start — начало среза\n",
        "* finish — конец среза (не входит в срез!!!)\n",
        "* step — шаг\n"
      ]
    },
    {
      "cell_type": "code",
      "metadata": {
        "id": "l4LXbtqrTQ_W"
      },
      "source": [
        "s"
      ],
      "execution_count": null,
      "outputs": []
    },
    {
      "cell_type": "code",
      "metadata": {
        "id": "kpPkoaRoTQ_W"
      },
      "source": [
        "s = '0123456789'"
      ],
      "execution_count": null,
      "outputs": []
    },
    {
      "cell_type": "code",
      "metadata": {
        "id": "-wkVm7HkTQ_W"
      },
      "source": [
        "s[0:7]"
      ],
      "execution_count": null,
      "outputs": []
    },
    {
      "cell_type": "code",
      "metadata": {
        "id": "eTyH9cocTQ_W"
      },
      "source": [
        "s[::2]"
      ],
      "execution_count": null,
      "outputs": []
    },
    {
      "cell_type": "code",
      "metadata": {
        "id": "_yDlc6jUTQ_X"
      },
      "source": [
        "s[::-1]"
      ],
      "execution_count": null,
      "outputs": []
    },
    {
      "cell_type": "code",
      "metadata": {
        "id": "AV1vo-sJTQ_X"
      },
      "source": [
        "s[::-2]"
      ],
      "execution_count": null,
      "outputs": []
    },
    {
      "cell_type": "code",
      "metadata": {
        "id": "povXyxhBTQ_X"
      },
      "source": [
        "s[::3]"
      ],
      "execution_count": null,
      "outputs": []
    },
    {
      "cell_type": "markdown",
      "metadata": {
        "id": "Jbq5g3zQTQ_X"
      },
      "source": [
        "Срез равный всей строке:"
      ]
    },
    {
      "cell_type": "code",
      "metadata": {
        "id": "Q8DaL9S5TQ_X"
      },
      "source": [
        "s[0:len(s):1]"
      ],
      "execution_count": null,
      "outputs": []
    },
    {
      "cell_type": "code",
      "metadata": {
        "id": "uSELbfiXTQ_Y"
      },
      "source": [
        "# срез с шагом 2\n",
        "s[0:len(s):2]"
      ],
      "execution_count": null,
      "outputs": []
    },
    {
      "cell_type": "markdown",
      "metadata": {
        "id": "EF0SeaUvTQ_Y"
      },
      "source": [
        "Срез равный одному элементу:"
      ]
    },
    {
      "cell_type": "code",
      "metadata": {
        "id": "zJAZKSh1TQ_Y"
      },
      "source": [
        "s[5:6:1]"
      ],
      "execution_count": null,
      "outputs": []
    },
    {
      "cell_type": "markdown",
      "metadata": {
        "id": "V2BNPFTYTQ_Y"
      },
      "source": [
        "start, finish, step могут иметь отрицательные значения\n",
        "\n",
        "* start == -a $\\; \\leftrightarrow \\;$ start == len(s) - a\n",
        "* finish == -a $\\; \\leftrightarrow \\;$ finish == len(s) - a\n",
        "* step == -a $\\; \\leftrightarrow \\;$ проходить список в обратном направлении"
      ]
    },
    {
      "cell_type": "markdown",
      "metadata": {
        "id": "UKtReIzvTQ_Y"
      },
      "source": [
        "<font color='red'>**Задача 2.** Что будет выведено после следующих команд:</font>\n",
        "    1. s[7:-1:-1]\n",
        "    2. s[:100:]\n",
        "    3. s[-1:8:-2]\n",
        "    4. s[4:-7]\n",
        "    5. s[-20::5]"
      ]
    },
    {
      "cell_type": "code",
      "metadata": {
        "id": "LXeKStrYTQ_Y"
      },
      "source": [
        "## your answer here"
      ],
      "execution_count": null,
      "outputs": []
    },
    {
      "cell_type": "markdown",
      "metadata": {
        "id": "ZoZtWifjTQ_Z"
      },
      "source": [
        "<font color='red'>**Задача 3.** Получите для строки s строку result, состоящую из элементов исходной строки, стоящих на чётных местах, в обратном порядке (включая A[0]), после которых идут элементы строки, стоящие на нечётных местах. Использовать циклы запрещено!</font>\n"
      ]
    },
    {
      "cell_type": "code",
      "metadata": {
        "id": "r_zUJsf5TQ_Z"
      },
      "source": [
        "s = 'qwertyuiopasdfghjkl'\n",
        "\n",
        "result = ## your answer here"
      ],
      "execution_count": null,
      "outputs": []
    },
    {
      "cell_type": "markdown",
      "metadata": {
        "id": "y3SUvrgSTQ_Z"
      },
      "source": [
        "Проверьте себя:"
      ]
    },
    {
      "cell_type": "code",
      "metadata": {
        "id": "86BIHpF_TQ_Z"
      },
      "source": [
        "assert result == 'ljgdaouteqwryipsfhk'"
      ],
      "execution_count": null,
      "outputs": []
    },
    {
      "cell_type": "markdown",
      "metadata": {
        "id": "mlwchb0uTQ_Z"
      },
      "source": [
        "### Списки"
      ]
    },
    {
      "cell_type": "code",
      "metadata": {
        "id": "2j1Jh-dBTQ_Z"
      },
      "source": [
        "a = [1, 2, 3, 2, 0]"
      ],
      "execution_count": null,
      "outputs": []
    },
    {
      "cell_type": "markdown",
      "metadata": {
        "id": "UIPNButLTQ_Z"
      },
      "source": [
        "В список могут входить любые объекты:"
      ]
    },
    {
      "cell_type": "code",
      "metadata": {
        "id": "SfW2ugcOTQ_Z"
      },
      "source": [
        "a = [1, '2', '3', [4, 5]]"
      ],
      "execution_count": null,
      "outputs": []
    },
    {
      "cell_type": "markdown",
      "metadata": {
        "id": "GS9IYQXWTQ_a"
      },
      "source": [
        "Операции над списками (похожи на строку):\n",
        "\n",
        "* cложение списков (+) — конкатенация списокв\n",
        "* умножение списка на целое число n (*) — повтороение списка n раз\n",
        "\n",
        "Индексация по списку такая же как и в строках."
      ]
    },
    {
      "cell_type": "code",
      "metadata": {
        "id": "deDtUNHuTQ_a"
      },
      "source": [
        "b = [1, '2']\n",
        "a + b"
      ],
      "execution_count": null,
      "outputs": []
    },
    {
      "cell_type": "code",
      "metadata": {
        "id": "7As9bcWdTQ_a"
      },
      "source": [
        "a * 2"
      ],
      "execution_count": null,
      "outputs": []
    },
    {
      "cell_type": "code",
      "metadata": {
        "id": "5sk_pB9NTQ_a"
      },
      "source": [
        "a[::-1]"
      ],
      "execution_count": null,
      "outputs": []
    },
    {
      "cell_type": "markdown",
      "metadata": {
        "id": "Lo-43M3RTQ_a"
      },
      "source": [
        "В Python есть встроенная функция sorted для сортировки списков:"
      ]
    },
    {
      "cell_type": "code",
      "metadata": {
        "id": "ei8PodSpTQ_b"
      },
      "source": [
        "sorted([1, 2, 1, 0, 2, 0])"
      ],
      "execution_count": null,
      "outputs": []
    },
    {
      "cell_type": "markdown",
      "metadata": {
        "id": "taZ930Q1TQ_b"
      },
      "source": [
        "**Внимание**: список — изменяемый объект! \n",
        "\n",
        "Можно менять элементы списка, можно добавлять новые элементы и удалять старые (`.append` и `.pop`)."
      ]
    },
    {
      "cell_type": "code",
      "metadata": {
        "id": "rWorHSr4TQ_b"
      },
      "source": [
        "a[0] = '123'\n",
        "a"
      ],
      "execution_count": null,
      "outputs": []
    },
    {
      "cell_type": "code",
      "metadata": {
        "id": "2emIWM10TQ_b"
      },
      "source": [
        "a.append('data science')\n",
        "a"
      ],
      "execution_count": null,
      "outputs": []
    },
    {
      "cell_type": "markdown",
      "metadata": {
        "id": "rbcPkpo5TQ_b"
      },
      "source": [
        "### Преобразования списков и строк\n",
        "\n",
        "Два основных строковых метода для взаимодействия списков и строк:\n",
        "\n",
        "* .split — разделить строку на список строк по определённому сепаратору\n",
        "* .join — соеденить список строк в одну большую строку по определённому сепаратору"
      ]
    },
    {
      "cell_type": "code",
      "metadata": {
        "id": "_LeWfmEDTQ_b"
      },
      "source": [
        "s = 'abaka,baraka,kusaka'\n",
        "s.split(',')"
      ],
      "execution_count": null,
      "outputs": []
    },
    {
      "cell_type": "code",
      "metadata": {
        "id": "rxH5fsewTQ_b"
      },
      "source": [
        "\", \".join(['arb', 'borb', 'kork'])"
      ],
      "execution_count": null,
      "outputs": []
    },
    {
      "cell_type": "markdown",
      "metadata": {
        "id": "_ZH2kAzSTQ_c"
      },
      "source": [
        "<font color='red'>**Задача 4.** В строке s через запятую записаны слова. Получите строку result, в которой будут записаны через запятую слова из s, отсортированные в лексикографическом порядке. </font>\n"
      ]
    },
    {
      "cell_type": "code",
      "metadata": {
        "id": "P11eGrHkTQ_c"
      },
      "source": [
        "s = \"my,mother,is,washing,window,my,father,is,watching,movies\"\n",
        "\n",
        "## your code here "
      ],
      "execution_count": null,
      "outputs": []
    },
    {
      "cell_type": "code",
      "metadata": {
        "id": "5FLjHfkWTQ_c"
      },
      "source": [
        "assert result == 'father,is,is,mother,movies,my,my,washing,watching,window'"
      ],
      "execution_count": null,
      "outputs": []
    },
    {
      "cell_type": "code",
      "metadata": {
        "id": "d2TTJLmvTQ_c"
      },
      "source": [
        ""
      ],
      "execution_count": null,
      "outputs": []
    },
    {
      "cell_type": "markdown",
      "metadata": {
        "id": "51XZNUnnTQ_c"
      },
      "source": [
        "## 8. Гуглим!\n",
        "\n",
        "__Задача:__ я хочу сгенерировать рандомное число, но я не знаю как это сделать. \n",
        "\n",
        "В этом месте ваш семинарист совершит смертельный номер. Он загуглит у вас на глазах как сгенерировать случайное число и найдёт код для этого."
      ]
    },
    {
      "cell_type": "code",
      "metadata": {
        "id": "_z_AwuTjTQ_c",
        "outputId": "86423ec0-ebc6-4773-a50f-aa0d96bfae7c",
        "colab": {
          "base_uri": "https://localhost:8080/"
        }
      },
      "source": [
        "import random\n",
        "random.randrange(1, 100)"
      ],
      "execution_count": 55,
      "outputs": [
        {
          "output_type": "execute_result",
          "data": {
            "text/plain": [
              "55"
            ]
          },
          "metadata": {},
          "execution_count": 55
        }
      ]
    },
    {
      "cell_type": "markdown",
      "metadata": {
        "id": "-iY-UzfUTQ_d"
      },
      "source": [
        "Увидели чудо? Давайте договоримся, что вы не будете стесняться гуглить нужные вам команды и искать ответы на свои вопросы в интернете. Если уж совсем не выходит, задавайте их в наш чат технической поддержки в Телеграм. "
      ]
    },
    {
      "cell_type": "markdown",
      "metadata": {
        "id": "pDl99gFKTQ_d"
      },
      "source": [
        "## 9. Дзен Python и PEP-8\n",
        "\n",
        "Как мы увидели выше, команда `import` позволяет подгрузить различные пакеты и модули. Один из модулей, который обязательно нужно подгрузить на первой же паре - это модуль `this`"
      ]
    },
    {
      "cell_type": "code",
      "metadata": {
        "id": "oxhvu2ZCTQ_d",
        "outputId": "05d59203-b8af-4f2a-b31f-cca88bfe33db",
        "colab": {
          "base_uri": "https://localhost:8080/"
        }
      },
      "source": [
        "import this"
      ],
      "execution_count": 56,
      "outputs": [
        {
          "output_type": "stream",
          "name": "stdout",
          "text": [
            "The Zen of Python, by Tim Peters\n",
            "\n",
            "Beautiful is better than ugly.\n",
            "Explicit is better than implicit.\n",
            "Simple is better than complex.\n",
            "Complex is better than complicated.\n",
            "Flat is better than nested.\n",
            "Sparse is better than dense.\n",
            "Readability counts.\n",
            "Special cases aren't special enough to break the rules.\n",
            "Although practicality beats purity.\n",
            "Errors should never pass silently.\n",
            "Unless explicitly silenced.\n",
            "In the face of ambiguity, refuse the temptation to guess.\n",
            "There should be one-- and preferably only one --obvious way to do it.\n",
            "Although that way may not be obvious at first unless you're Dutch.\n",
            "Now is better than never.\n",
            "Although never is often better than *right* now.\n",
            "If the implementation is hard to explain, it's a bad idea.\n",
            "If the implementation is easy to explain, it may be a good idea.\n",
            "Namespaces are one honking great idea -- let's do more of those!\n"
          ]
        }
      ]
    },
    {
      "cell_type": "markdown",
      "metadata": {
        "id": "KEUm_J7ITQ_d"
      },
      "source": [
        "Разработчики языка Python придерживаются определённой философии программирования, называемой «The Zen of Python» («Дзен Питона», или «Дзен Пайтона»). Выше мы вывели на экран именно её. Изучите эту философию и тоже начните её придерживаться.\n",
        "\n",
        "Более того, мы рекомендуем вам изучить [стайлгайд по написанию кода PEP 8.](https://pythonworld.ru/osnovy/pep-8-rukovodstvo-po-napisaniyu-koda-na-python.html) В конце курса вас будет ждать домашка с код-ревью. В ней мы будем требовать, чтобы вы придерживались PEP 8. Код должен быть читаемым :) "
      ]
    }
  ]
}