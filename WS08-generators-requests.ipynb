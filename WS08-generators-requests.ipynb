{
  "nbformat": 4,
  "nbformat_minor": 0,
  "metadata": {
    "colab": {
      "name": "WS08-requests-generators.ipynb",
      "provenance": [],
      "collapsed_sections": []
    },
    "interpreter": {
      "hash": "b89b5cfaba6639976dc87ff2fec6d58faec662063367e2c229c520fe71072417"
    },
    "kernelspec": {
      "display_name": "Python 3.10.0 64-bit",
      "name": "python3"
    },
    "language_info": {
      "codemirror_mode": {
        "name": "ipython",
        "version": 3
      },
      "file_extension": ".py",
      "mimetype": "text/x-python",
      "name": "python",
      "nbconvert_exporter": "python",
      "pygments_lexer": "ipython3",
      "version": "3.10.0"
    }
  },
  "cells": [
    {
      "cell_type": "markdown",
      "metadata": {
        "collapsed": false,
        "id": "q-N2Gse45uHb"
      },
      "source": [
        "# Запросы"
      ]
    },
    {
      "cell_type": "code",
      "metadata": {
        "pycharm": {
          "name": "#%%\n"
        },
        "colab": {
          "base_uri": "https://localhost:8080/"
        },
        "id": "hraQKEn05uHe",
        "outputId": "46ed43a2-73c8-48b8-87ad-1ae511d1b104"
      },
      "source": [
        "import requests\n",
        "vars(requests)"
      ],
      "execution_count": null,
      "outputs": [
        {
          "output_type": "execute_result",
          "data": {
            "text/plain": [
              "{'ConnectTimeout': requests.exceptions.ConnectTimeout,\n",
              " 'ConnectionError': requests.exceptions.ConnectionError,\n",
              " 'DependencyWarning': urllib3.exceptions.DependencyWarning,\n",
              " 'FileModeWarning': requests.exceptions.FileModeWarning,\n",
              " 'HTTPError': requests.exceptions.HTTPError,\n",
              " 'NullHandler': logging.NullHandler,\n",
              " 'PreparedRequest': requests.models.PreparedRequest,\n",
              " 'ReadTimeout': requests.exceptions.ReadTimeout,\n",
              " 'Request': requests.models.Request,\n",
              " 'RequestException': requests.exceptions.RequestException,\n",
              " 'RequestsDependencyWarning': requests.exceptions.RequestsDependencyWarning,\n",
              " 'Response': requests.models.Response,\n",
              " 'Session': requests.sessions.Session,\n",
              " 'Timeout': requests.exceptions.Timeout,\n",
              " 'TooManyRedirects': requests.exceptions.TooManyRedirects,\n",
              " 'URLRequired': requests.exceptions.URLRequired,\n",
              " '__author__': 'Kenneth Reitz',\n",
              " '__author_email__': 'me@kennethreitz.org',\n",
              " '__build__': 140032,\n",
              " '__builtins__': {'ArithmeticError': ArithmeticError,\n",
              "  'AssertionError': AssertionError,\n",
              "  'AttributeError': AttributeError,\n",
              "  'BaseException': BaseException,\n",
              "  'BlockingIOError': BlockingIOError,\n",
              "  'BrokenPipeError': BrokenPipeError,\n",
              "  'BufferError': BufferError,\n",
              "  'BytesWarning': BytesWarning,\n",
              "  'ChildProcessError': ChildProcessError,\n",
              "  'ConnectionAbortedError': ConnectionAbortedError,\n",
              "  'ConnectionError': ConnectionError,\n",
              "  'ConnectionRefusedError': ConnectionRefusedError,\n",
              "  'ConnectionResetError': ConnectionResetError,\n",
              "  'DeprecationWarning': DeprecationWarning,\n",
              "  'EOFError': EOFError,\n",
              "  'Ellipsis': Ellipsis,\n",
              "  'EnvironmentError': OSError,\n",
              "  'Exception': Exception,\n",
              "  'False': False,\n",
              "  'FileExistsError': FileExistsError,\n",
              "  'FileNotFoundError': FileNotFoundError,\n",
              "  'FloatingPointError': FloatingPointError,\n",
              "  'FutureWarning': FutureWarning,\n",
              "  'GeneratorExit': GeneratorExit,\n",
              "  'IOError': OSError,\n",
              "  'ImportError': ImportError,\n",
              "  'ImportWarning': ImportWarning,\n",
              "  'IndentationError': IndentationError,\n",
              "  'IndexError': IndexError,\n",
              "  'InterruptedError': InterruptedError,\n",
              "  'IsADirectoryError': IsADirectoryError,\n",
              "  'KeyError': KeyError,\n",
              "  'KeyboardInterrupt': KeyboardInterrupt,\n",
              "  'LookupError': LookupError,\n",
              "  'MemoryError': MemoryError,\n",
              "  'ModuleNotFoundError': ModuleNotFoundError,\n",
              "  'NameError': NameError,\n",
              "  'None': None,\n",
              "  'NotADirectoryError': NotADirectoryError,\n",
              "  'NotImplemented': NotImplemented,\n",
              "  'NotImplementedError': NotImplementedError,\n",
              "  'OSError': OSError,\n",
              "  'OverflowError': OverflowError,\n",
              "  'PendingDeprecationWarning': PendingDeprecationWarning,\n",
              "  'PermissionError': PermissionError,\n",
              "  'ProcessLookupError': ProcessLookupError,\n",
              "  'RecursionError': RecursionError,\n",
              "  'ReferenceError': ReferenceError,\n",
              "  'ResourceWarning': ResourceWarning,\n",
              "  'RuntimeError': RuntimeError,\n",
              "  'RuntimeWarning': RuntimeWarning,\n",
              "  'StopAsyncIteration': StopAsyncIteration,\n",
              "  'StopIteration': StopIteration,\n",
              "  'SyntaxError': SyntaxError,\n",
              "  'SyntaxWarning': SyntaxWarning,\n",
              "  'SystemError': SystemError,\n",
              "  'SystemExit': SystemExit,\n",
              "  'TabError': TabError,\n",
              "  'TimeoutError': TimeoutError,\n",
              "  'True': True,\n",
              "  'TypeError': TypeError,\n",
              "  'UnboundLocalError': UnboundLocalError,\n",
              "  'UnicodeDecodeError': UnicodeDecodeError,\n",
              "  'UnicodeEncodeError': UnicodeEncodeError,\n",
              "  'UnicodeError': UnicodeError,\n",
              "  'UnicodeTranslateError': UnicodeTranslateError,\n",
              "  'UnicodeWarning': UnicodeWarning,\n",
              "  'UserWarning': UserWarning,\n",
              "  'ValueError': ValueError,\n",
              "  'Warning': Warning,\n",
              "  'ZeroDivisionError': ZeroDivisionError,\n",
              "  '__IPYTHON__': True,\n",
              "  '__build_class__': <function __build_class__>,\n",
              "  '__debug__': True,\n",
              "  '__doc__': \"Built-in functions, exceptions, and other objects.\\n\\nNoteworthy: None is the `nil' object; Ellipsis represents `...' in slices.\",\n",
              "  '__import__': <function __import__>,\n",
              "  '__loader__': _frozen_importlib.BuiltinImporter,\n",
              "  '__name__': 'builtins',\n",
              "  '__package__': '',\n",
              "  '__spec__': ModuleSpec(name='builtins', loader=<class '_frozen_importlib.BuiltinImporter'>),\n",
              "  'abs': <function abs>,\n",
              "  'all': <function all>,\n",
              "  'any': <function any>,\n",
              "  'ascii': <function ascii>,\n",
              "  'bin': <function bin>,\n",
              "  'bool': bool,\n",
              "  'breakpoint': <function breakpoint>,\n",
              "  'bytearray': bytearray,\n",
              "  'bytes': bytes,\n",
              "  'callable': <function callable>,\n",
              "  'chr': <function chr>,\n",
              "  'classmethod': classmethod,\n",
              "  'compile': <function compile>,\n",
              "  'complex': complex,\n",
              "  'copyright': Copyright (c) 2001-2021 Python Software Foundation.\n",
              "  All Rights Reserved.\n",
              "  \n",
              "  Copyright (c) 2000 BeOpen.com.\n",
              "  All Rights Reserved.\n",
              "  \n",
              "  Copyright (c) 1995-2001 Corporation for National Research Initiatives.\n",
              "  All Rights Reserved.\n",
              "  \n",
              "  Copyright (c) 1991-1995 Stichting Mathematisch Centrum, Amsterdam.\n",
              "  All Rights Reserved.,\n",
              "  'credits':     Thanks to CWI, CNRI, BeOpen.com, Zope Corporation and a cast of thousands\n",
              "      for supporting Python development.  See www.python.org for more information.,\n",
              "  'delattr': <function delattr>,\n",
              "  'dict': dict,\n",
              "  'dir': <function dir>,\n",
              "  'display': <function IPython.core.display.display>,\n",
              "  'divmod': <function divmod>,\n",
              "  'dreload': <function IPython.lib.deepreload._dreload>,\n",
              "  'enumerate': enumerate,\n",
              "  'eval': <function eval>,\n",
              "  'exec': <function exec>,\n",
              "  'execfile': <function _pydev_imps._pydev_execfile.execfile>,\n",
              "  'filter': filter,\n",
              "  'float': float,\n",
              "  'format': <function format>,\n",
              "  'frozenset': frozenset,\n",
              "  'get_ipython': <bound method InteractiveShell.get_ipython of <google.colab._shell.Shell object at 0x7f605b263410>>,\n",
              "  'getattr': <function getattr>,\n",
              "  'globals': <function globals>,\n",
              "  'hasattr': <function hasattr>,\n",
              "  'hash': <function hash>,\n",
              "  'help': Type help() for interactive help, or help(object) for help about object.,\n",
              "  'hex': <function hex>,\n",
              "  'id': <function id>,\n",
              "  'input': <bound method Kernel.raw_input of <google.colab._kernel.Kernel object at 0x7f605b1b6090>>,\n",
              "  'int': int,\n",
              "  'isinstance': <function isinstance>,\n",
              "  'issubclass': <function issubclass>,\n",
              "  'iter': <function iter>,\n",
              "  'len': <function len>,\n",
              "  'license': Type license() to see the full license text,\n",
              "  'list': list,\n",
              "  'locals': <function locals>,\n",
              "  'map': map,\n",
              "  'max': <function max>,\n",
              "  'memoryview': memoryview,\n",
              "  'min': <function min>,\n",
              "  'next': <function next>,\n",
              "  'object': object,\n",
              "  'oct': <function oct>,\n",
              "  'open': <function io.open>,\n",
              "  'ord': <function ord>,\n",
              "  'pow': <function pow>,\n",
              "  'print': <function print>,\n",
              "  'property': property,\n",
              "  'range': range,\n",
              "  'repr': <function repr>,\n",
              "  'reversed': reversed,\n",
              "  'round': <function round>,\n",
              "  'runfile': <function _pydev_bundle.pydev_umd.runfile>,\n",
              "  'set': set,\n",
              "  'setattr': <function setattr>,\n",
              "  'slice': slice,\n",
              "  'sorted': <function sorted>,\n",
              "  'staticmethod': staticmethod,\n",
              "  'str': str,\n",
              "  'sum': <function sum>,\n",
              "  'super': super,\n",
              "  'tuple': tuple,\n",
              "  'type': type,\n",
              "  'vars': <function vars>,\n",
              "  'zip': zip},\n",
              " '__cached__': '/usr/local/lib/python3.7/dist-packages/requests/__pycache__/__init__.cpython-37.pyc',\n",
              " '__cake__': '✨ 🍰 ✨',\n",
              " '__copyright__': 'Copyright 2020 Kenneth Reitz',\n",
              " '__description__': 'Python HTTP for Humans.',\n",
              " '__doc__': '\\nRequests HTTP Library\\n~~~~~~~~~~~~~~~~~~~~~\\n\\nRequests is an HTTP library, written in Python, for human beings.\\nBasic GET usage:\\n\\n   >>> import requests\\n   >>> r = requests.get(\\'https://www.python.org\\')\\n   >>> r.status_code\\n   200\\n   >>> b\\'Python is a programming language\\' in r.content\\n   True\\n\\n... or POST:\\n\\n   >>> payload = dict(key1=\\'value1\\', key2=\\'value2\\')\\n   >>> r = requests.post(\\'https://httpbin.org/post\\', data=payload)\\n   >>> print(r.text)\\n   {\\n     ...\\n     \"form\": {\\n       \"key1\": \"value1\",\\n       \"key2\": \"value2\"\\n     },\\n     ...\\n   }\\n\\nThe other HTTP methods are supported - see `requests.api`. Full documentation\\nis at <https://requests.readthedocs.io>.\\n\\n:copyright: (c) 2017 by Kenneth Reitz.\\n:license: Apache 2.0, see LICENSE for more details.\\n',\n",
              " '__file__': '/usr/local/lib/python3.7/dist-packages/requests/__init__.py',\n",
              " '__license__': 'Apache 2.0',\n",
              " '__loader__': <_frozen_importlib_external.SourceFileLoader at 0x7f6054ae8b90>,\n",
              " '__name__': 'requests',\n",
              " '__package__': 'requests',\n",
              " '__path__': ['/usr/local/lib/python3.7/dist-packages/requests'],\n",
              " '__spec__': ModuleSpec(name='requests', loader=<_frozen_importlib_external.SourceFileLoader object at 0x7f6054ae8b90>, origin='/usr/local/lib/python3.7/dist-packages/requests/__init__.py', submodule_search_locations=['/usr/local/lib/python3.7/dist-packages/requests']),\n",
              " '__title__': 'requests',\n",
              " '__url__': 'https://requests.readthedocs.io',\n",
              " '__version__': '2.23.0',\n",
              " '_check_cryptography': <function requests._check_cryptography>,\n",
              " '_internal_utils': <module 'requests._internal_utils' from '/usr/local/lib/python3.7/dist-packages/requests/_internal_utils.py'>,\n",
              " 'adapters': <module 'requests.adapters' from '/usr/local/lib/python3.7/dist-packages/requests/adapters.py'>,\n",
              " 'api': <module 'requests.api' from '/usr/local/lib/python3.7/dist-packages/requests/api.py'>,\n",
              " 'auth': <module 'requests.auth' from '/usr/local/lib/python3.7/dist-packages/requests/auth.py'>,\n",
              " 'certs': <module 'requests.certs' from '/usr/local/lib/python3.7/dist-packages/requests/certs.py'>,\n",
              " 'chardet': <module 'chardet' from '/usr/local/lib/python3.7/dist-packages/chardet/__init__.py'>,\n",
              " 'check_compatibility': <function requests.check_compatibility>,\n",
              " 'codes': <lookup 'status_codes'>,\n",
              " 'compat': <module 'requests.compat' from '/usr/local/lib/python3.7/dist-packages/requests/compat.py'>,\n",
              " 'cookies': <module 'requests.cookies' from '/usr/local/lib/python3.7/dist-packages/requests/cookies.py'>,\n",
              " 'delete': <function requests.api.delete>,\n",
              " 'exceptions': <module 'requests.exceptions' from '/usr/local/lib/python3.7/dist-packages/requests/exceptions.py'>,\n",
              " 'get': <function requests.api.get>,\n",
              " 'head': <function requests.api.head>,\n",
              " 'hooks': <module 'requests.hooks' from '/usr/local/lib/python3.7/dist-packages/requests/hooks.py'>,\n",
              " 'logging': <module 'logging' from '/usr/lib/python3.7/logging/__init__.py'>,\n",
              " 'models': <module 'requests.models' from '/usr/local/lib/python3.7/dist-packages/requests/models.py'>,\n",
              " 'options': <function requests.api.options>,\n",
              " 'packages': <module 'requests.packages' from '/usr/local/lib/python3.7/dist-packages/requests/packages.py'>,\n",
              " 'patch': <function requests.api.patch>,\n",
              " 'post': <function requests.api.post>,\n",
              " 'put': <function requests.api.put>,\n",
              " 'request': <function requests.api.request>,\n",
              " 'session': <function requests.sessions.session>,\n",
              " 'sessions': <module 'requests.sessions' from '/usr/local/lib/python3.7/dist-packages/requests/sessions.py'>,\n",
              " 'status_codes': <module 'requests.status_codes' from '/usr/local/lib/python3.7/dist-packages/requests/status_codes.py'>,\n",
              " 'structures': <module 'requests.structures' from '/usr/local/lib/python3.7/dist-packages/requests/structures.py'>,\n",
              " 'urllib3': <module 'urllib3' from '/usr/local/lib/python3.7/dist-packages/urllib3/__init__.py'>,\n",
              " 'utils': <module 'requests.utils' from '/usr/local/lib/python3.7/dist-packages/requests/utils.py'>,\n",
              " 'warnings': <module 'warnings' from '/usr/lib/python3.7/warnings.py'>}"
            ]
          },
          "metadata": {},
          "execution_count": 1
        }
      ]
    },
    {
      "cell_type": "code",
      "metadata": {
        "pycharm": {
          "name": "#%%\n"
        },
        "colab": {
          "base_uri": "https://localhost:8080/"
        },
        "id": "XMNsQkpG5uHf",
        "outputId": "682d5c18-4e33-48ea-e836-328ba015dd5e"
      },
      "source": [
        "requests.get('https://github.com/Alex394540/advanced_python_course/')"
      ],
      "execution_count": null,
      "outputs": [
        {
          "output_type": "execute_result",
          "data": {
            "text/plain": [
              "<Response [404]>"
            ]
          },
          "metadata": {},
          "execution_count": 2
        }
      ]
    },
    {
      "cell_type": "code",
      "metadata": {
        "pycharm": {
          "name": "#%%\n"
        },
        "colab": {
          "base_uri": "https://localhost:8080/"
        },
        "id": "0QACa0Fj5uHf",
        "outputId": "5bfedfa3-70c2-49d9-ff7c-ae1014b5318b"
      },
      "source": [
        "requests.get('https://api.github.com/user')"
      ],
      "execution_count": null,
      "outputs": [
        {
          "output_type": "execute_result",
          "data": {
            "text/plain": [
              "<Response [401]>"
            ]
          },
          "metadata": {},
          "execution_count": 3
        }
      ]
    },
    {
      "cell_type": "code",
      "metadata": {
        "pycharm": {
          "name": "#%%\n"
        },
        "colab": {
          "base_uri": "https://localhost:8080/"
        },
        "id": "6mRluDc35uHg",
        "outputId": "3639b50d-d90d-4606-9e56-0fa82709d211"
      },
      "source": [
        "requests.get('https://api.github.com')"
      ],
      "execution_count": null,
      "outputs": [
        {
          "output_type": "execute_result",
          "data": {
            "text/plain": [
              "<Response [200]>"
            ]
          },
          "metadata": {},
          "execution_count": 4
        }
      ]
    },
    {
      "cell_type": "code",
      "metadata": {
        "pycharm": {
          "name": "#%%\n"
        },
        "id": "D9GpJ0Tv5uHg"
      },
      "source": [
        "response = requests.get('https://api.github.com')"
      ],
      "execution_count": null,
      "outputs": []
    },
    {
      "cell_type": "code",
      "metadata": {
        "pycharm": {
          "name": "#%%\n"
        },
        "colab": {
          "base_uri": "https://localhost:8080/"
        },
        "id": "rTP-AHak5uHg",
        "outputId": "648002d1-d6cd-4e12-a37a-051392d68a74"
      },
      "source": [
        "response.status_code"
      ],
      "execution_count": null,
      "outputs": [
        {
          "output_type": "execute_result",
          "data": {
            "text/plain": [
              "200"
            ]
          },
          "metadata": {},
          "execution_count": 7
        }
      ]
    },
    {
      "cell_type": "code",
      "metadata": {
        "pycharm": {
          "name": "#%%\n"
        },
        "colab": {
          "base_uri": "https://localhost:8080/"
        },
        "id": "CXpU7YOU5uHh",
        "outputId": "8af3b6e7-1690-47fd-fdef-ffe4366add40"
      },
      "source": [
        "response.content"
      ],
      "execution_count": null,
      "outputs": [
        {
          "output_type": "execute_result",
          "data": {
            "text/plain": [
              "b'{\"current_user_url\":\"https://api.github.com/user\",\"current_user_authorizations_html_url\":\"https://github.com/settings/connections/applications{/client_id}\",\"authorizations_url\":\"https://api.github.com/authorizations\",\"code_search_url\":\"https://api.github.com/search/code?q={query}{&page,per_page,sort,order}\",\"commit_search_url\":\"https://api.github.com/search/commits?q={query}{&page,per_page,sort,order}\",\"emails_url\":\"https://api.github.com/user/emails\",\"emojis_url\":\"https://api.github.com/emojis\",\"events_url\":\"https://api.github.com/events\",\"feeds_url\":\"https://api.github.com/feeds\",\"followers_url\":\"https://api.github.com/user/followers\",\"following_url\":\"https://api.github.com/user/following{/target}\",\"gists_url\":\"https://api.github.com/gists{/gist_id}\",\"hub_url\":\"https://api.github.com/hub\",\"issue_search_url\":\"https://api.github.com/search/issues?q={query}{&page,per_page,sort,order}\",\"issues_url\":\"https://api.github.com/issues\",\"keys_url\":\"https://api.github.com/user/keys\",\"label_search_url\":\"https://api.github.com/search/labels?q={query}&repository_id={repository_id}{&page,per_page}\",\"notifications_url\":\"https://api.github.com/notifications\",\"organization_url\":\"https://api.github.com/orgs/{org}\",\"organization_repositories_url\":\"https://api.github.com/orgs/{org}/repos{?type,page,per_page,sort}\",\"organization_teams_url\":\"https://api.github.com/orgs/{org}/teams\",\"public_gists_url\":\"https://api.github.com/gists/public\",\"rate_limit_url\":\"https://api.github.com/rate_limit\",\"repository_url\":\"https://api.github.com/repos/{owner}/{repo}\",\"repository_search_url\":\"https://api.github.com/search/repositories?q={query}{&page,per_page,sort,order}\",\"current_user_repositories_url\":\"https://api.github.com/user/repos{?type,page,per_page,sort}\",\"starred_url\":\"https://api.github.com/user/starred{/owner}{/repo}\",\"starred_gists_url\":\"https://api.github.com/gists/starred\",\"topic_search_url\":\"https://api.github.com/search/topics?q={query}{&page,per_page}\",\"user_url\":\"https://api.github.com/users/{user}\",\"user_organizations_url\":\"https://api.github.com/user/orgs\",\"user_repositories_url\":\"https://api.github.com/users/{user}/repos{?type,page,per_page,sort}\",\"user_search_url\":\"https://api.github.com/search/users?q={query}{&page,per_page,sort,order}\"}'"
            ]
          },
          "metadata": {},
          "execution_count": 8
        }
      ]
    },
    {
      "cell_type": "code",
      "metadata": {
        "pycharm": {
          "name": "#%%\n"
        },
        "colab": {
          "base_uri": "https://localhost:8080/",
          "height": 238
        },
        "id": "aKShbF6_5uHh",
        "outputId": "c2e331a6-401a-4cda-a443-8552550a33a3"
      },
      "source": [
        "response.text"
      ],
      "execution_count": null,
      "outputs": [
        {
          "output_type": "execute_result",
          "data": {
            "application/vnd.google.colaboratory.intrinsic+json": {
              "type": "string"
            },
            "text/plain": [
              "'{\"current_user_url\":\"https://api.github.com/user\",\"current_user_authorizations_html_url\":\"https://github.com/settings/connections/applications{/client_id}\",\"authorizations_url\":\"https://api.github.com/authorizations\",\"code_search_url\":\"https://api.github.com/search/code?q={query}{&page,per_page,sort,order}\",\"commit_search_url\":\"https://api.github.com/search/commits?q={query}{&page,per_page,sort,order}\",\"emails_url\":\"https://api.github.com/user/emails\",\"emojis_url\":\"https://api.github.com/emojis\",\"events_url\":\"https://api.github.com/events\",\"feeds_url\":\"https://api.github.com/feeds\",\"followers_url\":\"https://api.github.com/user/followers\",\"following_url\":\"https://api.github.com/user/following{/target}\",\"gists_url\":\"https://api.github.com/gists{/gist_id}\",\"hub_url\":\"https://api.github.com/hub\",\"issue_search_url\":\"https://api.github.com/search/issues?q={query}{&page,per_page,sort,order}\",\"issues_url\":\"https://api.github.com/issues\",\"keys_url\":\"https://api.github.com/user/keys\",\"label_search_url\":\"https://api.github.com/search/labels?q={query}&repository_id={repository_id}{&page,per_page}\",\"notifications_url\":\"https://api.github.com/notifications\",\"organization_url\":\"https://api.github.com/orgs/{org}\",\"organization_repositories_url\":\"https://api.github.com/orgs/{org}/repos{?type,page,per_page,sort}\",\"organization_teams_url\":\"https://api.github.com/orgs/{org}/teams\",\"public_gists_url\":\"https://api.github.com/gists/public\",\"rate_limit_url\":\"https://api.github.com/rate_limit\",\"repository_url\":\"https://api.github.com/repos/{owner}/{repo}\",\"repository_search_url\":\"https://api.github.com/search/repositories?q={query}{&page,per_page,sort,order}\",\"current_user_repositories_url\":\"https://api.github.com/user/repos{?type,page,per_page,sort}\",\"starred_url\":\"https://api.github.com/user/starred{/owner}{/repo}\",\"starred_gists_url\":\"https://api.github.com/gists/starred\",\"topic_search_url\":\"https://api.github.com/search/topics?q={query}{&page,per_page}\",\"user_url\":\"https://api.github.com/users/{user}\",\"user_organizations_url\":\"https://api.github.com/user/orgs\",\"user_repositories_url\":\"https://api.github.com/users/{user}/repos{?type,page,per_page,sort}\",\"user_search_url\":\"https://api.github.com/search/users?q={query}{&page,per_page,sort,order}\"}'"
            ]
          },
          "metadata": {},
          "execution_count": 9
        }
      ]
    },
    {
      "cell_type": "code",
      "metadata": {
        "pycharm": {
          "name": "#%%\n"
        },
        "colab": {
          "base_uri": "https://localhost:8080/"
        },
        "id": "hL81i-B75uHi",
        "outputId": "2a6b4a7a-76ec-45ce-b9db-1b88b5ad6a2c"
      },
      "source": [
        "response.headers"
      ],
      "execution_count": null,
      "outputs": [
        {
          "output_type": "execute_result",
          "data": {
            "text/plain": [
              "{'Server': 'GitHub.com', 'Date': 'Wed, 03 Nov 2021 13:51:22 GMT', 'Cache-Control': 'public, max-age=60, s-maxage=60', 'Vary': 'Accept, Accept-Encoding, Accept, X-Requested-With', 'ETag': '\"4f825cc84e1c733059d46e76e6df9db557ae5254f9625dfe8e1b09499c449438\"', 'Access-Control-Expose-Headers': 'ETag, Link, Location, Retry-After, X-GitHub-OTP, X-RateLimit-Limit, X-RateLimit-Remaining, X-RateLimit-Used, X-RateLimit-Resource, X-RateLimit-Reset, X-OAuth-Scopes, X-Accepted-OAuth-Scopes, X-Poll-Interval, X-GitHub-Media-Type, Deprecation, Sunset', 'Access-Control-Allow-Origin': '*', 'Strict-Transport-Security': 'max-age=31536000; includeSubdomains; preload', 'X-Frame-Options': 'deny', 'X-Content-Type-Options': 'nosniff', 'X-XSS-Protection': '0', 'Referrer-Policy': 'origin-when-cross-origin, strict-origin-when-cross-origin', 'Content-Security-Policy': \"default-src 'none'\", 'Content-Type': 'application/json; charset=utf-8', 'X-GitHub-Media-Type': 'github.v3; format=json', 'Content-Encoding': 'gzip', 'X-RateLimit-Limit': '60', 'X-RateLimit-Remaining': '57', 'X-RateLimit-Reset': '1635951054', 'X-RateLimit-Resource': 'core', 'X-RateLimit-Used': '3', 'Accept-Ranges': 'bytes', 'Content-Length': '510', 'X-GitHub-Request-Id': 'C466:0D3B:863E42:10E89C3:618293EA'}"
            ]
          },
          "metadata": {},
          "execution_count": 10
        }
      ]
    },
    {
      "cell_type": "code",
      "metadata": {
        "pycharm": {
          "name": "#%%\n"
        },
        "id": "J8dVTFOF5uHi"
      },
      "source": [
        "resp = requests.get(\n",
        "    'https://api.github.com/search/repositories',\n",
        "    params=[('q', 'requests+language:python')],\n",
        ")"
      ],
      "execution_count": null,
      "outputs": []
    },
    {
      "cell_type": "code",
      "metadata": {
        "pycharm": {
          "name": "#%%\n"
        },
        "colab": {
          "base_uri": "https://localhost:8080/",
          "height": 1000
        },
        "id": "95nqbLOG5uHi",
        "outputId": "5b8c1ce5-b6bd-4c18-b15e-b173ea707879"
      },
      "source": [
        "resp.text"
      ],
      "execution_count": null,
      "outputs": [
        {
          "output_type": "execute_result",
          "data": {
            "application/vnd.google.colaboratory.intrinsic+json": {
              "type": "string"
            },
            "text/plain": [
              "'{\"total_count\":14887,\"incomplete_results\":false,\"items\":[{\"id\":4290214,\"node_id\":\"MDEwOlJlcG9zaXRvcnk0MjkwMjE0\",\"name\":\"grequests\",\"full_name\":\"spyoungtech/grequests\",\"private\":false,\"owner\":{\"login\":\"spyoungtech\",\"id\":15212758,\"node_id\":\"MDQ6VXNlcjE1MjEyNzU4\",\"avatar_url\":\"https://avatars.githubusercontent.com/u/15212758?v=4\",\"gravatar_id\":\"\",\"url\":\"https://api.github.com/users/spyoungtech\",\"html_url\":\"https://github.com/spyoungtech\",\"followers_url\":\"https://api.github.com/users/spyoungtech/followers\",\"following_url\":\"https://api.github.com/users/spyoungtech/following{/other_user}\",\"gists_url\":\"https://api.github.com/users/spyoungtech/gists{/gist_id}\",\"starred_url\":\"https://api.github.com/users/spyoungtech/starred{/owner}{/repo}\",\"subscriptions_url\":\"https://api.github.com/users/spyoungtech/subscriptions\",\"organizations_url\":\"https://api.github.com/users/spyoungtech/orgs\",\"repos_url\":\"https://api.github.com/users/spyoungtech/repos\",\"events_url\":\"https://api.github.com/users/spyoungtech/events{/privacy}\",\"received_events_url\":\"https://api.github.com/users/spyoungtech/received_events\",\"type\":\"User\",\"site_admin\":false},\"html_url\":\"https://github.com/spyoungtech/grequests\",\"description\":\"Requests + Gevent = <3\",\"fork\":false,\"url\":\"https://api.github.com/repos/spyoungtech/grequests\",\"forks_url\":\"https://api.github.com/repos/spyoungtech/grequests/forks\",\"keys_url\":\"https://api.github.com/repos/spyoungtech/grequests/keys{/key_id}\",\"collaborators_url\":\"https://api.github.com/repos/spyoungtech/grequests/collaborators{/collaborator}\",\"teams_url\":\"https://api.github.com/repos/spyoungtech/grequests/teams\",\"hooks_url\":\"https://api.github.com/repos/spyoungtech/grequests/hooks\",\"issue_events_url\":\"https://api.github.com/repos/spyoungtech/grequests/issues/events{/number}\",\"events_url\":\"https://api.github.com/repos/spyoungtech/grequests/events\",\"assignees_url\":\"https://api.github.com/repos/spyoungtech/grequests/assignees{/user}\",\"branches_url\":\"https://api.github.com/repos/spyoungtech/grequests/branches{/branch}\",\"tags_url\":\"https://api.github.com/repos/spyoungtech/grequests/tags\",\"blobs_url\":\"https://api.github.com/repos/spyoungtech/grequests/git/blobs{/sha}\",\"git_tags_url\":\"https://api.github.com/repos/spyoungtech/grequests/git/tags{/sha}\",\"git_refs_url\":\"https://api.github.com/repos/spyoungtech/grequests/git/refs{/sha}\",\"trees_url\":\"https://api.github.com/repos/spyoungtech/grequests/git/trees{/sha}\",\"statuses_url\":\"https://api.github.com/repos/spyoungtech/grequests/statuses/{sha}\",\"languages_url\":\"https://api.github.com/repos/spyoungtech/grequests/languages\",\"stargazers_url\":\"https://api.github.com/repos/spyoungtech/grequests/stargazers\",\"contributors_url\":\"https://api.github.com/repos/spyoungtech/grequests/contributors\",\"subscribers_url\":\"https://api.github.com/repos/spyoungtech/grequests/subscribers\",\"subscription_url\":\"https://api.github.com/repos/spyoungtech/grequests/subscription\",\"commits_url\":\"https://api.github.com/repos/spyoungtech/grequests/commits{/sha}\",\"git_commits_url\":\"https://api.github.com/repos/spyoungtech/grequests/git/commits{/sha}\",\"comments_url\":\"https://api.github.com/repos/spyoungtech/grequests/comments{/number}\",\"issue_comment_url\":\"https://api.github.com/repos/spyoungtech/grequests/issues/comments{/number}\",\"contents_url\":\"https://api.github.com/repos/spyoungtech/grequests/contents/{+path}\",\"compare_url\":\"https://api.github.com/repos/spyoungtech/grequests/compare/{base}...{head}\",\"merges_url\":\"https://api.github.com/repos/spyoungtech/grequests/merges\",\"archive_url\":\"https://api.github.com/repos/spyoungtech/grequests/{archive_format}{/ref}\",\"downloads_url\":\"https://api.github.com/repos/spyoungtech/grequests/downloads\",\"issues_url\":\"https://api.github.com/repos/spyoungtech/grequests/issues{/number}\",\"pulls_url\":\"https://api.github.com/repos/spyoungtech/grequests/pulls{/number}\",\"milestones_url\":\"https://api.github.com/repos/spyoungtech/grequests/milestones{/number}\",\"notifications_url\":\"https://api.github.com/repos/spyoungtech/grequests/notifications{?since,all,participating}\",\"labels_url\":\"https://api.github.com/repos/spyoungtech/grequests/labels{/name}\",\"releases_url\":\"https://api.github.com/repos/spyoungtech/grequests/releases{/id}\",\"deployments_url\":\"https://api.github.com/repos/spyoungtech/grequests/deployments\",\"created_at\":\"2012-05-10T21:50:15Z\",\"updated_at\":\"2021-11-03T11:31:04Z\",\"pushed_at\":\"2021-10-04T17:48:26Z\",\"git_url\":\"git://github.com/spyoungtech/grequests.git\",\"ssh_url\":\"git@github.com:spyoungtech/grequests.git\",\"clone_url\":\"https://github.com/spyoungtech/grequests.git\",\"svn_url\":\"https://github.com/spyoungtech/grequests\",\"homepage\":\"https://pypi.python.org/pypi/grequests\",\"size\":57,\"stargazers_count\":3897,\"watchers_count\":3897,\"language\":\"Python\",\"has_issues\":true,\"has_projects\":true,\"has_downloads\":true,\"has_wiki\":true,\"has_pages\":false,\"forks_count\":335,\"mirror_url\":null,\"archived\":false,\"disabled\":false,\"open_issues_count\":9,\"license\":{\"key\":\"bsd-2-clause\",\"name\":\"BSD 2-Clause \\\\\"Simplified\\\\\" License\",\"spdx_id\":\"BSD-2-Clause\",\"url\":\"https://api.github.com/licenses/bsd-2-clause\",\"node_id\":\"MDc6TGljZW5zZTQ=\"},\"allow_forking\":true,\"is_template\":false,\"topics\":[],\"visibility\":\"public\",\"forks\":335,\"open_issues\":9,\"watchers\":3897,\"default_branch\":\"master\",\"score\":1.0},{\"id\":6825724,\"node_id\":\"MDEwOlJlcG9zaXRvcnk2ODI1NzI0\",\"name\":\"requests-oauthlib\",\"full_name\":\"requests/requests-oauthlib\",\"private\":false,\"owner\":{\"login\":\"requests\",\"id\":2805331,\"node_id\":\"MDEyOk9yZ2FuaXphdGlvbjI4MDUzMzE=\",\"avatar_url\":\"https://avatars.githubusercontent.com/u/2805331?v=4\",\"gravatar_id\":\"\",\"url\":\"https://api.github.com/users/requests\",\"html_url\":\"https://github.com/requests\",\"followers_url\":\"https://api.github.com/users/requests/followers\",\"following_url\":\"https://api.github.com/users/requests/following{/other_user}\",\"gists_url\":\"https://api.github.com/users/requests/gists{/gist_id}\",\"starred_url\":\"https://api.github.com/users/requests/starred{/owner}{/repo}\",\"subscriptions_url\":\"https://api.github.com/users/requests/subscriptions\",\"organizations_url\":\"https://api.github.com/users/requests/orgs\",\"repos_url\":\"https://api.github.com/users/requests/repos\",\"events_url\":\"https://api.github.com/users/requests/events{/privacy}\",\"received_events_url\":\"https://api.github.com/users/requests/received_events\",\"type\":\"Organization\",\"site_admin\":false},\"html_url\":\"https://github.com/requests/requests-oauthlib\",\"description\":\"OAuthlib support for Python-Requests!\",\"fork\":false,\"url\":\"https://api.github.com/repos/requests/requests-oauthlib\",\"forks_url\":\"https://api.github.com/repos/requests/requests-oauthlib/forks\",\"keys_url\":\"https://api.github.com/repos/requests/requests-oauthlib/keys{/key_id}\",\"collaborators_url\":\"https://api.github.com/repos/requests/requests-oauthlib/collaborators{/collaborator}\",\"teams_url\":\"https://api.github.com/repos/requests/requests-oauthlib/teams\",\"hooks_url\":\"https://api.github.com/repos/requests/requests-oauthlib/hooks\",\"issue_events_url\":\"https://api.github.com/repos/requests/requests-oauthlib/issues/events{/number}\",\"events_url\":\"https://api.github.com/repos/requests/requests-oauthlib/events\",\"assignees_url\":\"https://api.github.com/repos/requests/requests-oauthlib/assignees{/user}\",\"branches_url\":\"https://api.github.com/repos/requests/requests-oauthlib/branches{/branch}\",\"tags_url\":\"https://api.github.com/repos/requests/requests-oauthlib/tags\",\"blobs_url\":\"https://api.github.com/repos/requests/requests-oauthlib/git/blobs{/sha}\",\"git_tags_url\":\"https://api.github.com/repos/requests/requests-oauthlib/git/tags{/sha}\",\"git_refs_url\":\"https://api.github.com/repos/requests/requests-oauthlib/git/refs{/sha}\",\"trees_url\":\"https://api.github.com/repos/requests/requests-oauthlib/git/trees{/sha}\",\"statuses_url\":\"https://api.github.com/repos/requests/requests-oauthlib/statuses/{sha}\",\"languages_url\":\"https://api.github.com/repos/requests/requests-oauthlib/languages\",\"stargazers_url\":\"https://api.github.com/repos/requests/requests-oauthlib/stargazers\",\"contributors_url\":\"https://api.github.com/repos/requests/requests-oauthlib/contributors\",\"subscribers_url\":\"https://api.github.com/repos/requests/requests-oauthlib/subscribers\",\"subscription_url\":\"https://api.github.com/repos/requests/requests-oauthlib/subscription\",\"commits_url\":\"https://api.github.com/repos/requests/requests-oauthlib/commits{/sha}\",\"git_commits_url\":\"https://api.github.com/repos/requests/requests-oauthlib/git/commits{/sha}\",\"comments_url\":\"https://api.github.com/repos/requests/requests-oauthlib/comments{/number}\",\"issue_comment_url\":\"https://api.github.com/repos/requests/requests-oauthlib/issues/comments{/number}\",\"contents_url\":\"https://api.github.com/repos/requests/requests-oauthlib/contents/{+path}\",\"compare_url\":\"https://api.github.com/repos/requests/requests-oauthlib/compare/{base}...{head}\",\"merges_url\":\"https://api.github.com/repos/requests/requests-oauthlib/merges\",\"archive_url\":\"https://api.github.com/repos/requests/requests-oauthlib/{archive_format}{/ref}\",\"downloads_url\":\"https://api.github.com/repos/requests/requests-oauthlib/downloads\",\"issues_url\":\"https://api.github.com/repos/requests/requests-oauthlib/issues{/number}\",\"pulls_url\":\"https://api.github.com/repos/requests/requests-oauthlib/pulls{/number}\",\"milestones_url\":\"https://api.github.com/repos/requests/requests-oauthlib/milestones{/number}\",\"notifications_url\":\"https://api.github.com/repos/requests/requests-oauthlib/notifications{?since,all,participating}\",\"labels_url\":\"https://api.github.com/repos/requests/requests-oauthlib/labels{/name}\",\"releases_url\":\"https://api.github.com/repos/requests/requests-oauthlib/releases{/id}\",\"deployments_url\":\"https://api.github.com/repos/requests/requests-oauthlib/deployments\",\"created_at\":\"2012-11-23T10:19:44Z\",\"updated_at\":\"2021-11-03T11:15:26Z\",\"pushed_at\":\"2021-11-02T09:57:52Z\",\"git_url\":\"git://github.com/requests/requests-oauthlib.git\",\"ssh_url\":\"git@github.com:requests/requests-oauthlib.git\",\"clone_url\":\"https://github.com/requests/requests-oauthlib.git\",\"svn_url\":\"https://github.com/requests/requests-oauthlib\",\"homepage\":\"https://requests-oauthlib.readthedocs.org/\",\"size\":441,\"stargazers_count\":1428,\"watchers_count\":1428,\"language\":\"Python\",\"has_issues\":true,\"has_projects\":true,\"has_downloads\":true,\"has_wiki\":true,\"has_pages\":false,\"forks_count\":385,\"mirror_url\":null,\"archived\":false,\"disabled\":false,\"open_issues_count\":109,\"license\":{\"key\":\"isc\",\"name\":\"ISC License\",\"spdx_id\":\"ISC\",\"url\":\"https://api.github.com/licenses/isc\",\"node_id\":\"MDc6TGljZW5zZTEw\"},\"allow_forking\":true,\"is_template\":false,\"topics\":[\"oauth-client\",\"oauth2-client\",\"python\",\"python-requests\"],\"visibility\":\"public\",\"forks\":385,\"open_issues\":109,\"watchers\":1428,\"default_branch\":\"master\",\"score\":1.0},{\"id\":172416496,\"node_id\":\"MDEwOlJlcG9zaXRvcnkxNzI0MTY0OTY=\",\"name\":\"DecryptLogin\",\"full_name\":\"CharlesPikachu/DecryptLogin\",\"private\":false,\"owner\":{\"login\":\"CharlesPikachu\",\"id\":36195560,\"node_id\":\"MDQ6VXNlcjM2MTk1NTYw\",\"avatar_url\":\"https://avatars.githubusercontent.com/u/36195560?v=4\",\"gravatar_id\":\"\",\"url\":\"https://api.github.com/users/CharlesPikachu\",\"html_url\":\"https://github.com/CharlesPikachu\",\"followers_url\":\"https://api.github.com/users/CharlesPikachu/followers\",\"following_url\":\"https://api.github.com/users/CharlesPikachu/following{/other_user}\",\"gists_url\":\"https://api.github.com/users/CharlesPikachu/gists{/gist_id}\",\"starred_url\":\"https://api.github.com/users/CharlesPikachu/starred{/owner}{/repo}\",\"subscriptions_url\":\"https://api.github.com/users/CharlesPikachu/subscriptions\",\"organizations_url\":\"https://api.github.com/users/CharlesPikachu/orgs\",\"repos_url\":\"https://api.github.com/users/CharlesPikachu/repos\",\"events_url\":\"https://api.github.com/users/CharlesPikachu/events{/privacy}\",\"received_events_url\":\"https://api.github.com/users/CharlesPikachu/received_events\",\"type\":\"User\",\"site_admin\":false},\"html_url\":\"https://github.com/CharlesPikachu/DecryptLogin\",\"description\":\"APIs for loginning some websites by using requests.\",\"fork\":false,\"url\":\"https://api.github.com/repos/CharlesPikachu/DecryptLogin\",\"forks_url\":\"https://api.github.com/repos/CharlesPikachu/DecryptLogin/forks\",\"keys_url\":\"https://api.github.com/repos/CharlesPikachu/DecryptLogin/keys{/key_id}\",\"collaborators_url\":\"https://api.github.com/repos/CharlesPikachu/DecryptLogin/collaborators{/collaborator}\",\"teams_url\":\"https://api.github.com/repos/CharlesPikachu/DecryptLogin/teams\",\"hooks_url\":\"https://api.github.com/repos/CharlesPikachu/DecryptLogin/hooks\",\"issue_events_url\":\"https://api.github.com/repos/CharlesPikachu/DecryptLogin/issues/events{/number}\",\"events_url\":\"https://api.github.com/repos/CharlesPikachu/DecryptLogin/events\",\"assignees_url\":\"https://api.github.com/repos/CharlesPikachu/DecryptLogin/assignees{/user}\",\"branches_url\":\"https://api.github.com/repos/CharlesPikachu/DecryptLogin/branches{/branch}\",\"tags_url\":\"https://api.github.com/repos/CharlesPikachu/DecryptLogin/tags\",\"blobs_url\":\"https://api.github.com/repos/CharlesPikachu/DecryptLogin/git/blobs{/sha}\",\"git_tags_url\":\"https://api.github.com/repos/CharlesPikachu/DecryptLogin/git/tags{/sha}\",\"git_refs_url\":\"https://api.github.com/repos/CharlesPikachu/DecryptLogin/git/refs{/sha}\",\"trees_url\":\"https://api.github.com/repos/CharlesPikachu/DecryptLogin/git/trees{/sha}\",\"statuses_url\":\"https://api.github.com/repos/CharlesPikachu/DecryptLogin/statuses/{sha}\",\"languages_url\":\"https://api.github.com/repos/CharlesPikachu/DecryptLogin/languages\",\"stargazers_url\":\"https://api.github.com/repos/CharlesPikachu/DecryptLogin/stargazers\",\"contributors_url\":\"https://api.github.com/repos/CharlesPikachu/DecryptLogin/contributors\",\"subscribers_url\":\"https://api.github.com/repos/CharlesPikachu/DecryptLogin/subscribers\",\"subscription_url\":\"https://api.github.com/repos/CharlesPikachu/DecryptLogin/subscription\",\"commits_url\":\"https://api.github.com/repos/CharlesPikachu/DecryptLogin/commits{/sha}\",\"git_commits_url\":\"https://api.github.com/repos/CharlesPikachu/DecryptLogin/git/commits{/sha}\",\"comments_url\":\"https://api.github.com/repos/CharlesPikachu/DecryptLogin/comments{/number}\",\"issue_comment_url\":\"https://api.github.com/repos/CharlesPikachu/DecryptLogin/issues/comments{/number}\",\"contents_url\":\"https://api.github.com/repos/CharlesPikachu/DecryptLogin/contents/{+path}\",\"compare_url\":\"https://api.github.com/repos/CharlesPikachu/DecryptLogin/compare/{base}...{head}\",\"merges_url\":\"https://api.github.com/repos/CharlesPikachu/DecryptLogin/merges\",\"archive_url\":\"https://api.github.com/repos/CharlesPikachu/DecryptLogin/{archive_format}{/ref}\",\"downloads_url\":\"https://api.github.com/repos/CharlesPikachu/DecryptLogin/downloads\",\"issues_url\":\"https://api.github.com/repos/CharlesPikachu/DecryptLogin/issues{/number}\",\"pulls_url\":\"https://api.github.com/repos/CharlesPikachu/DecryptLogin/pulls{/number}\",\"milestones_url\":\"https://api.github.com/repos/CharlesPikachu/DecryptLogin/milestones{/number}\",\"notifications_url\":\"https://api.github.com/repos/CharlesPikachu/DecryptLogin/notifications{?since,all,participating}\",\"labels_url\":\"https://api.github.com/repos/CharlesPikachu/DecryptLogin/labels{/name}\",\"releases_url\":\"https://api.github.com/repos/CharlesPikachu/DecryptLogin/releases{/id}\",\"deployments_url\":\"https://api.github.com/repos/CharlesPikachu/DecryptLogin/deployments\",\"created_at\":\"2019-02-25T01:57:20Z\",\"updated_at\":\"2021-11-03T13:15:41Z\",\"pushed_at\":\"2021-09-08T12:44:21Z\",\"git_url\":\"git://github.com/CharlesPikachu/DecryptLogin.git\",\"ssh_url\":\"git@github.com:CharlesPikachu/DecryptLogin.git\",\"clone_url\":\"https://github.com/CharlesPikachu/DecryptLogin.git\",\"svn_url\":\"https://github.com/CharlesPikachu/DecryptLogin\",\"homepage\":\"https://httpsgithubcomcharlespikachudecryptlogin.readthedocs.io/zh/latest/\",\"size\":37109,\"stargazers_count\":1812,\"watchers_count\":1812,\"language\":\"Python\",\"has_issues\":true,\"has_projects\":true,\"has_downloads\":true,\"has_wiki\":true,\"has_pages\":false,\"forks_count\":519,\"mirror_url\":null,\"archived\":false,\"disabled\":false,\"open_issues_count\":23,\"license\":{\"key\":\"mit\",\"name\":\"MIT License\",\"spdx_id\":\"MIT\",\"url\":\"https://api.github.com/licenses/mit\",\"node_id\":\"MDc6TGljZW5zZTEz\"},\"allow_forking\":true,\"is_template\":false,\"topics\":[\"12306\",\"baidu\",\"baiduyun\",\"bilibili\",\"crawler\",\"jingdong\",\"login\",\"migu\",\"pypi\",\"python3\",\"requests\",\"spider\",\"stackoverflow\",\"taobao\",\"tencent\",\"twitter\",\"weibo\",\"xiami\",\"xiaomi\",\"zhihu\"],\"visibility\":\"public\",\"forks\":519,\"open_issues\":23,\"watchers\":1812,\"default_branch\":\"master\",\"score\":1.0},{\"id\":51690353,\"node_id\":\"MDEwOlJlcG9zaXRvcnk1MTY5MDM1Mw==\",\"name\":\"python-zeep\",\"full_name\":\"mvantellingen/python-zeep\",\"private\":false,\"owner\":{\"login\":\"mvantellingen\",\"id\":245297,\"node_id\":\"MDQ6VXNlcjI0NTI5Nw==\",\"avatar_url\":\"https://avatars.githubusercontent.com/u/245297?v=4\",\"gravatar_id\":\"\",\"url\":\"https://api.github.com/users/mvantellingen\",\"html_url\":\"https://github.com/mvantellingen\",\"followers_url\":\"https://api.github.com/users/mvantellingen/followers\",\"following_url\":\"https://api.github.com/users/mvantellingen/following{/other_user}\",\"gists_url\":\"https://api.github.com/users/mvantellingen/gists{/gist_id}\",\"starred_url\":\"https://api.github.com/users/mvantellingen/starred{/owner}{/repo}\",\"subscriptions_url\":\"https://api.github.com/users/mvantellingen/subscriptions\",\"organizations_url\":\"https://api.github.com/users/mvantellingen/orgs\",\"repos_url\":\"https://api.github.com/users/mvantellingen/repos\",\"events_url\":\"https://api.github.com/users/mvantellingen/events{/privacy}\",\"received_events_url\":\"https://api.github.com/users/mvantellingen/received_events\",\"type\":\"User\",\"site_admin\":false},\"html_url\":\"https://github.com/mvantellingen/python-zeep\",\"description\":\"A modern/fast python SOAP client based on lxml / requests\",\"fork\":false,\"url\":\"https://api.github.com/repos/mvantellingen/python-zeep\",\"forks_url\":\"https://api.github.com/repos/mvantellingen/python-zeep/forks\",\"keys_url\":\"https://api.github.com/repos/mvantellingen/python-zeep/keys{/key_id}\",\"collaborators_url\":\"https://api.github.com/repos/mvantellingen/python-zeep/collaborators{/collaborator}\",\"teams_url\":\"https://api.github.com/repos/mvantellingen/python-zeep/teams\",\"hooks_url\":\"https://api.github.com/repos/mvantellingen/python-zeep/hooks\",\"issue_events_url\":\"https://api.github.com/repos/mvantellingen/python-zeep/issues/events{/number}\",\"events_url\":\"https://api.github.com/repos/mvantellingen/python-zeep/events\",\"assignees_url\":\"https://api.github.com/repos/mvantellingen/python-zeep/assignees{/user}\",\"branches_url\":\"https://api.github.com/repos/mvantellingen/python-zeep/branches{/branch}\",\"tags_url\":\"https://api.github.com/repos/mvantellingen/python-zeep/tags\",\"blobs_url\":\"https://api.github.com/repos/mvantellingen/python-zeep/git/blobs{/sha}\",\"git_tags_url\":\"https://api.github.com/repos/mvantellingen/python-zeep/git/tags{/sha}\",\"git_refs_url\":\"https://api.github.com/repos/mvantellingen/python-zeep/git/refs{/sha}\",\"trees_url\":\"https://api.github.com/repos/mvantellingen/python-zeep/git/trees{/sha}\",\"statuses_url\":\"https://api.github.com/repos/mvantellingen/python-zeep/statuses/{sha}\",\"languages_url\":\"https://api.github.com/repos/mvantellingen/python-zeep/languages\",\"stargazers_url\":\"https://api.github.com/repos/mvantellingen/python-zeep/stargazers\",\"contributors_url\":\"https://api.github.com/repos/mvantellingen/python-zeep/contributors\",\"subscribers_url\":\"https://api.github.com/repos/mvantellingen/python-zeep/subscribers\",\"subscription_url\":\"https://api.github.com/repos/mvantellingen/python-zeep/subscription\",\"commits_url\":\"https://api.github.com/repos/mvantellingen/python-zeep/commits{/sha}\",\"git_commits_url\":\"https://api.github.com/repos/mvantellingen/python-zeep/git/commits{/sha}\",\"comments_url\":\"https://api.github.com/repos/mvantellingen/python-zeep/comments{/number}\",\"issue_comment_url\":\"https://api.github.com/repos/mvantellingen/python-zeep/issues/comments{/number}\",\"contents_url\":\"https://api.github.com/repos/mvantellingen/python-zeep/contents/{+path}\",\"compare_url\":\"https://api.github.com/repos/mvantellingen/python-zeep/compare/{base}...{head}\",\"merges_url\":\"https://api.github.com/repos/mvantellingen/python-zeep/merges\",\"archive_url\":\"https://api.github.com/repos/mvantellingen/python-zeep/{archive_format}{/ref}\",\"downloads_url\":\"https://api.github.com/repos/mvantellingen/python-zeep/downloads\",\"issues_url\":\"https://api.github.com/repos/mvantellingen/python-zeep/issues{/number}\",\"pulls_url\":\"https://api.github.com/repos/mvantellingen/python-zeep/pulls{/number}\",\"milestones_url\":\"https://api.github.com/repos/mvantellingen/python-zeep/milestones{/number}\",\"notifications_url\":\"https://api.github.com/repos/mvantellingen/python-zeep/notifications{?since,all,participating}\",\"labels_url\":\"https://api.github.com/repos/mvantellingen/python-zeep/labels{/name}\",\"releases_url\":\"https://api.github.com/repos/mvantellingen/python-zeep/releases{/id}\",\"deployments_url\":\"https://api.github.com/repos/mvantellingen/python-zeep/deployments\",\"created_at\":\"2016-02-14T10:31:07Z\",\"updated_at\":\"2021-10-27T21:50:26Z\",\"pushed_at\":\"2021-10-19T06:25:42Z\",\"git_url\":\"git://github.com/mvantellingen/python-zeep.git\",\"ssh_url\":\"git@github.com:mvantellingen/python-zeep.git\",\"clone_url\":\"https://github.com/mvantellingen/python-zeep.git\",\"svn_url\":\"https://github.com/mvantellingen/python-zeep\",\"homepage\":\"http://docs.python-zeep.org\",\"size\":2552,\"stargazers_count\":1630,\"watchers_count\":1630,\"language\":\"Python\",\"has_issues\":true,\"has_projects\":true,\"has_downloads\":true,\"has_wiki\":true,\"has_pages\":false,\"forks_count\":521,\"mirror_url\":null,\"archived\":false,\"disabled\":false,\"open_issues_count\":374,\"license\":{\"key\":\"other\",\"name\":\"Other\",\"spdx_id\":\"NOASSERTION\",\"url\":null,\"node_id\":\"MDc6TGljZW5zZTA=\"},\"allow_forking\":true,\"is_template\":false,\"topics\":[\"python\",\"soap\",\"soap-client\",\"wsdl\"],\"visibility\":\"public\",\"forks\":521,\"open_issues\":374,\"watchers\":1630,\"default_branch\":\"master\",\"score\":1.0},{\"id\":760165,\"node_id\":\"MDEwOlJlcG9zaXRvcnk3NjAxNjU=\",\"name\":\"buildbot\",\"full_name\":\"buildbot/buildbot\",\"private\":false,\"owner\":{\"login\":\"buildbot\",\"id\":324515,\"node_id\":\"MDEyOk9yZ2FuaXphdGlvbjMyNDUxNQ==\",\"avatar_url\":\"https://avatars.githubusercontent.com/u/324515?v=4\",\"gravatar_id\":\"\",\"url\":\"https://api.github.com/users/buildbot\",\"html_url\":\"https://github.com/buildbot\",\"followers_url\":\"https://api.github.com/users/buildbot/followers\",\"following_url\":\"https://api.github.com/users/buildbot/following{/other_user}\",\"gists_url\":\"https://api.github.com/users/buildbot/gists{/gist_id}\",\"starred_url\":\"https://api.github.com/users/buildbot/starred{/owner}{/repo}\",\"subscriptions_url\":\"https://api.github.com/users/buildbot/subscriptions\",\"organizations_url\":\"https://api.github.com/users/buildbot/orgs\",\"repos_url\":\"https://api.github.com/users/buildbot/repos\",\"events_url\":\"https://api.github.com/users/buildbot/events{/privacy}\",\"received_events_url\":\"https://api.github.com/users/buildbot/received_events\",\"type\":\"Organization\",\"site_admin\":false},\"html_url\":\"https://github.com/buildbot/buildbot\",\"description\":\"Python-based continuous integration testing framework; your pull requests are more than welcome!\",\"fork\":false,\"url\":\"https://api.github.com/repos/buildbot/buildbot\",\"forks_url\":\"https://api.github.com/repos/buildbot/buildbot/forks\",\"keys_url\":\"https://api.github.com/repos/buildbot/buildbot/keys{/key_id}\",\"collaborators_url\":\"https://api.github.com/repos/buildbot/buildbot/collaborators{/collaborator}\",\"teams_url\":\"https://api.github.com/repos/buildbot/buildbot/teams\",\"hooks_url\":\"https://api.github.com/repos/buildbot/buildbot/hooks\",\"issue_events_url\":\"https://api.github.com/repos/buildbot/buildbot/issues/events{/number}\",\"events_url\":\"https://api.github.com/repos/buildbot/buildbot/events\",\"assignees_url\":\"https://api.github.com/repos/buildbot/buildbot/assignees{/user}\",\"branches_url\":\"https://api.github.com/repos/buildbot/buildbot/branches{/branch}\",\"tags_url\":\"https://api.github.com/repos/buildbot/buildbot/tags\",\"blobs_url\":\"https://api.github.com/repos/buildbot/buildbot/git/blobs{/sha}\",\"git_tags_url\":\"https://api.github.com/repos/buildbot/buildbot/git/tags{/sha}\",\"git_refs_url\":\"https://api.github.com/repos/buildbot/buildbot/git/refs{/sha}\",\"trees_url\":\"https://api.github.com/repos/buildbot/buildbot/git/trees{/sha}\",\"statuses_url\":\"https://api.github.com/repos/buildbot/buildbot/statuses/{sha}\",\"languages_url\":\"https://api.github.com/repos/buildbot/buildbot/languages\",\"stargazers_url\":\"https://api.github.com/repos/buildbot/buildbot/stargazers\",\"contributors_url\":\"https://api.github.com/repos/buildbot/buildbot/contributors\",\"subscribers_url\":\"https://api.github.com/repos/buildbot/buildbot/subscribers\",\"subscription_url\":\"https://api.github.com/repos/buildbot/buildbot/subscription\",\"commits_url\":\"https://api.github.com/repos/buildbot/buildbot/commits{/sha}\",\"git_commits_url\":\"https://api.github.com/repos/buildbot/buildbot/git/commits{/sha}\",\"comments_url\":\"https://api.github.com/repos/buildbot/buildbot/comments{/number}\",\"issue_comment_url\":\"https://api.github.com/repos/buildbot/buildbot/issues/comments{/number}\",\"contents_url\":\"https://api.github.com/repos/buildbot/buildbot/contents/{+path}\",\"compare_url\":\"https://api.github.com/repos/buildbot/buildbot/compare/{base}...{head}\",\"merges_url\":\"https://api.github.com/repos/buildbot/buildbot/merges\",\"archive_url\":\"https://api.github.com/repos/buildbot/buildbot/{archive_format}{/ref}\",\"downloads_url\":\"https://api.github.com/repos/buildbot/buildbot/downloads\",\"issues_url\":\"https://api.github.com/repos/buildbot/buildbot/issues{/number}\",\"pulls_url\":\"https://api.github.com/repos/buildbot/buildbot/pulls{/number}\",\"milestones_url\":\"https://api.github.com/repos/buildbot/buildbot/milestones{/number}\",\"notifications_url\":\"https://api.github.com/repos/buildbot/buildbot/notifications{?since,all,participating}\",\"labels_url\":\"https://api.github.com/repos/buildbot/buildbot/labels{/name}\",\"releases_url\":\"https://api.github.com/repos/buildbot/buildbot/releases{/id}\",\"deployments_url\":\"https://api.github.com/repos/buildbot/buildbot/deployments\",\"created_at\":\"2010-07-06T17:56:53Z\",\"updated_at\":\"2021-11-02T12:44:12Z\",\"pushed_at\":\"2021-11-02T12:44:04Z\",\"git_url\":\"git://github.com/buildbot/buildbot.git\",\"ssh_url\":\"git@github.com:buildbot/buildbot.git\",\"clone_url\":\"https://github.com/buildbot/buildbot.git\",\"svn_url\":\"https://github.com/buildbot/buildbot\",\"homepage\":\"https://www.buildbot.net\",\"size\":61504,\"stargazers_count\":4709,\"watchers_count\":4709,\"language\":\"Python\",\"has_issues\":true,\"has_projects\":true,\"has_downloads\":true,\"has_wiki\":true,\"has_pages\":false,\"forks_count\":1555,\"mirror_url\":null,\"archived\":false,\"disabled\":false,\"open_issues_count\":626,\"license\":{\"key\":\"gpl-2.0\",\"name\":\"GNU General Public License v2.0\",\"spdx_id\":\"GPL-2.0\",\"url\":\"https://api.github.com/licenses/gpl-2.0\",\"node_id\":\"MDc6TGljZW5zZTg=\"},\"allow_forking\":true,\"is_template\":false,\"topics\":[\"ci\",\"ci-framework\",\"continuous-integration\",\"python\"],\"visibility\":\"public\",\"forks\":1555,\"open_issues\":626,\"watchers\":4709,\"default_branch\":\"master\",\"score\":1.0},{\"id\":62032720,\"node_id\":\"MDEwOlJlcG9zaXRvcnk2MjAzMjcyMA==\",\"name\":\"weibospider\",\"full_name\":\"SpiderClub/weibospider\",\"private\":false,\"owner\":{\"login\":\"SpiderClub\",\"id\":32793535,\"node_id\":\"MDEyOk9yZ2FuaXphdGlvbjMyNzkzNTM1\",\"avatar_url\":\"https://avatars.githubusercontent.com/u/32793535?v=4\",\"gravatar_id\":\"\",\"url\":\"https://api.github.com/users/SpiderClub\",\"html_url\":\"https://github.com/SpiderClub\",\"followers_url\":\"https://api.github.com/users/SpiderClub/followers\",\"following_url\":\"https://api.github.com/users/SpiderClub/following{/other_user}\",\"gists_url\":\"https://api.github.com/users/SpiderClub/gists{/gist_id}\",\"starred_url\":\"https://api.github.com/users/SpiderClub/starred{/owner}{/repo}\",\"subscriptions_url\":\"https://api.github.com/users/SpiderClub/subscriptions\",\"organizations_url\":\"https://api.github.com/users/SpiderClub/orgs\",\"repos_url\":\"https://api.github.com/users/SpiderClub/repos\",\"events_url\":\"https://api.github.com/users/SpiderClub/events{/privacy}\",\"received_events_url\":\"https://api.github.com/users/SpiderClub/received_events\",\"type\":\"Organization\",\"site_admin\":false},\"html_url\":\"https://github.com/SpiderClub/weibospider\",\"description\":\":zap: A distributed crawler for weibo, building with celery and requests.\",\"fork\":false,\"url\":\"https://api.github.com/repos/SpiderClub/weibospider\",\"forks_url\":\"https://api.github.com/repos/SpiderClub/weibospider/forks\",\"keys_url\":\"https://api.github.com/repos/SpiderClub/weibospider/keys{/key_id}\",\"collaborators_url\":\"https://api.github.com/repos/SpiderClub/weibospider/collaborators{/collaborator}\",\"teams_url\":\"https://api.github.com/repos/SpiderClub/weibospider/teams\",\"hooks_url\":\"https://api.github.com/repos/SpiderClub/weibospider/hooks\",\"issue_events_url\":\"https://api.github.com/repos/SpiderClub/weibospider/issues/events{/number}\",\"events_url\":\"https://api.github.com/repos/SpiderClub/weibospider/events\",\"assignees_url\":\"https://api.github.com/repos/SpiderClub/weibospider/assignees{/user}\",\"branches_url\":\"https://api.github.com/repos/SpiderClub/weibospider/branches{/branch}\",\"tags_url\":\"https://api.github.com/repos/SpiderClub/weibospider/tags\",\"blobs_url\":\"https://api.github.com/repos/SpiderClub/weibospider/git/blobs{/sha}\",\"git_tags_url\":\"https://api.github.com/repos/SpiderClub/weibospider/git/tags{/sha}\",\"git_refs_url\":\"https://api.github.com/repos/SpiderClub/weibospider/git/refs{/sha}\",\"trees_url\":\"https://api.github.com/repos/SpiderClub/weibospider/git/trees{/sha}\",\"statuses_url\":\"https://api.github.com/repos/SpiderClub/weibospider/statuses/{sha}\",\"languages_url\":\"https://api.github.com/repos/SpiderClub/weibospider/languages\",\"stargazers_url\":\"https://api.github.com/repos/SpiderClub/weibospider/stargazers\",\"contributors_url\":\"https://api.github.com/repos/SpiderClub/weibospider/contributors\",\"subscribers_url\":\"https://api.github.com/repos/SpiderClub/weibospider/subscribers\",\"subscription_url\":\"https://api.github.com/repos/SpiderClub/weibospider/subscription\",\"commits_url\":\"https://api.github.com/repos/SpiderClub/weibospider/commits{/sha}\",\"git_commits_url\":\"https://api.github.com/repos/SpiderClub/weibospider/git/commits{/sha}\",\"comments_url\":\"https://api.github.com/repos/SpiderClub/weibospider/comments{/number}\",\"issue_comment_url\":\"https://api.github.com/repos/SpiderClub/weibospider/issues/comments{/number}\",\"contents_url\":\"https://api.github.com/repos/SpiderClub/weibospider/contents/{+path}\",\"compare_url\":\"https://api.github.com/repos/SpiderClub/weibospider/compare/{base}...{head}\",\"merges_url\":\"https://api.github.com/repos/SpiderClub/weibospider/merges\",\"archive_url\":\"https://api.github.com/repos/SpiderClub/weibospider/{archive_format}{/ref}\",\"downloads_url\":\"https://api.github.com/repos/SpiderClub/weibospider/downloads\",\"issues_url\":\"https://api.github.com/repos/SpiderClub/weibospider/issues{/number}\",\"pulls_url\":\"https://api.github.com/repos/SpiderClub/weibospider/pulls{/number}\",\"milestones_url\":\"https://api.github.com/repos/SpiderClub/weibospider/milestones{/number}\",\"notifications_url\":\"https://api.github.com/repos/SpiderClub/weibospider/notifications{?since,all,participating}\",\"labels_url\":\"https://api.github.com/repos/SpiderClub/weibospider/labels{/name}\",\"releases_url\":\"https://api.github.com/repos/SpiderClub/weibospider/releases{/id}\",\"deployments_url\":\"https://api.github.com/repos/SpiderClub/weibospider/deployments\",\"created_at\":\"2016-06-27T07:02:06Z\",\"updated_at\":\"2021-11-03T09:17:16Z\",\"pushed_at\":\"2020-07-11T04:35:54Z\",\"git_url\":\"git://github.com/SpiderClub/weibospider.git\",\"ssh_url\":\"git@github.com:SpiderClub/weibospider.git\",\"clone_url\":\"https://github.com/SpiderClub/weibospider.git\",\"svn_url\":\"https://github.com/SpiderClub/weibospider\",\"homepage\":\"\",\"size\":77550,\"stargazers_count\":4669,\"watchers_count\":4669,\"language\":\"Python\",\"has_issues\":true,\"has_projects\":true,\"has_downloads\":true,\"has_wiki\":true,\"has_pages\":true,\"forks_count\":1272,\"mirror_url\":null,\"archived\":false,\"disabled\":false,\"open_issues_count\":17,\"license\":{\"key\":\"mit\",\"name\":\"MIT License\",\"spdx_id\":\"MIT\",\"url\":\"https://api.github.com/licenses/mit\",\"node_id\":\"MDc6TGljZW5zZTEz\"},\"allow_forking\":true,\"is_template\":false,\"topics\":[\"data-analysis\",\"distributed-crawler\",\"python3\",\"sina\",\"weibo\",\"weibospider\"],\"visibility\":\"public\",\"forks\":1272,\"open_issues\":17,\"watchers\":4669,\"default_branch\":\"master\",\"score\":1.0},{\"id\":14437755,\"node_id\":\"MDEwOlJlcG9zaXRvcnkxNDQzNzc1NQ==\",\"name\":\"responses\",\"full_name\":\"getsentry/responses\",\"private\":false,\"owner\":{\"login\":\"getsentry\",\"id\":1396951,\"node_id\":\"MDEyOk9yZ2FuaXphdGlvbjEzOTY5NTE=\",\"avatar_url\":\"https://avatars.githubusercontent.com/u/1396951?v=4\",\"gravatar_id\":\"\",\"url\":\"https://api.github.com/users/getsentry\",\"html_url\":\"https://github.com/getsentry\",\"followers_url\":\"https://api.github.com/users/getsentry/followers\",\"following_url\":\"https://api.github.com/users/getsentry/following{/other_user}\",\"gists_url\":\"https://api.github.com/users/getsentry/gists{/gist_id}\",\"starred_url\":\"https://api.github.com/users/getsentry/starred{/owner}{/repo}\",\"subscriptions_url\":\"https://api.github.com/users/getsentry/subscriptions\",\"organizations_url\":\"https://api.github.com/users/getsentry/orgs\",\"repos_url\":\"https://api.github.com/users/getsentry/repos\",\"events_url\":\"https://api.github.com/users/getsentry/events{/privacy}\",\"received_events_url\":\"https://api.github.com/users/getsentry/received_events\",\"type\":\"Organization\",\"site_admin\":false},\"html_url\":\"https://github.com/getsentry/responses\",\"description\":\"A utility for mocking out the Python Requests library.\",\"fork\":false,\"url\":\"https://api.github.com/repos/getsentry/responses\",\"forks_url\":\"https://api.github.com/repos/getsentry/responses/forks\",\"keys_url\":\"https://api.github.com/repos/getsentry/responses/keys{/key_id}\",\"collaborators_url\":\"https://api.github.com/repos/getsentry/responses/collaborators{/collaborator}\",\"teams_url\":\"https://api.github.com/repos/getsentry/responses/teams\",\"hooks_url\":\"https://api.github.com/repos/getsentry/responses/hooks\",\"issue_events_url\":\"https://api.github.com/repos/getsentry/responses/issues/events{/number}\",\"events_url\":\"https://api.github.com/repos/getsentry/responses/events\",\"assignees_url\":\"https://api.github.com/repos/getsentry/responses/assignees{/user}\",\"branches_url\":\"https://api.github.com/repos/getsentry/responses/branches{/branch}\",\"tags_url\":\"https://api.github.com/repos/getsentry/responses/tags\",\"blobs_url\":\"https://api.github.com/repos/getsentry/responses/git/blobs{/sha}\",\"git_tags_url\":\"https://api.github.com/repos/getsentry/responses/git/tags{/sha}\",\"git_refs_url\":\"https://api.github.com/repos/getsentry/responses/git/refs{/sha}\",\"trees_url\":\"https://api.github.com/repos/getsentry/responses/git/trees{/sha}\",\"statuses_url\":\"https://api.github.com/repos/getsentry/responses/statuses/{sha}\",\"languages_url\":\"https://api.github.com/repos/getsentry/responses/languages\",\"stargazers_url\":\"https://api.github.com/repos/getsentry/responses/stargazers\",\"contributors_url\":\"https://api.github.com/repos/getsentry/responses/contributors\",\"subscribers_url\":\"https://api.github.com/repos/getsentry/responses/subscribers\",\"subscription_url\":\"https://api.github.com/repos/getsentry/responses/subscription\",\"commits_url\":\"https://api.github.com/repos/getsentry/responses/commits{/sha}\",\"git_commits_url\":\"https://api.github.com/repos/getsentry/responses/git/commits{/sha}\",\"comments_url\":\"https://api.github.com/repos/getsentry/responses/comments{/number}\",\"issue_comment_url\":\"https://api.github.com/repos/getsentry/responses/issues/comments{/number}\",\"contents_url\":\"https://api.github.com/repos/getsentry/responses/contents/{+path}\",\"compare_url\":\"https://api.github.com/repos/getsentry/responses/compare/{base}...{head}\",\"merges_url\":\"https://api.github.com/repos/getsentry/responses/merges\",\"archive_url\":\"https://api.github.com/repos/getsentry/responses/{archive_format}{/ref}\",\"downloads_url\":\"https://api.github.com/repos/getsentry/responses/downloads\",\"issues_url\":\"https://api.github.com/repos/getsentry/responses/issues{/number}\",\"pulls_url\":\"https://api.github.com/repos/getsentry/responses/pulls{/number}\",\"milestones_url\":\"https://api.github.com/repos/getsentry/responses/milestones{/number}\",\"notifications_url\":\"https://api.github.com/repos/getsentry/responses/notifications{?since,all,participating}\",\"labels_url\":\"https://api.github.com/repos/getsentry/responses/labels{/name}\",\"releases_url\":\"https://api.github.com/repos/getsentry/responses/releases{/id}\",\"deployments_url\":\"https://api.github.com/repos/getsentry/responses/deployments\",\"created_at\":\"2013-11-15T23:28:18Z\",\"updated_at\":\"2021-11-03T12:36:00Z\",\"pushed_at\":\"2021-11-01T17:04:46Z\",\"git_url\":\"git://github.com/getsentry/responses.git\",\"ssh_url\":\"git@github.com:getsentry/responses.git\",\"clone_url\":\"https://github.com/getsentry/responses.git\",\"svn_url\":\"https://github.com/getsentry/responses\",\"homepage\":\"\",\"size\":776,\"stargazers_count\":3358,\"watchers_count\":3358,\"language\":\"Python\",\"has_issues\":true,\"has_projects\":true,\"has_downloads\":true,\"has_wiki\":false,\"has_pages\":false,\"forks_count\":281,\"mirror_url\":null,\"archived\":false,\"disabled\":false,\"open_issues_count\":53,\"license\":{\"key\":\"apache-2.0\",\"name\":\"Apache License 2.0\",\"spdx_id\":\"Apache-2.0\",\"url\":\"https://api.github.com/licenses/apache-2.0\",\"node_id\":\"MDc6TGljZW5zZTI=\"},\"allow_forking\":true,\"is_template\":false,\"topics\":[],\"visibility\":\"public\",\"forks\":281,\"open_issues\":53,\"watchers\":3358,\"default_branch\":\"master\",\"score\":1.0},{\"id\":2246709,\"node_id\":\"MDEwOlJlcG9zaXRvcnkyMjQ2NzA5\",\"name\":\"robotframework-requests\",\"full_name\":\"MarketSquare/robotframework-requests\",\"private\":false,\"owner\":{\"login\":\"MarketSquare\",\"id\":57290362,\"node_id\":\"MDEyOk9yZ2FuaXphdGlvbjU3MjkwMzYy\",\"avatar_url\":\"https://avatars.githubusercontent.com/u/57290362?v=4\",\"gravatar_id\":\"\",\"url\":\"https://api.github.com/users/MarketSquare\",\"html_url\":\"https://github.com/MarketSquare\",\"followers_url\":\"https://api.github.com/users/MarketSquare/followers\",\"following_url\":\"https://api.github.com/users/MarketSquare/following{/other_user}\",\"gists_url\":\"https://api.github.com/users/MarketSquare/gists{/gist_id}\",\"starred_url\":\"https://api.github.com/users/MarketSquare/starred{/owner}{/repo}\",\"subscriptions_url\":\"https://api.github.com/users/MarketSquare/subscriptions\",\"organizations_url\":\"https://api.github.com/users/MarketSquare/orgs\",\"repos_url\":\"https://api.github.com/users/MarketSquare/repos\",\"events_url\":\"https://api.github.com/users/MarketSquare/events{/privacy}\",\"received_events_url\":\"https://api.github.com/users/MarketSquare/received_events\",\"type\":\"Organization\",\"site_admin\":false},\"html_url\":\"https://github.com/MarketSquare/robotframework-requests\",\"description\":\"Robot Framework keyword library wrapper for requests\",\"fork\":false,\"url\":\"https://api.github.com/repos/MarketSquare/robotframework-requests\",\"forks_url\":\"https://api.github.com/repos/MarketSquare/robotframework-requests/forks\",\"keys_url\":\"https://api.github.com/repos/MarketSquare/robotframework-requests/keys{/key_id}\",\"collaborators_url\":\"https://api.github.com/repos/MarketSquare/robotframework-requests/collaborators{/collaborator}\",\"teams_url\":\"https://api.github.com/repos/MarketSquare/robotframework-requests/teams\",\"hooks_url\":\"https://api.github.com/repos/MarketSquare/robotframework-requests/hooks\",\"issue_events_url\":\"https://api.github.com/repos/MarketSquare/robotframework-requests/issues/events{/number}\",\"events_url\":\"https://api.github.com/repos/MarketSquare/robotframework-requests/events\",\"assignees_url\":\"https://api.github.com/repos/MarketSquare/robotframework-requests/assignees{/user}\",\"branches_url\":\"https://api.github.com/repos/MarketSquare/robotframework-requests/branches{/branch}\",\"tags_url\":\"https://api.github.com/repos/MarketSquare/robotframework-requests/tags\",\"blobs_url\":\"https://api.github.com/repos/MarketSquare/robotframework-requests/git/blobs{/sha}\",\"git_tags_url\":\"https://api.github.com/repos/MarketSquare/robotframework-requests/git/tags{/sha}\",\"git_refs_url\":\"https://api.github.com/repos/MarketSquare/robotframework-requests/git/refs{/sha}\",\"trees_url\":\"https://api.github.com/repos/MarketSquare/robotframework-requests/git/trees{/sha}\",\"statuses_url\":\"https://api.github.com/repos/MarketSquare/robotframework-requests/statuses/{sha}\",\"languages_url\":\"https://api.github.com/repos/MarketSquare/robotframework-requests/languages\",\"stargazers_url\":\"https://api.github.com/repos/MarketSquare/robotframework-requests/stargazers\",\"contributors_url\":\"https://api.github.com/repos/MarketSquare/robotframework-requests/contributors\",\"subscribers_url\":\"https://api.github.com/repos/MarketSquare/robotframework-requests/subscribers\",\"subscription_url\":\"https://api.github.com/repos/MarketSquare/robotframework-requests/subscription\",\"commits_url\":\"https://api.github.com/repos/MarketSquare/robotframework-requests/commits{/sha}\",\"git_commits_url\":\"https://api.github.com/repos/MarketSquare/robotframework-requests/git/commits{/sha}\",\"comments_url\":\"https://api.github.com/repos/MarketSquare/robotframework-requests/comments{/number}\",\"issue_comment_url\":\"https://api.github.com/repos/MarketSquare/robotframework-requests/issues/comments{/number}\",\"contents_url\":\"https://api.github.com/repos/MarketSquare/robotframework-requests/contents/{+path}\",\"compare_url\":\"https://api.github.com/repos/MarketSquare/robotframework-requests/compare/{base}...{head}\",\"merges_url\":\"https://api.github.com/repos/MarketSquare/robotframework-requests/merges\",\"archive_url\":\"https://api.github.com/repos/MarketSquare/robotframework-requests/{archive_format}{/ref}\",\"downloads_url\":\"https://api.github.com/repos/MarketSquare/robotframework-requests/downloads\",\"issues_url\":\"https://api.github.com/repos/MarketSquare/robotframework-requests/issues{/number}\",\"pulls_url\":\"https://api.github.com/repos/MarketSquare/robotframework-requests/pulls{/number}\",\"milestones_url\":\"https://api.github.com/repos/MarketSquare/robotframework-requests/milestones{/number}\",\"notifications_url\":\"https://api.github.com/repos/MarketSquare/robotframework-requests/notifications{?since,all,participating}\",\"labels_url\":\"https://api.github.com/repos/MarketSquare/robotframework-requests/labels{/name}\",\"releases_url\":\"https://api.github.com/repos/MarketSquare/robotframework-requests/releases{/id}\",\"deployments_url\":\"https://api.github.com/repos/MarketSquare/robotframework-requests/deployments\",\"created_at\":\"2011-08-22T04:49:19Z\",\"updated_at\":\"2021-10-28T11:00:18Z\",\"pushed_at\":\"2021-09-22T22:36:04Z\",\"git_url\":\"git://github.com/MarketSquare/robotframework-requests.git\",\"ssh_url\":\"git@github.com:MarketSquare/robotframework-requests.git\",\"clone_url\":\"https://github.com/MarketSquare/robotframework-requests.git\",\"svn_url\":\"https://github.com/MarketSquare/robotframework-requests\",\"homepage\":\"http://marketsquare.github.io/robotframework-requests/\",\"size\":1094,\"stargazers_count\":371,\"watchers_count\":371,\"language\":\"Python\",\"has_issues\":true,\"has_projects\":true,\"has_downloads\":true,\"has_wiki\":true,\"has_pages\":true,\"forks_count\":255,\"mirror_url\":null,\"archived\":false,\"disabled\":false,\"open_issues_count\":27,\"license\":{\"key\":\"mit\",\"name\":\"MIT License\",\"spdx_id\":\"MIT\",\"url\":\"https://api.github.com/licenses/mit\",\"node_id\":\"MDc6TGljZW5zZTEz\"},\"allow_forking\":true,\"is_template\":false,\"topics\":[\"python\",\"requests\",\"robot-framework\",\"robotframework-requests\"],\"visibility\":\"public\",\"forks\":255,\"open_issues\":27,\"watchers\":371,\"default_branch\":\"master\",\"score\":1.0},{\"id\":3073296,\"node_id\":\"MDEwOlJlcG9zaXRvcnkzMDczMjk2\",\"name\":\"ultisnips\",\"full_name\":\"SirVer/ultisnips\",\"private\":false,\"owner\":{\"login\":\"SirVer\",\"id\":140115,\"node_id\":\"MDQ6VXNlcjE0MDExNQ==\",\"avatar_url\":\"https://avatars.githubusercontent.com/u/140115?v=4\",\"gravatar_id\":\"\",\"url\":\"https://api.github.com/users/SirVer\",\"html_url\":\"https://github.com/SirVer\",\"followers_url\":\"https://api.github.com/users/SirVer/followers\",\"following_url\":\"https://api.github.com/users/SirVer/following{/other_user}\",\"gists_url\":\"https://api.github.com/users/SirVer/gists{/gist_id}\",\"starred_url\":\"https://api.github.com/users/SirVer/starred{/owner}{/repo}\",\"subscriptions_url\":\"https://api.github.com/users/SirVer/subscriptions\",\"organizations_url\":\"https://api.github.com/users/SirVer/orgs\",\"repos_url\":\"https://api.github.com/users/SirVer/repos\",\"events_url\":\"https://api.github.com/users/SirVer/events{/privacy}\",\"received_events_url\":\"https://api.github.com/users/SirVer/received_events\",\"type\":\"User\",\"site_admin\":false},\"html_url\":\"https://github.com/SirVer/ultisnips\",\"description\":\"UltiSnips - The ultimate snippet solution for Vim. Send pull requests to SirVer/ultisnips!\",\"fork\":false,\"url\":\"https://api.github.com/repos/SirVer/ultisnips\",\"forks_url\":\"https://api.github.com/repos/SirVer/ultisnips/forks\",\"keys_url\":\"https://api.github.com/repos/SirVer/ultisnips/keys{/key_id}\",\"collaborators_url\":\"https://api.github.com/repos/SirVer/ultisnips/collaborators{/collaborator}\",\"teams_url\":\"https://api.github.com/repos/SirVer/ultisnips/teams\",\"hooks_url\":\"https://api.github.com/repos/SirVer/ultisnips/hooks\",\"issue_events_url\":\"https://api.github.com/repos/SirVer/ultisnips/issues/events{/number}\",\"events_url\":\"https://api.github.com/repos/SirVer/ultisnips/events\",\"assignees_url\":\"https://api.github.com/repos/SirVer/ultisnips/assignees{/user}\",\"branches_url\":\"https://api.github.com/repos/SirVer/ultisnips/branches{/branch}\",\"tags_url\":\"https://api.github.com/repos/SirVer/ultisnips/tags\",\"blobs_url\":\"https://api.github.com/repos/SirVer/ultisnips/git/blobs{/sha}\",\"git_tags_url\":\"https://api.github.com/repos/SirVer/ultisnips/git/tags{/sha}\",\"git_refs_url\":\"https://api.github.com/repos/SirVer/ultisnips/git/refs{/sha}\",\"trees_url\":\"https://api.github.com/repos/SirVer/ultisnips/git/trees{/sha}\",\"statuses_url\":\"https://api.github.com/repos/SirVer/ultisnips/statuses/{sha}\",\"languages_url\":\"https://api.github.com/repos/SirVer/ultisnips/languages\",\"stargazers_url\":\"https://api.github.com/repos/SirVer/ultisnips/stargazers\",\"contributors_url\":\"https://api.github.com/repos/SirVer/ultisnips/contributors\",\"subscribers_url\":\"https://api.github.com/repos/SirVer/ultisnips/subscribers\",\"subscription_url\":\"https://api.github.com/repos/SirVer/ultisnips/subscription\",\"commits_url\":\"https://api.github.com/repos/SirVer/ultisnips/commits{/sha}\",\"git_commits_url\":\"https://api.github.com/repos/SirVer/ultisnips/git/commits{/sha}\",\"comments_url\":\"https://api.github.com/repos/SirVer/ultisnips/comments{/number}\",\"issue_comment_url\":\"https://api.github.com/repos/SirVer/ultisnips/issues/comments{/number}\",\"contents_url\":\"https://api.github.com/repos/SirVer/ultisnips/contents/{+path}\",\"compare_url\":\"https://api.github.com/repos/SirVer/ultisnips/compare/{base}...{head}\",\"merges_url\":\"https://api.github.com/repos/SirVer/ultisnips/merges\",\"archive_url\":\"https://api.github.com/repos/SirVer/ultisnips/{archive_format}{/ref}\",\"downloads_url\":\"https://api.github.com/repos/SirVer/ultisnips/downloads\",\"issues_url\":\"https://api.github.com/repos/SirVer/ultisnips/issues{/number}\",\"pulls_url\":\"https://api.github.com/repos/SirVer/ultisnips/pulls{/number}\",\"milestones_url\":\"https://api.github.com/repos/SirVer/ultisnips/milestones{/number}\",\"notifications_url\":\"https://api.github.com/repos/SirVer/ultisnips/notifications{?since,all,participating}\",\"labels_url\":\"https://api.github.com/repos/SirVer/ultisnips/labels{/name}\",\"releases_url\":\"https://api.github.com/repos/SirVer/ultisnips/releases{/id}\",\"deployments_url\":\"https://api.github.com/repos/SirVer/ultisnips/deployments\",\"created_at\":\"2011-12-30T07:07:24Z\",\"updated_at\":\"2021-11-03T05:34:24Z\",\"pushed_at\":\"2021-11-03T10:02:35Z\",\"git_url\":\"git://github.com/SirVer/ultisnips.git\",\"ssh_url\":\"git@github.com:SirVer/ultisnips.git\",\"clone_url\":\"https://github.com/SirVer/ultisnips.git\",\"svn_url\":\"https://github.com/SirVer/ultisnips\",\"homepage\":\"\",\"size\":6961,\"stargazers_count\":6381,\"watchers_count\":6381,\"language\":\"Python\",\"has_issues\":true,\"has_projects\":false,\"has_downloads\":true,\"has_wiki\":false,\"has_pages\":false,\"forks_count\":642,\"mirror_url\":null,\"archived\":false,\"disabled\":false,\"open_issues_count\":78,\"license\":{\"key\":\"gpl-3.0\",\"name\":\"GNU General Public License v3.0\",\"spdx_id\":\"GPL-3.0\",\"url\":\"https://api.github.com/licenses/gpl-3.0\",\"node_id\":\"MDc6TGljZW5zZTk=\"},\"allow_forking\":true,\"is_template\":false,\"topics\":[\"plugin\",\"snippets\",\"ultisnips\",\"vim\"],\"visibility\":\"public\",\"forks\":642,\"open_issues\":78,\"watchers\":6381,\"default_branch\":\"master\",\"score\":1.0},{\"id\":18470996,\"node_id\":\"MDEwOlJlcG9zaXRvcnkxODQ3MDk5Ng==\",\"name\":\"uncurl\",\"full_name\":\"spulec/uncurl\",\"private\":false,\"owner\":{\"login\":\"spulec\",\"id\":292606,\"node_id\":\"MDQ6VXNlcjI5MjYwNg==\",\"avatar_url\":\"https://avatars.githubusercontent.com/u/292606?v=4\",\"gravatar_id\":\"\",\"url\":\"https://api.github.com/users/spulec\",\"html_url\":\"https://github.com/spulec\",\"followers_url\":\"https://api.github.com/users/spulec/followers\",\"following_url\":\"https://api.github.com/users/spulec/following{/other_user}\",\"gists_url\":\"https://api.github.com/users/spulec/gists{/gist_id}\",\"starred_url\":\"https://api.github.com/users/spulec/starred{/owner}{/repo}\",\"subscriptions_url\":\"https://api.github.com/users/spulec/subscriptions\",\"organizations_url\":\"https://api.github.com/users/spulec/orgs\",\"repos_url\":\"https://api.github.com/users/spulec/repos\",\"events_url\":\"https://api.github.com/users/spulec/events{/privacy}\",\"received_events_url\":\"https://api.github.com/users/spulec/received_events\",\"type\":\"User\",\"site_admin\":false},\"html_url\":\"https://github.com/spulec/uncurl\",\"description\":\"A library to convert curl requests to python-requests.\",\"fork\":false,\"url\":\"https://api.github.com/repos/spulec/uncurl\",\"forks_url\":\"https://api.github.com/repos/spulec/uncurl/forks\",\"keys_url\":\"https://api.github.com/repos/spulec/uncurl/keys{/key_id}\",\"collaborators_url\":\"https://api.github.com/repos/spulec/uncurl/collaborators{/collaborator}\",\"teams_url\":\"https://api.github.com/repos/spulec/uncurl/teams\",\"hooks_url\":\"https://api.github.com/repos/spulec/uncurl/hooks\",\"issue_events_url\":\"https://api.github.com/repos/spulec/uncurl/issues/events{/number}\",\"events_url\":\"https://api.github.com/repos/spulec/uncurl/events\",\"assignees_url\":\"https://api.github.com/repos/spulec/uncurl/assignees{/user}\",\"branches_url\":\"https://api.github.com/repos/spulec/uncurl/branches{/branch}\",\"tags_url\":\"https://api.github.com/repos/spulec/uncurl/tags\",\"blobs_url\":\"https://api.github.com/repos/spulec/uncurl/git/blobs{/sha}\",\"git_tags_url\":\"https://api.github.com/repos/spulec/uncurl/git/tags{/sha}\",\"git_refs_url\":\"https://api.github.com/repos/spulec/uncurl/git/refs{/sha}\",\"trees_url\":\"https://api.github.com/repos/spulec/uncurl/git/trees{/sha}\",\"statuses_url\":\"https://api.github.com/repos/spulec/uncurl/statuses/{sha}\",\"languages_url\":\"https://api.github.com/repos/spulec/uncurl/languages\",\"stargazers_url\":\"https://api.github.com/repos/spulec/uncurl/stargazers\",\"contributors_url\":\"https://api.github.com/repos/spulec/uncurl/contributors\",\"subscribers_url\":\"https://api.github.com/repos/spulec/uncurl/subscribers\",\"subscription_url\":\"https://api.github.com/repos/spulec/uncurl/subscription\",\"commits_url\":\"https://api.github.com/repos/spulec/uncurl/commits{/sha}\",\"git_commits_url\":\"https://api.github.com/repos/spulec/uncurl/git/commits{/sha}\",\"comments_url\":\"https://api.github.com/repos/spulec/uncurl/comments{/number}\",\"issue_comment_url\":\"https://api.github.com/repos/spulec/uncurl/issues/comments{/number}\",\"contents_url\":\"https://api.github.com/repos/spulec/uncurl/contents/{+path}\",\"compare_url\":\"https://api.github.com/repos/spulec/uncurl/compare/{base}...{head}\",\"merges_url\":\"https://api.github.com/repos/spulec/uncurl/merges\",\"archive_url\":\"https://api.github.com/repos/spulec/uncurl/{archive_format}{/ref}\",\"downloads_url\":\"https://api.github.com/repos/spulec/uncurl/downloads\",\"issues_url\":\"https://api.github.com/repos/spulec/uncurl/issues{/number}\",\"pulls_url\":\"https://api.github.com/repos/spulec/uncurl/pulls{/number}\",\"milestones_url\":\"https://api.github.com/repos/spulec/uncurl/milestones{/number}\",\"notifications_url\":\"https://api.github.com/repos/spulec/uncurl/notifications{?since,all,participating}\",\"labels_url\":\"https://api.github.com/repos/spulec/uncurl/labels{/name}\",\"releases_url\":\"https://api.github.com/repos/spulec/uncurl/releases{/id}\",\"deployments_url\":\"https://api.github.com/repos/spulec/uncurl/deployments\",\"created_at\":\"2014-04-05T16:33:05Z\",\"updated_at\":\"2021-11-03T08:35:31Z\",\"pushed_at\":\"2021-04-09T14:52:30Z\",\"git_url\":\"git://github.com/spulec/uncurl.git\",\"ssh_url\":\"git@github.com:spulec/uncurl.git\",\"clone_url\":\"https://github.com/spulec/uncurl.git\",\"svn_url\":\"https://github.com/spulec/uncurl\",\"homepage\":null,\"size\":56,\"stargazers_count\":421,\"watchers_count\":421,\"language\":\"Python\",\"has_issues\":true,\"has_projects\":true,\"has_downloads\":true,\"has_wiki\":true,\"has_pages\":false,\"forks_count\":63,\"mirror_url\":null,\"archived\":false,\"disabled\":false,\"open_issues_count\":12,\"license\":{\"key\":\"apache-2.0\",\"name\":\"Apache License 2.0\",\"spdx_id\":\"Apache-2.0\",\"url\":\"https://api.github.com/licenses/apache-2.0\",\"node_id\":\"MDc6TGljZW5zZTI=\"},\"allow_forking\":true,\"is_template\":false,\"topics\":[],\"visibility\":\"public\",\"forks\":63,\"open_issues\":12,\"watchers\":421,\"default_branch\":\"master\",\"score\":1.0},{\"id\":40554408,\"node_id\":\"MDEwOlJlcG9zaXRvcnk0MDU1NDQwOA==\",\"name\":\"dnsteal\",\"full_name\":\"m57/dnsteal\",\"private\":false,\"owner\":{\"login\":\"m57\",\"id\":6309826,\"node_id\":\"MDQ6VXNlcjYzMDk4MjY=\",\"avatar_url\":\"https://avatars.githubusercontent.com/u/6309826?v=4\",\"gravatar_id\":\"\",\"url\":\"https://api.github.com/users/m57\",\"html_url\":\"https://github.com/m57\",\"followers_url\":\"https://api.github.com/users/m57/followers\",\"following_url\":\"https://api.github.com/users/m57/following{/other_user}\",\"gists_url\":\"https://api.github.com/users/m57/gists{/gist_id}\",\"starred_url\":\"https://api.github.com/users/m57/starred{/owner}{/repo}\",\"subscriptions_url\":\"https://api.github.com/users/m57/subscriptions\",\"organizations_url\":\"https://api.github.com/users/m57/orgs\",\"repos_url\":\"https://api.github.com/users/m57/repos\",\"events_url\":\"https://api.github.com/users/m57/events{/privacy}\",\"received_events_url\":\"https://api.github.com/users/m57/received_events\",\"type\":\"User\",\"site_admin\":false},\"html_url\":\"https://github.com/m57/dnsteal\",\"description\":\"DNS Exfiltration tool for stealthily sending files over DNS requests.\",\"fork\":false,\"url\":\"https://api.github.com/repos/m57/dnsteal\",\"forks_url\":\"https://api.github.com/repos/m57/dnsteal/forks\",\"keys_url\":\"https://api.github.com/repos/m57/dnsteal/keys{/key_id}\",\"collaborators_url\":\"https://api.github.com/repos/m57/dnsteal/collaborators{/collaborator}\",\"teams_url\":\"https://api.github.com/repos/m57/dnsteal/teams\",\"hooks_url\":\"https://api.github.com/repos/m57/dnsteal/hooks\",\"issue_events_url\":\"https://api.github.com/repos/m57/dnsteal/issues/events{/number}\",\"events_url\":\"https://api.github.com/repos/m57/dnsteal/events\",\"assignees_url\":\"https://api.github.com/repos/m57/dnsteal/assignees{/user}\",\"branches_url\":\"https://api.github.com/repos/m57/dnsteal/branches{/branch}\",\"tags_url\":\"https://api.github.com/repos/m57/dnsteal/tags\",\"blobs_url\":\"https://api.github.com/repos/m57/dnsteal/git/blobs{/sha}\",\"git_tags_url\":\"https://api.github.com/repos/m57/dnsteal/git/tags{/sha}\",\"git_refs_url\":\"https://api.github.com/repos/m57/dnsteal/git/refs{/sha}\",\"trees_url\":\"https://api.github.com/repos/m57/dnsteal/git/trees{/sha}\",\"statuses_url\":\"https://api.github.com/repos/m57/dnsteal/statuses/{sha}\",\"languages_url\":\"https://api.github.com/repos/m57/dnsteal/languages\",\"stargazers_url\":\"https://api.github.com/repos/m57/dnsteal/stargazers\",\"contributors_url\":\"https://api.github.com/repos/m57/dnsteal/contributors\",\"subscribers_url\":\"https://api.github.com/repos/m57/dnsteal/subscribers\",\"subscription_url\":\"https://api.github.com/repos/m57/dnsteal/subscription\",\"commits_url\":\"https://api.github.com/repos/m57/dnsteal/commits{/sha}\",\"git_commits_url\":\"https://api.github.com/repos/m57/dnsteal/git/commits{/sha}\",\"comments_url\":\"https://api.github.com/repos/m57/dnsteal/comments{/number}\",\"issue_comment_url\":\"https://api.github.com/repos/m57/dnsteal/issues/comments{/number}\",\"contents_url\":\"https://api.github.com/repos/m57/dnsteal/contents/{+path}\",\"compare_url\":\"https://api.github.com/repos/m57/dnsteal/compare/{base}...{head}\",\"merges_url\":\"https://api.github.com/repos/m57/dnsteal/merges\",\"archive_url\":\"https://api.github.com/repos/m57/dnsteal/{archive_format}{/ref}\",\"downloads_url\":\"https://api.github.com/repos/m57/dnsteal/downloads\",\"issues_url\":\"https://api.github.com/repos/m57/dnsteal/issues{/number}\",\"pulls_url\":\"https://api.github.com/repos/m57/dnsteal/pulls{/number}\",\"milestones_url\":\"https://api.github.com/repos/m57/dnsteal/milestones{/number}\",\"notifications_url\":\"https://api.github.com/repos/m57/dnsteal/notifications{?since,all,participating}\",\"labels_url\":\"https://api.github.com/repos/m57/dnsteal/labels{/name}\",\"releases_url\":\"https://api.github.com/repos/m57/dnsteal/releases{/id}\",\"deployments_url\":\"https://api.github.com/repos/m57/dnsteal/deployments\",\"created_at\":\"2015-08-11T17:02:58Z\",\"updated_at\":\"2021-11-01T12:46:39Z\",\"pushed_at\":\"2020-04-23T10:37:47Z\",\"git_url\":\"git://github.com/m57/dnsteal.git\",\"ssh_url\":\"git@github.com:m57/dnsteal.git\",\"clone_url\":\"https://github.com/m57/dnsteal.git\",\"svn_url\":\"https://github.com/m57/dnsteal\",\"homepage\":null,\"size\":101,\"stargazers_count\":1221,\"watchers_count\":1221,\"language\":\"Python\",\"has_issues\":true,\"has_projects\":true,\"has_downloads\":true,\"has_wiki\":true,\"has_pages\":false,\"forks_count\":210,\"mirror_url\":null,\"archived\":false,\"disabled\":false,\"open_issues_count\":4,\"license\":{\"key\":\"gpl-2.0\",\"name\":\"GNU General Public License v2.0\",\"spdx_id\":\"GPL-2.0\",\"url\":\"https://api.github.com/licenses/gpl-2.0\",\"node_id\":\"MDc6TGljZW5zZTg=\"},\"allow_forking\":true,\"is_template\":false,\"topics\":[],\"visibility\":\"public\",\"forks\":210,\"open_issues\":4,\"watchers\":1221,\"default_branch\":\"master\",\"score\":1.0},{\"id\":8930430,\"node_id\":\"MDEwOlJlcG9zaXRvcnk4OTMwNDMw\",\"name\":\"requests-futures\",\"full_name\":\"ross/requests-futures\",\"private\":false,\"owner\":{\"login\":\"ross\",\"id\":12789,\"node_id\":\"MDQ6VXNlcjEyNzg5\",\"avatar_url\":\"https://avatars.githubusercontent.com/u/12789?v=4\",\"gravatar_id\":\"\",\"url\":\"https://api.github.com/users/ross\",\"html_url\":\"https://github.com/ross\",\"followers_url\":\"https://api.github.com/users/ross/followers\",\"following_url\":\"https://api.github.com/users/ross/following{/other_user}\",\"gists_url\":\"https://api.github.com/users/ross/gists{/gist_id}\",\"starred_url\":\"https://api.github.com/users/ross/starred{/owner}{/repo}\",\"subscriptions_url\":\"https://api.github.com/users/ross/subscriptions\",\"organizations_url\":\"https://api.github.com/users/ross/orgs\",\"repos_url\":\"https://api.github.com/users/ross/repos\",\"events_url\":\"https://api.github.com/users/ross/events{/privacy}\",\"received_events_url\":\"https://api.github.com/users/ross/received_events\",\"type\":\"User\",\"site_admin\":false},\"html_url\":\"https://github.com/ross/requests-futures\",\"description\":\"Asynchronous Python HTTP Requests for Humans using Futures\",\"fork\":false,\"url\":\"https://api.github.com/repos/ross/requests-futures\",\"forks_url\":\"https://api.github.com/repos/ross/requests-futures/forks\",\"keys_url\":\"https://api.github.com/repos/ross/requests-futures/keys{/key_id}\",\"collaborators_url\":\"https://api.github.com/repos/ross/requests-futures/collaborators{/collaborator}\",\"teams_url\":\"https://api.github.com/repos/ross/requests-futures/teams\",\"hooks_url\":\"https://api.github.com/repos/ross/requests-futures/hooks\",\"issue_events_url\":\"https://api.github.com/repos/ross/requests-futures/issues/events{/number}\",\"events_url\":\"https://api.github.com/repos/ross/requests-futures/events\",\"assignees_url\":\"https://api.github.com/repos/ross/requests-futures/assignees{/user}\",\"branches_url\":\"https://api.github.com/repos/ross/requests-futures/branches{/branch}\",\"tags_url\":\"https://api.github.com/repos/ross/requests-futures/tags\",\"blobs_url\":\"https://api.github.com/repos/ross/requests-futures/git/blobs{/sha}\",\"git_tags_url\":\"https://api.github.com/repos/ross/requests-futures/git/tags{/sha}\",\"git_refs_url\":\"https://api.github.com/repos/ross/requests-futures/git/refs{/sha}\",\"trees_url\":\"https://api.github.com/repos/ross/requests-futures/git/trees{/sha}\",\"statuses_url\":\"https://api.github.com/repos/ross/requests-futures/statuses/{sha}\",\"languages_url\":\"https://api.github.com/repos/ross/requests-futures/languages\",\"stargazers_url\":\"https://api.github.com/repos/ross/requests-futures/stargazers\",\"contributors_url\":\"https://api.github.com/repos/ross/requests-futures/contributors\",\"subscribers_url\":\"https://api.github.com/repos/ross/requests-futures/subscribers\",\"subscription_url\":\"https://api.github.com/repos/ross/requests-futures/subscription\",\"commits_url\":\"https://api.github.com/repos/ross/requests-futures/commits{/sha}\",\"git_commits_url\":\"https://api.github.com/repos/ross/requests-futures/git/commits{/sha}\",\"comments_url\":\"https://api.github.com/repos/ross/requests-futures/comments{/number}\",\"issue_comment_url\":\"https://api.github.com/repos/ross/requests-futures/issues/comments{/number}\",\"contents_url\":\"https://api.github.com/repos/ross/requests-futures/contents/{+path}\",\"compare_url\":\"https://api.github.com/repos/ross/requests-futures/compare/{base}...{head}\",\"merges_url\":\"https://api.github.com/repos/ross/requests-futures/merges\",\"archive_url\":\"https://api.github.com/repos/ross/requests-futures/{archive_format}{/ref}\",\"downloads_url\":\"https://api.github.com/repos/ross/requests-futures/downloads\",\"issues_url\":\"https://api.github.com/repos/ross/requests-futures/issues{/number}\",\"pulls_url\":\"https://api.github.com/repos/ross/requests-futures/pulls{/number}\",\"milestones_url\":\"https://api.github.com/repos/ross/requests-futures/milestones{/number}\",\"notifications_url\":\"https://api.github.com/repos/ross/requests-futures/notifications{?since,all,participating}\",\"labels_url\":\"https://api.github.com/repos/ross/requests-futures/labels{/name}\",\"releases_url\":\"https://api.github.com/repos/ross/requests-futures/releases{/id}\",\"deployments_url\":\"https://api.github.com/repos/ross/requests-futures/deployments\",\"created_at\":\"2013-03-21T14:20:03Z\",\"updated_at\":\"2021-10-29T15:56:29Z\",\"pushed_at\":\"2021-10-25T20:07:42Z\",\"git_url\":\"git://github.com/ross/requests-futures.git\",\"ssh_url\":\"git@github.com:ross/requests-futures.git\",\"clone_url\":\"https://github.com/ross/requests-futures.git\",\"svn_url\":\"https://github.com/ross/requests-futures\",\"homepage\":null,\"size\":92,\"stargazers_count\":1845,\"watchers_count\":1845,\"language\":\"Python\",\"has_issues\":true,\"has_projects\":true,\"has_downloads\":true,\"has_wiki\":true,\"has_pages\":false,\"forks_count\":148,\"mirror_url\":null,\"archived\":false,\"disabled\":false,\"open_issues_count\":20,\"license\":{\"key\":\"other\",\"name\":\"Other\",\"spdx_id\":\"NOASSERTION\",\"url\":null,\"node_id\":\"MDc6TGljZW5zZTA=\"},\"allow_forking\":true,\"is_template\":false,\"topics\":[],\"visibility\":\"public\",\"forks\":148,\"open_issues\":20,\"watchers\":1845,\"default_branch\":\"master\",\"score\":1.0},{\"id\":6705902,\"node_id\":\"MDEwOlJlcG9zaXRvcnk2NzA1OTAy\",\"name\":\"requests-ntlm\",\"full_name\":\"requests/requests-ntlm\",\"private\":false,\"owner\":{\"login\":\"requests\",\"id\":2805331,\"node_id\":\"MDEyOk9yZ2FuaXphdGlvbjI4MDUzMzE=\",\"avatar_url\":\"https://avatars.githubusercontent.com/u/2805331?v=4\",\"gravatar_id\":\"\",\"url\":\"https://api.github.com/users/requests\",\"html_url\":\"https://github.com/requests\",\"followers_url\":\"https://api.github.com/users/requests/followers\",\"following_url\":\"https://api.github.com/users/requests/following{/other_user}\",\"gists_url\":\"https://api.github.com/users/requests/gists{/gist_id}\",\"starred_url\":\"https://api.github.com/users/requests/starred{/owner}{/repo}\",\"subscriptions_url\":\"https://api.github.com/users/requests/subscriptions\",\"organizations_url\":\"https://api.github.com/users/requests/orgs\",\"repos_url\":\"https://api.github.com/users/requests/repos\",\"events_url\":\"https://api.github.com/users/requests/events{/privacy}\",\"received_events_url\":\"https://api.github.com/users/requests/received_events\",\"type\":\"Organization\",\"site_admin\":false},\"html_url\":\"https://github.com/requests/requests-ntlm\",\"description\":\"NTLM authentication support for Requests.\",\"fork\":false,\"url\":\"https://api.github.com/repos/requests/requests-ntlm\",\"forks_url\":\"https://api.github.com/repos/requests/requests-ntlm/forks\",\"keys_url\":\"https://api.github.com/repos/requests/requests-ntlm/keys{/key_id}\",\"collaborators_url\":\"https://api.github.com/repos/requests/requests-ntlm/collaborators{/collaborator}\",\"teams_url\":\"https://api.github.com/repos/requests/requests-ntlm/teams\",\"hooks_url\":\"https://api.github.com/repos/requests/requests-ntlm/hooks\",\"issue_events_url\":\"https://api.github.com/repos/requests/requests-ntlm/issues/events{/number}\",\"events_url\":\"https://api.github.com/repos/requests/requests-ntlm/events\",\"assignees_url\":\"https://api.github.com/repos/requests/requests-ntlm/assignees{/user}\",\"branches_url\":\"https://api.github.com/repos/requests/requests-ntlm/branches{/branch}\",\"tags_url\":\"https://api.github.com/repos/requests/requests-ntlm/tags\",\"blobs_url\":\"https://api.github.com/repos/requests/requests-ntlm/git/blobs{/sha}\",\"git_tags_url\":\"https://api.github.com/repos/requests/requests-ntlm/git/tags{/sha}\",\"git_refs_url\":\"https://api.github.com/repos/requests/requests-ntlm/git/refs{/sha}\",\"trees_url\":\"https://api.github.com/repos/requests/requests-ntlm/git/trees{/sha}\",\"statuses_url\":\"https://api.github.com/repos/requests/requests-ntlm/statuses/{sha}\",\"languages_url\":\"https://api.github.com/repos/requests/requests-ntlm/languages\",\"stargazers_url\":\"https://api.github.com/repos/requests/requests-ntlm/stargazers\",\"contributors_url\":\"https://api.github.com/repos/requests/requests-ntlm/contributors\",\"subscribers_url\":\"https://api.github.com/repos/requests/requests-ntlm/subscribers\",\"subscription_url\":\"https://api.github.com/repos/requests/requests-ntlm/subscription\",\"commits_url\":\"https://api.github.com/repos/requests/requests-ntlm/commits{/sha}\",\"git_commits_url\":\"https://api.github.com/repos/requests/requests-ntlm/git/commits{/sha}\",\"comments_url\":\"https://api.github.com/repos/requests/requests-ntlm/comments{/number}\",\"issue_comment_url\":\"https://api.github.com/repos/requests/requests-ntlm/issues/comments{/number}\",\"contents_url\":\"https://api.github.com/repos/requests/requests-ntlm/contents/{+path}\",\"compare_url\":\"https://api.github.com/repos/requests/requests-ntlm/compare/{base}...{head}\",\"merges_url\":\"https://api.github.com/repos/requests/requests-ntlm/merges\",\"archive_url\":\"https://api.github.com/repos/requests/requests-ntlm/{archive_format}{/ref}\",\"downloads_url\":\"https://api.github.com/repos/requests/requests-ntlm/downloads\",\"issues_url\":\"https://api.github.com/repos/requests/requests-ntlm/issues{/number}\",\"pulls_url\":\"https://api.github.com/repos/requests/requests-ntlm/pulls{/number}\",\"milestones_url\":\"https://api.github.com/repos/requests/requests-ntlm/milestones{/number}\",\"notifications_url\":\"https://api.github.com/repos/requests/requests-ntlm/notifications{?since,all,participating}\",\"labels_url\":\"https://api.github.com/repos/requests/requests-ntlm/labels{/name}\",\"releases_url\":\"https://api.github.com/repos/requests/requests-ntlm/releases{/id}\",\"deployments_url\":\"https://api.github.com/repos/requests/requests-ntlm/deployments\",\"created_at\":\"2012-11-15T14:26:00Z\",\"updated_at\":\"2021-10-28T13:38:45Z\",\"pushed_at\":\"2021-07-15T14:00:18Z\",\"git_url\":\"git://github.com/requests/requests-ntlm.git\",\"ssh_url\":\"git@github.com:requests/requests-ntlm.git\",\"clone_url\":\"https://github.com/requests/requests-ntlm.git\",\"svn_url\":\"https://github.com/requests/requests-ntlm\",\"homepage\":null,\"size\":101,\"stargazers_count\":271,\"watchers_count\":271,\"language\":\"Python\",\"has_issues\":true,\"has_projects\":true,\"has_downloads\":true,\"has_wiki\":true,\"has_pages\":false,\"forks_count\":93,\"mirror_url\":null,\"archived\":false,\"disabled\":false,\"open_issues_count\":25,\"license\":{\"key\":\"isc\",\"name\":\"ISC License\",\"spdx_id\":\"ISC\",\"url\":\"https://api.github.com/licenses/isc\",\"node_id\":\"MDc6TGljZW5zZTEw\"},\"allow_forking\":true,\"is_template\":false,\"topics\":[],\"visibility\":\"public\",\"forks\":93,\"open_issues\":25,\"watchers\":271,\"default_branch\":\"master\",\"score\":1.0},{\"id\":1778471,\"node_id\":\"MDEwOlJlcG9zaXRvcnkxNzc4NDcx\",\"name\":\"httpbin\",\"full_name\":\"postmanlabs/httpbin\",\"private\":false,\"owner\":{\"login\":\"postmanlabs\",\"id\":10251060,\"node_id\":\"MDEyOk9yZ2FuaXphdGlvbjEwMjUxMDYw\",\"avatar_url\":\"https://avatars.githubusercontent.com/u/10251060?v=4\",\"gravatar_id\":\"\",\"url\":\"https://api.github.com/users/postmanlabs\",\"html_url\":\"https://github.com/postmanlabs\",\"followers_url\":\"https://api.github.com/users/postmanlabs/followers\",\"following_url\":\"https://api.github.com/users/postmanlabs/following{/other_user}\",\"gists_url\":\"https://api.github.com/users/postmanlabs/gists{/gist_id}\",\"starred_url\":\"https://api.github.com/users/postmanlabs/starred{/owner}{/repo}\",\"subscriptions_url\":\"https://api.github.com/users/postmanlabs/subscriptions\",\"organizations_url\":\"https://api.github.com/users/postmanlabs/orgs\",\"repos_url\":\"https://api.github.com/users/postmanlabs/repos\",\"events_url\":\"https://api.github.com/users/postmanlabs/events{/privacy}\",\"received_events_url\":\"https://api.github.com/users/postmanlabs/received_events\",\"type\":\"Organization\",\"site_admin\":false},\"html_url\":\"https://github.com/postmanlabs/httpbin\",\"description\":\"HTTP Request & Response Service, written in Python + Flask.\",\"fork\":false,\"url\":\"https://api.github.com/repos/postmanlabs/httpbin\",\"forks_url\":\"https://api.github.com/repos/postmanlabs/httpbin/forks\",\"keys_url\":\"https://api.github.com/repos/postmanlabs/httpbin/keys{/key_id}\",\"collaborators_url\":\"https://api.github.com/repos/postmanlabs/httpbin/collaborators{/collaborator}\",\"teams_url\":\"https://api.github.com/repos/postmanlabs/httpbin/teams\",\"hooks_url\":\"https://api.github.com/repos/postmanlabs/httpbin/hooks\",\"issue_events_url\":\"https://api.github.com/repos/postmanlabs/httpbin/issues/events{/number}\",\"events_url\":\"https://api.github.com/repos/postmanlabs/httpbin/events\",\"assignees_url\":\"https://api.github.com/repos/postmanlabs/httpbin/assignees{/user}\",\"branches_url\":\"https://api.github.com/repos/postmanlabs/httpbin/branches{/branch}\",\"tags_url\":\"https://api.github.com/repos/postmanlabs/httpbin/tags\",\"blobs_url\":\"https://api.github.com/repos/postmanlabs/httpbin/git/blobs{/sha}\",\"git_tags_url\":\"https://api.github.com/repos/postmanlabs/httpbin/git/tags{/sha}\",\"git_refs_url\":\"https://api.github.com/repos/postmanlabs/httpbin/git/refs{/sha}\",\"trees_url\":\"https://api.github.com/repos/postmanlabs/httpbin/git/trees{/sha}\",\"statuses_url\":\"https://api.github.com/repos/postmanlabs/httpbin/statuses/{sha}\",\"languages_url\":\"https://api.github.com/repos/postmanlabs/httpbin/languages\",\"stargazers_url\":\"https://api.github.com/repos/postmanlabs/httpbin/stargazers\",\"contributors_url\":\"https://api.github.com/repos/postmanlabs/httpbin/contributors\",\"subscribers_url\":\"https://api.github.com/repos/postmanlabs/httpbin/subscribers\",\"subscription_url\":\"https://api.github.com/repos/postmanlabs/httpbin/subscription\",\"commits_url\":\"https://api.github.com/repos/postmanlabs/httpbin/commits{/sha}\",\"git_commits_url\":\"https://api.github.com/repos/postmanlabs/httpbin/git/commits{/sha}\",\"comments_url\":\"https://api.github.com/repos/postmanlabs/httpbin/comments{/number}\",\"issue_comment_url\":\"https://api.github.com/repos/postmanlabs/httpbin/issues/comments{/number}\",\"contents_url\":\"https://api.github.com/repos/postmanlabs/httpbin/contents/{+path}\",\"compare_url\":\"https://api.github.com/repos/postmanlabs/httpbin/compare/{base}...{head}\",\"merges_url\":\"https://api.github.com/repos/postmanlabs/httpbin/merges\",\"archive_url\":\"https://api.github.com/repos/postmanlabs/httpbin/{archive_format}{/ref}\",\"downloads_url\":\"https://api.github.com/repos/postmanlabs/httpbin/downloads\",\"issues_url\":\"https://api.github.com/repos/postmanlabs/httpbin/issues{/number}\",\"pulls_url\":\"https://api.github.com/repos/postmanlabs/httpbin/pulls{/number}\",\"milestones_url\":\"https://api.github.com/repos/postmanlabs/httpbin/milestones{/number}\",\"notifications_url\":\"https://api.github.com/repos/postmanlabs/httpbin/notifications{?since,all,participating}\",\"labels_url\":\"https://api.github.com/repos/postmanlabs/httpbin/labels{/name}\",\"releases_url\":\"https://api.github.com/repos/postmanlabs/httpbin/releases{/id}\",\"deployments_url\":\"https://api.github.com/repos/postmanlabs/httpbin/deployments\",\"created_at\":\"2011-05-20T21:14:01Z\",\"updated_at\":\"2021-11-03T11:19:21Z\",\"pushed_at\":\"2021-10-25T09:46:42Z\",\"git_url\":\"git://github.com/postmanlabs/httpbin.git\",\"ssh_url\":\"git@github.com:postmanlabs/httpbin.git\",\"clone_url\":\"https://github.com/postmanlabs/httpbin.git\",\"svn_url\":\"https://github.com/postmanlabs/httpbin\",\"homepage\":\"https://httpbin.org\",\"size\":750,\"stargazers_count\":10293,\"watchers_count\":10293,\"language\":\"Python\",\"has_issues\":true,\"has_projects\":true,\"has_downloads\":true,\"has_wiki\":false,\"has_pages\":false,\"forks_count\":1521,\"mirror_url\":null,\"archived\":false,\"disabled\":false,\"open_issues_count\":152,\"license\":{\"key\":\"isc\",\"name\":\"ISC License\",\"spdx_id\":\"ISC\",\"url\":\"https://api.github.com/licenses/isc\",\"node_id\":\"MDc6TGljZW5zZTEw\"},\"allow_forking\":true,\"is_template\":false,\"topics\":[\"api\",\"http\",\"http-server\",\"httpbin\",\"json\",\"python\",\"service\",\"testing\"],\"visibility\":\"public\",\"forks\":1521,\"open_issues\":152,\"watchers\":10293,\"default_branch\":\"master\",\"score\":1.0},{\"id\":176784301,\"node_id\":\"MDEwOlJlcG9zaXRvcnkxNzY3ODQzMDE=\",\"name\":\"requests-async\",\"full_name\":\"encode/requests-async\",\"private\":false,\"owner\":{\"login\":\"encode\",\"id\":19159390,\"node_id\":\"MDEyOk9yZ2FuaXphdGlvbjE5MTU5Mzkw\",\"avatar_url\":\"https://avatars.githubusercontent.com/u/19159390?v=4\",\"gravatar_id\":\"\",\"url\":\"https://api.github.com/users/encode\",\"html_url\":\"https://github.com/encode\",\"followers_url\":\"https://api.github.com/users/encode/followers\",\"following_url\":\"https://api.github.com/users/encode/following{/other_user}\",\"gists_url\":\"https://api.github.com/users/encode/gists{/gist_id}\",\"starred_url\":\"https://api.github.com/users/encode/starred{/owner}{/repo}\",\"subscriptions_url\":\"https://api.github.com/users/encode/subscriptions\",\"organizations_url\":\"https://api.github.com/users/encode/orgs\",\"repos_url\":\"https://api.github.com/users/encode/repos\",\"events_url\":\"https://api.github.com/users/encode/events{/privacy}\",\"received_events_url\":\"https://api.github.com/users/encode/received_events\",\"type\":\"Organization\",\"site_admin\":false},\"html_url\":\"https://github.com/encode/requests-async\",\"description\":\"async-await support for `requests`. ✨ 🍰 ✨\",\"fork\":false,\"url\":\"https://api.github.com/repos/encode/requests-async\",\"forks_url\":\"https://api.github.com/repos/encode/requests-async/forks\",\"keys_url\":\"https://api.github.com/repos/encode/requests-async/keys{/key_id}\",\"collaborators_url\":\"https://api.github.com/repos/encode/requests-async/collaborators{/collaborator}\",\"teams_url\":\"https://api.github.com/repos/encode/requests-async/teams\",\"hooks_url\":\"https://api.github.com/repos/encode/requests-async/hooks\",\"issue_events_url\":\"https://api.github.com/repos/encode/requests-async/issues/events{/number}\",\"events_url\":\"https://api.github.com/repos/encode/requests-async/events\",\"assignees_url\":\"https://api.github.com/repos/encode/requests-async/assignees{/user}\",\"branches_url\":\"https://api.github.com/repos/encode/requests-async/branches{/branch}\",\"tags_url\":\"https://api.github.com/repos/encode/requests-async/tags\",\"blobs_url\":\"https://api.github.com/repos/encode/requests-async/git/blobs{/sha}\",\"git_tags_url\":\"https://api.github.com/repos/encode/requests-async/git/tags{/sha}\",\"git_refs_url\":\"https://api.github.com/repos/encode/requests-async/git/refs{/sha}\",\"trees_url\":\"https://api.github.com/repos/encode/requests-async/git/trees{/sha}\",\"statuses_url\":\"https://api.github.com/repos/encode/requests-async/statuses/{sha}\",\"languages_url\":\"https://api.github.com/repos/encode/requests-async/languages\",\"stargazers_url\":\"https://api.github.com/repos/encode/requests-async/stargazers\",\"contributors_url\":\"https://api.github.com/repos/encode/requests-async/contributors\",\"subscribers_url\":\"https://api.github.com/repos/encode/requests-async/subscribers\",\"subscription_url\":\"https://api.github.com/repos/encode/requests-async/subscription\",\"commits_url\":\"https://api.github.com/repos/encode/requests-async/commits{/sha}\",\"git_commits_url\":\"https://api.github.com/repos/encode/requests-async/git/commits{/sha}\",\"comments_url\":\"https://api.github.com/repos/encode/requests-async/comments{/number}\",\"issue_comment_url\":\"https://api.github.com/repos/encode/requests-async/issues/comments{/number}\",\"contents_url\":\"https://api.github.com/repos/encode/requests-async/contents/{+path}\",\"compare_url\":\"https://api.github.com/repos/encode/requests-async/compare/{base}...{head}\",\"merges_url\":\"https://api.github.com/repos/encode/requests-async/merges\",\"archive_url\":\"https://api.github.com/repos/encode/requests-async/{archive_format}{/ref}\",\"downloads_url\":\"https://api.github.com/repos/encode/requests-async/downloads\",\"issues_url\":\"https://api.github.com/repos/encode/requests-async/issues{/number}\",\"pulls_url\":\"https://api.github.com/repos/encode/requests-async/pulls{/number}\",\"milestones_url\":\"https://api.github.com/repos/encode/requests-async/milestones{/number}\",\"notifications_url\":\"https://api.github.com/repos/encode/requests-async/notifications{?since,all,participating}\",\"labels_url\":\"https://api.github.com/repos/encode/requests-async/labels{/name}\",\"releases_url\":\"https://api.github.com/repos/encode/requests-async/releases{/id}\",\"deployments_url\":\"https://api.github.com/repos/encode/requests-async/deployments\",\"created_at\":\"2019-03-20T17:28:58Z\",\"updated_at\":\"2021-10-17T07:52:58Z\",\"pushed_at\":\"2019-07-22T21:40:29Z\",\"git_url\":\"git://github.com/encode/requests-async.git\",\"ssh_url\":\"git@github.com:encode/requests-async.git\",\"clone_url\":\"https://github.com/encode/requests-async.git\",\"svn_url\":\"https://github.com/encode/requests-async\",\"homepage\":\"\",\"size\":98,\"stargazers_count\":942,\"watchers_count\":942,\"language\":\"Python\",\"has_issues\":true,\"has_projects\":true,\"has_downloads\":true,\"has_wiki\":true,\"has_pages\":false,\"forks_count\":38,\"mirror_url\":null,\"archived\":true,\"disabled\":false,\"open_issues_count\":0,\"license\":{\"key\":\"other\",\"name\":\"Other\",\"spdx_id\":\"NOASSERTION\",\"url\":null,\"node_id\":\"MDc6TGljZW5zZTA=\"},\"allow_forking\":true,\"is_template\":false,\"topics\":[],\"visibility\":\"public\",\"forks\":38,\"open_issues\":0,\"watchers\":942,\"default_branch\":\"master\",\"score\":1.0},{\"id\":8891992,\"node_id\":\"MDEwOlJlcG9zaXRvcnk4ODkxOTky\",\"name\":\"httmock\",\"full_name\":\"patrys/httmock\",\"private\":false,\"owner\":{\"login\":\"patrys\",\"id\":81205,\"node_id\":\"MDQ6VXNlcjgxMjA1\",\"avatar_url\":\"https://avatars.githubusercontent.com/u/81205?v=4\",\"gravatar_id\":\"\",\"url\":\"https://api.github.com/users/patrys\",\"html_url\":\"https://github.com/patrys\",\"followers_url\":\"https://api.github.com/users/patrys/followers\",\"following_url\":\"https://api.github.com/users/patrys/following{/other_user}\",\"gists_url\":\"https://api.github.com/users/patrys/gists{/gist_id}\",\"starred_url\":\"https://api.github.com/users/patrys/starred{/owner}{/repo}\",\"subscriptions_url\":\"https://api.github.com/users/patrys/subscriptions\",\"organizations_url\":\"https://api.github.com/users/patrys/orgs\",\"repos_url\":\"https://api.github.com/users/patrys/repos\",\"events_url\":\"https://api.github.com/users/patrys/events{/privacy}\",\"received_events_url\":\"https://api.github.com/users/patrys/received_events\",\"type\":\"User\",\"site_admin\":false},\"html_url\":\"https://github.com/patrys/httmock\",\"description\":\"A mocking library for requests\",\"fork\":false,\"url\":\"https://api.github.com/repos/patrys/httmock\",\"forks_url\":\"https://api.github.com/repos/patrys/httmock/forks\",\"keys_url\":\"https://api.github.com/repos/patrys/httmock/keys{/key_id}\",\"collaborators_url\":\"https://api.github.com/repos/patrys/httmock/collaborators{/collaborator}\",\"teams_url\":\"https://api.github.com/repos/patrys/httmock/teams\",\"hooks_url\":\"https://api.github.com/repos/patrys/httmock/hooks\",\"issue_events_url\":\"https://api.github.com/repos/patrys/httmock/issues/events{/number}\",\"events_url\":\"https://api.github.com/repos/patrys/httmock/events\",\"assignees_url\":\"https://api.github.com/repos/patrys/httmock/assignees{/user}\",\"branches_url\":\"https://api.github.com/repos/patrys/httmock/branches{/branch}\",\"tags_url\":\"https://api.github.com/repos/patrys/httmock/tags\",\"blobs_url\":\"https://api.github.com/repos/patrys/httmock/git/blobs{/sha}\",\"git_tags_url\":\"https://api.github.com/repos/patrys/httmock/git/tags{/sha}\",\"git_refs_url\":\"https://api.github.com/repos/patrys/httmock/git/refs{/sha}\",\"trees_url\":\"https://api.github.com/repos/patrys/httmock/git/trees{/sha}\",\"statuses_url\":\"https://api.github.com/repos/patrys/httmock/statuses/{sha}\",\"languages_url\":\"https://api.github.com/repos/patrys/httmock/languages\",\"stargazers_url\":\"https://api.github.com/repos/patrys/httmock/stargazers\",\"contributors_url\":\"https://api.github.com/repos/patrys/httmock/contributors\",\"subscribers_url\":\"https://api.github.com/repos/patrys/httmock/subscribers\",\"subscription_url\":\"https://api.github.com/repos/patrys/httmock/subscription\",\"commits_url\":\"https://api.github.com/repos/patrys/httmock/commits{/sha}\",\"git_commits_url\":\"https://api.github.com/repos/patrys/httmock/git/commits{/sha}\",\"comments_url\":\"https://api.github.com/repos/patrys/httmock/comments{/number}\",\"issue_comment_url\":\"https://api.github.com/repos/patrys/httmock/issues/comments{/number}\",\"contents_url\":\"https://api.github.com/repos/patrys/httmock/contents/{+path}\",\"compare_url\":\"https://api.github.com/repos/patrys/httmock/compare/{base}...{head}\",\"merges_url\":\"https://api.github.com/repos/patrys/httmock/merges\",\"archive_url\":\"https://api.github.com/repos/patrys/httmock/{archive_format}{/ref}\",\"downloads_url\":\"https://api.github.com/repos/patrys/httmock/downloads\",\"issues_url\":\"https://api.github.com/repos/patrys/httmock/issues{/number}\",\"pulls_url\":\"https://api.github.com/repos/patrys/httmock/pulls{/number}\",\"milestones_url\":\"https://api.github.com/repos/patrys/httmock/milestones{/number}\",\"notifications_url\":\"https://api.github.com/repos/patrys/httmock/notifications{?since,all,participating}\",\"labels_url\":\"https://api.github.com/repos/patrys/httmock/labels{/name}\",\"releases_url\":\"https://api.github.com/repos/patrys/httmock/releases{/id}\",\"deployments_url\":\"https://api.github.com/repos/patrys/httmock/deployments\",\"created_at\":\"2013-03-19T23:35:33Z\",\"updated_at\":\"2021-10-14T10:08:51Z\",\"pushed_at\":\"2020-10-28T12:00:38Z\",\"git_url\":\"git://github.com/patrys/httmock.git\",\"ssh_url\":\"git@github.com:patrys/httmock.git\",\"clone_url\":\"https://github.com/patrys/httmock.git\",\"svn_url\":\"https://github.com/patrys/httmock\",\"homepage\":null,\"size\":72,\"stargazers_count\":430,\"watchers_count\":430,\"language\":\"Python\",\"has_issues\":true,\"has_projects\":true,\"has_downloads\":true,\"has_wiki\":true,\"has_pages\":false,\"forks_count\":52,\"mirror_url\":null,\"archived\":false,\"disabled\":false,\"open_issues_count\":15,\"license\":{\"key\":\"other\",\"name\":\"Other\",\"spdx_id\":\"NOASSERTION\",\"url\":null,\"node_id\":\"MDc6TGljZW5zZTA=\"},\"allow_forking\":true,\"is_template\":false,\"topics\":[\"http\",\"mock\",\"python\",\"requests\"],\"visibility\":\"public\",\"forks\":52,\"open_issues\":15,\"watchers\":430,\"default_branch\":\"master\",\"score\":1.0},{\"id\":1303056,\"node_id\":\"MDEwOlJlcG9zaXRvcnkxMzAzMDU2\",\"name\":\"HTTPretty\",\"full_name\":\"gabrielfalcao/HTTPretty\",\"private\":false,\"owner\":{\"login\":\"gabrielfalcao\",\"id\":54914,\"node_id\":\"MDQ6VXNlcjU0OTE0\",\"avatar_url\":\"https://avatars.githubusercontent.com/u/54914?v=4\",\"gravatar_id\":\"\",\"url\":\"https://api.github.com/users/gabrielfalcao\",\"html_url\":\"https://github.com/gabrielfalcao\",\"followers_url\":\"https://api.github.com/users/gabrielfalcao/followers\",\"following_url\":\"https://api.github.com/users/gabrielfalcao/following{/other_user}\",\"gists_url\":\"https://api.github.com/users/gabrielfalcao/gists{/gist_id}\",\"starred_url\":\"https://api.github.com/users/gabrielfalcao/starred{/owner}{/repo}\",\"subscriptions_url\":\"https://api.github.com/users/gabrielfalcao/subscriptions\",\"organizations_url\":\"https://api.github.com/users/gabrielfalcao/orgs\",\"repos_url\":\"https://api.github.com/users/gabrielfalcao/repos\",\"events_url\":\"https://api.github.com/users/gabrielfalcao/events{/privacy}\",\"received_events_url\":\"https://api.github.com/users/gabrielfalcao/received_events\",\"type\":\"User\",\"site_admin\":false},\"html_url\":\"https://github.com/gabrielfalcao/HTTPretty\",\"description\":\"Intercept HTTP requests at the Python socket level. Fakes the whole socket module\",\"fork\":false,\"url\":\"https://api.github.com/repos/gabrielfalcao/HTTPretty\",\"forks_url\":\"https://api.github.com/repos/gabrielfalcao/HTTPretty/forks\",\"keys_url\":\"https://api.github.com/repos/gabrielfalcao/HTTPretty/keys{/key_id}\",\"collaborators_url\":\"https://api.github.com/repos/gabrielfalcao/HTTPretty/collaborators{/collaborator}\",\"teams_url\":\"https://api.github.com/repos/gabrielfalcao/HTTPretty/teams\",\"hooks_url\":\"https://api.github.com/repos/gabrielfalcao/HTTPretty/hooks\",\"issue_events_url\":\"https://api.github.com/repos/gabrielfalcao/HTTPretty/issues/events{/number}\",\"events_url\":\"https://api.github.com/repos/gabrielfalcao/HTTPretty/events\",\"assignees_url\":\"https://api.github.com/repos/gabrielfalcao/HTTPretty/assignees{/user}\",\"branches_url\":\"https://api.github.com/repos/gabrielfalcao/HTTPretty/branches{/branch}\",\"tags_url\":\"https://api.github.com/repos/gabrielfalcao/HTTPretty/tags\",\"blobs_url\":\"https://api.github.com/repos/gabrielfalcao/HTTPretty/git/blobs{/sha}\",\"git_tags_url\":\"https://api.github.com/repos/gabrielfalcao/HTTPretty/git/tags{/sha}\",\"git_refs_url\":\"https://api.github.com/repos/gabrielfalcao/HTTPretty/git/refs{/sha}\",\"trees_url\":\"https://api.github.com/repos/gabrielfalcao/HTTPretty/git/trees{/sha}\",\"statuses_url\":\"https://api.github.com/repos/gabrielfalcao/HTTPretty/statuses/{sha}\",\"languages_url\":\"https://api.github.com/repos/gabrielfalcao/HTTPretty/languages\",\"stargazers_url\":\"https://api.github.com/repos/gabrielfalcao/HTTPretty/stargazers\",\"contributors_url\":\"https://api.github.com/repos/gabrielfalcao/HTTPretty/contributors\",\"subscribers_url\":\"https://api.github.com/repos/gabrielfalcao/HTTPretty/subscribers\",\"subscription_url\":\"https://api.github.com/repos/gabrielfalcao/HTTPretty/subscription\",\"commits_url\":\"https://api.github.com/repos/gabrielfalcao/HTTPretty/commits{/sha}\",\"git_commits_url\":\"https://api.github.com/repos/gabrielfalcao/HTTPretty/git/commits{/sha}\",\"comments_url\":\"https://api.github.com/repos/gabrielfalcao/HTTPretty/comments{/number}\",\"issue_comment_url\":\"https://api.github.com/repos/gabrielfalcao/HTTPretty/issues/comments{/number}\",\"contents_url\":\"https://api.github.com/repos/gabrielfalcao/HTTPretty/contents/{+path}\",\"compare_url\":\"https://api.github.com/repos/gabrielfalcao/HTTPretty/compare/{base}...{head}\",\"merges_url\":\"https://api.github.com/repos/gabrielfalcao/HTTPretty/merges\",\"archive_url\":\"https://api.github.com/repos/gabrielfalcao/HTTPretty/{archive_format}{/ref}\",\"downloads_url\":\"https://api.github.com/repos/gabrielfalcao/HTTPretty/downloads\",\"issues_url\":\"https://api.github.com/repos/gabrielfalcao/HTTPretty/issues{/number}\",\"pulls_url\":\"https://api.github.com/repos/gabrielfalcao/HTTPretty/pulls{/number}\",\"milestones_url\":\"https://api.github.com/repos/gabrielfalcao/HTTPretty/milestones{/number}\",\"notifications_url\":\"https://api.github.com/repos/gabrielfalcao/HTTPretty/notifications{?since,all,participating}\",\"labels_url\":\"https://api.github.com/repos/gabrielfalcao/HTTPretty/labels{/name}\",\"releases_url\":\"https://api.github.com/repos/gabrielfalcao/HTTPretty/releases{/id}\",\"deployments_url\":\"https://api.github.com/repos/gabrielfalcao/HTTPretty/deployments\",\"created_at\":\"2011-01-28T14:59:02Z\",\"updated_at\":\"2021-11-03T11:18:42Z\",\"pushed_at\":\"2021-10-30T18:23:48Z\",\"git_url\":\"git://github.com/gabrielfalcao/HTTPretty.git\",\"ssh_url\":\"git@github.com:gabrielfalcao/HTTPretty.git\",\"clone_url\":\"https://github.com/gabrielfalcao/HTTPretty.git\",\"svn_url\":\"https://github.com/gabrielfalcao/HTTPretty\",\"homepage\":\"https://httpretty.readthedocs.org\",\"size\":1143,\"stargazers_count\":1914,\"watchers_count\":1914,\"language\":\"Python\",\"has_issues\":true,\"has_projects\":true,\"has_downloads\":true,\"has_wiki\":false,\"has_pages\":true,\"forks_count\":252,\"mirror_url\":null,\"archived\":false,\"disabled\":false,\"open_issues_count\":95,\"license\":{\"key\":\"mit\",\"name\":\"MIT License\",\"spdx_id\":\"MIT\",\"url\":\"https://api.github.com/licenses/mit\",\"node_id\":\"MDc6TGljZW5zZTEz\"},\"allow_forking\":true,\"is_template\":false,\"topics\":[\"decorators\",\"fakeweb\",\"http\",\"httpretty\",\"mock\",\"mocking\",\"python\",\"python2\",\"streaming-response\",\"tdd\",\"testing\",\"testing-tools\"],\"visibility\":\"public\",\"forks\":252,\"open_issues\":95,\"watchers\":1914,\"default_branch\":\"master\",\"score\":1.0},{\"id\":85674218,\"node_id\":\"MDEwOlJlcG9zaXRvcnk4NTY3NDIxOA==\",\"name\":\"SSRF-Testing\",\"full_name\":\"cujanovic/SSRF-Testing\",\"private\":false,\"owner\":{\"login\":\"cujanovic\",\"id\":7038277,\"node_id\":\"MDQ6VXNlcjcwMzgyNzc=\",\"avatar_url\":\"https://avatars.githubusercontent.com/u/7038277?v=4\",\"gravatar_id\":\"\",\"url\":\"https://api.github.com/users/cujanovic\",\"html_url\":\"https://github.com/cujanovic\",\"followers_url\":\"https://api.github.com/users/cujanovic/followers\",\"following_url\":\"https://api.github.com/users/cujanovic/following{/other_user}\",\"gists_url\":\"https://api.github.com/users/cujanovic/gists{/gist_id}\",\"starred_url\":\"https://api.github.com/users/cujanovic/starred{/owner}{/repo}\",\"subscriptions_url\":\"https://api.github.com/users/cujanovic/subscriptions\",\"organizations_url\":\"https://api.github.com/users/cujanovic/orgs\",\"repos_url\":\"https://api.github.com/users/cujanovic/repos\",\"events_url\":\"https://api.github.com/users/cujanovic/events{/privacy}\",\"received_events_url\":\"https://api.github.com/users/cujanovic/received_events\",\"type\":\"User\",\"site_admin\":false},\"html_url\":\"https://github.com/cujanovic/SSRF-Testing\",\"description\":\"SSRF (Server Side Request Forgery) testing resources\",\"fork\":false,\"url\":\"https://api.github.com/repos/cujanovic/SSRF-Testing\",\"forks_url\":\"https://api.github.com/repos/cujanovic/SSRF-Testing/forks\",\"keys_url\":\"https://api.github.com/repos/cujanovic/SSRF-Testing/keys{/key_id}\",\"collaborators_url\":\"https://api.github.com/repos/cujanovic/SSRF-Testing/collaborators{/collaborator}\",\"teams_url\":\"https://api.github.com/repos/cujanovic/SSRF-Testing/teams\",\"hooks_url\":\"https://api.github.com/repos/cujanovic/SSRF-Testing/hooks\",\"issue_events_url\":\"https://api.github.com/repos/cujanovic/SSRF-Testing/issues/events{/number}\",\"events_url\":\"https://api.github.com/repos/cujanovic/SSRF-Testing/events\",\"assignees_url\":\"https://api.github.com/repos/cujanovic/SSRF-Testing/assignees{/user}\",\"branches_url\":\"https://api.github.com/repos/cujanovic/SSRF-Testing/branches{/branch}\",\"tags_url\":\"https://api.github.com/repos/cujanovic/SSRF-Testing/tags\",\"blobs_url\":\"https://api.github.com/repos/cujanovic/SSRF-Testing/git/blobs{/sha}\",\"git_tags_url\":\"https://api.github.com/repos/cujanovic/SSRF-Testing/git/tags{/sha}\",\"git_refs_url\":\"https://api.github.com/repos/cujanovic/SSRF-Testing/git/refs{/sha}\",\"trees_url\":\"https://api.github.com/repos/cujanovic/SSRF-Testing/git/trees{/sha}\",\"statuses_url\":\"https://api.github.com/repos/cujanovic/SSRF-Testing/statuses/{sha}\",\"languages_url\":\"https://api.github.com/repos/cujanovic/SSRF-Testing/languages\",\"stargazers_url\":\"https://api.github.com/repos/cujanovic/SSRF-Testing/stargazers\",\"contributors_url\":\"https://api.github.com/repos/cujanovic/SSRF-Testing/contributors\",\"subscribers_url\":\"https://api.github.com/repos/cujanovic/SSRF-Testing/subscribers\",\"subscription_url\":\"https://api.github.com/repos/cujanovic/SSRF-Testing/subscription\",\"commits_url\":\"https://api.github.com/repos/cujanovic/SSRF-Testing/commits{/sha}\",\"git_commits_url\":\"https://api.github.com/repos/cujanovic/SSRF-Testing/git/commits{/sha}\",\"comments_url\":\"https://api.github.com/repos/cujanovic/SSRF-Testing/comments{/number}\",\"issue_comment_url\":\"https://api.github.com/repos/cujanovic/SSRF-Testing/issues/comments{/number}\",\"contents_url\":\"https://api.github.com/repos/cujanovic/SSRF-Testing/contents/{+path}\",\"compare_url\":\"https://api.github.com/repos/cujanovic/SSRF-Testing/compare/{base}...{head}\",\"merges_url\":\"https://api.github.com/repos/cujanovic/SSRF-Testing/merges\",\"archive_url\":\"https://api.github.com/repos/cujanovic/SSRF-Testing/{archive_format}{/ref}\",\"downloads_url\":\"https://api.github.com/repos/cujanovic/SSRF-Testing/downloads\",\"issues_url\":\"https://api.github.com/repos/cujanovic/SSRF-Testing/issues{/number}\",\"pulls_url\":\"https://api.github.com/repos/cujanovic/SSRF-Testing/pulls{/number}\",\"milestones_url\":\"https://api.github.com/repos/cujanovic/SSRF-Testing/milestones{/number}\",\"notifications_url\":\"https://api.github.com/repos/cujanovic/SSRF-Testing/notifications{?since,all,participating}\",\"labels_url\":\"https://api.github.com/repos/cujanovic/SSRF-Testing/labels{/name}\",\"releases_url\":\"https://api.github.com/repos/cujanovic/SSRF-Testing/releases{/id}\",\"deployments_url\":\"https://api.github.com/repos/cujanovic/SSRF-Testing/deployments\",\"created_at\":\"2017-03-21T07:57:51Z\",\"updated_at\":\"2021-11-03T10:29:20Z\",\"pushed_at\":\"2021-10-21T14:51:38Z\",\"git_url\":\"git://github.com/cujanovic/SSRF-Testing.git\",\"ssh_url\":\"git@github.com:cujanovic/SSRF-Testing.git\",\"clone_url\":\"https://github.com/cujanovic/SSRF-Testing.git\",\"svn_url\":\"https://github.com/cujanovic/SSRF-Testing\",\"homepage\":\"\",\"size\":7271,\"stargazers_count\":1702,\"watchers_count\":1702,\"language\":\"Python\",\"has_issues\":true,\"has_projects\":true,\"has_downloads\":true,\"has_wiki\":true,\"has_pages\":false,\"forks_count\":405,\"mirror_url\":null,\"archived\":false,\"disabled\":false,\"open_issues_count\":0,\"license\":null,\"allow_forking\":true,\"is_template\":false,\"topics\":[\"pentest\",\"pentest-tool\",\"pentesting\",\"server-side-request-forgery\",\"ssrf\"],\"visibility\":\"public\",\"forks\":405,\"open_issues\":0,\"watchers\":1702,\"default_branch\":\"master\",\"score\":1.0},{\"id\":80945517,\"node_id\":\"MDEwOlJlcG9zaXRvcnk4MDk0NTUxNw==\",\"name\":\"asks\",\"full_name\":\"theelous3/asks\",\"private\":false,\"owner\":{\"login\":\"theelous3\",\"id\":19316042,\"node_id\":\"MDQ6VXNlcjE5MzE2MDQy\",\"avatar_url\":\"https://avatars.githubusercontent.com/u/19316042?v=4\",\"gravatar_id\":\"\",\"url\":\"https://api.github.com/users/theelous3\",\"html_url\":\"https://github.com/theelous3\",\"followers_url\":\"https://api.github.com/users/theelous3/followers\",\"following_url\":\"https://api.github.com/users/theelous3/following{/other_user}\",\"gists_url\":\"https://api.github.com/users/theelous3/gists{/gist_id}\",\"starred_url\":\"https://api.github.com/users/theelous3/starred{/owner}{/repo}\",\"subscriptions_url\":\"https://api.github.com/users/theelous3/subscriptions\",\"organizations_url\":\"https://api.github.com/users/theelous3/orgs\",\"repos_url\":\"https://api.github.com/users/theelous3/repos\",\"events_url\":\"https://api.github.com/users/theelous3/events{/privacy}\",\"received_events_url\":\"https://api.github.com/users/theelous3/received_events\",\"type\":\"User\",\"site_admin\":false},\"html_url\":\"https://github.com/theelous3/asks\",\"description\":\"Async requests-like httplib for python.\",\"fork\":false,\"url\":\"https://api.github.com/repos/theelous3/asks\",\"forks_url\":\"https://api.github.com/repos/theelous3/asks/forks\",\"keys_url\":\"https://api.github.com/repos/theelous3/asks/keys{/key_id}\",\"collaborators_url\":\"https://api.github.com/repos/theelous3/asks/collaborators{/collaborator}\",\"teams_url\":\"https://api.github.com/repos/theelous3/asks/teams\",\"hooks_url\":\"https://api.github.com/repos/theelous3/asks/hooks\",\"issue_events_url\":\"https://api.github.com/repos/theelous3/asks/issues/events{/number}\",\"events_url\":\"https://api.github.com/repos/theelous3/asks/events\",\"assignees_url\":\"https://api.github.com/repos/theelous3/asks/assignees{/user}\",\"branches_url\":\"https://api.github.com/repos/theelous3/asks/branches{/branch}\",\"tags_url\":\"https://api.github.com/repos/theelous3/asks/tags\",\"blobs_url\":\"https://api.github.com/repos/theelous3/asks/git/blobs{/sha}\",\"git_tags_url\":\"https://api.github.com/repos/theelous3/asks/git/tags{/sha}\",\"git_refs_url\":\"https://api.github.com/repos/theelous3/asks/git/refs{/sha}\",\"trees_url\":\"https://api.github.com/repos/theelous3/asks/git/trees{/sha}\",\"statuses_url\":\"https://api.github.com/repos/theelous3/asks/statuses/{sha}\",\"languages_url\":\"https://api.github.com/repos/theelous3/asks/languages\",\"stargazers_url\":\"https://api.github.com/repos/theelous3/asks/stargazers\",\"contributors_url\":\"https://api.github.com/repos/theelous3/asks/contributors\",\"subscribers_url\":\"https://api.github.com/repos/theelous3/asks/subscribers\",\"subscription_url\":\"https://api.github.com/repos/theelous3/asks/subscription\",\"commits_url\":\"https://api.github.com/repos/theelous3/asks/commits{/sha}\",\"git_commits_url\":\"https://api.github.com/repos/theelous3/asks/git/commits{/sha}\",\"comments_url\":\"https://api.github.com/repos/theelous3/asks/comments{/number}\",\"issue_comment_url\":\"https://api.github.com/repos/theelous3/asks/issues/comments{/number}\",\"contents_url\":\"https://api.github.com/repos/theelous3/asks/contents/{+path}\",\"compare_url\":\"https://api.github.com/repos/theelous3/asks/compare/{base}...{head}\",\"merges_url\":\"https://api.github.com/repos/theelous3/asks/merges\",\"archive_url\":\"https://api.github.com/repos/theelous3/asks/{archive_format}{/ref}\",\"downloads_url\":\"https://api.github.com/repos/theelous3/asks/downloads\",\"issues_url\":\"https://api.github.com/repos/theelous3/asks/issues{/number}\",\"pulls_url\":\"https://api.github.com/repos/theelous3/asks/pulls{/number}\",\"milestones_url\":\"https://api.github.com/repos/theelous3/asks/milestones{/number}\",\"notifications_url\":\"https://api.github.com/repos/theelous3/asks/notifications{?since,all,participating}\",\"labels_url\":\"https://api.github.com/repos/theelous3/asks/labels{/name}\",\"releases_url\":\"https://api.github.com/repos/theelous3/asks/releases{/id}\",\"deployments_url\":\"https://api.github.com/repos/theelous3/asks/deployments\",\"created_at\":\"2017-02-04T20:14:32Z\",\"updated_at\":\"2021-10-24T23:43:15Z\",\"pushed_at\":\"2021-10-15T15:43:16Z\",\"git_url\":\"git://github.com/theelous3/asks.git\",\"ssh_url\":\"git@github.com:theelous3/asks.git\",\"clone_url\":\"https://github.com/theelous3/asks.git\",\"svn_url\":\"https://github.com/theelous3/asks\",\"homepage\":null,\"size\":862,\"stargazers_count\":460,\"watchers_count\":460,\"language\":\"Python\",\"has_issues\":true,\"has_projects\":true,\"has_downloads\":true,\"has_wiki\":true,\"has_pages\":false,\"forks_count\":63,\"mirror_url\":null,\"archived\":false,\"disabled\":false,\"open_issues_count\":40,\"license\":{\"key\":\"mit\",\"name\":\"MIT License\",\"spdx_id\":\"MIT\",\"url\":\"https://api.github.com/licenses/mit\",\"node_id\":\"MDc6TGljZW5zZTEz\"},\"allow_forking\":true,\"is_template\":false,\"topics\":[\"async\",\"async-requests\",\"concurrency\",\"curio\",\"http\",\"io\",\"network\",\"python3\",\"requests\",\"trio\"],\"visibility\":\"public\",\"forks\":63,\"open_issues\":40,\"watchers\":460,\"default_branch\":\"master\",\"score\":1.0},{\"id\":45270722,\"node_id\":\"MDEwOlJlcG9zaXRvcnk0NTI3MDcyMg==\",\"name\":\"HTTP_Request_Randomizer\",\"full_name\":\"pgaref/HTTP_Request_Randomizer\",\"private\":false,\"owner\":{\"login\":\"pgaref\",\"id\":2953485,\"node_id\":\"MDQ6VXNlcjI5NTM0ODU=\",\"avatar_url\":\"https://avatars.githubusercontent.com/u/2953485?v=4\",\"gravatar_id\":\"\",\"url\":\"https://api.github.com/users/pgaref\",\"html_url\":\"https://github.com/pgaref\",\"followers_url\":\"https://api.github.com/users/pgaref/followers\",\"following_url\":\"https://api.github.com/users/pgaref/following{/other_user}\",\"gists_url\":\"https://api.github.com/users/pgaref/gists{/gist_id}\",\"starred_url\":\"https://api.github.com/users/pgaref/starred{/owner}{/repo}\",\"subscriptions_url\":\"https://api.github.com/users/pgaref/subscriptions\",\"organizations_url\":\"https://api.github.com/users/pgaref/orgs\",\"repos_url\":\"https://api.github.com/users/pgaref/repos\",\"events_url\":\"https://api.github.com/users/pgaref/events{/privacy}\",\"received_events_url\":\"https://api.github.com/users/pgaref/received_events\",\"type\":\"User\",\"site_admin\":false},\"html_url\":\"https://github.com/pgaref/HTTP_Request_Randomizer\",\"description\":\"Proxying Python Requests\",\"fork\":false,\"url\":\"https://api.github.com/repos/pgaref/HTTP_Request_Randomizer\",\"forks_url\":\"https://api.github.com/repos/pgaref/HTTP_Request_Randomizer/forks\",\"keys_url\":\"https://api.github.com/repos/pgaref/HTTP_Request_Randomizer/keys{/key_id}\",\"collaborators_url\":\"https://api.github.com/repos/pgaref/HTTP_Request_Randomizer/collaborators{/collaborator}\",\"teams_url\":\"https://api.github.com/repos/pgaref/HTTP_Request_Randomizer/teams\",\"hooks_url\":\"https://api.github.com/repos/pgaref/HTTP_Request_Randomizer/hooks\",\"issue_events_url\":\"https://api.github.com/repos/pgaref/HTTP_Request_Randomizer/issues/events{/number}\",\"events_url\":\"https://api.github.com/repos/pgaref/HTTP_Request_Randomizer/events\",\"assignees_url\":\"https://api.github.com/repos/pgaref/HTTP_Request_Randomizer/assignees{/user}\",\"branches_url\":\"https://api.github.com/repos/pgaref/HTTP_Request_Randomizer/branches{/branch}\",\"tags_url\":\"https://api.github.com/repos/pgaref/HTTP_Request_Randomizer/tags\",\"blobs_url\":\"https://api.github.com/repos/pgaref/HTTP_Request_Randomizer/git/blobs{/sha}\",\"git_tags_url\":\"https://api.github.com/repos/pgaref/HTTP_Request_Randomizer/git/tags{/sha}\",\"git_refs_url\":\"https://api.github.com/repos/pgaref/HTTP_Request_Randomizer/git/refs{/sha}\",\"trees_url\":\"https://api.github.com/repos/pgaref/HTTP_Request_Randomizer/git/trees{/sha}\",\"statuses_url\":\"https://api.github.com/repos/pgaref/HTTP_Request_Randomizer/statuses/{sha}\",\"languages_url\":\"https://api.github.com/repos/pgaref/HTTP_Request_Randomizer/languages\",\"stargazers_url\":\"https://api.github.com/repos/pgaref/HTTP_Request_Randomizer/stargazers\",\"contributors_url\":\"https://api.github.com/repos/pgaref/HTTP_Request_Randomizer/contributors\",\"subscribers_url\":\"https://api.github.com/repos/pgaref/HTTP_Request_Randomizer/subscribers\",\"subscription_url\":\"https://api.github.com/repos/pgaref/HTTP_Request_Randomizer/subscription\",\"commits_url\":\"https://api.github.com/repos/pgaref/HTTP_Request_Randomizer/commits{/sha}\",\"git_commits_url\":\"https://api.github.com/repos/pgaref/HTTP_Request_Randomizer/git/commits{/sha}\",\"comments_url\":\"https://api.github.com/repos/pgaref/HTTP_Request_Randomizer/comments{/number}\",\"issue_comment_url\":\"https://api.github.com/repos/pgaref/HTTP_Request_Randomizer/issues/comments{/number}\",\"contents_url\":\"https://api.github.com/repos/pgaref/HTTP_Request_Randomizer/contents/{+path}\",\"compare_url\":\"https://api.github.com/repos/pgaref/HTTP_Request_Randomizer/compare/{base}...{head}\",\"merges_url\":\"https://api.github.com/repos/pgaref/HTTP_Request_Randomizer/merges\",\"archive_url\":\"https://api.github.com/repos/pgaref/HTTP_Request_Randomizer/{archive_format}{/ref}\",\"downloads_url\":\"https://api.github.com/repos/pgaref/HTTP_Request_Randomizer/downloads\",\"issues_url\":\"https://api.github.com/repos/pgaref/HTTP_Request_Randomizer/issues{/number}\",\"pulls_url\":\"https://api.github.com/repos/pgaref/HTTP_Request_Randomizer/pulls{/number}\",\"milestones_url\":\"https://api.github.com/repos/pgaref/HTTP_Request_Randomizer/milestones{/number}\",\"notifications_url\":\"https://api.github.com/repos/pgaref/HTTP_Request_Randomizer/notifications{?since,all,participating}\",\"labels_url\":\"https://api.github.com/repos/pgaref/HTTP_Request_Randomizer/labels{/name}\",\"releases_url\":\"https://api.github.com/repos/pgaref/HTTP_Request_Randomizer/releases{/id}\",\"deployments_url\":\"https://api.github.com/repos/pgaref/HTTP_Request_Randomizer/deployments\",\"created_at\":\"2015-10-30T18:56:12Z\",\"updated_at\":\"2021-10-22T11:14:13Z\",\"pushed_at\":\"2020-11-15T11:37:23Z\",\"git_url\":\"git://github.com/pgaref/HTTP_Request_Randomizer.git\",\"ssh_url\":\"git@github.com:pgaref/HTTP_Request_Randomizer.git\",\"clone_url\":\"https://github.com/pgaref/HTTP_Request_Randomizer.git\",\"svn_url\":\"https://github.com/pgaref/HTTP_Request_Randomizer\",\"homepage\":\"http://pgaref.com/blog/python-proxy/\",\"size\":6093,\"stargazers_count\":125,\"watchers_count\":125,\"language\":\"Python\",\"has_issues\":true,\"has_projects\":true,\"has_downloads\":true,\"has_wiki\":true,\"has_pages\":true,\"forks_count\":48,\"mirror_url\":null,\"archived\":false,\"disabled\":false,\"open_issues_count\":21,\"license\":{\"key\":\"mit\",\"name\":\"MIT License\",\"spdx_id\":\"MIT\",\"url\":\"https://api.github.com/licenses/mit\",\"node_id\":\"MDc6TGljZW5zZTEz\"},\"allow_forking\":true,\"is_template\":false,\"topics\":[\"anonymity\",\"http\",\"proxies\",\"proxy\",\"python\",\"requests\",\"user-agent\"],\"visibility\":\"public\",\"forks\":48,\"open_issues\":21,\"watchers\":125,\"default_branch\":\"master\",\"score\":1.0},{\"id\":98755682,\"node_id\":\"MDEwOlJlcG9zaXRvcnk5ODc1NTY4Mg==\",\"name\":\"GithubLogin\",\"full_name\":\"Python3WebSpider/GithubLogin\",\"private\":false,\"owner\":{\"login\":\"Python3WebSpider\",\"id\":29157219,\"node_id\":\"MDEyOk9yZ2FuaXphdGlvbjI5MTU3MjE5\",\"avatar_url\":\"https://avatars.githubusercontent.com/u/29157219?v=4\",\"gravatar_id\":\"\",\"url\":\"https://api.github.com/users/Python3WebSpider\",\"html_url\":\"https://github.com/Python3WebSpider\",\"followers_url\":\"https://api.github.com/users/Python3WebSpider/followers\",\"following_url\":\"https://api.github.com/users/Python3WebSpider/following{/other_user}\",\"gists_url\":\"https://api.github.com/users/Python3WebSpider/gists{/gist_id}\",\"starred_url\":\"https://api.github.com/users/Python3WebSpider/starred{/owner}{/repo}\",\"subscriptions_url\":\"https://api.github.com/users/Python3WebSpider/subscriptions\",\"organizations_url\":\"https://api.github.com/users/Python3WebSpider/orgs\",\"repos_url\":\"https://api.github.com/users/Python3WebSpider/repos\",\"events_url\":\"https://api.github.com/users/Python3WebSpider/events{/privacy}\",\"received_events_url\":\"https://api.github.com/users/Python3WebSpider/received_events\",\"type\":\"Organization\",\"site_admin\":false},\"html_url\":\"https://github.com/Python3WebSpider/GithubLogin\",\"description\":\"Login Github with Requests\",\"fork\":false,\"url\":\"https://api.github.com/repos/Python3WebSpider/GithubLogin\",\"forks_url\":\"https://api.github.com/repos/Python3WebSpider/GithubLogin/forks\",\"keys_url\":\"https://api.github.com/repos/Python3WebSpider/GithubLogin/keys{/key_id}\",\"collaborators_url\":\"https://api.github.com/repos/Python3WebSpider/GithubLogin/collaborators{/collaborator}\",\"teams_url\":\"https://api.github.com/repos/Python3WebSpider/GithubLogin/teams\",\"hooks_url\":\"https://api.github.com/repos/Python3WebSpider/GithubLogin/hooks\",\"issue_events_url\":\"https://api.github.com/repos/Python3WebSpider/GithubLogin/issues/events{/number}\",\"events_url\":\"https://api.github.com/repos/Python3WebSpider/GithubLogin/events\",\"assignees_url\":\"https://api.github.com/repos/Python3WebSpider/GithubLogin/assignees{/user}\",\"branches_url\":\"https://api.github.com/repos/Python3WebSpider/GithubLogin/branches{/branch}\",\"tags_url\":\"https://api.github.com/repos/Python3WebSpider/GithubLogin/tags\",\"blobs_url\":\"https://api.github.com/repos/Python3WebSpider/GithubLogin/git/blobs{/sha}\",\"git_tags_url\":\"https://api.github.com/repos/Python3WebSpider/GithubLogin/git/tags{/sha}\",\"git_refs_url\":\"https://api.github.com/repos/Python3WebSpider/GithubLogin/git/refs{/sha}\",\"trees_url\":\"https://api.github.com/repos/Python3WebSpider/GithubLogin/git/trees{/sha}\",\"statuses_url\":\"https://api.github.com/repos/Python3WebSpider/GithubLogin/statuses/{sha}\",\"languages_url\":\"https://api.github.com/repos/Python3WebSpider/GithubLogin/languages\",\"stargazers_url\":\"https://api.github.com/repos/Python3WebSpider/GithubLogin/stargazers\",\"contributors_url\":\"https://api.github.com/repos/Python3WebSpider/GithubLogin/contributors\",\"subscribers_url\":\"https://api.github.com/repos/Python3WebSpider/GithubLogin/subscribers\",\"subscription_url\":\"https://api.github.com/repos/Python3WebSpider/GithubLogin/subscription\",\"commits_url\":\"https://api.github.com/repos/Python3WebSpider/GithubLogin/commits{/sha}\",\"git_commits_url\":\"https://api.github.com/repos/Python3WebSpider/GithubLogin/git/commits{/sha}\",\"comments_url\":\"https://api.github.com/repos/Python3WebSpider/GithubLogin/comments{/number}\",\"issue_comment_url\":\"https://api.github.com/repos/Python3WebSpider/GithubLogin/issues/comments{/number}\",\"contents_url\":\"https://api.github.com/repos/Python3WebSpider/GithubLogin/contents/{+path}\",\"compare_url\":\"https://api.github.com/repos/Python3WebSpider/GithubLogin/compare/{base}...{head}\",\"merges_url\":\"https://api.github.com/repos/Python3WebSpider/GithubLogin/merges\",\"archive_url\":\"https://api.github.com/repos/Python3WebSpider/GithubLogin/{archive_format}{/ref}\",\"downloads_url\":\"https://api.github.com/repos/Python3WebSpider/GithubLogin/downloads\",\"issues_url\":\"https://api.github.com/repos/Python3WebSpider/GithubLogin/issues{/number}\",\"pulls_url\":\"https://api.github.com/repos/Python3WebSpider/GithubLogin/pulls{/number}\",\"milestones_url\":\"https://api.github.com/repos/Python3WebSpider/GithubLogin/milestones{/number}\",\"notifications_url\":\"https://api.github.com/repos/Python3WebSpider/GithubLogin/notifications{?since,all,participating}\",\"labels_url\":\"https://api.github.com/repos/Python3WebSpider/GithubLogin/labels{/name}\",\"releases_url\":\"https://api.github.com/repos/Python3WebSpider/GithubLogin/releases{/id}\",\"deployments_url\":\"https://api.github.com/repos/Python3WebSpider/GithubLogin/deployments\",\"created_at\":\"2017-07-29T19:55:35Z\",\"updated_at\":\"2021-10-24T03:24:53Z\",\"pushed_at\":\"2020-02-09T19:00:24Z\",\"git_url\":\"git://github.com/Python3WebSpider/GithubLogin.git\",\"ssh_url\":\"git@github.com:Python3WebSpider/GithubLogin.git\",\"clone_url\":\"https://github.com/Python3WebSpider/GithubLogin.git\",\"svn_url\":\"https://github.com/Python3WebSpider/GithubLogin\",\"homepage\":null,\"size\":3,\"stargazers_count\":63,\"watchers_count\":63,\"language\":\"Python\",\"has_issues\":true,\"has_projects\":true,\"has_downloads\":true,\"has_wiki\":true,\"has_pages\":false,\"forks_count\":63,\"mirror_url\":null,\"archived\":false,\"disabled\":false,\"open_issues_count\":2,\"license\":null,\"allow_forking\":true,\"is_template\":false,\"topics\":[],\"visibility\":\"public\",\"forks\":63,\"open_issues\":2,\"watchers\":63,\"default_branch\":\"master\",\"score\":1.0},{\"id\":143563911,\"node_id\":\"MDEwOlJlcG9zaXRvcnkxNDM1NjM5MTE=\",\"name\":\"proxy_requests\",\"full_name\":\"rootVIII/proxy_requests\",\"private\":false,\"owner\":{\"login\":\"rootVIII\",\"id\":30498791,\"node_id\":\"MDQ6VXNlcjMwNDk4Nzkx\",\"avatar_url\":\"https://avatars.githubusercontent.com/u/30498791?v=4\",\"gravatar_id\":\"\",\"url\":\"https://api.github.com/users/rootVIII\",\"html_url\":\"https://github.com/rootVIII\",\"followers_url\":\"https://api.github.com/users/rootVIII/followers\",\"following_url\":\"https://api.github.com/users/rootVIII/following{/other_user}\",\"gists_url\":\"https://api.github.com/users/rootVIII/gists{/gist_id}\",\"starred_url\":\"https://api.github.com/users/rootVIII/starred{/owner}{/repo}\",\"subscriptions_url\":\"https://api.github.com/users/rootVIII/subscriptions\",\"organizations_url\":\"https://api.github.com/users/rootVIII/orgs\",\"repos_url\":\"https://api.github.com/users/rootVIII/repos\",\"events_url\":\"https://api.github.com/users/rootVIII/events{/privacy}\",\"received_events_url\":\"https://api.github.com/users/rootVIII/received_events\",\"type\":\"User\",\"site_admin\":false},\"html_url\":\"https://github.com/rootVIII/proxy_requests\",\"description\":\"a class that uses scraped proxies to make http GET/POST requests (Python requests)\",\"fork\":false,\"url\":\"https://api.github.com/repos/rootVIII/proxy_requests\",\"forks_url\":\"https://api.github.com/repos/rootVIII/proxy_requests/forks\",\"keys_url\":\"https://api.github.com/repos/rootVIII/proxy_requests/keys{/key_id}\",\"collaborators_url\":\"https://api.github.com/repos/rootVIII/proxy_requests/collaborators{/collaborator}\",\"teams_url\":\"https://api.github.com/repos/rootVIII/proxy_requests/teams\",\"hooks_url\":\"https://api.github.com/repos/rootVIII/proxy_requests/hooks\",\"issue_events_url\":\"https://api.github.com/repos/rootVIII/proxy_requests/issues/events{/number}\",\"events_url\":\"https://api.github.com/repos/rootVIII/proxy_requests/events\",\"assignees_url\":\"https://api.github.com/repos/rootVIII/proxy_requests/assignees{/user}\",\"branches_url\":\"https://api.github.com/repos/rootVIII/proxy_requests/branches{/branch}\",\"tags_url\":\"https://api.github.com/repos/rootVIII/proxy_requests/tags\",\"blobs_url\":\"https://api.github.com/repos/rootVIII/proxy_requests/git/blobs{/sha}\",\"git_tags_url\":\"https://api.github.com/repos/rootVIII/proxy_requests/git/tags{/sha}\",\"git_refs_url\":\"https://api.github.com/repos/rootVIII/proxy_requests/git/refs{/sha}\",\"trees_url\":\"https://api.github.com/repos/rootVIII/proxy_requests/git/trees{/sha}\",\"statuses_url\":\"https://api.github.com/repos/rootVIII/proxy_requests/statuses/{sha}\",\"languages_url\":\"https://api.github.com/repos/rootVIII/proxy_requests/languages\",\"stargazers_url\":\"https://api.github.com/repos/rootVIII/proxy_requests/stargazers\",\"contributors_url\":\"https://api.github.com/repos/rootVIII/proxy_requests/contributors\",\"subscribers_url\":\"https://api.github.com/repos/rootVIII/proxy_requests/subscribers\",\"subscription_url\":\"https://api.github.com/repos/rootVIII/proxy_requests/subscription\",\"commits_url\":\"https://api.github.com/repos/rootVIII/proxy_requests/commits{/sha}\",\"git_commits_url\":\"https://api.github.com/repos/rootVIII/proxy_requests/git/commits{/sha}\",\"comments_url\":\"https://api.github.com/repos/rootVIII/proxy_requests/comments{/number}\",\"issue_comment_url\":\"https://api.github.com/repos/rootVIII/proxy_requests/issues/comments{/number}\",\"contents_url\":\"https://api.github.com/repos/rootVIII/proxy_requests/contents/{+path}\",\"compare_url\":\"https://api.github.com/repos/rootVIII/proxy_requests/compare/{base}...{head}\",\"merges_url\":\"https://api.github.com/repos/rootVIII/proxy_requests/merges\",\"archive_url\":\"https://api.github.com/repos/rootVIII/proxy_requests/{archive_format}{/ref}\",\"downloads_url\":\"https://api.github.com/repos/rootVIII/proxy_requests/downloads\",\"issues_url\":\"https://api.github.com/repos/rootVIII/proxy_requests/issues{/number}\",\"pulls_url\":\"https://api.github.com/repos/rootVIII/proxy_requests/pulls{/number}\",\"milestones_url\":\"https://api.github.com/repos/rootVIII/proxy_requests/milestones{/number}\",\"notifications_url\":\"https://api.github.com/repos/rootVIII/proxy_requests/notifications{?since,all,participating}\",\"labels_url\":\"https://api.github.com/repos/rootVIII/proxy_requests/labels{/name}\",\"releases_url\":\"https://api.github.com/repos/rootVIII/proxy_requests/releases{/id}\",\"deployments_url\":\"https://api.github.com/repos/rootVIII/proxy_requests/deployments\",\"created_at\":\"2018-08-04T21:23:59Z\",\"updated_at\":\"2021-10-25T15:37:25Z\",\"pushed_at\":\"2020-12-03T15:41:38Z\",\"git_url\":\"git://github.com/rootVIII/proxy_requests.git\",\"ssh_url\":\"git@github.com:rootVIII/proxy_requests.git\",\"clone_url\":\"https://github.com/rootVIII/proxy_requests.git\",\"svn_url\":\"https://github.com/rootVIII/proxy_requests\",\"homepage\":\"\",\"size\":768,\"stargazers_count\":372,\"watchers_count\":372,\"language\":\"Python\",\"has_issues\":true,\"has_projects\":true,\"has_downloads\":true,\"has_wiki\":true,\"has_pages\":false,\"forks_count\":44,\"mirror_url\":null,\"archived\":true,\"disabled\":false,\"open_issues_count\":2,\"license\":{\"key\":\"mit\",\"name\":\"MIT License\",\"spdx_id\":\"MIT\",\"url\":\"https://api.github.com/licenses/mit\",\"node_id\":\"MDc6TGljZW5zZTEz\"},\"allow_forking\":true,\"is_template\":false,\"topics\":[\"http\",\"http-get\",\"http-getter\",\"http-proxy\",\"http-proxy-middleware\",\"proxy\",\"proxy-list\",\"proxy-requests\",\"proxy-server\",\"python\",\"python-requests\",\"python3\",\"recursion\",\"recursion-problem\",\"requests\",\"requests-module\",\"webscraper\",\"webscraper-api\",\"webscraping\"],\"visibility\":\"public\",\"forks\":44,\"open_issues\":2,\"watchers\":372,\"default_branch\":\"master\",\"score\":1.0},{\"id\":10754954,\"node_id\":\"MDEwOlJlcG9zaXRvcnkxMDc1NDk1NA==\",\"name\":\"cachecontrol\",\"full_name\":\"ionrock/cachecontrol\",\"private\":false,\"owner\":{\"login\":\"ionrock\",\"id\":509830,\"node_id\":\"MDQ6VXNlcjUwOTgzMA==\",\"avatar_url\":\"https://avatars.githubusercontent.com/u/509830?v=4\",\"gravatar_id\":\"\",\"url\":\"https://api.github.com/users/ionrock\",\"html_url\":\"https://github.com/ionrock\",\"followers_url\":\"https://api.github.com/users/ionrock/followers\",\"following_url\":\"https://api.github.com/users/ionrock/following{/other_user}\",\"gists_url\":\"https://api.github.com/users/ionrock/gists{/gist_id}\",\"starred_url\":\"https://api.github.com/users/ionrock/starred{/owner}{/repo}\",\"subscriptions_url\":\"https://api.github.com/users/ionrock/subscriptions\",\"organizations_url\":\"https://api.github.com/users/ionrock/orgs\",\"repos_url\":\"https://api.github.com/users/ionrock/repos\",\"events_url\":\"https://api.github.com/users/ionrock/events{/privacy}\",\"received_events_url\":\"https://api.github.com/users/ionrock/received_events\",\"type\":\"User\",\"site_admin\":false},\"html_url\":\"https://github.com/ionrock/cachecontrol\",\"description\":\"The httplib2 caching algorithms packaged up for use with requests.\",\"fork\":false,\"url\":\"https://api.github.com/repos/ionrock/cachecontrol\",\"forks_url\":\"https://api.github.com/repos/ionrock/cachecontrol/forks\",\"keys_url\":\"https://api.github.com/repos/ionrock/cachecontrol/keys{/key_id}\",\"collaborators_url\":\"https://api.github.com/repos/ionrock/cachecontrol/collaborators{/collaborator}\",\"teams_url\":\"https://api.github.com/repos/ionrock/cachecontrol/teams\",\"hooks_url\":\"https://api.github.com/repos/ionrock/cachecontrol/hooks\",\"issue_events_url\":\"https://api.github.com/repos/ionrock/cachecontrol/issues/events{/number}\",\"events_url\":\"https://api.github.com/repos/ionrock/cachecontrol/events\",\"assignees_url\":\"https://api.github.com/repos/ionrock/cachecontrol/assignees{/user}\",\"branches_url\":\"https://api.github.com/repos/ionrock/cachecontrol/branches{/branch}\",\"tags_url\":\"https://api.github.com/repos/ionrock/cachecontrol/tags\",\"blobs_url\":\"https://api.github.com/repos/ionrock/cachecontrol/git/blobs{/sha}\",\"git_tags_url\":\"https://api.github.com/repos/ionrock/cachecontrol/git/tags{/sha}\",\"git_refs_url\":\"https://api.github.com/repos/ionrock/cachecontrol/git/refs{/sha}\",\"trees_url\":\"https://api.github.com/repos/ionrock/cachecontrol/git/trees{/sha}\",\"statuses_url\":\"https://api.github.com/repos/ionrock/cachecontrol/statuses/{sha}\",\"languages_url\":\"https://api.github.com/repos/ionrock/cachecontrol/languages\",\"stargazers_url\":\"https://api.github.com/repos/ionrock/cachecontrol/stargazers\",\"contributors_url\":\"https://api.github.com/repos/ionrock/cachecontrol/contributors\",\"subscribers_url\":\"https://api.github.com/repos/ionrock/cachecontrol/subscribers\",\"subscription_url\":\"https://api.github.com/repos/ionrock/cachecontrol/subscription\",\"commits_url\":\"https://api.github.com/repos/ionrock/cachecontrol/commits{/sha}\",\"git_commits_url\":\"https://api.github.com/repos/ionrock/cachecontrol/git/commits{/sha}\",\"comments_url\":\"https://api.github.com/repos/ionrock/cachecontrol/comments{/number}\",\"issue_comment_url\":\"https://api.github.com/repos/ionrock/cachecontrol/issues/comments{/number}\",\"contents_url\":\"https://api.github.com/repos/ionrock/cachecontrol/contents/{+path}\",\"compare_url\":\"https://api.github.com/repos/ionrock/cachecontrol/compare/{base}...{head}\",\"merges_url\":\"https://api.github.com/repos/ionrock/cachecontrol/merges\",\"archive_url\":\"https://api.github.com/repos/ionrock/cachecontrol/{archive_format}{/ref}\",\"downloads_url\":\"https://api.github.com/repos/ionrock/cachecontrol/downloads\",\"issues_url\":\"https://api.github.com/repos/ionrock/cachecontrol/issues{/number}\",\"pulls_url\":\"https://api.github.com/repos/ionrock/cachecontrol/pulls{/number}\",\"milestones_url\":\"https://api.github.com/repos/ionrock/cachecontrol/milestones{/number}\",\"notifications_url\":\"https://api.github.com/repos/ionrock/cachecontrol/notifications{?since,all,participating}\",\"labels_url\":\"https://api.github.com/repos/ionrock/cachecontrol/labels{/name}\",\"releases_url\":\"https://api.github.com/repos/ionrock/cachecontrol/releases{/id}\",\"deployments_url\":\"https://api.github.com/repos/ionrock/cachecontrol/deployments\",\"created_at\":\"2013-06-18T05:55:43Z\",\"updated_at\":\"2021-11-02T17:19:06Z\",\"pushed_at\":\"2021-11-02T17:19:04Z\",\"git_url\":\"git://github.com/ionrock/cachecontrol.git\",\"ssh_url\":\"git@github.com:ionrock/cachecontrol.git\",\"clone_url\":\"https://github.com/ionrock/cachecontrol.git\",\"svn_url\":\"https://github.com/ionrock/cachecontrol\",\"homepage\":null,\"size\":432,\"stargazers_count\":391,\"watchers_count\":391,\"language\":\"Python\",\"has_issues\":true,\"has_projects\":true,\"has_downloads\":true,\"has_wiki\":true,\"has_pages\":false,\"forks_count\":100,\"mirror_url\":null,\"archived\":false,\"disabled\":false,\"open_issues_count\":57,\"license\":null,\"allow_forking\":true,\"is_template\":false,\"topics\":[],\"visibility\":\"public\",\"forks\":100,\"open_issues\":57,\"watchers\":391,\"default_branch\":\"master\",\"score\":1.0},{\"id\":36250659,\"node_id\":\"MDEwOlJlcG9zaXRvcnkzNjI1MDY1OQ==\",\"name\":\"drf-tracking\",\"full_name\":\"aschn/drf-tracking\",\"private\":false,\"owner\":{\"login\":\"aschn\",\"id\":3664000,\"node_id\":\"MDQ6VXNlcjM2NjQwMDA=\",\"avatar_url\":\"https://avatars.githubusercontent.com/u/3664000?v=4\",\"gravatar_id\":\"\",\"url\":\"https://api.github.com/users/aschn\",\"html_url\":\"https://github.com/aschn\",\"followers_url\":\"https://api.github.com/users/aschn/followers\",\"following_url\":\"https://api.github.com/users/aschn/following{/other_user}\",\"gists_url\":\"https://api.github.com/users/aschn/gists{/gist_id}\",\"starred_url\":\"https://api.github.com/users/aschn/starred{/owner}{/repo}\",\"subscriptions_url\":\"https://api.github.com/users/aschn/subscriptions\",\"organizations_url\":\"https://api.github.com/users/aschn/orgs\",\"repos_url\":\"https://api.github.com/users/aschn/repos\",\"events_url\":\"https://api.github.com/users/aschn/events{/privacy}\",\"received_events_url\":\"https://api.github.com/users/aschn/received_events\",\"type\":\"User\",\"site_admin\":false},\"html_url\":\"https://github.com/aschn/drf-tracking\",\"description\":\"Utils to track requests to Django Rest Framework API views\",\"fork\":false,\"url\":\"https://api.github.com/repos/aschn/drf-tracking\",\"forks_url\":\"https://api.github.com/repos/aschn/drf-tracking/forks\",\"keys_url\":\"https://api.github.com/repos/aschn/drf-tracking/keys{/key_id}\",\"collaborators_url\":\"https://api.github.com/repos/aschn/drf-tracking/collaborators{/collaborator}\",\"teams_url\":\"https://api.github.com/repos/aschn/drf-tracking/teams\",\"hooks_url\":\"https://api.github.com/repos/aschn/drf-tracking/hooks\",\"issue_events_url\":\"https://api.github.com/repos/aschn/drf-tracking/issues/events{/number}\",\"events_url\":\"https://api.github.com/repos/aschn/drf-tracking/events\",\"assignees_url\":\"https://api.github.com/repos/aschn/drf-tracking/assignees{/user}\",\"branches_url\":\"https://api.github.com/repos/aschn/drf-tracking/branches{/branch}\",\"tags_url\":\"https://api.github.com/repos/aschn/drf-tracking/tags\",\"blobs_url\":\"https://api.github.com/repos/aschn/drf-tracking/git/blobs{/sha}\",\"git_tags_url\":\"https://api.github.com/repos/aschn/drf-tracking/git/tags{/sha}\",\"git_refs_url\":\"https://api.github.com/repos/aschn/drf-tracking/git/refs{/sha}\",\"trees_url\":\"https://api.github.com/repos/aschn/drf-tracking/git/trees{/sha}\",\"statuses_url\":\"https://api.github.com/repos/aschn/drf-tracking/statuses/{sha}\",\"languages_url\":\"https://api.github.com/repos/aschn/drf-tracking/languages\",\"stargazers_url\":\"https://api.github.com/repos/aschn/drf-tracking/stargazers\",\"contributors_url\":\"https://api.github.com/repos/aschn/drf-tracking/contributors\",\"subscribers_url\":\"https://api.github.com/repos/aschn/drf-tracking/subscribers\",\"subscription_url\":\"https://api.github.com/repos/aschn/drf-tracking/subscription\",\"commits_url\":\"https://api.github.com/repos/aschn/drf-tracking/commits{/sha}\",\"git_commits_url\":\"https://api.github.com/repos/aschn/drf-tracking/git/commits{/sha}\",\"comments_url\":\"https://api.github.com/repos/aschn/drf-tracking/comments{/number}\",\"issue_comment_url\":\"https://api.github.com/repos/aschn/drf-tracking/issues/comments{/number}\",\"contents_url\":\"https://api.github.com/repos/aschn/drf-tracking/contents/{+path}\",\"compare_url\":\"https://api.github.com/repos/aschn/drf-tracking/compare/{base}...{head}\",\"merges_url\":\"https://api.github.com/repos/aschn/drf-tracking/merges\",\"archive_url\":\"https://api.github.com/repos/aschn/drf-tracking/{archive_format}{/ref}\",\"downloads_url\":\"https://api.github.com/repos/aschn/drf-tracking/downloads\",\"issues_url\":\"https://api.github.com/repos/aschn/drf-tracking/issues{/number}\",\"pulls_url\":\"https://api.github.com/repos/aschn/drf-tracking/pulls{/number}\",\"milestones_url\":\"https://api.github.com/repos/aschn/drf-tracking/milestones{/number}\",\"notifications_url\":\"https://api.github.com/repos/aschn/drf-tracking/notifications{?since,all,participating}\",\"labels_url\":\"https://api.github.com/repos/aschn/drf-tracking/labels{/name}\",\"releases_url\":\"https://api.github.com/repos/aschn/drf-tracking/releases{/id}\",\"deployments_url\":\"https://api.github.com/repos/aschn/drf-tracking/deployments\",\"created_at\":\"2015-05-25T19:36:19Z\",\"updated_at\":\"2021-10-31T09:26:52Z\",\"pushed_at\":\"2021-09-22T18:07:25Z\",\"git_url\":\"git://github.com/aschn/drf-tracking.git\",\"ssh_url\":\"git@github.com:aschn/drf-tracking.git\",\"clone_url\":\"https://github.com/aschn/drf-tracking.git\",\"svn_url\":\"https://github.com/aschn/drf-tracking\",\"homepage\":\"http://drf-tracking.readthedocs.org/\",\"size\":200,\"stargazers_count\":354,\"watchers_count\":354,\"language\":\"Python\",\"has_issues\":true,\"has_projects\":true,\"has_downloads\":true,\"has_wiki\":true,\"has_pages\":false,\"forks_count\":99,\"mirror_url\":null,\"archived\":false,\"disabled\":false,\"open_issues_count\":44,\"license\":{\"key\":\"isc\",\"name\":\"ISC License\",\"spdx_id\":\"ISC\",\"url\":\"https://api.github.com/licenses/isc\",\"node_id\":\"MDc6TGljZW5zZTEw\"},\"allow_forking\":true,\"is_template\":false,\"topics\":[],\"visibility\":\"public\",\"forks\":99,\"open_issues\":44,\"watchers\":354,\"default_branch\":\"master\",\"score\":1.0},{\"id\":61938302,\"node_id\":\"MDEwOlJlcG9zaXRvcnk2MTkzODMwMg==\",\"name\":\"imooc-requests\",\"full_name\":\"jian-en/imooc-requests\",\"private\":false,\"owner\":{\"login\":\"jian-en\",\"id\":11342080,\"node_id\":\"MDQ6VXNlcjExMzQyMDgw\",\"avatar_url\":\"https://avatars.githubusercontent.com/u/11342080?v=4\",\"gravatar_id\":\"\",\"url\":\"https://api.github.com/users/jian-en\",\"html_url\":\"https://github.com/jian-en\",\"followers_url\":\"https://api.github.com/users/jian-en/followers\",\"following_url\":\"https://api.github.com/users/jian-en/following{/other_user}\",\"gists_url\":\"https://api.github.com/users/jian-en/gists{/gist_id}\",\"starred_url\":\"https://api.github.com/users/jian-en/starred{/owner}{/repo}\",\"subscriptions_url\":\"https://api.github.com/users/jian-en/subscriptions\",\"organizations_url\":\"https://api.github.com/users/jian-en/orgs\",\"repos_url\":\"https://api.github.com/users/jian-en/repos\",\"events_url\":\"https://api.github.com/users/jian-en/events{/privacy}\",\"received_events_url\":\"https://api.github.com/users/jian-en/received_events\",\"type\":\"User\",\"site_admin\":false},\"html_url\":\"https://github.com/jian-en/imooc-requests\",\"description\":\"python requests course for pythonists\",\"fork\":false,\"url\":\"https://api.github.com/repos/jian-en/imooc-requests\",\"forks_url\":\"https://api.github.com/repos/jian-en/imooc-requests/forks\",\"keys_url\":\"https://api.github.com/repos/jian-en/imooc-requests/keys{/key_id}\",\"collaborators_url\":\"https://api.github.com/repos/jian-en/imooc-requests/collaborators{/collaborator}\",\"teams_url\":\"https://api.github.com/repos/jian-en/imooc-requests/teams\",\"hooks_url\":\"https://api.github.com/repos/jian-en/imooc-requests/hooks\",\"issue_events_url\":\"https://api.github.com/repos/jian-en/imooc-requests/issues/events{/number}\",\"events_url\":\"https://api.github.com/repos/jian-en/imooc-requests/events\",\"assignees_url\":\"https://api.github.com/repos/jian-en/imooc-requests/assignees{/user}\",\"branches_url\":\"https://api.github.com/repos/jian-en/imooc-requests/branches{/branch}\",\"tags_url\":\"https://api.github.com/repos/jian-en/imooc-requests/tags\",\"blobs_url\":\"https://api.github.com/repos/jian-en/imooc-requests/git/blobs{/sha}\",\"git_tags_url\":\"https://api.github.com/repos/jian-en/imooc-requests/git/tags{/sha}\",\"git_refs_url\":\"https://api.github.com/repos/jian-en/imooc-requests/git/refs{/sha}\",\"trees_url\":\"https://api.github.com/repos/jian-en/imooc-requests/git/trees{/sha}\",\"statuses_url\":\"https://api.github.com/repos/jian-en/imooc-requests/statuses/{sha}\",\"languages_url\":\"https://api.github.com/repos/jian-en/imooc-requests/languages\",\"stargazers_url\":\"https://api.github.com/repos/jian-en/imooc-requests/stargazers\",\"contributors_url\":\"https://api.github.com/repos/jian-en/imooc-requests/contributors\",\"subscribers_url\":\"https://api.github.com/repos/jian-en/imooc-requests/subscribers\",\"subscription_url\":\"https://api.github.com/repos/jian-en/imooc-requests/subscription\",\"commits_url\":\"https://api.github.com/repos/jian-en/imooc-requests/commits{/sha}\",\"git_commits_url\":\"https://api.github.com/repos/jian-en/imooc-requests/git/commits{/sha}\",\"comments_url\":\"https://api.github.com/repos/jian-en/imooc-requests/comments{/number}\",\"issue_comment_url\":\"https://api.github.com/repos/jian-en/imooc-requests/issues/comments{/number}\",\"contents_url\":\"https://api.github.com/repos/jian-en/imooc-requests/contents/{+path}\",\"compare_url\":\"https://api.github.com/repos/jian-en/imooc-requests/compare/{base}...{head}\",\"merges_url\":\"https://api.github.com/repos/jian-en/imooc-requests/merges\",\"archive_url\":\"https://api.github.com/repos/jian-en/imooc-requests/{archive_format}{/ref}\",\"downloads_url\":\"https://api.github.com/repos/jian-en/imooc-requests/downloads\",\"issues_url\":\"https://api.github.com/repos/jian-en/imooc-requests/issues{/number}\",\"pulls_url\":\"https://api.github.com/repos/jian-en/imooc-requests/pulls{/number}\",\"milestones_url\":\"https://api.github.com/repos/jian-en/imooc-requests/milestones{/number}\",\"notifications_url\":\"https://api.github.com/repos/jian-en/imooc-requests/notifications{?since,all,participating}\",\"labels_url\":\"https://api.github.com/repos/jian-en/imooc-requests/labels{/name}\",\"releases_url\":\"https://api.github.com/repos/jian-en/imooc-requests/releases{/id}\",\"deployments_url\":\"https://api.github.com/repos/jian-en/imooc-requests/deployments\",\"created_at\":\"2016-06-25T10:24:29Z\",\"updated_at\":\"2021-08-13T16:44:19Z\",\"pushed_at\":\"2017-12-20T11:50:58Z\",\"git_url\":\"git://github.com/jian-en/imooc-requests.git\",\"ssh_url\":\"git@github.com:jian-en/imooc-requests.git\",\"clone_url\":\"https://github.com/jian-en/imooc-requests.git\",\"svn_url\":\"https://github.com/jian-en/imooc-requests\",\"homepage\":null,\"size\":7,\"stargazers_count\":81,\"watchers_count\":81,\"language\":\"Python\",\"has_issues\":true,\"has_projects\":true,\"has_downloads\":true,\"has_wiki\":true,\"has_pages\":false,\"forks_count\":61,\"mirror_url\":null,\"archived\":false,\"disabled\":false,\"open_issues_count\":0,\"license\":null,\"allow_forking\":true,\"is_template\":false,\"topics\":[],\"visibility\":\"public\",\"forks\":61,\"open_issues\":0,\"watchers\":81,\"default_branch\":\"master\",\"score\":1.0},{\"id\":2406348,\"node_id\":\"MDEwOlJlcG9zaXRvcnkyNDA2MzQ4\",\"name\":\"webob\",\"full_name\":\"Pylons/webob\",\"private\":false,\"owner\":{\"login\":\"Pylons\",\"id\":452227,\"node_id\":\"MDEyOk9yZ2FuaXphdGlvbjQ1MjIyNw==\",\"avatar_url\":\"https://avatars.githubusercontent.com/u/452227?v=4\",\"gravatar_id\":\"\",\"url\":\"https://api.github.com/users/Pylons\",\"html_url\":\"https://github.com/Pylons\",\"followers_url\":\"https://api.github.com/users/Pylons/followers\",\"following_url\":\"https://api.github.com/users/Pylons/following{/other_user}\",\"gists_url\":\"https://api.github.com/users/Pylons/gists{/gist_id}\",\"starred_url\":\"https://api.github.com/users/Pylons/starred{/owner}{/repo}\",\"subscriptions_url\":\"https://api.github.com/users/Pylons/subscriptions\",\"organizations_url\":\"https://api.github.com/users/Pylons/orgs\",\"repos_url\":\"https://api.github.com/users/Pylons/repos\",\"events_url\":\"https://api.github.com/users/Pylons/events{/privacy}\",\"received_events_url\":\"https://api.github.com/users/Pylons/received_events\",\"type\":\"Organization\",\"site_admin\":false},\"html_url\":\"https://github.com/Pylons/webob\",\"description\":\"WSGI request and response objects\",\"fork\":false,\"url\":\"https://api.github.com/repos/Pylons/webob\",\"forks_url\":\"https://api.github.com/repos/Pylons/webob/forks\",\"keys_url\":\"https://api.github.com/repos/Pylons/webob/keys{/key_id}\",\"collaborators_url\":\"https://api.github.com/repos/Pylons/webob/collaborators{/collaborator}\",\"teams_url\":\"https://api.github.com/repos/Pylons/webob/teams\",\"hooks_url\":\"https://api.github.com/repos/Pylons/webob/hooks\",\"issue_events_url\":\"https://api.github.com/repos/Pylons/webob/issues/events{/number}\",\"events_url\":\"https://api.github.com/repos/Pylons/webob/events\",\"assignees_url\":\"https://api.github.com/repos/Pylons/webob/assignees{/user}\",\"branches_url\":\"https://api.github.com/repos/Pylons/webob/branches{/branch}\",\"tags_url\":\"https://api.github.com/repos/Pylons/webob/tags\",\"blobs_url\":\"https://api.github.com/repos/Pylons/webob/git/blobs{/sha}\",\"git_tags_url\":\"https://api.github.com/repos/Pylons/webob/git/tags{/sha}\",\"git_refs_url\":\"https://api.github.com/repos/Pylons/webob/git/refs{/sha}\",\"trees_url\":\"https://api.github.com/repos/Pylons/webob/git/trees{/sha}\",\"statuses_url\":\"https://api.github.com/repos/Pylons/webob/statuses/{sha}\",\"languages_url\":\"https://api.github.com/repos/Pylons/webob/languages\",\"stargazers_url\":\"https://api.github.com/repos/Pylons/webob/stargazers\",\"contributors_url\":\"https://api.github.com/repos/Pylons/webob/contributors\",\"subscribers_url\":\"https://api.github.com/repos/Pylons/webob/subscribers\",\"subscription_url\":\"https://api.github.com/repos/Pylons/webob/subscription\",\"commits_url\":\"https://api.github.com/repos/Pylons/webob/commits{/sha}\",\"git_commits_url\":\"https://api.github.com/repos/Pylons/webob/git/commits{/sha}\",\"comments_url\":\"https://api.github.com/repos/Pylons/webob/comments{/number}\",\"issue_comment_url\":\"https://api.github.com/repos/Pylons/webob/issues/comments{/number}\",\"contents_url\":\"https://api.github.com/repos/Pylons/webob/contents/{+path}\",\"compare_url\":\"https://api.github.com/repos/Pylons/webob/compare/{base}...{head}\",\"merges_url\":\"https://api.github.com/repos/Pylons/webob/merges\",\"archive_url\":\"https://api.github.com/repos/Pylons/webob/{archive_format}{/ref}\",\"downloads_url\":\"https://api.github.com/repos/Pylons/webob/downloads\",\"issues_url\":\"https://api.github.com/repos/Pylons/webob/issues{/number}\",\"pulls_url\":\"https://api.github.com/repos/Pylons/webob/pulls{/number}\",\"milestones_url\":\"https://api.github.com/repos/Pylons/webob/milestones{/number}\",\"notifications_url\":\"https://api.github.com/repos/Pylons/webob/notifications{?since,all,participating}\",\"labels_url\":\"https://api.github.com/repos/Pylons/webob/labels{/name}\",\"releases_url\":\"https://api.github.com/repos/Pylons/webob/releases{/id}\",\"deployments_url\":\"https://api.github.com/repos/Pylons/webob/deployments\",\"created_at\":\"2011-09-17T19:32:24Z\",\"updated_at\":\"2021-11-03T06:45:29Z\",\"pushed_at\":\"2021-09-25T20:22:32Z\",\"git_url\":\"git://github.com/Pylons/webob.git\",\"ssh_url\":\"git@github.com:Pylons/webob.git\",\"clone_url\":\"https://github.com/Pylons/webob.git\",\"svn_url\":\"https://github.com/Pylons/webob\",\"homepage\":\"https://webob.org/\",\"size\":4344,\"stargazers_count\":410,\"watchers_count\":410,\"language\":\"Python\",\"has_issues\":true,\"has_projects\":true,\"has_downloads\":true,\"has_wiki\":true,\"has_pages\":false,\"forks_count\":180,\"mirror_url\":null,\"archived\":false,\"disabled\":false,\"open_issues_count\":28,\"license\":null,\"allow_forking\":true,\"is_template\":false,\"topics\":[],\"visibility\":\"public\",\"forks\":180,\"open_issues\":28,\"watchers\":410,\"default_branch\":\"master\",\"score\":1.0},{\"id\":28104322,\"node_id\":\"MDEwOlJlcG9zaXRvcnkyODEwNDMyMg==\",\"name\":\"requests-mock\",\"full_name\":\"jamielennox/requests-mock\",\"private\":false,\"owner\":{\"login\":\"jamielennox\",\"id\":416057,\"node_id\":\"MDQ6VXNlcjQxNjA1Nw==\",\"avatar_url\":\"https://avatars.githubusercontent.com/u/416057?v=4\",\"gravatar_id\":\"\",\"url\":\"https://api.github.com/users/jamielennox\",\"html_url\":\"https://github.com/jamielennox\",\"followers_url\":\"https://api.github.com/users/jamielennox/followers\",\"following_url\":\"https://api.github.com/users/jamielennox/following{/other_user}\",\"gists_url\":\"https://api.github.com/users/jamielennox/gists{/gist_id}\",\"starred_url\":\"https://api.github.com/users/jamielennox/starred{/owner}{/repo}\",\"subscriptions_url\":\"https://api.github.com/users/jamielennox/subscriptions\",\"organizations_url\":\"https://api.github.com/users/jamielennox/orgs\",\"repos_url\":\"https://api.github.com/users/jamielennox/repos\",\"events_url\":\"https://api.github.com/users/jamielennox/events{/privacy}\",\"received_events_url\":\"https://api.github.com/users/jamielennox/received_events\",\"type\":\"User\",\"site_admin\":false},\"html_url\":\"https://github.com/jamielennox/requests-mock\",\"description\":\"Mocked responses for the requests library\",\"fork\":false,\"url\":\"https://api.github.com/repos/jamielennox/requests-mock\",\"forks_url\":\"https://api.github.com/repos/jamielennox/requests-mock/forks\",\"keys_url\":\"https://api.github.com/repos/jamielennox/requests-mock/keys{/key_id}\",\"collaborators_url\":\"https://api.github.com/repos/jamielennox/requests-mock/collaborators{/collaborator}\",\"teams_url\":\"https://api.github.com/repos/jamielennox/requests-mock/teams\",\"hooks_url\":\"https://api.github.com/repos/jamielennox/requests-mock/hooks\",\"issue_events_url\":\"https://api.github.com/repos/jamielennox/requests-mock/issues/events{/number}\",\"events_url\":\"https://api.github.com/repos/jamielennox/requests-mock/events\",\"assignees_url\":\"https://api.github.com/repos/jamielennox/requests-mock/assignees{/user}\",\"branches_url\":\"https://api.github.com/repos/jamielennox/requests-mock/branches{/branch}\",\"tags_url\":\"https://api.github.com/repos/jamielennox/requests-mock/tags\",\"blobs_url\":\"https://api.github.com/repos/jamielennox/requests-mock/git/blobs{/sha}\",\"git_tags_url\":\"https://api.github.com/repos/jamielennox/requests-mock/git/tags{/sha}\",\"git_refs_url\":\"https://api.github.com/repos/jamielennox/requests-mock/git/refs{/sha}\",\"trees_url\":\"https://api.github.com/repos/jamielennox/requests-mock/git/trees{/sha}\",\"statuses_url\":\"https://api.github.com/repos/jamielennox/requests-mock/statuses/{sha}\",\"languages_url\":\"https://api.github.com/repos/jamielennox/requests-mock/languages\",\"stargazers_url\":\"https://api.github.com/repos/jamielennox/requests-mock/stargazers\",\"contributors_url\":\"https://api.github.com/repos/jamielennox/requests-mock/contributors\",\"subscribers_url\":\"https://api.github.com/repos/jamielennox/requests-mock/subscribers\",\"subscription_url\":\"https://api.github.com/repos/jamielennox/requests-mock/subscription\",\"commits_url\":\"https://api.github.com/repos/jamielennox/requests-mock/commits{/sha}\",\"git_commits_url\":\"https://api.github.com/repos/jamielennox/requests-mock/git/commits{/sha}\",\"comments_url\":\"https://api.github.com/repos/jamielennox/requests-mock/comments{/number}\",\"issue_comment_url\":\"https://api.github.com/repos/jamielennox/requests-mock/issues/comments{/number}\",\"contents_url\":\"https://api.github.com/repos/jamielennox/requests-mock/contents/{+path}\",\"compare_url\":\"https://api.github.com/repos/jamielennox/requests-mock/compare/{base}...{head}\",\"merges_url\":\"https://api.github.com/repos/jamielennox/requests-mock/merges\",\"archive_url\":\"https://api.github.com/repos/jamielennox/requests-mock/{archive_format}{/ref}\",\"downloads_url\":\"https://api.github.com/repos/jamielennox/requests-mock/downloads\",\"issues_url\":\"https://api.github.com/repos/jamielennox/requests-mock/issues{/number}\",\"pulls_url\":\"https://api.github.com/repos/jamielennox/requests-mock/pulls{/number}\",\"milestones_url\":\"https://api.github.com/repos/jamielennox/requests-mock/milestones{/number}\",\"notifications_url\":\"https://api.github.com/repos/jamielennox/requests-mock/notifications{?since,all,participating}\",\"labels_url\":\"https://api.github.com/repos/jamielennox/requests-mock/labels{/name}\",\"releases_url\":\"https://api.github.com/repos/jamielennox/requests-mock/releases{/id}\",\"deployments_url\":\"https://api.github.com/repos/jamielennox/requests-mock/deployments\",\"created_at\":\"2014-12-16T20:06:51Z\",\"updated_at\":\"2021-11-01T18:38:28Z\",\"pushed_at\":\"2021-10-25T07:10:36Z\",\"git_url\":\"git://github.com/jamielennox/requests-mock.git\",\"ssh_url\":\"git@github.com:jamielennox/requests-mock.git\",\"clone_url\":\"https://github.com/jamielennox/requests-mock.git\",\"svn_url\":\"https://github.com/jamielennox/requests-mock\",\"homepage\":\"https://requests-mock.readthedocs.io\",\"size\":311,\"stargazers_count\":266,\"watchers_count\":266,\"language\":\"Python\",\"has_issues\":true,\"has_projects\":false,\"has_downloads\":false,\"has_wiki\":false,\"has_pages\":false,\"forks_count\":50,\"mirror_url\":null,\"archived\":false,\"disabled\":false,\"open_issues_count\":41,\"license\":{\"key\":\"apache-2.0\",\"name\":\"Apache License 2.0\",\"spdx_id\":\"Apache-2.0\",\"url\":\"https://api.github.com/licenses/apache-2.0\",\"node_id\":\"MDc6TGljZW5zZTI=\"},\"allow_forking\":true,\"is_template\":false,\"topics\":[],\"visibility\":\"public\",\"forks\":50,\"open_issues\":41,\"watchers\":266,\"default_branch\":\"master\",\"score\":1.0},{\"id\":95916519,\"node_id\":\"MDEwOlJlcG9zaXRvcnk5NTkxNjUxOQ==\",\"name\":\"requestium\",\"full_name\":\"tryolabs/requestium\",\"private\":false,\"owner\":{\"login\":\"tryolabs\",\"id\":591820,\"node_id\":\"MDEyOk9yZ2FuaXphdGlvbjU5MTgyMA==\",\"avatar_url\":\"https://avatars.githubusercontent.com/u/591820?v=4\",\"gravatar_id\":\"\",\"url\":\"https://api.github.com/users/tryolabs\",\"html_url\":\"https://github.com/tryolabs\",\"followers_url\":\"https://api.github.com/users/tryolabs/followers\",\"following_url\":\"https://api.github.com/users/tryolabs/following{/other_user}\",\"gists_url\":\"https://api.github.com/users/tryolabs/gists{/gist_id}\",\"starred_url\":\"https://api.github.com/users/tryolabs/starred{/owner}{/repo}\",\"subscriptions_url\":\"https://api.github.com/users/tryolabs/subscriptions\",\"organizations_url\":\"https://api.github.com/users/tryolabs/orgs\",\"repos_url\":\"https://api.github.com/users/tryolabs/repos\",\"events_url\":\"https://api.github.com/users/tryolabs/events{/privacy}\",\"received_events_url\":\"https://api.github.com/users/tryolabs/received_events\",\"type\":\"Organization\",\"site_admin\":false},\"html_url\":\"https://github.com/tryolabs/requestium\",\"description\":\"Integration layer between Requests and Selenium for automation of web actions.\",\"fork\":false,\"url\":\"https://api.github.com/repos/tryolabs/requestium\",\"forks_url\":\"https://api.github.com/repos/tryolabs/requestium/forks\",\"keys_url\":\"https://api.github.com/repos/tryolabs/requestium/keys{/key_id}\",\"collaborators_url\":\"https://api.github.com/repos/tryolabs/requestium/collaborators{/collaborator}\",\"teams_url\":\"https://api.github.com/repos/tryolabs/requestium/teams\",\"hooks_url\":\"https://api.github.com/repos/tryolabs/requestium/hooks\",\"issue_events_url\":\"https://api.github.com/repos/tryolabs/requestium/issues/events{/number}\",\"events_url\":\"https://api.github.com/repos/tryolabs/requestium/events\",\"assignees_url\":\"https://api.github.com/repos/tryolabs/requestium/assignees{/user}\",\"branches_url\":\"https://api.github.com/repos/tryolabs/requestium/branches{/branch}\",\"tags_url\":\"https://api.github.com/repos/tryolabs/requestium/tags\",\"blobs_url\":\"https://api.github.com/repos/tryolabs/requestium/git/blobs{/sha}\",\"git_tags_url\":\"https://api.github.com/repos/tryolabs/requestium/git/tags{/sha}\",\"git_refs_url\":\"https://api.github.com/repos/tryolabs/requestium/git/refs{/sha}\",\"trees_url\":\"https://api.github.com/repos/tryolabs/requestium/git/trees{/sha}\",\"statuses_url\":\"https://api.github.com/repos/tryolabs/requestium/statuses/{sha}\",\"languages_url\":\"https://api.github.com/repos/tryolabs/requestium/languages\",\"stargazers_url\":\"https://api.github.com/repos/tryolabs/requestium/stargazers\",\"contributors_url\":\"https://api.github.com/repos/tryolabs/requestium/contributors\",\"subscribers_url\":\"https://api.github.com/repos/tryolabs/requestium/subscribers\",\"subscription_url\":\"https://api.github.com/repos/tryolabs/requestium/subscription\",\"commits_url\":\"https://api.github.com/repos/tryolabs/requestium/commits{/sha}\",\"git_commits_url\":\"https://api.github.com/repos/tryolabs/requestium/git/commits{/sha}\",\"comments_url\":\"https://api.github.com/repos/tryolabs/requestium/comments{/number}\",\"issue_comment_url\":\"https://api.github.com/repos/tryolabs/requestium/issues/comments{/number}\",\"contents_url\":\"https://api.github.com/repos/tryolabs/requestium/contents/{+path}\",\"compare_url\":\"https://api.github.com/repos/tryolabs/requestium/compare/{base}...{head}\",\"merges_url\":\"https://api.github.com/repos/tryolabs/requestium/merges\",\"archive_url\":\"https://api.github.com/repos/tryolabs/requestium/{archive_format}{/ref}\",\"downloads_url\":\"https://api.github.com/repos/tryolabs/requestium/downloads\",\"issues_url\":\"https://api.github.com/repos/tryolabs/requestium/issues{/number}\",\"pulls_url\":\"https://api.github.com/repos/tryolabs/requestium/pulls{/number}\",\"milestones_url\":\"https://api.github.com/repos/tryolabs/requestium/milestones{/number}\",\"notifications_url\":\"https://api.github.com/repos/tryolabs/requestium/notifications{?since,all,participating}\",\"labels_url\":\"https://api.github.com/repos/tryolabs/requestium/labels{/name}\",\"releases_url\":\"https://api.github.com/repos/tryolabs/requestium/releases{/id}\",\"deployments_url\":\"https://api.github.com/repos/tryolabs/requestium/deployments\",\"created_at\":\"2017-06-30T19:07:16Z\",\"updated_at\":\"2021-11-01T21:29:15Z\",\"pushed_at\":\"2019-10-17T02:58:04Z\",\"git_url\":\"git://github.com/tryolabs/requestium.git\",\"ssh_url\":\"git@github.com:tryolabs/requestium.git\",\"clone_url\":\"https://github.com/tryolabs/requestium.git\",\"svn_url\":\"https://github.com/tryolabs/requestium\",\"homepage\":\"\",\"size\":78,\"stargazers_count\":1617,\"watchers_count\":1617,\"language\":\"Python\",\"has_issues\":true,\"has_projects\":true,\"has_downloads\":true,\"has_wiki\":true,\"has_pages\":false,\"forks_count\":134,\"mirror_url\":null,\"archived\":false,\"disabled\":false,\"open_issues_count\":20,\"license\":{\"key\":\"bsd-3-clause\",\"name\":\"BSD 3-Clause \\\\\"New\\\\\" or \\\\\"Revised\\\\\" License\",\"spdx_id\":\"BSD-3-Clause\",\"url\":\"https://api.github.com/licenses/bsd-3-clause\",\"node_id\":\"MDc6TGljZW5zZTU=\"},\"allow_forking\":true,\"is_template\":false,\"topics\":[\"interface\",\"python\",\"requests\",\"selenium\",\"web-automation\"],\"visibility\":\"public\",\"forks\":134,\"open_issues\":20,\"watchers\":1617,\"default_branch\":\"master\",\"score\":1.0},{\"id\":6710117,\"node_id\":\"MDEwOlJlcG9zaXRvcnk2NzEwMTE3\",\"name\":\"requests-kerberos\",\"full_name\":\"requests/requests-kerberos\",\"private\":false,\"owner\":{\"login\":\"requests\",\"id\":2805331,\"node_id\":\"MDEyOk9yZ2FuaXphdGlvbjI4MDUzMzE=\",\"avatar_url\":\"https://avatars.githubusercontent.com/u/2805331?v=4\",\"gravatar_id\":\"\",\"url\":\"https://api.github.com/users/requests\",\"html_url\":\"https://github.com/requests\",\"followers_url\":\"https://api.github.com/users/requests/followers\",\"following_url\":\"https://api.github.com/users/requests/following{/other_user}\",\"gists_url\":\"https://api.github.com/users/requests/gists{/gist_id}\",\"starred_url\":\"https://api.github.com/users/requests/starred{/owner}{/repo}\",\"subscriptions_url\":\"https://api.github.com/users/requests/subscriptions\",\"organizations_url\":\"https://api.github.com/users/requests/orgs\",\"repos_url\":\"https://api.github.com/users/requests/repos\",\"events_url\":\"https://api.github.com/users/requests/events{/privacy}\",\"received_events_url\":\"https://api.github.com/users/requests/received_events\",\"type\":\"Organization\",\"site_admin\":false},\"html_url\":\"https://github.com/requests/requests-kerberos\",\"description\":\"An authentication handler for using Kerberos with Python Requests.\",\"fork\":false,\"url\":\"https://api.github.com/repos/requests/requests-kerberos\",\"forks_url\":\"https://api.github.com/repos/requests/requests-kerberos/forks\",\"keys_url\":\"https://api.github.com/repos/requests/requests-kerberos/keys{/key_id}\",\"collaborators_url\":\"https://api.github.com/repos/requests/requests-kerberos/collaborators{/collaborator}\",\"teams_url\":\"https://api.github.com/repos/requests/requests-kerberos/teams\",\"hooks_url\":\"https://api.github.com/repos/requests/requests-kerberos/hooks\",\"issue_events_url\":\"https://api.github.com/repos/requests/requests-kerberos/issues/events{/number}\",\"events_url\":\"https://api.github.com/repos/requests/requests-kerberos/events\",\"assignees_url\":\"https://api.github.com/repos/requests/requests-kerberos/assignees{/user}\",\"branches_url\":\"https://api.github.com/repos/requests/requests-kerberos/branches{/branch}\",\"tags_url\":\"https://api.github.com/repos/requests/requests-kerberos/tags\",\"blobs_url\":\"https://api.github.com/repos/requests/requests-kerberos/git/blobs{/sha}\",\"git_tags_url\":\"https://api.github.com/repos/requests/requests-kerberos/git/tags{/sha}\",\"git_refs_url\":\"https://api.github.com/repos/requests/requests-kerberos/git/refs{/sha}\",\"trees_url\":\"https://api.github.com/repos/requests/requests-kerberos/git/trees{/sha}\",\"statuses_url\":\"https://api.github.com/repos/requests/requests-kerberos/statuses/{sha}\",\"languages_url\":\"https://api.github.com/repos/requests/requests-kerberos/languages\",\"stargazers_url\":\"https://api.github.com/repos/requests/requests-kerberos/stargazers\",\"contributors_url\":\"https://api.github.com/repos/requests/requests-kerberos/contributors\",\"subscribers_url\":\"https://api.github.com/repos/requests/requests-kerberos/subscribers\",\"subscription_url\":\"https://api.github.com/repos/requests/requests-kerberos/subscription\",\"commits_url\":\"https://api.github.com/repos/requests/requests-kerberos/commits{/sha}\",\"git_commits_url\":\"https://api.github.com/repos/requests/requests-kerberos/git/commits{/sha}\",\"comments_url\":\"https://api.github.com/repos/requests/requests-kerberos/comments{/number}\",\"issue_comment_url\":\"https://api.github.com/repos/requests/requests-kerberos/issues/comments{/number}\",\"contents_url\":\"https://api.github.com/repos/requests/requests-kerberos/contents/{+path}\",\"compare_url\":\"https://api.github.com/repos/requests/requests-kerberos/compare/{base}...{head}\",\"merges_url\":\"https://api.github.com/repos/requests/requests-kerberos/merges\",\"archive_url\":\"https://api.github.com/repos/requests/requests-kerberos/{archive_format}{/ref}\",\"downloads_url\":\"https://api.github.com/repos/requests/requests-kerberos/downloads\",\"issues_url\":\"https://api.github.com/repos/requests/requests-kerberos/issues{/number}\",\"pulls_url\":\"https://api.github.com/repos/requests/requests-kerberos/pulls{/number}\",\"milestones_url\":\"https://api.github.com/repos/requests/requests-kerberos/milestones{/number}\",\"notifications_url\":\"https://api.github.com/repos/requests/requests-kerberos/notifications{?since,all,participating}\",\"labels_url\":\"https://api.github.com/repos/requests/requests-kerberos/labels{/name}\",\"releases_url\":\"https://api.github.com/repos/requests/requests-kerberos/releases{/id}\",\"deployments_url\":\"https://api.github.com/repos/requests/requests-kerberos/deployments\",\"created_at\":\"2012-11-15T19:22:30Z\",\"updated_at\":\"2021-11-03T00:44:25Z\",\"pushed_at\":\"2021-11-03T00:44:49Z\",\"git_url\":\"git://github.com/requests/requests-kerberos.git\",\"ssh_url\":\"git@github.com:requests/requests-kerberos.git\",\"clone_url\":\"https://github.com/requests/requests-kerberos.git\",\"svn_url\":\"https://github.com/requests/requests-kerberos\",\"homepage\":null,\"size\":177,\"stargazers_count\":234,\"watchers_count\":234,\"language\":\"Python\",\"has_issues\":true,\"has_projects\":true,\"has_downloads\":true,\"has_wiki\":true,\"has_pages\":false,\"forks_count\":95,\"mirror_url\":null,\"archived\":false,\"disabled\":false,\"open_issues_count\":9,\"license\":{\"key\":\"isc\",\"name\":\"ISC License\",\"spdx_id\":\"ISC\",\"url\":\"https://api.github.com/licenses/isc\",\"node_id\":\"MDc6TGljZW5zZTEw\"},\"allow_forking\":true,\"is_template\":false,\"topics\":[\"kerberos-authentication\",\"python\",\"python-requests\"],\"visibility\":\"public\",\"forks\":95,\"open_issues\":9,\"watchers\":234,\"default_branch\":\"master\",\"score\":1.0},{\"id\":2201158,\"node_id\":\"MDEwOlJlcG9zaXRvcnkyMjAxMTU4\",\"name\":\"robotframework-httplibrary\",\"full_name\":\"peritus/robotframework-httplibrary\",\"private\":false,\"owner\":{\"login\":\"peritus\",\"id\":11022,\"node_id\":\"MDQ6VXNlcjExMDIy\",\"avatar_url\":\"https://avatars.githubusercontent.com/u/11022?v=4\",\"gravatar_id\":\"\",\"url\":\"https://api.github.com/users/peritus\",\"html_url\":\"https://github.com/peritus\",\"followers_url\":\"https://api.github.com/users/peritus/followers\",\"following_url\":\"https://api.github.com/users/peritus/following{/other_user}\",\"gists_url\":\"https://api.github.com/users/peritus/gists{/gist_id}\",\"starred_url\":\"https://api.github.com/users/peritus/starred{/owner}{/repo}\",\"subscriptions_url\":\"https://api.github.com/users/peritus/subscriptions\",\"organizations_url\":\"https://api.github.com/users/peritus/orgs\",\"repos_url\":\"https://api.github.com/users/peritus/repos\",\"events_url\":\"https://api.github.com/users/peritus/events{/privacy}\",\"received_events_url\":\"https://api.github.com/users/peritus/received_events\",\"type\":\"User\",\"site_admin\":false},\"html_url\":\"https://github.com/peritus/robotframework-httplibrary\",\"description\":\"Robot Framework keywords for HTTP requests\",\"fork\":false,\"url\":\"https://api.github.com/repos/peritus/robotframework-httplibrary\",\"forks_url\":\"https://api.github.com/repos/peritus/robotframework-httplibrary/forks\",\"keys_url\":\"https://api.github.com/repos/peritus/robotframework-httplibrary/keys{/key_id}\",\"collaborators_url\":\"https://api.github.com/repos/peritus/robotframework-httplibrary/collaborators{/collaborator}\",\"teams_url\":\"https://api.github.com/repos/peritus/robotframework-httplibrary/teams\",\"hooks_url\":\"https://api.github.com/repos/peritus/robotframework-httplibrary/hooks\",\"issue_events_url\":\"https://api.github.com/repos/peritus/robotframework-httplibrary/issues/events{/number}\",\"events_url\":\"https://api.github.com/repos/peritus/robotframework-httplibrary/events\",\"assignees_url\":\"https://api.github.com/repos/peritus/robotframework-httplibrary/assignees{/user}\",\"branches_url\":\"https://api.github.com/repos/peritus/robotframework-httplibrary/branches{/branch}\",\"tags_url\":\"https://api.github.com/repos/peritus/robotframework-httplibrary/tags\",\"blobs_url\":\"https://api.github.com/repos/peritus/robotframework-httplibrary/git/blobs{/sha}\",\"git_tags_url\":\"https://api.github.com/repos/peritus/robotframework-httplibrary/git/tags{/sha}\",\"git_refs_url\":\"https://api.github.com/repos/peritus/robotframework-httplibrary/git/refs{/sha}\",\"trees_url\":\"https://api.github.com/repos/peritus/robotframework-httplibrary/git/trees{/sha}\",\"statuses_url\":\"https://api.github.com/repos/peritus/robotframework-httplibrary/statuses/{sha}\",\"languages_url\":\"https://api.github.com/repos/peritus/robotframework-httplibrary/languages\",\"stargazers_url\":\"https://api.github.com/repos/peritus/robotframework-httplibrary/stargazers\",\"contributors_url\":\"https://api.github.com/repos/peritus/robotframework-httplibrary/contributors\",\"subscribers_url\":\"https://api.github.com/repos/peritus/robotframework-httplibrary/subscribers\",\"subscription_url\":\"https://api.github.com/repos/peritus/robotframework-httplibrary/subscription\",\"commits_url\":\"https://api.github.com/repos/peritus/robotframework-httplibrary/commits{/sha}\",\"git_commits_url\":\"https://api.github.com/repos/peritus/robotframework-httplibrary/git/commits{/sha}\",\"comments_url\":\"https://api.github.com/repos/peritus/robotframework-httplibrary/comments{/number}\",\"issue_comment_url\":\"https://api.github.com/repos/peritus/robotframework-httplibrary/issues/comments{/number}\",\"contents_url\":\"https://api.github.com/repos/peritus/robotframework-httplibrary/contents/{+path}\",\"compare_url\":\"https://api.github.com/repos/peritus/robotframework-httplibrary/compare/{base}...{head}\",\"merges_url\":\"https://api.github.com/repos/peritus/robotframework-httplibrary/merges\",\"archive_url\":\"https://api.github.com/repos/peritus/robotframework-httplibrary/{archive_format}{/ref}\",\"downloads_url\":\"https://api.github.com/repos/peritus/robotframework-httplibrary/downloads\",\"issues_url\":\"https://api.github.com/repos/peritus/robotframework-httplibrary/issues{/number}\",\"pulls_url\":\"https://api.github.com/repos/peritus/robotframework-httplibrary/pulls{/number}\",\"milestones_url\":\"https://api.github.com/repos/peritus/robotframework-httplibrary/milestones{/number}\",\"notifications_url\":\"https://api.github.com/repos/peritus/robotframework-httplibrary/notifications{?since,all,participating}\",\"labels_url\":\"https://api.github.com/repos/peritus/robotframework-httplibrary/labels{/name}\",\"releases_url\":\"https://api.github.com/repos/peritus/robotframework-httplibrary/releases{/id}\",\"deployments_url\":\"https://api.github.com/repos/peritus/robotframework-httplibrary/deployments\",\"created_at\":\"2011-08-13T10:23:56Z\",\"updated_at\":\"2021-03-10T08:24:09Z\",\"pushed_at\":\"2020-12-17T12:30:22Z\",\"git_url\":\"git://github.com/peritus/robotframework-httplibrary.git\",\"ssh_url\":\"git@github.com:peritus/robotframework-httplibrary.git\",\"clone_url\":\"https://github.com/peritus/robotframework-httplibrary.git\",\"svn_url\":\"https://github.com/peritus/robotframework-httplibrary\",\"homepage\":\"http://peritus.github.com/robotframework-httplibrary/\",\"size\":607,\"stargazers_count\":76,\"watchers_count\":76,\"language\":\"Python\",\"has_issues\":true,\"has_projects\":true,\"has_downloads\":true,\"has_wiki\":true,\"has_pages\":true,\"forks_count\":78,\"mirror_url\":null,\"archived\":false,\"disabled\":false,\"open_issues_count\":41,\"license\":null,\"allow_forking\":true,\"is_template\":false,\"topics\":[],\"visibility\":\"public\",\"forks\":78,\"open_issues\":41,\"watchers\":76,\"default_branch\":\"master\",\"score\":1.0}]}'"
            ]
          },
          "metadata": {},
          "execution_count": 12
        }
      ]
    },
    {
      "cell_type": "code",
      "metadata": {
        "pycharm": {
          "name": "#%%\n"
        },
        "id": "UqVTa6Sv5uHi"
      },
      "source": [
        "response = requests.post('https://httpbin.org/post', json={'key':'value'})"
      ],
      "execution_count": null,
      "outputs": []
    },
    {
      "cell_type": "code",
      "metadata": {
        "pycharm": {
          "name": "#%%\n"
        },
        "id": "T9pZ7g7I5uHj"
      },
      "source": [
        "json_response = response.json()"
      ],
      "execution_count": null,
      "outputs": []
    },
    {
      "cell_type": "code",
      "metadata": {
        "id": "EZooscw5GzHW",
        "colab": {
          "base_uri": "https://localhost:8080/"
        },
        "outputId": "6dcdaa67-6e04-4f32-8ce0-3885f3fee46e"
      },
      "source": [
        "response.status_code"
      ],
      "execution_count": null,
      "outputs": [
        {
          "output_type": "execute_result",
          "data": {
            "text/plain": [
              "200"
            ]
          },
          "metadata": {},
          "execution_count": 18
        }
      ]
    },
    {
      "cell_type": "code",
      "metadata": {
        "pycharm": {
          "name": "#%%\n"
        },
        "colab": {
          "base_uri": "https://localhost:8080/",
          "height": 35
        },
        "id": "JRddgJzY5uHj",
        "outputId": "0d22ece1-c1cb-43bc-c8a0-05a4f9b0fd47"
      },
      "source": [
        "json_response['data']"
      ],
      "execution_count": null,
      "outputs": [
        {
          "output_type": "execute_result",
          "data": {
            "application/vnd.google.colaboratory.intrinsic+json": {
              "type": "string"
            },
            "text/plain": [
              "'{\"key\": \"value\"}'"
            ]
          },
          "metadata": {},
          "execution_count": 15
        }
      ]
    },
    {
      "cell_type": "code",
      "metadata": {
        "pycharm": {
          "name": "#%%\n"
        },
        "colab": {
          "base_uri": "https://localhost:8080/",
          "height": 35
        },
        "id": "62HIe-Tl5uHj",
        "outputId": "40bb59ef-ef63-45db-ecee-a8b885b22025"
      },
      "source": [
        "json_response['headers']['Content-Type']"
      ],
      "execution_count": null,
      "outputs": [
        {
          "output_type": "execute_result",
          "data": {
            "application/vnd.google.colaboratory.intrinsic+json": {
              "type": "string"
            },
            "text/plain": [
              "'application/json'"
            ]
          },
          "metadata": {},
          "execution_count": 16
        }
      ]
    },
    {
      "cell_type": "code",
      "metadata": {
        "colab": {
          "base_uri": "https://localhost:8080/",
          "height": 35
        },
        "id": "0pTTfaKc5uHj",
        "outputId": "3e3aca77-79dc-4f36-cde1-7245593f7f3e"
      },
      "source": [
        "url = 'http://google.com/favicon.ico'\n",
        "r = requests.get(url, allow_redirects=True)\n",
        "open('google.ico', 'wb').write(r.content)\n",
        "r.content\n",
        "r.headers.get('content-type')"
      ],
      "execution_count": 21,
      "outputs": [
        {
          "output_type": "execute_result",
          "data": {
            "application/vnd.google.colaboratory.intrinsic+json": {
              "type": "string"
            },
            "text/plain": [
              "'image/x-icon'"
            ]
          },
          "metadata": {},
          "execution_count": 21
        }
      ]
    },
    {
      "cell_type": "code",
      "metadata": {
        "id": "_9dasG4P5uHj",
        "colab": {
          "base_uri": "https://localhost:8080/"
        },
        "outputId": "7e30508b-2225-4696-ab13-dee5c0e4aa66"
      },
      "source": [
        "def is_downloadable(url):\n",
        "    \"\"\"\n",
        "    Does the url contain a downloadable resource\n",
        "    \"\"\"\n",
        "    h = requests.head(url, allow_redirects=True)\n",
        "    header = h.headers\n",
        "    content_type = header.get('content-type')\n",
        "    print(content_type)\n",
        "    if 'text' in content_type.lower():\n",
        "        return False\n",
        "    if 'html' in content_type.lower():\n",
        "        return False\n",
        "    return True\n",
        "\n",
        "print(is_downloadable('https://www.youtube.com/watch?v=9bZkp7q19f0'))\n",
        "print(is_downloadable('http://google.com/favicon.ico'))"
      ],
      "execution_count": 23,
      "outputs": [
        {
          "output_type": "stream",
          "name": "stdout",
          "text": [
            "text/html; charset=utf-8\n",
            "False\n",
            "image/x-icon\n",
            "True\n"
          ]
        }
      ]
    },
    {
      "cell_type": "markdown",
      "metadata": {
        "collapsed": false,
        "id": "vnlYUIvc5uHk"
      },
      "source": [
        "# Генераторы\n",
        "\n",
        "Генератор это функция исполнение которой приостанавливается, а не прекращается при возврате значения. Выполнение функции можно продолжить с того же места."
      ]
    },
    {
      "cell_type": "code",
      "metadata": {
        "pycharm": {
          "name": "#%%\n"
        },
        "id": "5UEU68gX5uHk",
        "colab": {
          "base_uri": "https://localhost:8080/",
          "height": 296
        },
        "outputId": "3ed10fe4-e1e1-4223-90cd-73c6c25baf0e"
      },
      "source": [
        "def f(x):\n",
        "    print('Generator enter')\n",
        "    yield x\n",
        "    x += 2\n",
        "    yield x\n",
        "    print('Generator Done')\n",
        "\n",
        "print('initial : type(f)', type(f))\n",
        "a = f(5)\n",
        "print('object created : type(a)', type(a))\n",
        "print('first', next(a))\n",
        "print('second', next(a))\n",
        "print('third', next(a))\n"
      ],
      "execution_count": 25,
      "outputs": [
        {
          "output_type": "stream",
          "name": "stdout",
          "text": [
            "initial : type(f) <class 'function'>\n",
            "object created : type(a) <class 'generator'>\n",
            "Generator enter\n",
            "first 5\n",
            "second 7\n",
            "Generator Done\n"
          ]
        },
        {
          "output_type": "error",
          "ename": "StopIteration",
          "evalue": "ignored",
          "traceback": [
            "\u001b[0;31m---------------------------------------------------------------------------\u001b[0m",
            "\u001b[0;31mStopIteration\u001b[0m                             Traceback (most recent call last)",
            "\u001b[0;32m<ipython-input-25-1d7ad7c2076f>\u001b[0m in \u001b[0;36m<module>\u001b[0;34m()\u001b[0m\n\u001b[1;32m     11\u001b[0m \u001b[0mprint\u001b[0m\u001b[0;34m(\u001b[0m\u001b[0;34m'first'\u001b[0m\u001b[0;34m,\u001b[0m \u001b[0mnext\u001b[0m\u001b[0;34m(\u001b[0m\u001b[0ma\u001b[0m\u001b[0;34m)\u001b[0m\u001b[0;34m)\u001b[0m\u001b[0;34m\u001b[0m\u001b[0;34m\u001b[0m\u001b[0m\n\u001b[1;32m     12\u001b[0m \u001b[0mprint\u001b[0m\u001b[0;34m(\u001b[0m\u001b[0;34m'second'\u001b[0m\u001b[0;34m,\u001b[0m \u001b[0mnext\u001b[0m\u001b[0;34m(\u001b[0m\u001b[0ma\u001b[0m\u001b[0;34m)\u001b[0m\u001b[0;34m)\u001b[0m\u001b[0;34m\u001b[0m\u001b[0;34m\u001b[0m\u001b[0m\n\u001b[0;32m---> 13\u001b[0;31m \u001b[0mprint\u001b[0m\u001b[0;34m(\u001b[0m\u001b[0;34m'third'\u001b[0m\u001b[0;34m,\u001b[0m \u001b[0mnext\u001b[0m\u001b[0;34m(\u001b[0m\u001b[0ma\u001b[0m\u001b[0;34m)\u001b[0m\u001b[0;34m)\u001b[0m\u001b[0;34m\u001b[0m\u001b[0;34m\u001b[0m\u001b[0m\n\u001b[0m",
            "\u001b[0;31mStopIteration\u001b[0m: "
          ]
        }
      ]
    },
    {
      "cell_type": "code",
      "metadata": {
        "pycharm": {
          "name": "#%%\n"
        },
        "id": "pPswP4045uHk",
        "colab": {
          "base_uri": "https://localhost:8080/",
          "height": 279
        },
        "outputId": "eba801e1-feb9-4608-d703-32cff241148b"
      },
      "source": [
        "def squares(size):\n",
        "    for i in range(size):\n",
        "        yield i ** 2\n",
        "\n",
        "gen = squares(5)\n",
        "\n",
        "# next(gen)\n",
        "# print(list(gen))\n",
        "# print(list(gen))\n",
        "\n",
        "for i in range(6):\n",
        "  print(next(gen))"
      ],
      "execution_count": 40,
      "outputs": [
        {
          "output_type": "stream",
          "name": "stdout",
          "text": [
            "0\n",
            "1\n",
            "4\n",
            "9\n",
            "16\n"
          ]
        },
        {
          "output_type": "error",
          "ename": "StopIteration",
          "evalue": "ignored",
          "traceback": [
            "\u001b[0;31m---------------------------------------------------------------------------\u001b[0m",
            "\u001b[0;31mStopIteration\u001b[0m                             Traceback (most recent call last)",
            "\u001b[0;32m<ipython-input-40-fc5f0e49de95>\u001b[0m in \u001b[0;36m<module>\u001b[0;34m()\u001b[0m\n\u001b[1;32m     10\u001b[0m \u001b[0;34m\u001b[0m\u001b[0m\n\u001b[1;32m     11\u001b[0m \u001b[0;32mfor\u001b[0m \u001b[0mi\u001b[0m \u001b[0;32min\u001b[0m \u001b[0mrange\u001b[0m\u001b[0;34m(\u001b[0m\u001b[0;36m6\u001b[0m\u001b[0;34m)\u001b[0m\u001b[0;34m:\u001b[0m\u001b[0;34m\u001b[0m\u001b[0;34m\u001b[0m\u001b[0m\n\u001b[0;32m---> 12\u001b[0;31m   \u001b[0mprint\u001b[0m\u001b[0;34m(\u001b[0m\u001b[0mnext\u001b[0m\u001b[0;34m(\u001b[0m\u001b[0mgen\u001b[0m\u001b[0;34m)\u001b[0m\u001b[0;34m)\u001b[0m\u001b[0;34m\u001b[0m\u001b[0;34m\u001b[0m\u001b[0m\n\u001b[0m",
            "\u001b[0;31mStopIteration\u001b[0m: "
          ]
        }
      ]
    },
    {
      "cell_type": "code",
      "metadata": {
        "pycharm": {
          "name": "#%%\n"
        },
        "id": "d6XW4WAB5uHk"
      },
      "source": [
        "def unique(seq):\n",
        "    seen = set()\n",
        "    for elem in seq:\n",
        "        if elem not in seen:\n",
        "            seen.add(elem)\n",
        "            yield elem\n",
        "\n",
        "list(unique([1, 2, 3, 1, 2, 4]))"
      ],
      "execution_count": null,
      "outputs": []
    },
    {
      "cell_type": "markdown",
      "metadata": {
        "collapsed": false,
        "id": "C8qK5Jer5uHl"
      },
      "source": [
        "### Генераторы map и filter"
      ]
    },
    {
      "cell_type": "code",
      "metadata": {
        "pycharm": {
          "name": "#%%\n"
        },
        "id": "PE6MslLf5uHl"
      },
      "source": [
        "def pmap(function, iterable):\n",
        "    for i in iterable:\n",
        "        yield function(i)\n",
        "\n",
        "def pfilter(function, iterable):\n",
        "    for i in iterable:\n",
        "        if function(i):\n",
        "            yield i\n",
        "\n",
        "def pzip(*iterables):\n",
        "    iters = list(pmap(iter, iterables))\n",
        "    while True:\n",
        "        try:\n",
        "            yield [next(it) for it in iters]\n",
        "        except StopIteration:\n",
        "            return\n"
      ],
      "execution_count": null,
      "outputs": []
    },
    {
      "cell_type": "code",
      "metadata": {
        "pycharm": {
          "name": "#%%\n"
        },
        "id": "54zM1v1b5uHl"
      },
      "source": [
        "list(pfilter(\n",
        "    lambda x : not x[0] % x[1],\n",
        "    pzip(\n",
        "        range(101, 200),\n",
        "        range(2, 100))\n",
        "    )\n",
        ")"
      ],
      "execution_count": null,
      "outputs": []
    },
    {
      "cell_type": "markdown",
      "metadata": {
        "collapsed": false,
        "id": "mCsTGOPO5uHl"
      },
      "source": [
        "### Генератор chain"
      ]
    },
    {
      "cell_type": "code",
      "metadata": {
        "pycharm": {
          "name": "#%%\n"
        },
        "id": "fpoFJPZG5uHl"
      },
      "source": [
        "def chain(*iterables):\n",
        "    for iterable in iterables:\n",
        "        for it in iterable:\n",
        "            yield it\n",
        "\n",
        "list(chain(range(5), [10, 20], 'test'))"
      ],
      "execution_count": null,
      "outputs": []
    },
    {
      "cell_type": "markdown",
      "metadata": {
        "collapsed": false,
        "id": "BibJSvJI5uHl"
      },
      "source": [
        "### Генератор enumerate"
      ]
    },
    {
      "cell_type": "code",
      "metadata": {
        "pycharm": {
          "name": "#%%\n"
        },
        "id": "gUyc15T-5uHl"
      },
      "source": [
        "def enumerate(iterable):\n",
        "    i = 0\n",
        "    for it in iterable:\n",
        "            yield i, it\n",
        "            i += 1\n",
        "\n",
        "list(enumerate('test'))"
      ],
      "execution_count": null,
      "outputs": []
    },
    {
      "cell_type": "markdown",
      "metadata": {
        "collapsed": false,
        "id": "TbT4HiXH5uHm"
      },
      "source": [
        "### Генераторы внутри коллекций"
      ]
    },
    {
      "cell_type": "code",
      "metadata": {
        "pycharm": {
          "name": "#%%\n"
        },
        "id": "Tue4LEOU5uHm"
      },
      "source": [
        "class BinaryTree:\n",
        "    def __init__(self, value, left=None, right=None):\n",
        "        self.value = value\n",
        "        self.left, self.right = left, right\n",
        "\n",
        "    def __iter__(self): # inorder\n",
        "        for node in self.left:\n",
        "            yield node.value\n",
        "        yield self.value\n",
        "        for node in self.right:\n",
        "            yield node.value"
      ],
      "execution_count": null,
      "outputs": []
    },
    {
      "cell_type": "markdown",
      "metadata": {
        "collapsed": false,
        "id": "0oQH4FaV5uHm"
      },
      "source": [
        "### Выражения - генераторы"
      ]
    },
    {
      "cell_type": "code",
      "metadata": {
        "pycharm": {
          "name": "#%%\n"
        },
        "id": "fIL_Deuk5uHm",
        "colab": {
          "base_uri": "https://localhost:8080/"
        },
        "outputId": "9f4e824f-8506-480b-e42b-a63d1a04a461"
      },
      "source": [
        "%timeit sum(x ** 3 for x in range(100000000) if not x % 11)   # note the absence of brackets"
      ],
      "execution_count": 43,
      "outputs": [
        {
          "output_type": "stream",
          "name": "stdout",
          "text": [
            "1 loop, best of 5: 9.05 s per loop\n"
          ]
        }
      ]
    },
    {
      "cell_type": "code",
      "metadata": {
        "colab": {
          "base_uri": "https://localhost:8080/"
        },
        "id": "zFr71WiMPy2K",
        "outputId": "3c9ff942-6722-4f2e-ce71-b8502ffb99b4"
      },
      "source": [
        "set(x ** 3 for x in range(100) if not x % 11)"
      ],
      "execution_count": 53,
      "outputs": [
        {
          "output_type": "execute_result",
          "data": {
            "text/plain": [
              "{0, 1331, 10648, 35937, 85184, 166375, 287496, 456533, 681472, 970299}"
            ]
          },
          "metadata": {},
          "execution_count": 53
        }
      ]
    },
    {
      "cell_type": "code",
      "metadata": {
        "pycharm": {
          "name": "#%%\n"
        },
        "id": "ICkGyqv55uHm",
        "colab": {
          "base_uri": "https://localhost:8080/"
        },
        "outputId": "35f33f5b-3209-4733-8e3d-df96570cbcdb"
      },
      "source": [
        "%timeit sum([x ** 3 for x in range(100000000) if not x % 11])"
      ],
      "execution_count": 44,
      "outputs": [
        {
          "output_type": "stream",
          "name": "stdout",
          "text": [
            "1 loop, best of 5: 9.21 s per loop\n"
          ]
        }
      ]
    },
    {
      "cell_type": "markdown",
      "metadata": {
        "collapsed": false,
        "id": "wrRzg3IG5uHm"
      },
      "source": [
        "### yield as expression\n"
      ]
    },
    {
      "cell_type": "code",
      "metadata": {
        "pycharm": {
          "name": "#%%\n"
        },
        "id": "_ulyRmSL5uHm",
        "colab": {
          "base_uri": "https://localhost:8080/",
          "height": 262
        },
        "outputId": "3bb1f013-c5b4-478d-e8d7-663f27591271"
      },
      "source": [
        "def f(x):\n",
        "    value = yield x\n",
        "    print('value : {}'.format(value))\n",
        "    x += 2\n",
        "    value = yield x\n",
        "    print('value : {}'.format(value))\n",
        "\n",
        "\n",
        "a = f(5)\n",
        "print('first', next(a))\n",
        "print('second', next(a))\n",
        "print('third', next(a))"
      ],
      "execution_count": 41,
      "outputs": [
        {
          "output_type": "stream",
          "name": "stdout",
          "text": [
            "first 5\n",
            "value : None\n",
            "second 7\n",
            "value : None\n"
          ]
        },
        {
          "output_type": "error",
          "ename": "StopIteration",
          "evalue": "ignored",
          "traceback": [
            "\u001b[0;31m---------------------------------------------------------------------------\u001b[0m",
            "\u001b[0;31mStopIteration\u001b[0m                             Traceback (most recent call last)",
            "\u001b[0;32m<ipython-input-41-5b90402cf1ee>\u001b[0m in \u001b[0;36m<module>\u001b[0;34m()\u001b[0m\n\u001b[1;32m     10\u001b[0m \u001b[0mprint\u001b[0m\u001b[0;34m(\u001b[0m\u001b[0;34m'first'\u001b[0m\u001b[0;34m,\u001b[0m \u001b[0mnext\u001b[0m\u001b[0;34m(\u001b[0m\u001b[0ma\u001b[0m\u001b[0;34m)\u001b[0m\u001b[0;34m)\u001b[0m\u001b[0;34m\u001b[0m\u001b[0;34m\u001b[0m\u001b[0m\n\u001b[1;32m     11\u001b[0m \u001b[0mprint\u001b[0m\u001b[0;34m(\u001b[0m\u001b[0;34m'second'\u001b[0m\u001b[0;34m,\u001b[0m \u001b[0mnext\u001b[0m\u001b[0;34m(\u001b[0m\u001b[0ma\u001b[0m\u001b[0;34m)\u001b[0m\u001b[0;34m)\u001b[0m\u001b[0;34m\u001b[0m\u001b[0;34m\u001b[0m\u001b[0m\n\u001b[0;32m---> 12\u001b[0;31m \u001b[0mprint\u001b[0m\u001b[0;34m(\u001b[0m\u001b[0;34m'third'\u001b[0m\u001b[0;34m,\u001b[0m \u001b[0mnext\u001b[0m\u001b[0;34m(\u001b[0m\u001b[0ma\u001b[0m\u001b[0;34m)\u001b[0m\u001b[0;34m)\u001b[0m\u001b[0;34m\u001b[0m\u001b[0;34m\u001b[0m\u001b[0m\n\u001b[0m",
            "\u001b[0;31mStopIteration\u001b[0m: "
          ]
        }
      ]
    },
    {
      "cell_type": "markdown",
      "metadata": {
        "collapsed": false,
        "id": "IczeJGhk5uHn"
      },
      "source": [
        "### генераторы :: send"
      ]
    },
    {
      "cell_type": "code",
      "metadata": {
        "pycharm": {
          "name": "#%%\n"
        },
        "id": "Qedc5D5O5uHn",
        "colab": {
          "base_uri": "https://localhost:8080/",
          "height": 262
        },
        "outputId": "06d3d969-b8fc-4e5c-e8e7-e33760b9be2e"
      },
      "source": [
        "def f(x):\n",
        "    value = yield x\n",
        "    print('value : {}'.format(value))\n",
        "    x += 2\n",
        "    value = yield x\n",
        "    print('value : {}'.format(value))\n",
        "\n",
        "a = f(5)\n",
        "print(next(a))\n",
        "print('first', a.send(42))\n",
        "print('second', a.send('Hi!'))"
      ],
      "execution_count": 42,
      "outputs": [
        {
          "output_type": "stream",
          "name": "stdout",
          "text": [
            "5\n",
            "value : 42\n",
            "first 7\n",
            "value : Hi!\n"
          ]
        },
        {
          "output_type": "error",
          "ename": "StopIteration",
          "evalue": "ignored",
          "traceback": [
            "\u001b[0;31m---------------------------------------------------------------------------\u001b[0m",
            "\u001b[0;31mStopIteration\u001b[0m                             Traceback (most recent call last)",
            "\u001b[0;32m<ipython-input-42-fc9161ae2bdf>\u001b[0m in \u001b[0;36m<module>\u001b[0;34m()\u001b[0m\n\u001b[1;32m      9\u001b[0m \u001b[0mprint\u001b[0m\u001b[0;34m(\u001b[0m\u001b[0mnext\u001b[0m\u001b[0;34m(\u001b[0m\u001b[0ma\u001b[0m\u001b[0;34m)\u001b[0m\u001b[0;34m)\u001b[0m\u001b[0;34m\u001b[0m\u001b[0;34m\u001b[0m\u001b[0m\n\u001b[1;32m     10\u001b[0m \u001b[0mprint\u001b[0m\u001b[0;34m(\u001b[0m\u001b[0;34m'first'\u001b[0m\u001b[0;34m,\u001b[0m \u001b[0ma\u001b[0m\u001b[0;34m.\u001b[0m\u001b[0msend\u001b[0m\u001b[0;34m(\u001b[0m\u001b[0;36m42\u001b[0m\u001b[0;34m)\u001b[0m\u001b[0;34m)\u001b[0m\u001b[0;34m\u001b[0m\u001b[0;34m\u001b[0m\u001b[0m\n\u001b[0;32m---> 11\u001b[0;31m \u001b[0mprint\u001b[0m\u001b[0;34m(\u001b[0m\u001b[0;34m'second'\u001b[0m\u001b[0;34m,\u001b[0m \u001b[0ma\u001b[0m\u001b[0;34m.\u001b[0m\u001b[0msend\u001b[0m\u001b[0;34m(\u001b[0m\u001b[0;34m'Hi!'\u001b[0m\u001b[0;34m)\u001b[0m\u001b[0;34m)\u001b[0m\u001b[0;34m\u001b[0m\u001b[0;34m\u001b[0m\u001b[0m\n\u001b[0m",
            "\u001b[0;31mStopIteration\u001b[0m: "
          ]
        }
      ]
    },
    {
      "cell_type": "markdown",
      "metadata": {
        "collapsed": false,
        "id": "mubKQYEm5uHn"
      },
      "source": [
        "### генераторы :: throw и close"
      ]
    },
    {
      "cell_type": "code",
      "metadata": {
        "pycharm": {
          "name": "#%%\n"
        },
        "id": "HasZ3mZJ5uHn",
        "colab": {
          "base_uri": "https://localhost:8080/"
        },
        "outputId": "8b40bfdb-9e9e-43f1-f141-32877ece9d2a"
      },
      "source": [
        "def f(x):\n",
        "    value = 0\n",
        "    while True:\n",
        "        new_value = yield x + value\n",
        "        value = new_value or value\n",
        "\n",
        "adder = f(2)\n",
        "next(adder)\n",
        "\n",
        "adder.send(2)\n",
        "adder.send(8)\n",
        "adder.send(32)\n",
        "print(next(adder))\n",
        "print(next(adder))"
      ],
      "execution_count": 36,
      "outputs": [
        {
          "output_type": "stream",
          "name": "stdout",
          "text": [
            "34\n",
            "34\n"
          ]
        }
      ]
    },
    {
      "cell_type": "code",
      "metadata": {
        "pycharm": {
          "name": "#%%\n"
        },
        "id": "piCxOGUg5uHn",
        "colab": {
          "base_uri": "https://localhost:8080/",
          "height": 313
        },
        "outputId": "359a54f6-bc79-4118-a703-9bfa13b4a083"
      },
      "source": [
        "adder = f(2)\n",
        "next(adder)\n",
        "adder.send(2)\n",
        "\n",
        "adder.throw(TypeError)"
      ],
      "execution_count": 32,
      "outputs": [
        {
          "output_type": "error",
          "ename": "TypeError",
          "evalue": "ignored",
          "traceback": [
            "\u001b[0;31m---------------------------------------------------------------------------\u001b[0m",
            "\u001b[0;31mTypeError\u001b[0m                                 Traceback (most recent call last)",
            "\u001b[0;32m<ipython-input-32-86bf0d1aa59f>\u001b[0m in \u001b[0;36m<module>\u001b[0;34m()\u001b[0m\n\u001b[1;32m      3\u001b[0m \u001b[0madder\u001b[0m\u001b[0;34m.\u001b[0m\u001b[0msend\u001b[0m\u001b[0;34m(\u001b[0m\u001b[0;36m2\u001b[0m\u001b[0;34m)\u001b[0m\u001b[0;34m\u001b[0m\u001b[0;34m\u001b[0m\u001b[0m\n\u001b[1;32m      4\u001b[0m \u001b[0;34m\u001b[0m\u001b[0m\n\u001b[0;32m----> 5\u001b[0;31m \u001b[0madder\u001b[0m\u001b[0;34m.\u001b[0m\u001b[0mthrow\u001b[0m\u001b[0;34m(\u001b[0m\u001b[0mTypeError\u001b[0m\u001b[0;34m)\u001b[0m\u001b[0;34m\u001b[0m\u001b[0;34m\u001b[0m\u001b[0m\n\u001b[0m",
            "\u001b[0;32m<ipython-input-31-6d870a54ce9b>\u001b[0m in \u001b[0;36mf\u001b[0;34m(x)\u001b[0m\n\u001b[1;32m      2\u001b[0m     \u001b[0mvalue\u001b[0m \u001b[0;34m=\u001b[0m \u001b[0;36m0\u001b[0m\u001b[0;34m\u001b[0m\u001b[0;34m\u001b[0m\u001b[0m\n\u001b[1;32m      3\u001b[0m     \u001b[0;32mwhile\u001b[0m \u001b[0;32mTrue\u001b[0m\u001b[0;34m:\u001b[0m\u001b[0;34m\u001b[0m\u001b[0;34m\u001b[0m\u001b[0m\n\u001b[0;32m----> 4\u001b[0;31m         \u001b[0mnew_value\u001b[0m \u001b[0;34m=\u001b[0m \u001b[0;32myield\u001b[0m \u001b[0mx\u001b[0m \u001b[0;34m+\u001b[0m \u001b[0mvalue\u001b[0m\u001b[0;34m\u001b[0m\u001b[0;34m\u001b[0m\u001b[0m\n\u001b[0m\u001b[1;32m      5\u001b[0m         \u001b[0mvalue\u001b[0m \u001b[0;34m=\u001b[0m \u001b[0mnew_value\u001b[0m \u001b[0;32mor\u001b[0m \u001b[0mvalue\u001b[0m\u001b[0;34m\u001b[0m\u001b[0;34m\u001b[0m\u001b[0m\n\u001b[1;32m      6\u001b[0m \u001b[0;34m\u001b[0m\u001b[0m\n",
            "\u001b[0;31mTypeError\u001b[0m: "
          ]
        }
      ]
    },
    {
      "cell_type": "code",
      "metadata": {
        "pycharm": {
          "name": "#%%\n"
        },
        "id": "ScKQ0WKt5uHn",
        "colab": {
          "base_uri": "https://localhost:8080/",
          "height": 195
        },
        "outputId": "bc8b688e-9f2f-4bbd-893e-e43779950596"
      },
      "source": [
        "adder = f(2)\n",
        "next(adder)\n",
        "adder.send(2)\n",
        "\n",
        "adder.close()\n",
        "\n",
        "adder.send(2)"
      ],
      "execution_count": 33,
      "outputs": [
        {
          "output_type": "error",
          "ename": "StopIteration",
          "evalue": "ignored",
          "traceback": [
            "\u001b[0;31m---------------------------------------------------------------------------\u001b[0m",
            "\u001b[0;31mStopIteration\u001b[0m                             Traceback (most recent call last)",
            "\u001b[0;32m<ipython-input-33-b5a753e04dc3>\u001b[0m in \u001b[0;36m<module>\u001b[0;34m()\u001b[0m\n\u001b[1;32m      5\u001b[0m \u001b[0madder\u001b[0m\u001b[0;34m.\u001b[0m\u001b[0mclose\u001b[0m\u001b[0;34m(\u001b[0m\u001b[0;34m)\u001b[0m\u001b[0;34m\u001b[0m\u001b[0;34m\u001b[0m\u001b[0m\n\u001b[1;32m      6\u001b[0m \u001b[0;34m\u001b[0m\u001b[0m\n\u001b[0;32m----> 7\u001b[0;31m \u001b[0madder\u001b[0m\u001b[0;34m.\u001b[0m\u001b[0msend\u001b[0m\u001b[0;34m(\u001b[0m\u001b[0;36m2\u001b[0m\u001b[0;34m)\u001b[0m\u001b[0;34m\u001b[0m\u001b[0;34m\u001b[0m\u001b[0m\n\u001b[0m",
            "\u001b[0;31mStopIteration\u001b[0m: "
          ]
        }
      ]
    },
    {
      "cell_type": "markdown",
      "metadata": {
        "collapsed": false,
        "id": "nRzb2zF15uHn"
      },
      "source": [
        "### Генераторы как корутины"
      ]
    },
    {
      "cell_type": "code",
      "metadata": {
        "pycharm": {
          "name": "#%%\n"
        },
        "id": "e4-iKcQL5uHn",
        "colab": {
          "base_uri": "https://localhost:8080/"
        },
        "outputId": "ed79118f-4e1c-48b2-e349-ff39bb96c240"
      },
      "source": [
        "def grep(pattern):\n",
        "    while True:\n",
        "        line = yield\n",
        "        if pattern in line:\n",
        "            print(line)\n",
        "\n",
        "gen = grep('Hi')\n",
        "next(gen)\n",
        "\n",
        "gen.send('Test')\n",
        "gen.send('Hi, my name is Alex!')"
      ],
      "execution_count": 45,
      "outputs": [
        {
          "output_type": "stream",
          "name": "stdout",
          "text": [
            "Hi, my name is Alex!\n"
          ]
        }
      ]
    },
    {
      "cell_type": "markdown",
      "metadata": {
        "collapsed": false,
        "id": "-YTV8ntq5uHo"
      },
      "source": [
        "### yeild from\n",
        "делигирует выполнение другому генератору"
      ]
    },
    {
      "cell_type": "code",
      "metadata": {
        "pycharm": {
          "name": "#%%\n"
        },
        "id": "wSV3t9f35uHo",
        "colab": {
          "base_uri": "https://localhost:8080/"
        },
        "outputId": "0a40c3e0-2ebc-44a9-c5c0-c028e1a752e8"
      },
      "source": [
        "def dummy(count):\n",
        "    yield from range(count)\n",
        "\n",
        "def superdummy(count):\n",
        "    for i in range(count):\n",
        "        yield from dummy(i)\n",
        "\n",
        "list(superdummy(5))"
      ],
      "execution_count": 48,
      "outputs": [
        {
          "output_type": "execute_result",
          "data": {
            "text/plain": [
              "[0, 0, 1, 0, 1, 2, 0, 1, 2, 3]"
            ]
          },
          "metadata": {},
          "execution_count": 48
        }
      ]
    }
  ]
}