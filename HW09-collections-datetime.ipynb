{
  "cells": [
    {
      "cell_type": "markdown",
      "metadata": {
        "id": "dwtgETJhCJSr"
      },
      "source": [
        "**Задача 1. Проверка хэшей:**\n",
        "Написать функцию checkhash(sequence, f, m), которой на вход подаётся коллекция не равных друг другу (это гарантируется) хешируемых объектов, хеш-функция и число m. Функция просматривает остатки от деления на m значения f() для всех объектов из sequence и возвращает кортеж из двух элементов — наибольшее и наименьшее количество произошедших коллизий."
      ]
    },
    {
      "cell_type": "markdown",
      "metadata": {
        "id": "k-xtEmeNQroi"
      },
      "source": [
        "**Задача 2. Логирование исключений:** Есть функция, принимающая коллекцию и ключ/индекс для получения из неё элемента:"
      ]
    },
    {
      "cell_type": "code",
      "execution_count": null,
      "metadata": {},
      "outputs": [],
      "source": [
        "def get_item(collection, id):\n",
        "    return collection[id]"
      ]
    },
    {
      "cell_type": "markdown",
      "metadata": {},
      "source": [
        "Перепишите её таким образом, чтобы в случае KeyError и IndexError  исключений она не только выбрасывала их (как это и происходит по умолчанию), но и записывала бы в current.date.log (подразумевается подстановка даты) вместе с переданными аргументами и временем возникновения, в формате:\n",
        "\n",
        "%time %exception_text\n",
        "\n",
        "%collection %id \\n"
      ]
    }
  ],
  "metadata": {
    "colab": {
      "collapsed_sections": [],
      "name": "HW6-collections-OOP-pandas.ipynb",
      "provenance": []
    },
    "kernelspec": {
      "display_name": "Python 3",
      "name": "python3"
    },
    "language_info": {
      "name": "python"
    }
  },
  "nbformat": 4,
  "nbformat_minor": 0
}
