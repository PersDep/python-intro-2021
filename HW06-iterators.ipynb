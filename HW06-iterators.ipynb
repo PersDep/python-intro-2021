{
  "cells": [
    {
      "cell_type": "markdown",
      "metadata": {
        "id": "k-xtEmeNQroi"
      },
      "source": [
        "**Задача 1. Итерируемся:** Написать функцию chainslice(begin, end, seq0, seq1, …), которая принимает не менее трёх параметров: два целых числа и не менее одной последовательности. Рассмотрим последовательность seq, образованную всеми элементами seq0, затем — всеми элементами seq1, и т. д. Вернуть эта функция должна итератор, пробегающий элементы последовательности seq с begin до end - 1 включительно."
      ]
    }
  ],
  "metadata": {
    "colab": {
      "collapsed_sections": [],
      "name": "HW5-generators-iterators.ipynb",
      "provenance": []
    },
    "kernelspec": {
      "display_name": "Python 3",
      "name": "python3"
    },
    "language_info": {
      "name": "python"
    }
  },
  "nbformat": 4,
  "nbformat_minor": 0
}
