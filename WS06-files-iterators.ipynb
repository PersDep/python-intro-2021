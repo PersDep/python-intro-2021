{
  "nbformat": 4,
  "nbformat_minor": 0,
  "metadata": {
    "kernelspec": {
      "display_name": "Python 3",
      "language": "python",
      "name": "python3"
    },
    "language_info": {
      "codemirror_mode": {
        "name": "ipython",
        "version": 3
      },
      "file_extension": ".py",
      "mimetype": "text/x-python",
      "name": "python",
      "nbconvert_exporter": "python",
      "pygments_lexer": "ipython3",
      "version": "3.8.3"
    },
    "colab": {
      "name": "files_and_requests.ipynb",
      "provenance": [],
      "collapsed_sections": []
    }
  },
  "cells": [
    {
      "cell_type": "markdown",
      "metadata": {
        "collapsed": false,
        "id": "8T6Mnq1b5c0R"
      },
      "source": [
        "# Работа с файлами"
      ]
    },
    {
      "cell_type": "markdown",
      "metadata": {
        "collapsed": false,
        "id": "1Zhmw8V_5c0a"
      },
      "source": [
        "Для открытия файлов в python используется встроенная команда open:"
      ]
    },
    {
      "cell_type": "code",
      "metadata": {
        "pycharm": {
          "name": "#%%\n"
        },
        "id": "anvEgTvO5c0b"
      },
      "source": [
        "# f = open('testmodule.py', 'r', encoding='cp1252')\n",
        "f = open('testmodule.py', 'r', encoding='utf-8')\n",
        "s8 = 'rpgkkorgmo'\n",
        "s32 = s.encode(encoding='UTF-32')"
      ],
      "execution_count": null,
      "outputs": []
    },
    {
      "cell_type": "code",
      "metadata": {
        "id": "3NdbMLyz-1G7",
        "colab": {
          "base_uri": "https://localhost:8080/",
          "height": 35
        },
        "outputId": "43288f83-96b0-453e-879c-55660b720d3e"
      },
      "source": [
        "s8"
      ],
      "execution_count": null,
      "outputs": [
        {
          "output_type": "execute_result",
          "data": {
            "application/vnd.google.colaboratory.intrinsic+json": {
              "type": "string"
            },
            "text/plain": [
              "'rpgkkorgmo'"
            ]
          },
          "metadata": {},
          "execution_count": 7
        }
      ]
    },
    {
      "cell_type": "code",
      "metadata": {
        "id": "HO35HsHL-3lV",
        "colab": {
          "base_uri": "https://localhost:8080/"
        },
        "outputId": "b967041b-bb04-4b4e-be5c-609a0b8d564a"
      },
      "source": [
        "s32"
      ],
      "execution_count": null,
      "outputs": [
        {
          "output_type": "execute_result",
          "data": {
            "text/plain": [
              "b'\\xff\\xfe\\x00\\x00r\\x00\\x00\\x00p\\x00\\x00\\x00g\\x00\\x00\\x00k\\x00\\x00\\x00k\\x00\\x00\\x00o\\x00\\x00\\x00r\\x00\\x00\\x00g\\x00\\x00\\x00m\\x00\\x00\\x00o\\x00\\x00\\x00'"
            ]
          },
          "metadata": {},
          "execution_count": 8
        }
      ]
    },
    {
      "cell_type": "code",
      "metadata": {
        "id": "-tTUmVhm-8qr",
        "colab": {
          "base_uri": "https://localhost:8080/"
        },
        "outputId": "a9874ef4-979c-4706-84c0-115d045b085c"
      },
      "source": [
        "type(s32)"
      ],
      "execution_count": null,
      "outputs": [
        {
          "output_type": "execute_result",
          "data": {
            "text/plain": [
              "bytes"
            ]
          },
          "metadata": {},
          "execution_count": 9
        }
      ]
    },
    {
      "cell_type": "code",
      "metadata": {
        "id": "nMMB-ebn_I_o",
        "colab": {
          "base_uri": "https://localhost:8080/"
        },
        "outputId": "20083c3f-213c-48b5-a873-6d44cf66dbd4"
      },
      "source": [
        "import sys\n",
        "print(sys.getsizeof(s8))\n",
        "print(sys.getsizeof(s32))"
      ],
      "execution_count": null,
      "outputs": [
        {
          "output_type": "stream",
          "name": "stdout",
          "text": [
            "59\n",
            "77\n"
          ]
        }
      ]
    },
    {
      "cell_type": "markdown",
      "metadata": {
        "collapsed": false,
        "id": "7UaB4Geu5c0c"
      },
      "source": [
        "Функция open() принимает 2 основных аргумента:\n",
        "- первый аргумент file - это имя файла, т.е. путь к файлу, который мы хотим открыть, путь может быть как абсолютный, так и относительный, как и в ОС Windows.\n",
        "- второй аргумент mode - это режим работы с файлом: для чтения, записи, перезаписи и пр."
      ]
    },
    {
      "cell_type": "markdown",
      "metadata": {
        "collapsed": false,
        "id": "YfFRhkdR5c0d"
      },
      "source": [
        "Обозначение режимов работы с фалом:\n",
        "- 'r'\tоткрытие на чтение (является значением по умолчанию).\n",
        "- 'w'\tоткрытие на запись, содержимое файла удаляется, создается новый пустой файл.\n",
        "- 'x'\tоткрытие на запись, если файла не существует, иначе исключение.\n",
        "- 'a'\tоткрытие на дозапись, информация добавляется в конец файла.\n",
        "- 'b'\tоткрытие в двоичном режиме.\n",
        "- 't'\tоткрытие в текстовом режиме.\n",
        "- '+'\tоткрытие на чтение и запись."
      ]
    },
    {
      "cell_type": "markdown",
      "metadata": {
        "collapsed": false,
        "id": "Rzbo9n4O5c0e"
      },
      "source": [
        "В python файл представляется идентификатором и вся дальнейшая работа с этим файлом связана с его идентификатором:"
      ]
    },
    {
      "cell_type": "code",
      "metadata": {
        "pycharm": {
          "name": "#%%\n"
        },
        "id": "_-2hBbto5c0e",
        "colab": {
          "base_uri": "https://localhost:8080/"
        },
        "outputId": "6ca7a221-e5e1-41f8-af81-179aa24fd0a4"
      },
      "source": [
        "f = open('testmodule.py', 'r')\n",
        "print(f)"
      ],
      "execution_count": null,
      "outputs": [
        {
          "output_type": "stream",
          "name": "stdout",
          "text": [
            "<_io.TextIOWrapper name='testmodule.py' mode='r' encoding='UTF-8'>\n"
          ]
        }
      ]
    },
    {
      "cell_type": "markdown",
      "metadata": {
        "collapsed": false,
        "id": "nr1yc55e5c0f"
      },
      "source": [
        "# Чтение из файла"
      ]
    },
    {
      "cell_type": "markdown",
      "metadata": {
        "collapsed": false,
        "id": "zgxHNydj5c0g"
      },
      "source": [
        "Существует 3 основных способа чтения информации из текстового файла:"
      ]
    },
    {
      "cell_type": "markdown",
      "metadata": {
        "collapsed": false,
        "id": "L7M5lLrs5c0g"
      },
      "source": [
        "1. Чтение всей информации целиком с помощью функции read()"
      ]
    },
    {
      "cell_type": "code",
      "metadata": {
        "pycharm": {
          "name": "#%%\n"
        },
        "id": "B0INgrOE5c0h",
        "colab": {
          "base_uri": "https://localhost:8080/"
        },
        "outputId": "fcfad419-3bcc-4d3f-d7c4-bfe966de08ad"
      },
      "source": [
        "msg = f.read()\n",
        "print(msg)"
      ],
      "execution_count": null,
      "outputs": [
        {
          "output_type": "stream",
          "name": "stdout",
          "text": [
            "Hi\n",
            "Привет\n",
            "Some data\n",
            "0 1 2 3 4 5 6 7 8\n",
            "\n"
          ]
        }
      ]
    },
    {
      "cell_type": "markdown",
      "metadata": {
        "collapsed": false,
        "id": "dZldJ11o5c0h"
      },
      "source": [
        "2. Чтение информации построчно с помощью цикла for"
      ]
    },
    {
      "cell_type": "code",
      "metadata": {
        "id": "PFCF0T0AAK5P"
      },
      "source": [
        "dir(f)"
      ],
      "execution_count": null,
      "outputs": []
    },
    {
      "cell_type": "code",
      "metadata": {
        "pycharm": {
          "name": "#%%\n"
        },
        "id": "MH3xtQ_i5c0i",
        "colab": {
          "base_uri": "https://localhost:8080/"
        },
        "outputId": "ce9224be-fc0a-4e7c-ba80-3c8ba682e3b8"
      },
      "source": [
        "for line in f:\n",
        "    print(line)"
      ],
      "execution_count": null,
      "outputs": [
        {
          "output_type": "stream",
          "name": "stdout",
          "text": [
            "Hi\n",
            "\n",
            "Привет\n",
            "\n",
            "Some data\n",
            "\n",
            "0 1 2 3 4 5 6 7 8\n",
            "\n"
          ]
        }
      ]
    },
    {
      "cell_type": "markdown",
      "metadata": {
        "collapsed": false,
        "id": "9lWMFPTM5c0i"
      },
      "source": [
        "В выводе присутствуют все переводы строк, как и в файле. Дополнительные переводы строк обусловлены стандартным поведением функции print()."
      ]
    },
    {
      "cell_type": "markdown",
      "metadata": {
        "collapsed": false,
        "id": "CbL4pKzC5c0j"
      },
      "source": [
        "3. Чтение всех строк одним списком с помощью функции readlines()"
      ]
    },
    {
      "cell_type": "code",
      "metadata": {
        "pycharm": {
          "name": "#%%\n"
        },
        "id": "-McnBb225c0j",
        "colab": {
          "base_uri": "https://localhost:8080/"
        },
        "outputId": "df85ab55-6f0c-412d-d62c-235b6e870d26"
      },
      "source": [
        "lines = f.readlines()\n",
        "for i in range(len(lines)):\n",
        "    print(lines[i], end='')"
      ],
      "execution_count": null,
      "outputs": [
        {
          "output_type": "stream",
          "name": "stdout",
          "text": [
            "Hi\n",
            "Привет\n",
            "Some data\n",
            "0 1 2 3 4 5 6 7 8\n"
          ]
        }
      ]
    },
    {
      "cell_type": "markdown",
      "metadata": {
        "collapsed": false,
        "id": "irzi50oF5c0k"
      },
      "source": [
        "Существует также функция readline(), позволяющая считать лишь одну строчку а не все сразу."
      ]
    },
    {
      "cell_type": "markdown",
      "metadata": {
        "collapsed": false,
        "id": "FpBKG4uu5c0k"
      },
      "source": [
        "# Запись в файл"
      ]
    },
    {
      "cell_type": "markdown",
      "metadata": {
        "collapsed": false,
        "id": "C1eCpDYZ5c0l"
      },
      "source": [
        "Первым делом для записи в файл его нужно открыть в режиме записи:"
      ]
    },
    {
      "cell_type": "code",
      "metadata": {
        "pycharm": {
          "name": "#%%\n"
        },
        "id": "3hIpNlYm5c0l",
        "colab": {
          "base_uri": "https://localhost:8080/"
        },
        "outputId": "6cd595ad-d5b2-48a2-b68f-ba31b358c066"
      },
      "source": [
        "f = open('output.txt', 'w')\n",
        "print(f)"
      ],
      "execution_count": null,
      "outputs": [
        {
          "output_type": "stream",
          "name": "stdout",
          "text": [
            "<_io.TextIOWrapper name='output.txt' mode='w' encoding='UTF-8'>\n"
          ]
        }
      ]
    },
    {
      "cell_type": "markdown",
      "metadata": {
        "collapsed": false,
        "id": "gqCHl2cC5c0m"
      },
      "source": [
        "1. Запись в файл с помощью метода write:"
      ]
    },
    {
      "cell_type": "code",
      "metadata": {
        "pycharm": {
          "name": "#%%\n"
        },
        "id": "bg6wVT3d5c0m",
        "colab": {
          "base_uri": "https://localhost:8080/"
        },
        "outputId": "c3e37a3d-5c4d-4c67-8d26-7d456fc5adb0"
      },
      "source": [
        "msg = 'Write to file\\n'\n",
        "f.write(msg)"
      ],
      "execution_count": null,
      "outputs": [
        {
          "output_type": "execute_result",
          "data": {
            "text/plain": [
              "14"
            ]
          },
          "metadata": {},
          "execution_count": 47
        }
      ]
    },
    {
      "cell_type": "markdown",
      "metadata": {
        "collapsed": false,
        "id": "MSdHjUoW5c0m"
      },
      "source": [
        "Функции write принимает строковый аргумент - данные для записи, и возвращает число записанных символов."
      ]
    },
    {
      "cell_type": "markdown",
      "metadata": {
        "collapsed": false,
        "id": "OfRHZo325c0n"
      },
      "source": [
        "2. Запись в файл с помощью метода print:"
      ]
    },
    {
      "cell_type": "code",
      "metadata": {
        "pycharm": {
          "name": "#%%\n"
        },
        "id": "5F4srsCy5c0n"
      },
      "source": [
        "msg = \"Write with print\\n\"\n",
        "print(msg, file=f)"
      ],
      "execution_count": null,
      "outputs": []
    },
    {
      "cell_type": "markdown",
      "metadata": {
        "collapsed": false,
        "id": "KLsW07HF5c0n"
      },
      "source": [
        "После чтения/записи не забывайте закрывать файлы:"
      ]
    },
    {
      "cell_type": "code",
      "metadata": {
        "pycharm": {
          "name": "#%%\n"
        },
        "id": "rt7M-Jqw5c0n"
      },
      "source": [
        "f.close()"
      ],
      "execution_count": null,
      "outputs": []
    },
    {
      "cell_type": "markdown",
      "metadata": {
        "collapsed": false,
        "id": "miZi2C8V5c0o"
      },
      "source": [
        "# With ... as - менеджер контекста"
      ]
    },
    {
      "cell_type": "markdown",
      "metadata": {
        "collapsed": false,
        "id": "UwuX15C35c0o"
      },
      "source": [
        "Конструкция with ... as используется для оборачивания блока инструкций. \n",
        "Синтаксис конструкции with ... as:"
      ]
    },
    {
      "cell_type": "code",
      "metadata": {
        "pycharm": {
          "name": "#%%\n"
        },
        "id": "WI37sRr-5c0o"
      },
      "source": [
        "\"with\" expression [\"as\" target] (\",\" expression [\"as\" target])* \":\"\n",
        "    suite"
      ],
      "execution_count": null,
      "outputs": []
    },
    {
      "cell_type": "markdown",
      "metadata": {
        "collapsed": false,
        "id": "awUUHr7W5c0o"
      },
      "source": [
        "Что происходит при выполнении данного блока:\n",
        "1) Выполняется выражение в конструкции with ... as.\n",
        "2) Загружается специальный метод __exit__ для дальнейшего использования.\n",
        "3) Выполняется метод __enter__. Если конструкция with включает в себя слово as, то возвращаемое методом __enter__ значение записывается в переменную.\n",
        "4) Выполняется suite.\n",
        "5) Вызывается метод __exit__, причём неважно, выполнилось ли suite или произошло исключение. В этот метод передаются параметры исключения, если оно произошло, или во всех аргументах значение None, если исключения не было."
      ]
    },
    {
      "cell_type": "markdown",
      "metadata": {
        "collapsed": false,
        "id": "GurVwLzZ5c0p"
      },
      "source": [
        "Если в конструкции with - as было несколько выражений, то это эквивалентно нескольким вложенным конструкциям:"
      ]
    },
    {
      "cell_type": "code",
      "metadata": {
        "pycharm": {
          "name": "#%%\n"
        },
        "id": "qYgs1rk65c0p"
      },
      "source": [
        "with A() as a, B() as b:\n",
        "    suite"
      ],
      "execution_count": null,
      "outputs": []
    },
    {
      "cell_type": "markdown",
      "metadata": {
        "collapsed": false,
        "id": "qS5J1bgo5c0p"
      },
      "source": [
        "эквивалентно"
      ]
    },
    {
      "cell_type": "code",
      "metadata": {
        "pycharm": {
          "name": "#%%\n"
        },
        "id": "DD0dnJkK5c0p"
      },
      "source": [
        "with A() as a:\n",
        "    with B() as b:\n",
        "        suite"
      ],
      "execution_count": null,
      "outputs": []
    },
    {
      "cell_type": "markdown",
      "metadata": {
        "collapsed": false,
        "id": "JP_IMgWs5c0q"
      },
      "source": [
        "Для чего применяется конструкция with ... as? Для гарантии того, что критические функции выполнятся в любом случае. Самый распространённый пример использования этой конструкции - открытие файлов, такой способ гарантирует закрытие файла в любом случае."
      ]
    },
    {
      "cell_type": "code",
      "metadata": {
        "pycharm": {
          "name": "#%%\n"
        },
        "id": "tvQgjoO85c0q"
      },
      "source": [
        "with open('output.txt','w') as myfile:\n",
        "    myfile.write('Write without close')"
      ],
      "execution_count": null,
      "outputs": []
    },
    {
      "cell_type": "code",
      "metadata": {
        "pycharm": {
          "name": "#%%\n"
        },
        "id": "yos0mWIo5c0q",
        "colab": {
          "base_uri": "https://localhost:8080/"
        },
        "outputId": "1f33d117-7e0e-47ee-f5a1-4d55cba49591"
      },
      "source": [
        "print(bool(myfile))\n",
        "# myfile.write('data')\n",
        "myfile.closed"
      ],
      "execution_count": null,
      "outputs": [
        {
          "output_type": "stream",
          "name": "stdout",
          "text": [
            "True\n"
          ]
        },
        {
          "output_type": "execute_result",
          "data": {
            "text/plain": [
              "True"
            ]
          },
          "metadata": {},
          "execution_count": 54
        }
      ]
    },
    {
      "cell_type": "code",
      "metadata": {
        "pycharm": {
          "name": "#%%\n"
        },
        "id": "oIvSNpl95c0r"
      },
      "source": [
        "try:\n",
        "    # fobj = open('path/to/file.txt', 'r')\n",
        "    fobj = open('testmodule.py', 'r')\n",
        "    data = fobj.read()\n",
        "    # print(int(data))\n",
        "except FileNotFoundError as e:\n",
        "    print(e)\n",
        "    print('Could not find the necessary file!')\n",
        "except ValueError as e:\n",
        "    print(e)\n",
        "else:\n",
        "    print('else')\n",
        "finally:\n",
        "    print('finish')\n",
        "    if fobj:\n",
        "      fobj.close()\n"
      ],
      "execution_count": null,
      "outputs": []
    },
    {
      "cell_type": "markdown",
      "metadata": {
        "collapsed": false,
        "id": "zVrr7aYK5c0v"
      },
      "source": [
        "### Как устроен цикл for"
      ]
    },
    {
      "cell_type": "code",
      "metadata": {
        "pycharm": {
          "name": "#%%\n"
        },
        "id": "KBtGZFoR5c0v",
        "colab": {
          "base_uri": "https://localhost:8080/",
          "height": 682
        },
        "outputId": "ed4071f5-9ebe-4f33-f0cb-06acb04f124b"
      },
      "source": [
        "for i in range(5):\n",
        "    print(i)\n",
        "\n",
        "for line in open('testmodule.py'):\n",
        "    print(line)\n",
        "\n",
        "for key in {'A' : 1, 'B' : 2, 'C' : 3}:\n",
        "    print(key)\n",
        "\n",
        "for letter in 'Hello, World':\n",
        "    print(letter, type(letter))\n",
        "\n",
        "for i in 1:\n",
        "    pass"
      ],
      "execution_count": null,
      "outputs": [
        {
          "output_type": "stream",
          "name": "stdout",
          "text": [
            "0\n",
            "1\n",
            "2\n",
            "3\n",
            "4\n",
            "Hi\n",
            "\n",
            "Привет\n",
            "\n",
            "Some data\n",
            "\n",
            "0 1 2 3 4 5 6 7 8\n",
            "\n",
            "A\n",
            "B\n",
            "C\n",
            "H <class 'str'>\n",
            "e <class 'str'>\n",
            "l <class 'str'>\n",
            "l <class 'str'>\n",
            "o <class 'str'>\n",
            ", <class 'str'>\n",
            "  <class 'str'>\n",
            "W <class 'str'>\n",
            "o <class 'str'>\n",
            "r <class 'str'>\n",
            "l <class 'str'>\n",
            "d <class 'str'>\n"
          ]
        },
        {
          "output_type": "error",
          "ename": "TypeError",
          "evalue": "ignored",
          "traceback": [
            "\u001b[0;31m---------------------------------------------------------------------------\u001b[0m",
            "\u001b[0;31mTypeError\u001b[0m                                 Traceback (most recent call last)",
            "\u001b[0;32m<ipython-input-56-39646bea6206>\u001b[0m in \u001b[0;36m<module>\u001b[0;34m()\u001b[0m\n\u001b[1;32m     11\u001b[0m     \u001b[0mprint\u001b[0m\u001b[0;34m(\u001b[0m\u001b[0mletter\u001b[0m\u001b[0;34m,\u001b[0m \u001b[0mtype\u001b[0m\u001b[0;34m(\u001b[0m\u001b[0mletter\u001b[0m\u001b[0;34m)\u001b[0m\u001b[0;34m)\u001b[0m\u001b[0;34m\u001b[0m\u001b[0;34m\u001b[0m\u001b[0m\n\u001b[1;32m     12\u001b[0m \u001b[0;34m\u001b[0m\u001b[0m\n\u001b[0;32m---> 13\u001b[0;31m \u001b[0;32mfor\u001b[0m \u001b[0mi\u001b[0m \u001b[0;32min\u001b[0m \u001b[0;36m1\u001b[0m\u001b[0;34m:\u001b[0m\u001b[0;34m\u001b[0m\u001b[0;34m\u001b[0m\u001b[0m\n\u001b[0m\u001b[1;32m     14\u001b[0m     \u001b[0;32mpass\u001b[0m\u001b[0;34m\u001b[0m\u001b[0;34m\u001b[0m\u001b[0m\n",
            "\u001b[0;31mTypeError\u001b[0m: 'int' object is not iterable"
          ]
        }
      ]
    },
    {
      "cell_type": "code",
      "metadata": {
        "pycharm": {
          "name": "#%%\n"
        },
        "id": "kg7NjQ9g5c0w",
        "colab": {
          "base_uri": "https://localhost:8080/"
        },
        "outputId": "8771120b-a41b-4658-f72e-ab71e3000a37"
      },
      "source": [
        "dict_dir = set(dir({}))\n",
        "file_dir = set(dir(open('testmodule.py')))\n",
        "int_dir = set(dir(1))\n",
        "\n",
        "set(dir(list)) & file_dir - int_dir"
      ],
      "execution_count": null,
      "outputs": [
        {
          "output_type": "execute_result",
          "data": {
            "text/plain": [
              "{'__iter__'}"
            ]
          },
          "metadata": {},
          "execution_count": 63
        }
      ]
    },
    {
      "cell_type": "code",
      "metadata": {
        "pycharm": {
          "name": "#%%\n"
        },
        "id": "U67mMr9C5c0w",
        "colab": {
          "base_uri": "https://localhost:8080/"
        },
        "outputId": "88f5b8bb-69e5-4083-f9a7-d341497d83e2"
      },
      "source": [
        "a = [1, 2, 3, 4]\n",
        "it = a.__iter__()\n",
        "\n",
        "it"
      ],
      "execution_count": null,
      "outputs": [
        {
          "output_type": "execute_result",
          "data": {
            "text/plain": [
              "<list_iterator at 0x7fefd7d1d910>"
            ]
          },
          "metadata": {},
          "execution_count": 64
        }
      ]
    },
    {
      "cell_type": "code",
      "metadata": {
        "pycharm": {
          "name": "#%%\n"
        },
        "id": "XmtDqi3N5c0w",
        "colab": {
          "base_uri": "https://localhost:8080/"
        },
        "outputId": "353e4a85-f1e6-4a66-dea6-0378fd0c9aea"
      },
      "source": [
        "dir(it)"
      ],
      "execution_count": null,
      "outputs": [
        {
          "output_type": "execute_result",
          "data": {
            "text/plain": [
              "['__class__',\n",
              " '__delattr__',\n",
              " '__dir__',\n",
              " '__doc__',\n",
              " '__eq__',\n",
              " '__format__',\n",
              " '__ge__',\n",
              " '__getattribute__',\n",
              " '__gt__',\n",
              " '__hash__',\n",
              " '__init__',\n",
              " '__init_subclass__',\n",
              " '__iter__',\n",
              " '__le__',\n",
              " '__length_hint__',\n",
              " '__lt__',\n",
              " '__ne__',\n",
              " '__new__',\n",
              " '__next__',\n",
              " '__reduce__',\n",
              " '__reduce_ex__',\n",
              " '__repr__',\n",
              " '__setattr__',\n",
              " '__setstate__',\n",
              " '__sizeof__',\n",
              " '__str__',\n",
              " '__subclasshook__']"
            ]
          },
          "metadata": {},
          "execution_count": 65
        }
      ]
    },
    {
      "cell_type": "code",
      "metadata": {
        "pycharm": {
          "name": "#%%\n"
        },
        "id": "fMQWvcZX5c0w",
        "colab": {
          "base_uri": "https://localhost:8080/"
        },
        "outputId": "5a5bcb05-eb96-4c1b-9faf-401742596fd2"
      },
      "source": [
        "set(dir(it)) - int_dir"
      ],
      "execution_count": null,
      "outputs": [
        {
          "output_type": "execute_result",
          "data": {
            "text/plain": [
              "{'__iter__', '__length_hint__', '__next__', '__setstate__'}"
            ]
          },
          "metadata": {},
          "execution_count": 66
        }
      ]
    },
    {
      "cell_type": "code",
      "metadata": {
        "id": "61lVBU_0E3WR",
        "colab": {
          "base_uri": "https://localhost:8080/"
        },
        "outputId": "b091c55a-cb54-42f8-87c2-e9dbfe52f219"
      },
      "source": [
        "import itertools\n",
        "it1 = itertools.cycle('ABC').__iter__()\n",
        "set(dir(it1)) - int_dir"
      ],
      "execution_count": null,
      "outputs": [
        {
          "output_type": "execute_result",
          "data": {
            "text/plain": [
              "{'__iter__', '__next__', '__setstate__'}"
            ]
          },
          "metadata": {},
          "execution_count": 71
        }
      ]
    },
    {
      "cell_type": "code",
      "metadata": {
        "pycharm": {
          "name": "#%%\n"
        },
        "id": "RylSpXeX5c0w",
        "colab": {
          "base_uri": "https://localhost:8080/"
        },
        "outputId": "7128b96d-66a4-4688-c5b5-71e3f462e25a"
      },
      "source": [
        "for i in a:\n",
        "  print(i)"
      ],
      "execution_count": null,
      "outputs": [
        {
          "output_type": "stream",
          "name": "stdout",
          "text": [
            "1\n",
            "2\n",
            "3\n",
            "4\n"
          ]
        }
      ]
    },
    {
      "cell_type": "code",
      "metadata": {
        "pycharm": {
          "name": "#%%\n"
        },
        "id": "SVN-XngZ5c0x",
        "colab": {
          "base_uri": "https://localhost:8080/",
          "height": 279
        },
        "outputId": "1777bba9-d40d-42b3-db75-5ef69d39ff61"
      },
      "source": [
        "a = [1, 2, 3, 4]\n",
        "it = a.__iter__()\n",
        "print(it.__length_hint__())\n",
        "for i in range(it.__length_hint__()):\n",
        "  print(it.__next__())\n",
        "it.__next__()"
      ],
      "execution_count": null,
      "outputs": [
        {
          "output_type": "stream",
          "name": "stdout",
          "text": [
            "4\n",
            "1\n",
            "2\n",
            "3\n",
            "4\n"
          ]
        },
        {
          "output_type": "error",
          "ename": "StopIteration",
          "evalue": "ignored",
          "traceback": [
            "\u001b[0;31m---------------------------------------------------------------------------\u001b[0m",
            "\u001b[0;31mStopIteration\u001b[0m                             Traceback (most recent call last)",
            "\u001b[0;32m<ipython-input-74-04d9ad28c3fa>\u001b[0m in \u001b[0;36m<module>\u001b[0;34m()\u001b[0m\n\u001b[1;32m      4\u001b[0m \u001b[0;32mfor\u001b[0m \u001b[0mi\u001b[0m \u001b[0;32min\u001b[0m \u001b[0mrange\u001b[0m\u001b[0;34m(\u001b[0m\u001b[0mit\u001b[0m\u001b[0;34m.\u001b[0m\u001b[0m__length_hint__\u001b[0m\u001b[0;34m(\u001b[0m\u001b[0;34m)\u001b[0m\u001b[0;34m)\u001b[0m\u001b[0;34m:\u001b[0m\u001b[0;34m\u001b[0m\u001b[0;34m\u001b[0m\u001b[0m\n\u001b[1;32m      5\u001b[0m   \u001b[0mprint\u001b[0m\u001b[0;34m(\u001b[0m\u001b[0mit\u001b[0m\u001b[0;34m.\u001b[0m\u001b[0m__next__\u001b[0m\u001b[0;34m(\u001b[0m\u001b[0;34m)\u001b[0m\u001b[0;34m)\u001b[0m\u001b[0;34m\u001b[0m\u001b[0;34m\u001b[0m\u001b[0m\n\u001b[0;32m----> 6\u001b[0;31m \u001b[0mit\u001b[0m\u001b[0;34m.\u001b[0m\u001b[0m__next__\u001b[0m\u001b[0;34m(\u001b[0m\u001b[0;34m)\u001b[0m\u001b[0;34m\u001b[0m\u001b[0;34m\u001b[0m\u001b[0m\n\u001b[0m",
            "\u001b[0;31mStopIteration\u001b[0m: "
          ]
        }
      ]
    },
    {
      "cell_type": "markdown",
      "metadata": {
        "collapsed": false,
        "id": "N6kNRTHO5c0x"
      },
      "source": [
        "### Итерируемая последовательность (aka Iterable)\n",
        "\n",
        "Это обьект у которого определён метод \\_\\_iter\\_\\_, возвращающий обьект реализующий протокол *итератора*\n",
        "(Примеры: list, dict, file, range)\n",
        "\n",
        "### Итератор\n",
        "Это обьект у которого определён метод \\_\\_next\\_\\_ (это может быть как отдельный обьект, так и, например, self самой последовательности, то есть она может быть итератором по самой себе)\n",
        "\n",
        "\n",
        "Метод __next__ при каждом вызове должен возвращать следующий элемент последовательности, или выкидывать исключение  StopIteration, если последовательность кончилась\n",
        "\n"
      ]
    },
    {
      "cell_type": "code",
      "metadata": {
        "pycharm": {
          "name": "#%%\n"
        },
        "id": "np3wO2Mf5c0x",
        "colab": {
          "base_uri": "https://localhost:8080/"
        },
        "outputId": "81652ab1-9352-4947-8125-4993d34d9f8a"
      },
      "source": [
        "range(0)"
      ],
      "execution_count": null,
      "outputs": [
        {
          "output_type": "execute_result",
          "data": {
            "text/plain": [
              "range(0, 0)"
            ]
          },
          "metadata": {},
          "execution_count": 75
        }
      ]
    },
    {
      "cell_type": "markdown",
      "metadata": {
        "collapsed": false,
        "id": "GtdYZZZM5c0x"
      },
      "source": [
        "### iter и next\n",
        "\n",
        "Определены как свободные функции, вызывающие соответствующие методы у обьектов."
      ]
    },
    {
      "cell_type": "code",
      "metadata": {
        "pycharm": {
          "name": "#%%\n"
        },
        "id": "xp7WH-9-5c0x",
        "colab": {
          "base_uri": "https://localhost:8080/"
        },
        "outputId": "09c21358-ce93-49fc-96ab-838244dc9dbe"
      },
      "source": [
        "a = [1, 2, 3]\n",
        "it = iter(a)\n",
        "it"
      ],
      "execution_count": null,
      "outputs": [
        {
          "output_type": "execute_result",
          "data": {
            "text/plain": [
              "<list_iterator at 0x7fefd7d07cd0>"
            ]
          },
          "metadata": {},
          "execution_count": 76
        }
      ]
    },
    {
      "cell_type": "code",
      "metadata": {
        "pycharm": {
          "name": "#%%\n"
        },
        "id": "VutyoWGw5c0y",
        "colab": {
          "base_uri": "https://localhost:8080/",
          "height": 162
        },
        "outputId": "c732869c-c471-4f4c-f148-75346410c571"
      },
      "source": [
        "next(it)"
      ],
      "execution_count": null,
      "outputs": [
        {
          "output_type": "error",
          "ename": "StopIteration",
          "evalue": "ignored",
          "traceback": [
            "\u001b[0;31m---------------------------------------------------------------------------\u001b[0m",
            "\u001b[0;31mStopIteration\u001b[0m                             Traceback (most recent call last)",
            "\u001b[0;32m<ipython-input-80-bc1ab118995a>\u001b[0m in \u001b[0;36m<module>\u001b[0;34m()\u001b[0m\n\u001b[0;32m----> 1\u001b[0;31m \u001b[0mnext\u001b[0m\u001b[0;34m(\u001b[0m\u001b[0mit\u001b[0m\u001b[0;34m)\u001b[0m\u001b[0;34m\u001b[0m\u001b[0;34m\u001b[0m\u001b[0m\n\u001b[0m",
            "\u001b[0;31mStopIteration\u001b[0m: "
          ]
        }
      ]
    },
    {
      "cell_type": "code",
      "metadata": {
        "pycharm": {
          "name": "#%%\n"
        },
        "id": "lwsNDGkH5c0y",
        "colab": {
          "base_uri": "https://localhost:8080/"
        },
        "outputId": "1d7ecbf6-e14b-4c44-cebd-470c5aadd7a7"
      },
      "source": [
        "lst = iter([1])\n",
        "print(next(lst, 5))\n",
        "next(lst, 5)"
      ],
      "execution_count": null,
      "outputs": [
        {
          "output_type": "stream",
          "name": "stdout",
          "text": [
            "1\n"
          ]
        },
        {
          "output_type": "execute_result",
          "data": {
            "text/plain": [
              "5"
            ]
          },
          "metadata": {},
          "execution_count": 85
        }
      ]
    },
    {
      "cell_type": "code",
      "metadata": {
        "pycharm": {
          "name": "#%%\n"
        },
        "id": "RTkcAs6Q5c0y"
      },
      "source": [
        "def make_timer(ticks):\n",
        "    def timer():\n",
        "        nonlocal ticks\n",
        "        ticks -= 1\n",
        "        return ticks\n",
        "    return timer\n",
        "\n",
        "for t in iter(make_timer(10), 0):    # iter(function , terminal_value)\n",
        "    print(t, end=' - ')"
      ],
      "execution_count": null,
      "outputs": []
    },
    {
      "cell_type": "markdown",
      "metadata": {
        "collapsed": false,
        "id": "sl2laS_x5c0y"
      },
      "source": [
        "### реализация цикла for"
      ]
    },
    {
      "cell_type": "code",
      "metadata": {
        "pycharm": {
          "name": "#%%\n"
        },
        "id": "PjCxTpOw5c0y"
      },
      "source": [
        "def handle(x):\n",
        "    print(x)"
      ],
      "execution_count": null,
      "outputs": []
    },
    {
      "cell_type": "code",
      "metadata": {
        "pycharm": {
          "name": "#%%\n"
        },
        "id": "IRQpo1xC5c0z",
        "colab": {
          "base_uri": "https://localhost:8080/"
        },
        "outputId": "d4ff0179-5f08-41e8-ad7f-8b9a764ebcae"
      },
      "source": [
        "seq = [1, 2, 3]\n",
        "for x in seq:\n",
        "    handle(x)"
      ],
      "execution_count": null,
      "outputs": [
        {
          "output_type": "stream",
          "name": "stdout",
          "text": [
            "1\n",
            "2\n",
            "3\n"
          ]
        }
      ]
    },
    {
      "cell_type": "code",
      "metadata": {
        "pycharm": {
          "name": "#%%\n"
        },
        "id": "_FznHJdH5c0z",
        "colab": {
          "base_uri": "https://localhost:8080/"
        },
        "outputId": "94387407-6dbe-4c72-d013-c9996403f91f"
      },
      "source": [
        "dir(it)"
      ],
      "execution_count": null,
      "outputs": [
        {
          "output_type": "execute_result",
          "data": {
            "text/plain": [
              "['__class__',\n",
              " '__delattr__',\n",
              " '__dir__',\n",
              " '__doc__',\n",
              " '__eq__',\n",
              " '__format__',\n",
              " '__ge__',\n",
              " '__getattribute__',\n",
              " '__gt__',\n",
              " '__hash__',\n",
              " '__init__',\n",
              " '__init_subclass__',\n",
              " '__iter__',\n",
              " '__le__',\n",
              " '__length_hint__',\n",
              " '__lt__',\n",
              " '__ne__',\n",
              " '__new__',\n",
              " '__next__',\n",
              " '__reduce__',\n",
              " '__reduce_ex__',\n",
              " '__repr__',\n",
              " '__setattr__',\n",
              " '__setstate__',\n",
              " '__sizeof__',\n",
              " '__str__',\n",
              " '__subclasshook__']"
            ]
          },
          "metadata": {},
          "execution_count": 88
        }
      ]
    },
    {
      "cell_type": "code",
      "metadata": {
        "pycharm": {
          "name": "#%%\n"
        },
        "id": "igHkwcy15c0z",
        "colab": {
          "base_uri": "https://localhost:8080/"
        },
        "outputId": "dfe3ebb3-8dbb-4441-ab78-7de187e25157"
      },
      "source": [
        "it = iter(seq)\n",
        "while True:\n",
        "    try:\n",
        "        value = next(it)\n",
        "        handle(value)\n",
        "    except StopIteration:\n",
        "        break"
      ],
      "execution_count": null,
      "outputs": [
        {
          "output_type": "stream",
          "name": "stdout",
          "text": [
            "1\n",
            "2\n",
            "3\n"
          ]
        }
      ]
    },
    {
      "cell_type": "markdown",
      "metadata": {
        "collapsed": false,
        "id": "iPjj_IGH5c0z"
      },
      "source": [
        "### Класс и его итератор"
      ]
    },
    {
      "cell_type": "code",
      "metadata": {
        "pycharm": {
          "name": "#%%\n"
        },
        "id": "TQcVMgGG5c00",
        "colab": {
          "base_uri": "https://localhost:8080/"
        },
        "outputId": "4e66cc9e-23aa-4800-d7e2-f87b4dbd00d5"
      },
      "source": [
        "class RangeIter(object):\n",
        "    def __init__(self, frm, to):\n",
        "        self.to = to\n",
        "        self.idx = frm\n",
        "    def __next__(self):\n",
        "        if self.idx == self.to: raise StopIteration('range ended')\n",
        "        self.idx += 1\n",
        "        return (self.idx - 1)\n",
        "    def __iter__(self):\n",
        "        return self\n",
        "\n",
        "class Range1(object):\n",
        "    def __init__(self, frm, to):\n",
        "        self.to = to\n",
        "        self.frm = frm\n",
        "    def __iter__(self):\n",
        "        return RangeIter(self.frm, self.to)\n",
        "\n",
        "range1 = Range1(2, 5)\n",
        "print(range1.frm, range2.to)\n",
        "for i in range1:\n",
        "    print(i, end=' - ')\n",
        "print()\n",
        "print(range1.frm, range2.to)\n",
        "for i in range1:\n",
        "    print(i, end=' - ')\n",
        "print()\n",
        "print(range1.frm, range2.to)\n",
        "\n",
        "my_range_iter = iter(range1)\n",
        "while True:\n",
        "  try:\n",
        "    print(next(my_range_iter))\n",
        "  except StopIteration as e:\n",
        "    print(e)\n",
        "    break\n",
        "\n",
        "my_range_iter = iter(range1)\n",
        "for i in range(3):\n",
        "  print(next(my_range_iter))"
      ],
      "execution_count": null,
      "outputs": [
        {
          "output_type": "stream",
          "name": "stdout",
          "text": [
            "2 5\n",
            "2 - 3 - 4 - \n",
            "2 5\n",
            "2 - 3 - 4 - \n",
            "2 5\n",
            "2\n",
            "3\n",
            "4\n",
            "range ended\n",
            "2\n",
            "3\n",
            "4\n"
          ]
        }
      ]
    },
    {
      "cell_type": "code",
      "metadata": {
        "id": "Q2wg3njDKN7H",
        "colab": {
          "base_uri": "https://localhost:8080/"
        },
        "outputId": "5ff7ff39-bf4c-4643-e961-54c5cb80b6e2"
      },
      "source": [
        "%%time\n",
        "my_range_iter = iter(range1)\n",
        "while True:\n",
        "  try:\n",
        "    print(next(my_range_iter))\n",
        "  except StopIteration as e:\n",
        "    break"
      ],
      "execution_count": null,
      "outputs": [
        {
          "output_type": "stream",
          "name": "stdout",
          "text": [
            "2\n",
            "3\n",
            "4\n",
            "CPU times: user 2.48 ms, sys: 0 ns, total: 2.48 ms\n",
            "Wall time: 2.58 ms\n"
          ]
        }
      ]
    },
    {
      "cell_type": "code",
      "metadata": {
        "id": "tzZu81oKKT1s",
        "colab": {
          "base_uri": "https://localhost:8080/"
        },
        "outputId": "ceeccd12-d94c-418b-f5e8-a64dd64ea515"
      },
      "source": [
        "%%time\n",
        "my_range_iter = iter(range1)\n",
        "for i in range(3):\n",
        "  print(next(my_range_iter))"
      ],
      "execution_count": null,
      "outputs": [
        {
          "output_type": "stream",
          "name": "stdout",
          "text": [
            "2\n",
            "3\n",
            "4\n",
            "CPU times: user 246 µs, sys: 0 ns, total: 246 µs\n",
            "Wall time: 177 µs\n"
          ]
        }
      ]
    },
    {
      "cell_type": "markdown",
      "metadata": {
        "collapsed": false,
        "id": "F8lnthgj5c00"
      },
      "source": [
        "### Класс -- итератор"
      ]
    },
    {
      "cell_type": "code",
      "metadata": {
        "pycharm": {
          "name": "#%%\n"
        },
        "id": "t0VE0-K65c1G",
        "colab": {
          "base_uri": "https://localhost:8080/"
        },
        "outputId": "2d521c3f-63fc-49a5-b7c4-5ce8eab81653"
      },
      "source": [
        "class Range2(object):\n",
        "    def __init__(self, frm, to):\n",
        "        self.to = to\n",
        "        self.idx = frm\n",
        "\n",
        "    def __iter__(self):\n",
        "        return self\n",
        "\n",
        "    def __next__(self):\n",
        "        if self.idx == self.to: raise StopIteration\n",
        "        self.idx += 1\n",
        "        return (self.idx - 1)\n",
        "\n",
        "range2 = Range2(2, 5)\n",
        "print(range2.idx, range2.to)\n",
        "for i in range2:\n",
        "    print(i, end=' - ')\n",
        "print()\n",
        "print(range2.idx, range2.to)\n",
        "for i in range2:\n",
        "    print(i, end=' - ')"
      ],
      "execution_count": null,
      "outputs": [
        {
          "output_type": "stream",
          "name": "stdout",
          "text": [
            "2 5\n",
            "2 - 3 - 4 - \n",
            "5 5\n"
          ]
        }
      ]
    },
    {
      "cell_type": "markdown",
      "metadata": {
        "collapsed": false,
        "id": "VodqQCKx5c1H"
      },
      "source": [
        "### Исчерпаемость"
      ]
    },
    {
      "cell_type": "code",
      "metadata": {
        "pycharm": {
          "name": "#%%\n"
        },
        "id": "7lQDVRPr5c1H",
        "colab": {
          "base_uri": "https://localhost:8080/"
        },
        "outputId": "32c77acf-bd9f-4e52-853f-f6fbfb738c68"
      },
      "source": [
        "r1 = Range1(1, 5)\n",
        "r2 = Range2(1, 5)\n",
        "\n",
        "print(list(r1), list(r2))\n",
        "print(list(r1), list(r2))\n"
      ],
      "execution_count": null,
      "outputs": [
        {
          "output_type": "stream",
          "name": "stdout",
          "text": [
            "[1, 2, 3, 4] [1, 2, 3, 4]\n",
            "[1, 2, 3, 4] []\n"
          ]
        }
      ]
    },
    {
      "cell_type": "markdown",
      "metadata": {
        "collapsed": false,
        "id": "CErLSMdu5c1H"
      },
      "source": [
        "### Несколько итераторов\n",
        "Так как итератор является итерируемым обьектом - можно определять несколько итераторов для одного обьекта"
      ]
    },
    {
      "cell_type": "code",
      "metadata": {
        "pycharm": {
          "name": "#%%\n"
        },
        "id": "eLufnWkW5c1H"
      },
      "source": [
        "class BinaryTree(object):\n",
        "    def inorder(self):\n",
        "        return InOrderIterator(self)"
      ],
      "execution_count": null,
      "outputs": []
    },
    {
      "cell_type": "markdown",
      "metadata": {
        "collapsed": false,
        "id": "wmjR8Qc35c1I"
      },
      "source": [
        "### \\_\\_contains__\n",
        "\n",
        "может быть определен для итераторов"
      ]
    },
    {
      "cell_type": "code",
      "metadata": {
        "pycharm": {
          "name": "#%%\n"
        },
        "id": "lRQ09VlE5c1I"
      },
      "source": [
        "class object:\n",
        "    def __contains__(self, value):\n",
        "        for item in self:\n",
        "            if item == value:\n",
        "                return True\n",
        "        return False\n",
        "'abc'.__contains__('a')"
      ],
      "execution_count": null,
      "outputs": []
    },
    {
      "cell_type": "code",
      "metadata": {
        "pycharm": {
          "name": "#%%\n"
        },
        "id": "oZWhQIdW5c1I"
      },
      "source": [
        "class Range:\n",
        "    def __contains__(self, value):\n",
        "        return self.frm < value < self.to"
      ],
      "execution_count": null,
      "outputs": []
    },
    {
      "cell_type": "markdown",
      "metadata": {
        "collapsed": false,
        "id": "BCO1tcFH5c1I"
      },
      "source": [
        "### Упрощенный протокол итерируемого - последовательность"
      ]
    },
    {
      "cell_type": "code",
      "metadata": {
        "pycharm": {
          "name": "#%%\n"
        },
        "id": "J29QzQcO5c1J",
        "colab": {
          "base_uri": "https://localhost:8080/"
        },
        "outputId": "8154e55e-0813-419e-805f-eb6654381ad7"
      },
      "source": [
        "class Seq(object):\n",
        "    def __init__(self, lst):\n",
        "        self.lst = lst\n",
        "    def __len__(self):\n",
        "        return len(self.lst)\n",
        "    def __getitem__(self, idx):\n",
        "        if idx < 0 or idx >= len(self):\n",
        "            raise IndexError(idx)\n",
        "        return self.lst[idx]\n",
        "\n",
        "for i in Seq([1, 2, 3]):\n",
        "    print(i)"
      ],
      "execution_count": null,
      "outputs": [
        {
          "output_type": "stream",
          "name": "stdout",
          "text": [
            "1\n",
            "2\n",
            "3\n"
          ]
        }
      ]
    },
    {
      "cell_type": "markdown",
      "metadata": {
        "id": "KNMbytKSK-vU"
      },
      "source": [
        "Itertools::chain"
      ]
    },
    {
      "cell_type": "code",
      "metadata": {
        "id": "2Zu4rE6qK6_8",
        "colab": {
          "base_uri": "https://localhost:8080/"
        },
        "outputId": "0a32908e-2db5-4e55-98ab-57a97994f1f2"
      },
      "source": [
        "from itertools import chain\n",
        "for i in chain(range(2, 7), range(10, 32, 4), 'ABCD'):\n",
        "  print(i)"
      ],
      "execution_count": null,
      "outputs": [
        {
          "output_type": "stream",
          "name": "stdout",
          "text": [
            "2\n",
            "3\n",
            "4\n",
            "5\n",
            "6\n",
            "10\n",
            "14\n",
            "18\n",
            "22\n",
            "26\n",
            "30\n",
            "A\n",
            "B\n",
            "C\n",
            "D\n"
          ]
        }
      ]
    },
    {
      "cell_type": "markdown",
      "metadata": {
        "collapsed": false,
        "id": "_YSQCY0z5c1Q"
      },
      "source": [
        "### itertools :: islice"
      ]
    },
    {
      "cell_type": "code",
      "metadata": {
        "pycharm": {
          "name": "#%%\n"
        },
        "id": "MFQ35LMN5c1R",
        "colab": {
          "base_uri": "https://localhost:8080/"
        },
        "outputId": "8c950c97-061d-4c0c-c5b3-97ab689261c8"
      },
      "source": [
        "from itertools import islice\n",
        "seq = range(10)\n",
        "list(islice(seq, 2, 5, 2))   # seq[2:5]"
      ],
      "execution_count": null,
      "outputs": [
        {
          "output_type": "execute_result",
          "data": {
            "text/plain": [
              "[2, 4]"
            ]
          },
          "metadata": {},
          "execution_count": 124
        }
      ]
    },
    {
      "cell_type": "code",
      "metadata": {
        "pycharm": {
          "name": "#%%\n"
        },
        "id": "KLlMkCqj5c1R",
        "colab": {
          "base_uri": "https://localhost:8080/"
        },
        "outputId": "87ad3093-ac1b-44b1-e330-b1829a6e7c97"
      },
      "source": [
        "seq = range(10)\n",
        "list(islice(seq, 1, 7, 2))   # seq[1:7:2]"
      ],
      "execution_count": null,
      "outputs": [
        {
          "output_type": "execute_result",
          "data": {
            "text/plain": [
              "[1, 3, 5]"
            ]
          },
          "metadata": {},
          "execution_count": 125
        }
      ]
    },
    {
      "cell_type": "markdown",
      "metadata": {
        "collapsed": false,
        "id": "YuUMLBt05c1S"
      },
      "source": [
        "### itertools :: count, cycle, repeat"
      ]
    },
    {
      "cell_type": "code",
      "metadata": {
        "pycharm": {
          "name": "#%%\n"
        },
        "id": "j2cGiq4I5c1S",
        "colab": {
          "base_uri": "https://localhost:8080/"
        },
        "outputId": "d478144a-89ac-4e19-c34d-3f88daac3d63"
      },
      "source": [
        "from itertools import count, cycle, repeat\n",
        "\n",
        "list(islice(cycle('test'), 2, 15))"
      ],
      "execution_count": null,
      "outputs": [
        {
          "output_type": "execute_result",
          "data": {
            "text/plain": [
              "['s', 't', 't', 'e', 's', 't', 't', 'e', 's', 't', 't', 'e', 's']"
            ]
          },
          "metadata": {},
          "execution_count": 126
        }
      ]
    },
    {
      "cell_type": "code",
      "metadata": {
        "pycharm": {
          "name": "#%%\n"
        },
        "id": "Pvh3vzGf5c1S",
        "colab": {
          "base_uri": "https://localhost:8080/"
        },
        "outputId": "3d079dbd-3e88-4fa6-cd14-859c49fe7149"
      },
      "source": [
        "list(islice(count(42), 10))"
      ],
      "execution_count": null,
      "outputs": [
        {
          "output_type": "execute_result",
          "data": {
            "text/plain": [
              "[42, 43, 44, 45, 46, 47, 48, 49, 50, 51]"
            ]
          },
          "metadata": {},
          "execution_count": 128
        }
      ]
    },
    {
      "cell_type": "markdown",
      "metadata": {
        "collapsed": false,
        "id": "MI5UgHps5c1W"
      },
      "source": [
        "### itertools :: dropwhile and takewhile"
      ]
    },
    {
      "cell_type": "code",
      "metadata": {
        "pycharm": {
          "name": "#%%\n"
        },
        "id": "qj_Fmq7m5c1X"
      },
      "source": [
        "from itertools import dropwhile, takewhile\n",
        "\n",
        "list(takewhile(lambda x : x < 5, range(10)))"
      ],
      "execution_count": null,
      "outputs": []
    },
    {
      "cell_type": "markdown",
      "metadata": {
        "collapsed": false,
        "id": "4rkP7ZjZ5c1Z"
      },
      "source": [
        "### itertools :: chain"
      ]
    },
    {
      "cell_type": "code",
      "metadata": {
        "pycharm": {
          "name": "#%%\n"
        },
        "id": "roFtOg0a5c1Z"
      },
      "source": [
        "from itertools import chain\n",
        "list(chain([1, 2], 'test', range(3)))"
      ],
      "execution_count": null,
      "outputs": []
    },
    {
      "cell_type": "code",
      "metadata": {
        "pycharm": {
          "name": "#%%\n"
        },
        "id": "WeWrHu8I5c1a"
      },
      "source": [
        "def geniter(count):\n",
        "    for i in range(count):\n",
        "        yield range(3)\n",
        "\n",
        "list(chain.from_iterable(geniter(3)))"
      ],
      "execution_count": null,
      "outputs": []
    },
    {
      "cell_type": "markdown",
      "metadata": {
        "collapsed": false,
        "id": "Bt1YoWEs5c1b"
      },
      "source": [
        "### itertools :: tee"
      ]
    },
    {
      "cell_type": "code",
      "metadata": {
        "pycharm": {
          "name": "#%%\n"
        },
        "id": "nDjCQJu05c1b"
      },
      "source": [
        "from itertools import tee\n",
        "\n",
        "a, b, c = tee(range(3), 3)\n",
        "print(list(a), list(b), list(c))"
      ],
      "execution_count": null,
      "outputs": []
    },
    {
      "cell_type": "markdown",
      "metadata": {
        "collapsed": false,
        "id": "3-3JeUXx5c1b"
      },
      "source": [
        "### itertools :: комбинаторика"
      ]
    },
    {
      "cell_type": "code",
      "metadata": {
        "pycharm": {
          "name": "#%%\n"
        },
        "id": "Z1YLfx6f5c1b"
      },
      "source": [
        "from itertools import product\n",
        "\n",
        "list(product('AB', 'XY'))"
      ],
      "execution_count": null,
      "outputs": []
    },
    {
      "cell_type": "code",
      "metadata": {
        "pycharm": {
          "name": "#%%\n"
        },
        "id": "DcyzcIOm5c1b"
      },
      "source": [
        "from itertools import permutations\n",
        "\n",
        "list(permutations('ABC'))"
      ],
      "execution_count": null,
      "outputs": []
    },
    {
      "cell_type": "code",
      "metadata": {
        "pycharm": {
          "name": "#%%\n"
        },
        "id": "BQ_sis3m5c1c"
      },
      "source": [
        "from itertools import combinations\n",
        "\n",
        "list(combinations('ABC', 2))"
      ],
      "execution_count": null,
      "outputs": []
    }
  ]
}