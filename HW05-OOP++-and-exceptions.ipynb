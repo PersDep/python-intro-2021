{
  "nbformat": 4,
  "nbformat_minor": 0,
  "metadata": {
    "colab": {
      "name": "HW4-OOP+.ipynb\"",
      "provenance": [],
      "collapsed_sections": []
    },
    "kernelspec": {
      "name": "python3",
      "display_name": "Python 3"
    },
    "language_info": {
      "name": "python"
    }
  },
  "cells": [
    {
      "cell_type": "markdown",
      "metadata": {
        "id": "k-xtEmeNQroi"
      },
      "source": [
        "**Задача 1. Определяем размер:** Написать декоратор класса sizer, который добавляет в него поле size, равное длине объекта, если у объекта есть длина, или модулю целочисленного представления объекта в противном случае (предполагается, что ошибок нет). Предоставить пользователю возможность произвольно менять это поле.\n",
        "\n",
        "*Примеры*\n",
        "\n",
        "```\n",
        "@sizer\n",
        "class S(str): pass\n",
        "\n",
        "@sizer\n",
        "class N(float): pass\n",
        "\n",
        "s = S(\"QSXWDC\")\n",
        "n = N(2.718281828459045)\n",
        "print(s, n)\n",
        "print(s.size, n.size)\n",
        "s.size, n.size = \"Wait\", \"what?\"\n",
        "print(s.size, n.size)\n",
        "```\n",
        "\n",
        "Вывод:\n",
        "\n",
        "```\n",
        "QSXWDC 2.718281828459045\n",
        "6 2\n",
        "Wait what?\n",
        "```"
      ]
    },
    {
      "cell_type": "markdown",
      "metadata": {
        "id": "dwtgETJhCJSr"
      },
      "source": [
        "**Задача 2. Логирование исключений:**\n",
        "\n",
        "Есть функция, принимающая коллекцию и ключ/индекс для получения из неё элемента:\n"
      ]
    },
    {
      "cell_type": "code",
      "metadata": {
        "id": "ng94YRiLauWQ"
      },
      "source": [
        "def get_item(collection, id):\n",
        "  return collection[id]"
      ],
      "execution_count": 1,
      "outputs": []
    },
    {
      "cell_type": "markdown",
      "metadata": {
        "id": "IL3vQ7tbazys"
      },
      "source": [
        "Напишите для неё такой декоратор, чтобы в случае KeyError и IndexError  исключений она не только выбрасывала их (как это и происходит по умолчанию), но и печатала бы в стандартный поток вывода вместе с переданными аргументами и временем возникновения, в формате ```%time %exception_text \\n %collection %id \\n\\n```"
      ]
    }
  ]
}