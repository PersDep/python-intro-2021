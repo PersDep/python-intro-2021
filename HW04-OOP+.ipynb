{
  "nbformat": 4,
  "nbformat_minor": 0,
  "metadata": {
    "colab": {
      "name": "HW4-OOP+.ipynb\"",
      "provenance": [],
      "collapsed_sections": []
    },
    "kernelspec": {
      "name": "python3",
      "display_name": "Python 3"
    },
    "language_info": {
      "name": "python"
    }
  },
  "cells": [
    {
      "cell_type": "markdown",
      "metadata": {
        "id": "dwtgETJhCJSr"
      },
      "source": [
        "**Задача 1. Контроль количества:**\n",
        "Написать класс SelfCount, объекты которого содержат поле count, равное количеству существующих экземпляров этого класса. Игнорировать попытки изменить значение этого поля вручную или удалить его.\n",
        "\n",
        "*Примеры*\n",
        "\n",
        "```\n",
        "a = SelfCount()\n",
        "print(a.count)\n",
        "b, c = SelfCount(), SelfCount(),\n",
        "a.count = 100500\n",
        "print(a.count, b.count, c.count)\n",
        "del b.count\n",
        "del b\n",
        "print(a.count)\n",
        "```\n",
        "\n",
        "Вывод:\n",
        "```\n",
        "1\n",
        "3 3 3\n",
        "2\n",
        "```\n"
      ]
    },
    {
      "cell_type": "markdown",
      "metadata": {
        "id": "k-xtEmeNQroi"
      },
      "source": [
        "**Задача 2. Всё включено:** Написать класс AnyAttr, в котором будут доступны поля с любым именем. Значение каждого поля по умолчанию будет совпадать с именем поля (строка), а при задании нового строкового значения туда будут попадать только буквы, встречающиеся в имени поля."
      ]
    },
    {
      "cell_type": "markdown",
      "metadata": {
        "id": "5La6HhPZuX4D"
      },
      "source": [
        "*Задача 1 и задача 2 весят по 5 баллов*"
      ]
    }
  ]
}